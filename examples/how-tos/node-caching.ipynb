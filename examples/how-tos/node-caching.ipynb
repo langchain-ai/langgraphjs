{
 "cells": [
  {
   "cell_type": "markdown",
   "metadata": {},
   "source": [
    "# How to cache expensive nodes\n",
    "\n",
    "<div class=\"admonition tip\">\n",
    "    <p class=\"admonition-title\">Prerequisites</p>\n",
    "    <p>\n",
    "        This guide assumes familiarity with the following:\n",
    "        <ul>\n",
    "            <li>\n",
    "                <a href=\"/langgraphjs/concepts/low_level/#graphs\">\n",
    "                    Graphs\n",
    "                </a>\n",
    "            </li>\n",
    "            <li>\n",
    "                <a href=\"/langgraphjs/concepts/low_level/#nodes\">\n",
    "                    Nodes\n",
    "                </a>\n",
    "            </li>\n",
    "        </ul>\n",
    "    </p>\n",
    "</div>\n",
    "\n",
    "Node caching is useful in cases where you want to avoid repeating operations, like when doing something expensive (either in terms of time or cost). LangGraph lets you add individualized caching policies to nodes in a graph.\n",
    "\n",
    "To configure a cache policy, pass the `cachePolicy` parameter to the `addNode` method. In the following example, we specify a cache policy with a time to live (TTL) of 120 seconds and default key serialization function. Then, to enable node-level caching for a graph, set the `cache` argument when compiling the graph. The example below uses `InMemoryCache` to set up a graph with in-memory cache."
   ]
  },
  {
   "cell_type": "code",
   "execution_count": 4,
   "metadata": {},
   "outputs": [],
   "source": [
    "import { StateGraph, Annotation, START } from \"@langchain/langgraph\";\n",
    "import { InMemoryCache } from \"@langchain/langgraph-checkpoint\";\n",
    "\n",
    "const StateAnnotation = Annotation.Root({\n",
    "  items: Annotation<string[]>({\n",
    "    default: () => [],\n",
    "    reducer: (acc, item) => [...acc, ...item],\n",
    "  }),\n",
    "});\n",
    "\n",
    "const cache = new InMemoryCache();\n",
    "\n",
    "const graph = new StateGraph(StateAnnotation)\n",
    "  .addNode(\n",
    "    \"node\",\n",
    "    async () => {\n",
    "      // Simulate an expensive operation\n",
    "      await new Promise((resolve) => setTimeout(resolve, 3000));\n",
    "      return { items: [\"Hello, how are you?\"] };\n",
    "    },\n",
    "    { cachePolicy: { ttl: 120 } }\n",
    "  )\n",
    "  .addEdge(START, \"node\")\n",
    "  .compile({ cache });\n"
   ]
  },
  {
   "cell_type": "markdown",
   "metadata": {},
   "source": [
    "The initial run will take 3 seconds since the cache is empty. Subsequent runs with the same input will be cached and yielded immediately."
   ]
  },
  {
   "cell_type": "code",
   "execution_count": 5,
   "metadata": {},
   "outputs": [
    {
     "name": "stdout",
     "output_type": "stream",
     "text": [
      "First run: 3.006s\n",
      "Second run: 4.148ms\n"
     ]
    }
   ],
   "source": [
    "console.time(\"First run\");\n",
    "await graph.invoke({ items: [\"Hello!\"] });\n",
    "console.timeEnd(\"First run\");\n",
    "\n",
    "console.time(\"Second run\");\n",
    "await graph.invoke({ items: [\"Hello!\"] });\n",
    "console.timeEnd(\"Second run\");\n"
   ]
  },
  {
   "cell_type": "markdown",
   "metadata": {},
   "source": [
    "You can also pass a custom key serialization function to the `cachePolicy` parameter. This can be used to skip certain fields from the serialization, such as message IDs, which may be random with each run."
   ]
  },
  {
   "cell_type": "code",
   "execution_count": 6,
   "metadata": {},
   "outputs": [],
   "source": [
    "import { StateGraph, MessagesAnnotation, START } from \"@langchain/langgraph\";\n",
    "import { InMemoryCache } from \"@langchain/langgraph-checkpoint\";\n",
    "import { BaseMessage } from \"@langchain/core/messages\";\n",
    "\n",
    "const cache = new InMemoryCache();\n",
    "const graph = new StateGraph(MessagesAnnotation)\n",
    "  .addNode(\n",
    "    \"node\",\n",
    "    async () => {\n",
    "      await new Promise((resolve) => setTimeout(resolve, 3000));\n",
    "      return { messages: [{ type: \"ai\", content: \"Hello, how are you?\" }] };\n",
    "    },\n",
    "    {\n",
    "      cachePolicy: {\n",
    "        ttl: 120,\n",
    "        keyFunc([{ messages }]: [{ messages: BaseMessage[] }]) {\n",
    "          // Cache based on the content and relative position of the messages\n",
    "          return JSON.stringify(messages.map((m, idx) => [idx, m.content]));\n",
    "        },\n",
    "      },\n",
    "    }\n",
    "  )\n",
    "  .addEdge(START, \"node\")\n",
    "  .compile({ cache });\n"
   ]
  },
  {
   "cell_type": "code",
   "execution_count": 7,
   "metadata": {},
   "outputs": [
    {
     "name": "stdout",
     "output_type": "stream",
     "text": [
      "First run: 3.004s\n",
      "Second run: 2.012ms\n"
     ]
    }
   ],
   "source": [
    "// First run will take 3 seconds\n",
    "console.time(\"First run\");\n",
    "await graph.invoke({ messages: [{ type: \"human\", content: \"Hello!\" }] });\n",
    "console.timeEnd(\"First run\");\n",
    "\n",
    "// Second run will be cached and yield immediately\n",
    "console.time(\"Second run\");\n",
    "await graph.invoke({ messages: [{ type: \"human\", content: \"Hello!\" }] });\n",
    "console.timeEnd(\"Second run\");\n"
   ]
  }
 ],
 "metadata": {
  "kernelspec": {
   "display_name": "TypeScript",
   "language": "typescript",
   "name": "tslab"
  },
  "language_info": {
   "codemirror_mode": {
    "mode": "typescript",
    "name": "javascript",
    "typescript": true
   },
   "file_extension": ".ts",
   "mimetype": "text/typescript",
   "name": "typescript",
   "version": "3.7.2"
  }
 },
 "nbformat": 4,
 "nbformat_minor": 2
}

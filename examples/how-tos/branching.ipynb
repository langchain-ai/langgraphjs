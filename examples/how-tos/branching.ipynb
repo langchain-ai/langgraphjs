{
  "cells": [
    {
      "cell_type": "markdown",
      "metadata": {},
      "source": [
        "# How to create branches for parallel node execution\n",
        "\n",
        "LangGraph natively supports fan-out and fan-in using either regular edges or\n",
        "[conditionalEdges](/langgraphjs/reference/classes/langgraph.StateGraph.html#addConditionalEdges).\n",
        "\n",
        "This lets you run nodes in parallel to speed up your total graph execution.\n",
        "\n",
        "Below are some examples showing how to add create branching dataflows that work\n",
        "for you.\n",
        "\n",
        "## Setup\n",
        "\n",
        "First, install LangGraph.js\n",
        "\n",
        "```bash\n",
        "yarn add @langchain/langgraph\n",
        "```\n",
        "\n",
        "This guide will use OpenAI's GPT-4o model. We will optionally set our API key\n",
        "for [LangSmith tracing](https://smith.langchain.com/), which will give us\n",
        "best-in-class observability.\n"
      ]
    },
    {
      "cell_type": "code",
      "execution_count": 1,
      "metadata": {},
      "outputs": [
        {
          "name": "stdout",
          "output_type": "stream",
          "text": [
            "Branching: LangGraphJS\n"
          ]
        }
      ],
      "source": [
        "// process.env.OPENAI_API_KEY = \"sk_...\";\n",
        "\n",
        "// Optional, add tracing in LangSmith\n",
        "// process.env.LANGCHAIN_API_KEY = \"ls__...\"\n",
        "// process.env.LANGCHAIN_CALLBACKS_BACKGROUND = \"true\";\n",
        "process.env.LANGCHAIN_CALLBACKS_BACKGROUND = \"true\";\n",
        "process.env.LANGCHAIN_TRACING_V2 = \"true\";\n",
        "process.env.LANGCHAIN_PROJECT = \"Branching: LangGraphJS\";"
      ]
    },
    {
      "cell_type": "markdown",
      "metadata": {},
      "source": [
        "## Fan out, fan in\n",
        "\n",
        "First, we will make a simple graph that branches out and back in. When merging\n",
        "back in, the state updates from all branches are applied by your **reducer**\n",
        "(the `aggregate` method below).\n"
      ]
    },
    {
      "cell_type": "code",
      "execution_count": 1,
      "metadata": {},
      "outputs": [
        {
          "name": "stdout",
          "output_type": "stream",
          "text": [
            "Adding I'm A to \n",
            "Adding I'm B to I'm A\n",
            "Adding I'm C to I'm A\n",
            "Adding I'm D to I'm A,I'm B,I'm C\n",
            "Base Result:  { aggregate: [ \"I'm A\", \"I'm B\", \"I'm C\", \"I'm D\" ] }\n"
          ]
        }
      ],
      "source": [
        "import { END, START, StateGraph, Annotation } from \"@langchain/langgraph\";\n",
        "\n",
        "const GraphState = Annotation.Root({\n",
        "  aggregate: Annotation<string[]>({\n",
        "    reducer: (x, y) => x.concat(y),\n",
        "  })\n",
        "})\n",
        "\n",
        "// Define the ReturnNodeValue class\n",
        "class ReturnNodeValue {\n",
        "  private _value: string;\n",
        "\n",
        "  constructor(value: string) {\n",
        "    this._value = value;\n",
        "  }\n",
        "\n",
        "  public call(state: typeof GraphState.State) {\n",
        "    console.log(`Adding ${this._value} to ${state.aggregate}`);\n",
        "    return { aggregate: [this._value] };\n",
        "  }\n",
        "}\n",
        "\n",
        "// Create the graph\n",
        "const nodeA = new ReturnNodeValue(\"I'm A\");\n",
        "const nodeB = new ReturnNodeValue(\"I'm B\");\n",
        "const nodeC = new ReturnNodeValue(\"I'm C\");\n",
        "const nodeD = new ReturnNodeValue(\"I'm D\");\n",
        "\n",
        "const builder = new StateGraph(GraphState)\n",
        "  .addNode(\"a\", nodeA.call.bind(nodeA))\n",
        "  .addEdge(START, \"a\")\n",
        "  .addNode(\"b\", nodeB.call.bind(nodeB))\n",
        "  .addNode(\"c\", nodeC.call.bind(nodeC))\n",
        "  .addNode(\"d\", nodeD.call.bind(nodeD))\n",
        "  .addEdge(\"a\", \"b\")\n",
        "  .addEdge(\"a\", \"c\")\n",
        "  .addEdge(\"b\", \"d\")\n",
        "  .addEdge(\"c\", \"d\")\n",
        "  .addEdge(\"d\", END);\n",
        "\n",
        "const graph = builder.compile();\n",
        "\n",
        "// Invoke the graph\n",
        "const baseResult = await graph.invoke({ aggregate: [] });\n",
        "console.log(\"Base Result: \", baseResult);\n"
      ]
    },
    {
      "cell_type": "markdown",
      "metadata": {},
      "source": [
        "## Conditional Branching\n",
        "\n",
        "If your fan-out is not deterministic, you can use\n",
        "[addConditionalEdges](/langgraphjs/reference/classes/index.StateGraph.html#addConditionalEdges)\n",
        "directly.\n",
        "\n",
        "If you have a known \"sink\" node that the conditional branches will route to\n",
        "afterwards, you can provide `then=<final-node-name>` when creating the\n",
        "conditional edges.\n"
      ]
    },
    {
      "cell_type": "code",
      "execution_count": 4,
      "metadata": {},
      "outputs": [
        {
          "name": "stdout",
          "output_type": "stream",
          "text": [
            "Adding I'm A to \n",
            "Adding I'm B to I'm A\n",
            "Adding I'm C to I'm A\n",
            "Adding I'm E to I'm A,I'm B,I'm C\n",
            "Result 1:  { aggregate: [ \"I'm A\", \"I'm B\", \"I'm C\", \"I'm E\" ], which: 'bc' }\n"
          ]
        }
      ],
      "source": [
        "const GraphStateConditionalBranching = Annotation.Root({\n",
        "  aggregate: Annotation<string[]>({\n",
        "    reducer: (x, y) => x.concat(y),\n",
        "  }),\n",
        "  which: Annotation<string>({\n",
        "    reducer: (x: string, y: string) => (y ?? x),\n",
        "  })\n",
        "})\n",
        "\n",
        "// Create the graph\n",
        "const nodeA2 = new ReturnNodeValue(\"I'm A\");\n",
        "const nodeB2 = new ReturnNodeValue(\"I'm B\");\n",
        "const nodeC2 = new ReturnNodeValue(\"I'm C\");\n",
        "const nodeD2 = new ReturnNodeValue(\"I'm D\");\n",
        "const nodeE2 = new ReturnNodeValue(\"I'm E\");\n",
        "// Define the route function\n",
        "function routeCDorBC(state: typeof GraphStateConditionalBranching.State): string[] {\n",
        "  if (state.which === \"cd\") {\n",
        "    return [\"c\", \"d\"];\n",
        "  }\n",
        "  return [\"b\", \"c\"];\n",
        "}\n",
        "\n",
        "const builder2 = new StateGraph(GraphStateConditionalBranching)\n",
        "  .addNode(\"a\", nodeA2.call.bind(nodeA2))\n",
        "  .addEdge(START, \"a\")\n",
        "  .addNode(\"b\", nodeB2.call.bind(nodeB2))\n",
        "  .addNode(\"c\", nodeC2.call.bind(nodeC2))\n",
        "  .addNode(\"d\", nodeD2.call.bind(nodeD2))\n",
        "  .addNode(\"e\", nodeE2.call.bind(nodeE2))\n",
        "  // Add conditional edges\n",
        "  .addConditionalEdges(\"a\", routeCDorBC, { b: \"b\", c: \"c\", d: \"d\" })\n",
        "  .addEdge(\"b\", \"e\")\n",
        "  .addEdge(\"c\", \"e\")\n",
        "  .addEdge(\"d\", \"e\")\n",
        "  .addEdge(\"e\", END);\n",
        "\n",
        "const graph2 = builder2.compile();\n",
        "\n",
        "// Invoke the graph\n",
        "let g2result = await graph2.invoke({ aggregate: [], which: \"bc\" });\n",
        "console.log(\"Result 1: \", g2result);\n"
      ]
    },
    {
      "cell_type": "code",
      "execution_count": 5,
      "metadata": {},
      "outputs": [
        {
          "name": "stdout",
          "output_type": "stream",
          "text": [
            "Adding I'm A to \n",
            "Adding I'm C to I'm A\n",
            "Adding I'm D to I'm A\n",
            "Adding I'm E to I'm A,I'm C,I'm D\n",
            "Result 2:  { aggregate: [ \"I'm A\", \"I'm C\", \"I'm D\", \"I'm E\" ], which: 'cd' }\n"
          ]
        }
      ],
      "source": [
        "g2result = await graph2.invoke({ aggregate: [], which: \"cd\" });\n",
        "console.log(\"Result 2: \", g2result);\n"
      ]
    },
    {
      "cell_type": "markdown",
      "metadata": {},
      "source": [
        "## Stable Sorting\n",
        "\n",
        "When fanned out, nodes are run in parallel as a single \"superstep\". The updates\n",
        "from each superstep are all applied to the state in sequence once the superstep\n",
        "has completed.\n",
        "\n",
        "If you need consistent, predetermined ordering of updates from a parallel\n",
        "superstep, you should write the outputs (along with an identifying key) to a\n",
        "separate field in your state, then combine them in the \"sink\" node by adding\n",
        "regular `edge`s from each of the fanout nodes to the rendezvous point.\n",
        "\n",
        "For instance, suppose I want to order the outputs of the parallel step by\n",
        "\"reliability\".\n"
      ]
    },
    {
      "cell_type": "code",
      "execution_count": 6,
      "metadata": {},
      "outputs": [
        {
          "name": "stdout",
          "output_type": "stream",
          "text": [
            "Adding I'm A to \n",
            "Adding I'm B to I'm A\n",
            "Adding I'm C to I'm A\n",
            "Result 1:  {\n",
            "  aggregate: [ \"I'm A\", \"I'm C\", \"I'm B\", \"I'm E\" ],\n",
            "  which: 'bc',\n",
            "  fanoutValues: []\n",
            "}\n"
          ]
        }
      ],
      "source": [
        "type ScoredValue = {\n",
        "  value: string;\n",
        "  score: number;\n",
        "};\n",
        "\n",
        "const reduceFanouts = (left?: ScoredValue[], right?: ScoredValue[]) => {\n",
        "  if (!left) {\n",
        "    left = [];\n",
        "  }\n",
        "  if (!right || right?.length === 0) {\n",
        "    // Overwrite. Similar to redux.\n",
        "    return [];\n",
        "  }\n",
        "  return left.concat(right);\n",
        "};\n",
        "\n",
        "const GraphStateStableSorting = Annotation.Root({\n",
        "  aggregate: Annotation<string[]>({\n",
        "    reducer: (x, y) => x.concat(y),\n",
        "  }),\n",
        "  which: Annotation<string>({\n",
        "    reducer: (x: string, y: string) => (y ?? x),\n",
        "  }),\n",
        "  fanoutValues: Annotation<ScoredValue[]>({\n",
        "    reducer: reduceFanouts,\n",
        "  }),\n",
        "})\n",
        "\n",
        "\n",
        "class ParallelReturnNodeValue {\n",
        "  private _value: string;\n",
        "  private _score: number;\n",
        "\n",
        "  constructor(nodeSecret: string, score: number) {\n",
        "    this._value = nodeSecret;\n",
        "    this._score = score;\n",
        "  }\n",
        "\n",
        "  public call(state: typeof GraphStateStableSorting.State) {\n",
        "    console.log(`Adding ${this._value} to ${state.aggregate}`);\n",
        "    return { fanoutValues: [{ value: this._value, score: this._score }] };\n",
        "  }\n",
        "}\n",
        "\n",
        "// Create the graph\n",
        "\n",
        "const nodeA3 = new ReturnNodeValue(\"I'm A\");\n",
        "\n",
        "const nodeB3 = new ParallelReturnNodeValue(\"I'm B\", 0.1);\n",
        "const nodeC3 = new ParallelReturnNodeValue(\"I'm C\", 0.9);\n",
        "const nodeD3 = new ParallelReturnNodeValue(\"I'm D\", 0.3);\n",
        "\n",
        "const aggregateFanouts = (state: typeof GraphStateStableSorting.State) => {\n",
        "  // Sort by score (reversed)\n",
        "  state.fanoutValues.sort((a, b) => b.score - a.score);\n",
        "  return {\n",
        "    aggregate: state.fanoutValues.map((v) => v.value).concat([\"I'm E\"]),\n",
        "    fanoutValues: [],\n",
        "  };\n",
        "};\n",
        "\n",
        "// Define the route function\n",
        "function routeBCOrCD(state: typeof GraphStateStableSorting.State): string[] {\n",
        "  if (state.which === \"cd\") {\n",
        "    return [\"c\", \"d\"];\n",
        "  }\n",
        "  return [\"b\", \"c\"];\n",
        "}\n",
        "\n",
        "const builder3 = new StateGraph(GraphStateStableSorting)\n",
        "  .addNode(\"a\", nodeA3.call.bind(nodeA3))\n",
        "  .addEdge(START, \"a\")\n",
        "  .addNode(\"b\", nodeB3.call.bind(nodeB3))\n",
        "  .addNode(\"c\", nodeC3.call.bind(nodeC3))\n",
        "  .addNode(\"d\", nodeD3.call.bind(nodeD3))\n",
        "  .addNode(\"e\", aggregateFanouts)\n",
        "  .addConditionalEdges(\"a\", routeBCOrCD, { b: \"b\", c: \"c\", d: \"d\" })\n",
        "  .addEdge(\"b\", \"e\")\n",
        "  .addEdge(\"c\", \"e\")\n",
        "  .addEdge(\"d\", \"e\")\n",
        "  .addEdge(\"e\", END);\n",
        "\n",
        "const graph3 = builder3.compile();\n",
        "\n",
        "// Invoke the graph\n",
        "let g3result = await graph3.invoke({ aggregate: [], which: \"bc\" });\n",
        "console.log(\"Result 1: \", g3result);\n"
      ]
    },
    {
      "cell_type": "markdown",
      "metadata": {},
      "source": [
        "Our aggregateFanouts \"sink\" node in this case took the mapped values and then\n",
        "sorted them in a consistent way. Notice that, because it returns an empty array\n",
        "for `fanoutValues`, our `reduceFanouts` reducer function decided to overwrite\n",
        "the previous values in the state.\n"
      ]
    },
    {
      "cell_type": "code",
      "execution_count": 7,
      "metadata": {},
      "outputs": [
        {
          "name": "stdout",
          "output_type": "stream",
          "text": [
            "Adding I'm A to \n",
            "Adding I'm C to I'm A\n",
            "Adding I'm D to I'm A\n",
            "Result 2:  {\n",
            "  aggregate: [ \"I'm A\", \"I'm C\", \"I'm D\", \"I'm E\" ],\n",
            "  which: 'cd',\n",
            "  fanoutValues: []\n",
            "}\n"
          ]
        }
      ],
      "source": [
        "let g3result2 = await graph3.invoke({ aggregate: [], which: \"cd\" });\n",
        "console.log(\"Result 2: \", g3result2);\n"
      ]
    }
  ],
  "metadata": {
    "kernelspec": {
      "display_name": "TypeScript",
      "language": "typescript",
      "name": "tslab"
    },
    "language_info": {
      "codemirror_mode": {
        "mode": "typescript",
        "name": "javascript",
        "typescript": true
      },
      "file_extension": ".ts",
      "mimetype": "text/typescript",
      "name": "typescript",
      "version": "3.7.2"
    }
  },
  "nbformat": 4,
  "nbformat_minor": 4
}
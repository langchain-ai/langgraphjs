{
 "cells": [
  {
   "cell_type": "markdown",
   "metadata": {},
   "source": [
    "# Branching\n",
    "\n",
    "LangGraph natively supports fan-out and fan-in using either regular edges or\n",
    "[conditionalEdges](https://langchain-ai.github.io/langgraphjs/reference/classes/index.StateGraph.html#addConditionalEdges).\n",
    "\n",
    "This lets you run nodes in parallel to speed up your total graph execution.\n",
    "\n",
    "Below are some examples showing how to add create branching dataflows that work\n",
    "for you.\n",
    "\n",
    "## Setup\n",
    "\n",
    "First, install LangGraph.js\n",
    "\n",
    "```bash\n",
    "yarn add @langchain/langgraph\n",
    "```\n",
    "\n",
    "This guide will use OpenAI's GPT-4o model. We will optionally set our API key\n",
    "for [LangSmith tracing](https://smith.langchain.com/), which will give us\n",
    "best-in-class observability."
   ]
  },
  {
   "cell_type": "code",
   "execution_count": 1,
   "metadata": {},
   "outputs": [],
   "source": [
    "// Deno.env.set(\"OPENAI_API_KEY\", \"sk_...\");\n",
    "\n",
    "// Optional, add tracing in LangSmith\n",
    "// Deno.env.set(\"LANGCHAIN_API_KEY\", \"ls__...\");\n",
    "// Deno.env.set(\"LANGCHAIN_CALLBACKS_BACKGROUND\", \"true\");\n",
    "Deno.env.set(\"LANGCHAIN_TRACING_V2\", \"true\");\n",
    "Deno.env.set(\"LANGCHAIN_PROJECT\", \"Configuration: LangGraphJS\");\n"
   ]
  },
  {
   "cell_type": "markdown",
   "metadata": {},
   "source": [
    "## Fan out, fan in\n",
    "\n",
    "First, we will make a simple graph that branches out and back in. When merging\n",
    "back in, the state updates from all branches are applied by your **reducer**\n",
    "(the `aggregate` method below)."
   ]
  },
  {
   "cell_type": "code",
   "execution_count": 4,
   "metadata": {},
   "outputs": [
    {
     "name": "stdout",
     "output_type": "stream",
     "text": [
      "Adding I'm A to \n",
      "Adding I'm B to I'm A\n",
      "Adding I'm C to I'm A\n",
      "Adding I'm D to I'm A,I'm B,I'm C\n"
     ]
    },
    {
     "name": "stdout",
     "output_type": "stream",
     "text": [
      "Base Result:  { aggregate: [ \"I'm A\", \"I'm B\", \"I'm C\", \"I'm D\" ] }\n"
     ]
    }
   ],
   "source": [
    "import { END, START, StateGraph } from \"@langchain/langgraph\";\n",
    "\n",
    "// Define the state type\n",
    "interface IState {\n",
    "  // The operator.add reducer function makes this append-only\n",
    "  aggregate: {\n",
    "    value: (x: string[], y: string[]) => string[];\n",
    "    default: () => string[];\n",
    "  };\n",
    "}\n",
    "\n",
    "const graphState: IState = {\n",
    "  aggregate: {\n",
    "    value: (x: string[], y: string[]) => x.concat(y),\n",
    "    default: () => [],\n",
    "  },\n",
    "};\n",
    "\n",
    "// Define the ReturnNodeValue class\n",
    "class ReturnNodeValue {\n",
    "  private _value: string;\n",
    "\n",
    "  constructor(nodeSecret: string) {\n",
    "    this._value = nodeSecret;\n",
    "  }\n",
    "\n",
    "  public call(state: State): Partial<State> {\n",
    "    console.log(`Adding ${this._value} to ${state.aggregate}`);\n",
    "    return { aggregate: [this._value] };\n",
    "  }\n",
    "}\n",
    "\n",
    "// Create the graph\n",
    "const builder = new StateGraph<IState>({ channels: graphState });\n",
    "const nodeA = new ReturnNodeValue(\"I'm A\");\n",
    "builder.addNode(\"a\", nodeA.call.bind(nodeA));\n",
    "builder.addEdge(START, \"a\");\n",
    "const nodeB = new ReturnNodeValue(\"I'm B\");\n",
    "const nodeC = new ReturnNodeValue(\"I'm C\");\n",
    "const nodeD = new ReturnNodeValue(\"I'm D\");\n",
    "builder.addNode(\"b\", nodeB.call.bind(nodeB));\n",
    "builder.addNode(\"c\", nodeC.call.bind(nodeC));\n",
    "builder.addNode(\"d\", nodeD.call.bind(nodeD));\n",
    "builder.addEdge(\"a\", \"b\");\n",
    "builder.addEdge(\"a\", \"c\");\n",
    "builder.addEdge(\"b\", \"d\");\n",
    "builder.addEdge(\"c\", \"d\");\n",
    "builder.addEdge(\"d\", END);\n",
    "const graph = builder.compile();\n",
    "\n",
    "// Invoke the graph\n",
    "const baseResult = await graph.invoke({ aggregate: [] });\n",
    "console.log(\"Base Result: \", baseResult);"
   ]
  },
  {
   "cell_type": "markdown",
   "metadata": {},
   "source": [
    "## Conditional Branching\n",
    "\n",
    "If your fan-out is not deterministic, you can use\n",
    "[addConditionalEdges](https://langchain-ai.github.io/langgraphjs/reference/classes/index.StateGraph.html#addConditionalEdges)\n",
    "directly.\n",
    "\n",
    "If you have a known \"sink\" node that the conditional branches will route to\n",
    "afterwards, you can provide `then=<final-node-name>` when creating the\n",
    "conditional edges."
   ]
  },
  {
   "cell_type": "code",
   "execution_count": 7,
   "metadata": {},
   "outputs": [
    {
     "name": "stdout",
     "output_type": "stream",
     "text": [
      "Adding I'm A to \n",
      "Adding I'm B to I'm A\n",
      "Adding I'm C to I'm A\n",
      "Adding I'm E to I'm A,I'm B,I'm C\n",
      "Result 1:  { aggregate: [ \"I'm A\", \"I'm B\", \"I'm C\", \"I'm E\" ], which: \"bc\" }\n"
     ]
    }
   ],
   "source": [
    "// Define the state type\n",
    "interface IState2 {\n",
    "  // The operator.add reducer function makes this append-only\n",
    "  aggregate: {\n",
    "    value: (x: string[], y: string[]) => string[];\n",
    "    default: () => string[];\n",
    "  };\n",
    "  which: {\n",
    "    value: (x: string, y: string) => string;\n",
    "    default: () => string;\n",
    "  };\n",
    "}\n",
    "\n",
    "const graphState: IState2 = {\n",
    "  aggregate: {\n",
    "    value: (x: string[], y: string[]) => x.concat(y),\n",
    "    default: () => [],\n",
    "  },\n",
    "  which: {\n",
    "    value: (x: string, y: string) => (y ? y : x),\n",
    "    default: () => \"bc\",\n",
    "  },\n",
    "};\n",
    "\n",
    "// Create the graph\n",
    "const builder2 = new StateGraph<IState2>({ channels: graphState });\n",
    "const nodeA2 = new ReturnNodeValue(\"I'm A\");\n",
    "builder2.addNode(\"a\", nodeA.call.bind(nodeA));\n",
    "builder2.addEdge(START, \"a\");\n",
    "const nodeB2 = new ReturnNodeValue(\"I'm B\");\n",
    "const nodeC2 = new ReturnNodeValue(\"I'm C\");\n",
    "const nodeD2 = new ReturnNodeValue(\"I'm D\");\n",
    "const nodeE2 = new ReturnNodeValue(\"I'm E\");\n",
    "builder2.addNode(\"b\", nodeB2.call.bind(nodeB2));\n",
    "builder2.addNode(\"c\", nodeC2.call.bind(nodeC2));\n",
    "builder2.addNode(\"d\", nodeD2.call.bind(nodeD2));\n",
    "builder2.addNode(\"e\", nodeE2.call.bind(nodeE2));\n",
    "// Define the route function\n",
    "function routeBCOrCD(state: IState2): string[] {\n",
    "  if (state.which === \"cd\") {\n",
    "    return [\"c\", \"d\"];\n",
    "  }\n",
    "  return [\"b\", \"c\"];\n",
    "}\n",
    "\n",
    "// Add conditional edges\n",
    "builder2.addConditionalEdges(\"a\", routeBCOrCD, { b: \"b\", c: \"c\", d: \"d\" });\n",
    "\n",
    "builder2.addEdge(\"b\", \"e\");\n",
    "builder2.addEdge(\"c\", \"e\");\n",
    "builder2.addEdge(\"d\", \"e\");\n",
    "builder2.addEdge(\"e\", END);\n",
    "\n",
    "const graph2 = builder2.compile();\n",
    "\n",
    "// Invoke the graph\n",
    "let g2result = await graph2.invoke({ aggregate: [], which: \"bc\" });\n",
    "console.log(\"Result 1: \", g2result);\n"
   ]
  },
  {
   "cell_type": "code",
   "execution_count": 8,
   "metadata": {},
   "outputs": [
    {
     "name": "stdout",
     "output_type": "stream",
     "text": [
      "Adding I'm A to \n",
      "Adding I'm C to I'm A\n",
      "Adding I'm D to I'm A\n",
      "Adding I'm E to I'm A,I'm C,I'm D\n",
      "Result 2:  { aggregate: [ \"I'm A\", \"I'm C\", \"I'm D\", \"I'm E\" ], which: \"cd\" }\n"
     ]
    }
   ],
   "source": [
    "g2result = await graph2.invoke({ aggregate: [], which: \"cd\" });\n",
    "console.log(\"Result 2: \", g2result);\n"
   ]
  },
  {
   "cell_type": "code",
   "execution_count": null,
   "metadata": {},
   "outputs": [],
   "source": []
  },
  {
   "cell_type": "markdown",
   "metadata": {},
   "source": [
    "## Stable Sorting\n",
    "\n",
    "When fanned out, nodes are run in parallel as a single \"superstep\". The updates\n",
    "from each superstep are all applied to the state in sequence once the superstep\n",
    "has completed.\n",
    "\n",
    "If you need consistent, predetermined ordering of updates from a parallel\n",
    "superstep, you should write the outputs (along with an identifying key) to a\n",
    "separate field in your state, then combine them in the \"sink\" node by adding\n",
    "regular `edge`s from each of the fanout nodes to the rendezvous point.\n",
    "\n",
    "For instance, suppose I want to order the outputs of the parallel step by\n",
    "\"reliability\"."
   ]
  },
  {
   "cell_type": "code",
   "execution_count": 15,
   "metadata": {},
   "outputs": [
    {
     "name": "stdout",
     "output_type": "stream",
     "text": [
      "Adding I'm A to \n",
      "Adding I'm B to I'm A\n",
      "Adding I'm C to I'm A\n",
      "Result 1:  {\n",
      "  aggregate: [ \"I'm A\", \"I'm C\", \"I'm B\", \"I'm E\" ],\n",
      "  which: \"bc\",\n",
      "  fanoutValues: []\n",
      "}\n"
     ]
    }
   ],
   "source": [
    "const reduceFanouts = (left?: ScoredValue[], right?: ScoredValue[]) => {\n",
    "  if (!left) {\n",
    "    left = [];\n",
    "  }\n",
    "  if (!right || right?.length === 0) {\n",
    "    // Overwrite. Similar to redux.\n",
    "    return [];\n",
    "  }\n",
    "  return left.concat(right);\n",
    "};\n",
    "\n",
    "type ScoredValue = {\n",
    "  value: string;\n",
    "  score: number;\n",
    "};\n",
    "\n",
    "// Define the state type\n",
    "// 'value' defines the 'reducer', which determines how updates are applied\n",
    "// 'default' defines the default value for the state\n",
    "interface IState3 {\n",
    "  aggregate: {\n",
    "    value: (x: string[], y: string[]) => string[];\n",
    "    default: () => string[];\n",
    "  };\n",
    "  which: {\n",
    "    value: (x: string, y: string) => string;\n",
    "    default: string;\n",
    "  };\n",
    "  fanoutValues: {\n",
    "    value: (x?: ScoredValue[], y?: ScoredValue[]) => ScoredValue[];\n",
    "    default: () => ScoredValue[];\n",
    "  };\n",
    "}\n",
    "\n",
    "const graphState3: IState3 = {\n",
    "  aggregate: {\n",
    "    value: (x: string[], y: string[]) => x.concat(y),\n",
    "    default: () => [],\n",
    "  },\n",
    "  which: {\n",
    "    value: (x: string, y: string) => (y ? y : x),\n",
    "    default: () => \"\",\n",
    "  },\n",
    "  fanoutValues: {\n",
    "    value: reduceFanouts,\n",
    "    default: () => [],\n",
    "  },\n",
    "};\n",
    "\n",
    "class ParallelReturnNodeValue {\n",
    "  private _value: string;\n",
    "  private _score: number;\n",
    "\n",
    "  constructor(nodeSecret: string, score: number) {\n",
    "    this._value = nodeSecret;\n",
    "    this._score = score;\n",
    "  }\n",
    "\n",
    "  public call(state: IState3) {\n",
    "    console.log(`Adding ${this._value} to ${state.aggregate}`);\n",
    "    return { fanoutValues: [{ value: this._value, score: this._score }] };\n",
    "  }\n",
    "}\n",
    "\n",
    "// Create the graph\n",
    "const builder3 = new StateGraph<IState3>({ channels: graphState3 });\n",
    "const nodeA3 = new ReturnNodeValue(\"I'm A\");\n",
    "builder3.addNode(\"a\", nodeA.call.bind(nodeA));\n",
    "builder3.addEdge(START, \"a\");\n",
    "const nodeB3 = new ParallelReturnNodeValue(\"I'm B\", 0.1);\n",
    "const nodeC3 = new ParallelReturnNodeValue(\"I'm C\", 0.9);\n",
    "const nodeD3 = new ParallelReturnNodeValue(\"I'm D\", 0.3);\n",
    "\n",
    "const aggregateFanouts = (state: { fanoutValues }) => {\n",
    "  // Sort by score (reversed)\n",
    "  state.fanoutValues.sort((a, b) => b.score - a.score);\n",
    "  return {\n",
    "    aggregate: state.fanoutValues.map((v) => v.value).concat([\"I'm E\"]),\n",
    "    fanoutValues: [],\n",
    "  };\n",
    "};\n",
    "builder3.addNode(\"b\", nodeB3.call.bind(nodeB3));\n",
    "builder3.addNode(\"c\", nodeC3.call.bind(nodeC3));\n",
    "builder3.addNode(\"d\", nodeD3.call.bind(nodeD3));\n",
    "builder3.addNode(\"e\", aggregateFanouts);\n",
    "// Define the route function\n",
    "function routeBCOrCD(state: { which: string }): string[] {\n",
    "  if (state.which === \"cd\") {\n",
    "    return [\"c\", \"d\"];\n",
    "  }\n",
    "  return [\"b\", \"c\"];\n",
    "}\n",
    "\n",
    "// Add conditional edges\n",
    "builder3.addConditionalEdges(\"a\", routeBCOrCD, { b: \"b\", c: \"c\", d: \"d\" });\n",
    "\n",
    "builder3.addEdge(\"b\", \"e\");\n",
    "builder3.addEdge(\"c\", \"e\");\n",
    "builder3.addEdge(\"d\", \"e\");\n",
    "builder3.addEdge(\"e\", END);\n",
    "\n",
    "const graph3 = builder3.compile();\n",
    "\n",
    "// Invoke the graph\n",
    "let g3result = await graph3.invoke({ aggregate: [], which: \"bc\" });\n",
    "console.log(\"Result 1: \", g3result);\n"
   ]
  },
  {
   "cell_type": "markdown",
   "metadata": {},
   "source": [
    "Our aggregateFanouts \"sink\" node in this case took the mapped values and then\n",
    "sorted them in a consistent way. Notice that, because it returns an empty array\n",
    "for `fanoutValues`, our `reduceFanouts` reducer function decided to overwrite\n",
    "the previous values in the state."
   ]
  },
  {
   "cell_type": "code",
   "execution_count": 16,
   "metadata": {},
   "outputs": [
    {
     "name": "stdout",
     "output_type": "stream",
     "text": [
      "Adding I'm A to \n",
      "Adding I'm C to I'm A\n",
      "Adding I'm D to I'm A\n",
      "Result 2:  {\n",
      "  aggregate: [ \"I'm A\", \"I'm C\", \"I'm D\", \"I'm E\" ],\n",
      "  which: \"cd\",\n",
      "  fanoutValues: []\n",
      "}\n"
     ]
    }
   ],
   "source": [
    "let g3result2 = await graph3.invoke({ aggregate: [], which: \"cd\" });\n",
    "console.log(\"Result 2: \", g3result2);"
   ]
  }
 ],
 "metadata": {
  "kernelspec": {
   "display_name": "Deno",
   "language": "typescript",
   "name": "deno"
  },
  "language_info": {
   "file_extension": ".ts",
   "mimetype": "text/x.typescript",
   "name": "typescript",
   "nb_converter": "script",
   "pygments_lexer": "typescript",
   "version": "5.4.5"
  }
 },
 "nbformat": 4,
 "nbformat_minor": 2
}

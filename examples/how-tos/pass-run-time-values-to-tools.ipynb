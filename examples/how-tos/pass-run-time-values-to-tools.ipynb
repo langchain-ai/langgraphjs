{
 "cells": [
  {
   "cell_type": "markdown",
   "metadata": {},
   "source": [
    "# How to pass runtime values to tools\n",
    "\n",
    "This guide shows how to define tools that depend on dynamically defined variables. These values are provided by your program, not by the LLM.\n",
    "\n",
    "Tools can access the [config.configurable](https://langchain-ai.github.io/langgraphjs/reference/interfaces/langgraph.LangGraphRunnableConfig.html) field for values like user IDs that are known when a graph is initially executed, as well as managed values from the [store](https://langchain-ai.github.io/langgraphjs/reference/classes/checkpoint.BaseStore.html) for persistence across threads.\n",
    "\n",
    "However, it can be convenient to access intermediate runtime values which are not known ahead of time, but are progressively generated as a graph executes, such as the current graph state. This guide will cover two techniques for this: The `getCurrentTaskInput` utility function, and closures.\n",
    "\n",
    "## Setup\n",
    "\n",
    "Install the following to run this guide:\n",
    "\n",
    "```bash\n",
    "npm install @langchain/langgraph @langchain/openai @langchain/core\n",
    "```\n",
    "\n",
    "Next, configure your environment to connect to your model provider.\n",
    "\n",
    "```bash\n",
    "export OPENAI_API_KEY=your-api-key\n",
    "```\n",
    "\n",
    "Optionally, set your API key for [LangSmith tracing](https://smith.langchain.com/), which will give us best-in-class observability.\n",
    "\n",
    "```bash\n",
    "export LANGCHAIN_TRACING_V2=\"true\"\n",
    "export LANGCHAIN_CALLBACKS_BACKGROUND=\"true\"\n",
    "export LANGCHAIN_API_KEY=your-api-key\n",
    "```\n",
    "\n",
    "## The `getCurrentTaskInput` Utility Function\n",
    "\n",
    "The `getCurrentTaskInput` utility function makes it easier to get the current state in areas of your application that might be called indirectly, like tool handlers.\n",
    "\n",
    "<div class=\"admonition tip\">\n",
    "    <p class=\"admonition-title\">Compatibility</p>\n",
    "    <p>\n",
    "        This functionality was added in <code>@langchain/langgraph>=0.2.53</code>.\n",
    "    </p>\n",
    "    <p>\n",
    "        It also requires <a href=\"https://nodejs.org/api/async_hooks.html\"><code>async_hooks</code></a> support, which is supported in many popular JavaScript environments (such as Node.js, Deno, and Cloudflare Workers), but not all of them (mainly web browsers). If you are deploying to an environment where this is not supported, see the [closures](#closures) section below.\n",
    "    </p>\n",
    "</div>\n",
    "\n",
    "\n",
    "Let's start off by defining a tool that an LLM can use to update pet preferences for a user. The tool will retrieve the current state of the graph from the current context.\n",
    "\n",
    "### Define the agent state\n",
    "\n",
    "Since we're just tracking messages, we'll use the `MessagesAnnotation`:"
   ]
  },
  {
   "cell_type": "code",
   "execution_count": 1,
   "metadata": {},
   "outputs": [],
   "source": [
    "import { MessagesAnnotation } from \"@langchain/langgraph\";"
   ]
  },
  {
   "cell_type": "markdown",
   "metadata": {},
   "source": [
    "Now, declare a tool as shown below. The tool receives values in three different ways:\n",
    "\n",
    "1. It will receive a generated list of `pets` from the LLM in its `input`.\n",
    "2. It will pull a `userId` populated from the initial graph invocation.\n",
    "3. It will fetch the input that was passed to the currenty executing task (either a `StateGraph` node handler, or a Functional API `entrypoint` or `task`) via the `getCurrentTaskInput` function.\n",
    "\n",
    "It will then use LangGraph's [cross-thread persistence](https://langchain-ai.github.io/langgraphjs/how-tos/cross-thread-persistence/) to save preferences:"
   ]
  },
  {
   "cell_type": "code",
   "execution_count": 2,
   "metadata": {},
   "outputs": [],
   "source": [
    "import { z } from \"zod\";\n",
    "import { tool } from \"@langchain/core/tools\";\n",
    "import {\n",
    "  getCurrentTaskInput,\n",
    "  LangGraphRunnableConfig,\n",
    "} from \"@langchain/langgraph\";\n",
    "\n",
    "const updateFavoritePets = tool(async (input, config: LangGraphRunnableConfig) => {\n",
    "  // Some arguments are populated by the LLM; these are included in the schema below\n",
    "  const { pets } = input;\n",
    "  // Fetch the current input to the task that called this tool.\n",
    "  // This will be identical to the input that was passed to the `ToolNode` that called this tool.\n",
    "  const currentState = getCurrentTaskInput() as typeof MessagesAnnotation.State;\n",
    "  // Other information (such as a UserID) are most easily provided via the config\n",
    "  // This is set when when invoking or streaming the graph\n",
    "  const userId = config.configurable?.userId;\n",
    "  // LangGraph's managed key-value store is also accessible from the config\n",
    "  const store = config.store;\n",
    "  await store.put([userId, \"pets\"], \"names\", pets);\n",
    "  // Store the initial input message from the user as a note.\n",
    "  // Using the same key will override previous values - you could\n",
    "  // use something different if you wanted to store many interactions.\n",
    "  await store.put([userId, \"pets\"], \"context\", { content: currentState.messages[0].content });\n",
    "\n",
    "  return \"update_favorite_pets called.\";\n",
    "},\n",
    "{\n",
    "  // The LLM \"sees\" the following schema:\n",
    "  name: \"update_favorite_pets\",\n",
    "  description: \"add to the list of favorite pets.\",\n",
    "  schema: z.object({\n",
    "    pets: z.array(z.string()),\n",
    "  }),\n",
    "});"
   ]
  },
  {
   "cell_type": "markdown",
   "metadata": {},
   "source": [
    "If we look at the tool call schema, which is what is passed to the model for tool-calling, we can see that only `pets` is being passed:"
   ]
  },
  {
   "cell_type": "code",
   "execution_count": 3,
   "metadata": {},
   "outputs": [
    {
     "name": "stdout",
     "output_type": "stream",
     "text": [
      "{\n",
      "  type: 'object',\n",
      "  properties: { pets: { type: 'array', items: [Object] } },\n",
      "  required: [ 'pets' ],\n",
      "  additionalProperties: false,\n",
      "  '$schema': 'http://json-schema.org/draft-07/schema#'\n",
      "}\n"
     ]
    }
   ],
   "source": [
    "import { zodToJsonSchema } from \"zod-to-json-schema\";\n",
    "\n",
    "console.log(zodToJsonSchema(updateFavoritePets.schema));"
   ]
  },
  {
   "cell_type": "markdown",
   "metadata": {},
   "source": [
    "Let's also declare another tool so that our agent can retrieve previously set preferences:"
   ]
  },
  {
   "cell_type": "code",
   "execution_count": 4,
   "metadata": {},
   "outputs": [],
   "source": [
    "const getFavoritePets = tool(\n",
    "  async (_, config: LangGraphRunnableConfig) => {\n",
    "    const userId = config.configurable?.userId;\n",
    "    // LangGraph's managed key-value store is also accessible via the config\n",
    "    const store = config.store;\n",
    "    const petNames = await store.get([userId, \"pets\"], \"names\");\n",
    "    const context = await store.get([userId, \"pets\"], \"context\");\n",
    "    return JSON.stringify({\n",
    "      pets: petNames.value,\n",
    "      context: context.value.content,\n",
    "    });\n",
    "  },\n",
    "  {\n",
    "    // The LLM \"sees\" the following schema:\n",
    "    name: \"get_favorite_pets\",\n",
    "    description: \"retrieve the list of favorite pets for the given user.\",\n",
    "    schema: z.object({}),\n",
    "  }\n",
    ");"
   ]
  },
  {
   "cell_type": "markdown",
   "metadata": {},
   "source": [
    "## Define the nodes\n",
    "\n",
    "From here there's really nothing special that needs to be done. This approach works with both `StateGraph` and functional agents, and it works just as well with prebuilt agents like `createReactAgent`! We'll demonstrate it by defining a custom ReAct agent using `StateGraph`. This is very similar to the agent that you'd get if you were to instead call [`createReactAgent`](../reference/functions/langgraph_prebuilt.createReactAgent.html)\n",
    "\n",
    "Let's start off by defining the nodes for our graph.\n",
    "\n",
    "1. The agent: responsible for deciding what (if any) actions to take.\n",
    "2. A function to invoke tools: if the agent decides to take an action, this node will then execute that action.\n",
    "\n",
    "We will also need to define some edges.\n",
    "\n",
    "1. After the agent is called, we should either invoke the tool node or finish.\n",
    "2. After the tool node have been invoked, it should always go back to the agent to decide what to do next"
   ]
  },
  {
   "cell_type": "code",
   "execution_count": 5,
   "metadata": {},
   "outputs": [],
   "source": [
    "import {\n",
    "  END,\n",
    "  START,\n",
    "  StateGraph,\n",
    "  MemorySaver,\n",
    "  InMemoryStore,\n",
    "} from \"@langchain/langgraph\";\n",
    "import { AIMessage } from \"@langchain/core/messages\";\n",
    "import { ToolNode } from \"@langchain/langgraph/prebuilt\";\n",
    "import { ChatOpenAI } from \"@langchain/openai\";\n",
    "\n",
    "const model = new ChatOpenAI({ model: \"gpt-4o\" });\n",
    "\n",
    "const tools = [getFavoritePets, updateFavoritePets];\n",
    "\n",
    "const routeMessage = (state: typeof MessagesAnnotation.State) => {\n",
    "  const { messages } = state;\n",
    "  const lastMessage = messages[messages.length - 1] as AIMessage;\n",
    "  // If no tools are called, we can finish (respond to the user)\n",
    "  if (!lastMessage?.tool_calls?.length) {\n",
    "    return END;\n",
    "  }\n",
    "  // Otherwise if there is, we continue and call the tools\n",
    "  return \"tools\";\n",
    "};\n",
    "\n",
    "const callModel = async (state: typeof MessagesAnnotation.State) => {\n",
    "  const { messages } = state;\n",
    "  const modelWithTools = model.bindTools(tools);\n",
    "  const responseMessage = await modelWithTools.invoke([\n",
    "    {\n",
    "      role: \"system\",\n",
    "      content: \"You are a personal assistant. Store any preferences the user tells you about.\"\n",
    "    },\n",
    "    ...messages\n",
    "  ]);\n",
    "  return { messages: [responseMessage] };\n",
    "};\n",
    "\n",
    "const workflow = new StateGraph(MessagesAnnotation)\n",
    "  .addNode(\"agent\", callModel)\n",
    "  .addNode(\"tools\", new ToolNode(tools))\n",
    "  .addEdge(START, \"agent\")\n",
    "  .addConditionalEdges(\"agent\", routeMessage)\n",
    "  .addEdge(\"tools\", \"agent\");\n",
    "\n",
    "const memory = new MemorySaver();\n",
    "const store = new InMemoryStore();\n",
    "\n",
    "const graph = workflow.compile({ checkpointer: memory, store: store });"
   ]
  },
  {
   "cell_type": "code",
   "execution_count": 7,
   "metadata": {},
   "outputs": [
    {
     "data": {
      "image/png": "[encoded data removed]"
     },
     "metadata": {},
     "output_type": "display_data"
    }
   ],
   "source": [
    "import * as tslab from \"tslab\";\n",
    "\n",
    "const graphViz = graph.getGraph();\n",
    "const image = await graphViz.drawMermaidPng();\n",
    "const arrayBuffer = await image.arrayBuffer();\n",
    "\n",
    "await tslab.display.png(new Uint8Array(arrayBuffer));"
   ]
  },
  {
   "cell_type": "markdown",
   "metadata": {},
   "source": [
    "## Use it!\n",
    "\n",
    "Let's use our graph now!"
   ]
  },
  {
   "cell_type": "code",
   "execution_count": 8,
   "metadata": {},
   "outputs": [
    {
     "name": "stdout",
     "output_type": "stream",
     "text": [
      "User: My favorite pet is a terrier. I saw a cute one on Twitter.\n",
      "Tool call: update_favorite_pets({\"pets\":[\"terrier\"]})\n",
      "update_favorite_pets tool output: update_favorite_pets called.\n",
      "Assistant: I've added \"terrier\" to your list of favorite pets. If you have any more favorites, feel free to let me know!\n"
     ]
    }
   ],
   "source": [
    "import {\n",
    "  BaseMessage,\n",
    "  isAIMessage,\n",
    "  isHumanMessage,\n",
    "  isToolMessage,\n",
    "  HumanMessage,\n",
    "  ToolMessage,\n",
    "} from \"@langchain/core/messages\";\n",
    "\n",
    "let inputs = {\n",
    "  messages: [ new HumanMessage({ content: \"My favorite pet is a terrier. I saw a cute one on Twitter.\" }) ],\n",
    "};\n",
    "\n",
    "let config = {\n",
    "  configurable: {\n",
    "    thread_id: \"1\",\n",
    "    userId: \"a-user\",\n",
    "  },\n",
    "};\n",
    "\n",
    "function printMessages(messages: BaseMessage[]) {\n",
    "  for (const message of messages) {\n",
    "    if (isHumanMessage(message)) {\n",
    "      console.log(`User: ${message.content}`);\n",
    "    } else if (isAIMessage(message)) {\n",
    "      const aiMessage = message as AIMessage;\n",
    "      if (aiMessage.content) {\n",
    "        console.log(`Assistant: ${aiMessage.content}`);\n",
    "      }\n",
    "      if (aiMessage.tool_calls) {\n",
    "        for (const toolCall of aiMessage.tool_calls) {\n",
    "          console.log(`Tool call: ${toolCall.name}(${JSON.stringify(toolCall.args)})`);\n",
    "        }\n",
    "      }\n",
    "    } else if (isToolMessage(message)) {\n",
    "      const toolMessage = message as ToolMessage;\n",
    "      console.log(`${toolMessage.name} tool output: ${toolMessage.content}`);\n",
    "    }\n",
    "  }\n",
    "}\n",
    "\n",
    "let { messages } = await graph.invoke(inputs, config);\n",
    "\n",
    "printMessages(messages);\n"
   ]
  },
  {
   "cell_type": "markdown",
   "metadata": {},
   "source": [
    "Now verify it can properly fetch the stored preferences and cite where it got the information from:"
   ]
  },
  {
   "cell_type": "code",
   "execution_count": 9,
   "metadata": {},
   "outputs": [
    {
     "name": "stdout",
     "output_type": "stream",
     "text": [
      "User: What're my favorite pets and what did I say when I told you about them?\n",
      "Tool call: get_favorite_pets({})\n",
      "get_favorite_pets tool output: {\"pets\":[\"terrier\"],\"context\":\"My favorite pet is a terrier. I saw a cute one on Twitter.\"}\n",
      "Assistant: Your favorite pet is a terrier. You mentioned, \"My favorite pet is a terrier. I saw a cute one on Twitter.\"\n"
     ]
    }
   ],
   "source": [
    "inputs = { messages: [new HumanMessage({ content: \"What're my favorite pets and what did I say when I told you about them?\" })] };\n",
    "config = {\n",
    "  configurable: {\n",
    "    thread_id: \"2\", // New thread ID, so the conversation history isn't present.\n",
    "    userId: \"a-user\"\n",
    "  }\n",
    "};\n",
    "\n",
    "messages = (await graph.invoke(inputs, config)).messages;\n",
    "\n",
    "printMessages(messages);"
   ]
  },
  {
   "cell_type": "markdown",
   "metadata": {},
   "source": [
    "As you can see the agent is able to properly cite that the information came from Twitter!"
   ]
  },
  {
   "cell_type": "markdown",
   "metadata": {},
   "source": [
    "## Closures\n",
    "\n",
    "If you cannot use context variables in your environment, you can use [closures](https://developer.mozilla.org/en-US/docs/Web/JavaScript/Closures) to create tools with access to dynamic content. Here is a high-level example:"
   ]
  },
  {
   "cell_type": "code",
   "execution_count": 10,
   "metadata": {},
   "outputs": [],
   "source": [
    "function generateTools(state: typeof MessagesAnnotation.State) {\n",
    "  const updateFavoritePets = tool(\n",
    "    async (input, config: LangGraphRunnableConfig) => {\n",
    "      // Some arguments are populated by the LLM; these are included in the schema below\n",
    "      const { pets } = input;\n",
    "      // Others (such as a UserID) are best provided via the config\n",
    "      // This is set when when invoking or streaming the graph\n",
    "      const userId = config.configurable?.userId;\n",
    "      // LangGraph's managed key-value store is also accessible via the config\n",
    "      const store = config.store;\n",
    "      await store.put([userId, \"pets\"], \"names\", pets )\n",
    "      await store.put([userId, \"pets\"], \"context\", {content: state.messages[0].content})\n",
    "\n",
    "      return \"update_favorite_pets called.\";\n",
    "    },\n",
    "    {\n",
    "      // The LLM \"sees\" the following schema:\n",
    "      name: \"update_favorite_pets\",\n",
    "      description: \"add to the list of favorite pets.\",\n",
    "      schema: z.object({\n",
    "        pets: z.array(z.string()),\n",
    "      }),\n",
    "    }\n",
    "  );\n",
    "  return [updateFavoritePets];\n",
    "};"
   ]
  },
  {
   "cell_type": "markdown",
   "metadata": {},
   "source": [
    "Then, when laying out your graph, you will need to call the above method whenever you bind or invoke tools. For example:"
   ]
  },
  {
   "cell_type": "code",
   "execution_count": 11,
   "metadata": {},
   "outputs": [],
   "source": [
    "const toolNodeWithClosure = async (state: typeof MessagesAnnotation.State) => {\n",
    "  // We fetch the tools any time this node is reached to\n",
    "  // form a closure and let it access the latest messages\n",
    "  const tools = generateTools(state);\n",
    "  const toolNodeWithConfig = new ToolNode(tools);\n",
    "  return toolNodeWithConfig.invoke(state);\n",
    "};"
   ]
  }
 ],
 "metadata": {
  "kernelspec": {
   "display_name": "TypeScript",
   "language": "typescript",
   "name": "tslab"
  },
  "language_info": {
   "codemirror_mode": {
    "mode": "typescript",
    "name": "javascript",
    "typescript": true
   },
   "file_extension": ".ts",
   "mimetype": "text/typescript",
   "name": "typescript",
   "version": "3.7.2"
  }
 },
 "nbformat": 4,
 "nbformat_minor": 2
}

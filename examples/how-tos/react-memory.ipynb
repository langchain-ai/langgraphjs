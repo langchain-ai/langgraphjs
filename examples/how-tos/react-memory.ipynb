{
 "cells": [
  {
   "cell_type": "markdown",
   "metadata": {},
   "source": [
    "# How to add memory to the prebuilt ReAct agent\n",
    "\n",
    "This tutorial will show how to add memory to the prebuilt ReAct agent. Please see [this tutorial](./create-react-agent.ipynb) for how to get started with the prebuilt ReAct agent\n",
    "\n",
    "All we need to do to enable memory is pass in a checkpointer to `createReactAgent`\n",
    "\n",
    "## Setup\n",
    "\n",
    "First, we need to install the required packages.\n",
    "\n",
    "```bash\n",
    "yarn add @langchain/langgraph @langchain/openai @langchain/core\n",
    "```\n",
    "\n",
    "This guide will use OpenAI's GPT-4o model. We will optionally set our API key\n",
    "for [LangSmith tracing](https://smith.langchain.com/), which will give us\n",
    "best-in-class observability."
   ]
  },
  {
   "cell_type": "code",
   "execution_count": 1,
   "metadata": {},
   "outputs": [
    {
     "name": "stdout",
     "output_type": "stream",
     "text": [
      "ReAct Agent with memory: LangGraphJS\n"
     ]
    }
   ],
   "source": [
    "// process.env.OPENAI_API_KEY = \"sk_...\";\n",
    "\n",
    "// Optional, add tracing in LangSmith\n",
    "// process.env.LANGCHAIN_API_KEY = \"ls__...\"\n",
    "// process.env.LANGCHAIN_CALLBACKS_BACKGROUND = \"true\";\n",
    "process.env.LANGCHAIN_CALLBACKS_BACKGROUND = \"true\";\n",
    "process.env.LANGCHAIN_TRACING_V2 = \"true\";\n",
    "process.env.LANGCHAIN_PROJECT = \"ReAct Agent with memory: LangGraphJS\";"
   ]
  },
  {
   "cell_type": "markdown",
   "metadata": {},
   "source": [
    "## Code\n",
    "\n",
    "Now we can use the prebuilt `createReactAgent` function to setup our agent with memory:"
   ]
  },
  {
   "cell_type": "code",
   "execution_count": 2,
   "metadata": {},
   "outputs": [],
   "source": [
    "import { ChatOpenAI } from \"@langchain/openai\";\n",
    "import { tool } from '@langchain/core/tools';\n",
    "import { z } from 'zod';\n",
    "import { createReactAgent } from \"@langchain/langgraph/prebuilt\";\n",
    "import { MemorySaver } from \"@langchain/langgraph\";\n",
    "\n",
    "const model = new ChatOpenAI({\n",
    "    model: \"gpt-4o\",\n",
    "  });\n",
    "\n",
    "const getWeather = tool((input) => {\n",
    "    if (input.location === 'sf') {\n",
    "        return 'It\\'s always sunny in sf';\n",
    "    } else {\n",
    "        return 'It might be cloudy in nyc';\n",
    "    }\n",
    "}, {\n",
    "    name: 'get_weather',\n",
    "    description: 'Call to get the current weather.',\n",
    "    schema: z.object({\n",
    "        location: z.enum(['sf','nyc']).describe(\"Location to get the weather for.\"),\n",
    "    })\n",
    "})\n",
    "\n",
    "// Here we only save in-memory\n",
    "const memory = new MemorySaver();\n",
    "\n",
    "const agent = createReactAgent({ llm: model, tools: [getWeather], checkpointSaver: memory });"
   ]
  },
  {
   "cell_type": "markdown",
   "metadata": {},
   "source": [
    "## Usage\n",
    "\n",
    "Let's interact with it multiple times to show that it can remember prior information"
   ]
  },
  {
   "cell_type": "code",
   "execution_count": 3,
   "metadata": {},
   "outputs": [
    {
     "name": "stdout",
     "output_type": "stream",
     "text": [
      "what is the weather in NYC?\n",
      "-----\n",
      "\n",
      "[\n",
      "  {\n",
      "    name: 'get_weather',\n",
      "    args: { location: 'nyc' },\n",
      "    type: 'tool_call',\n",
      "    id: 'call_m0zEI6sidPPH81G6ygMsKYs1'\n",
      "  }\n",
      "]\n",
      "-----\n",
      "\n",
      "It might be cloudy in nyc\n",
      "-----\n",
      "\n",
      "The weather in NYC appears to be cloudy.\n",
      "-----\n",
      "\n"
     ]
    }
   ],
   "source": [
    "let inputs = { messages: [{ role: \"user\", content: \"what is the weather in NYC?\" }] };\n",
    "let config = { configurable: { thread_id: \"1\" } };\n",
    "let stream = await agent.stream(inputs, {\n",
    "  ...config,\n",
    "  streamMode: \"values\",\n",
    "});\n",
    "\n",
    "for await (\n",
    "  const { messages } of stream\n",
    ") {\n",
    "  let msg = messages[messages?.length - 1];\n",
    "  if (msg?.content) {\n",
    "    console.log(msg.content);\n",
    "  } else if (msg?.tool_calls?.length > 0) {\n",
    "    console.log(msg.tool_calls);\n",
    "  } else {\n",
    "    console.log(msg);\n",
    "  }\n",
    "  console.log(\"-----\\n\");\n",
    "}"
   ]
  },
  {
   "cell_type": "markdown",
   "metadata": {},
   "source": [
    "Notice that when we pass the same thread ID, the chat history is preserved"
   ]
  },
  {
   "cell_type": "code",
   "execution_count": 5,
   "metadata": {},
   "outputs": [
    {
     "name": "stdout",
     "output_type": "stream",
     "text": [
      "What's it known for?\n",
      "-----\n",
      "\n",
      "New York City (NYC) is known for many things, including:\n",
      "\n",
      "1. **Landmarks and Attractions:**\n",
      "   - **Statue of Liberty**: An iconic symbol of freedom.\n",
      "   - **Empire State Building**: A famous skyscraper offering panoramic views.\n",
      "   - **Times Square**: Known for its neon lights and bustling atmosphere.\n",
      "   - **Central Park**: A large, urban park offering a natural oasis.\n",
      "\n",
      "2. **Cultural Institutions:**\n",
      "   - **Broadway**: Famous for its theatre productions.\n",
      "   - **Metropolitan Museum of Art (The Met)**: One of the largest and most prestigious art museums.\n",
      "   - **Museum of Modern Art (MoMA) and American Museum of Natural History**: Other significant museums.\n",
      "\n",
      "3. **Economy and Business:**\n",
      "   - **Wall Street**: The financial hub of the world, home to the New York Stock Exchange.\n",
      "   - **Headquarters of major corporations**: NYC hosts the headquarters of many large multinational companies.\n",
      "\n",
      "4. **Diversity and Neighborhoods:**\n",
      "   - **Cultural Melting Pot**: NYC is known for its diverse population with a wide range of ethnicities and cultures.\n",
      "   - **Distinct Neighborhoods**: Each borough and neighborhood (like Brooklyn, The Bronx, Queens, Staten Island, and Manhattan) has its unique character.\n",
      "\n",
      "5. **Food and Cuisine:**\n",
      "   - **Culinary Capital**: Known for diverse food options from street food like hot dogs and pretzels to high-end dining.\n",
      "   - **Cultural Cuisine**: Offers a variety of world cuisines due to its diverse population.\n",
      "\n",
      "6. **Media and Entertainment:**\n",
      "   - **Media Headquarters**: Home to major media companies and news networks.\n",
      "   - **Film and Television**: A popular setting and production location for films and TV shows.\n",
      "   \n",
      "7. **Events and Festivities:**\n",
      "   - **Macy's Thanksgiving Day Parade**: A famous annual parade.\n",
      "   - **New Year's Eve in Times Square**: Known for the ball drop and celebrations.\n",
      "\n",
      "NYC is a dynamic and vibrant city with a rich history and an influence that extends globally in various sectors.\n",
      "-----\n",
      "\n"
     ]
    }
   ],
   "source": [
    "inputs = { messages: [{ role: \"user\", content: \"What's it known for?\" }] };\n",
    "stream = await agent.stream(inputs, {\n",
    "  ...config,\n",
    "  streamMode: \"values\",\n",
    "});\n",
    "\n",
    "for await (\n",
    "    const { messages } of stream\n",
    "  ) {\n",
    "    let msg = messages[messages?.length - 1];\n",
    "    if (msg?.content) {\n",
    "      console.log(msg.content);\n",
    "    } else if (msg?.tool_calls?.length > 0) {\n",
    "      console.log(msg.tool_calls);\n",
    "    } else {\n",
    "      console.log(msg);\n",
    "    }\n",
    "    console.log(\"-----\\n\");\n",
    "  }"
   ]
  },
  {
   "cell_type": "markdown",
   "metadata": {},
   "source": [
    "When we pass it a new thread ID, all the history is lost and their is no memory to speak of:"
   ]
  },
  {
   "cell_type": "code",
   "execution_count": 6,
   "metadata": {},
   "outputs": [
    {
     "name": "stdout",
     "output_type": "stream",
     "text": [
      "how close is it to boston?\n",
      "-----\n",
      "\n",
      "[\n",
      "  {\n",
      "    name: 'get_weather',\n",
      "    args: { location: 'nyc' },\n",
      "    type: 'tool_call',\n",
      "    id: 'call_CKgDJqHiadzNLGhB8T8pHQWM'\n",
      "  }\n",
      "]\n",
      "-----\n",
      "\n",
      "It might be cloudy in nyc\n",
      "-----\n",
      "\n",
      "To determine how close \"it\" is to Boston, could you please specify which location you're referring to? For instance, are you asking about the distance from New York City, San Francisco, or another location? This detail will help me provide an accurate answer.\n",
      "-----\n",
      "\n"
     ]
    }
   ],
   "source": [
    "inputs = { messages: [{ role: \"user\", content: \"how close is it to boston?\" }] };\n",
    "config = { configurable: { thread_id: \"2\" } };\n",
    "stream = await agent.stream(inputs, {\n",
    "  ...config,\n",
    "  streamMode: \"values\",\n",
    "});\n",
    "\n",
    "for await (\n",
    "    const { messages } of stream\n",
    "  ) {\n",
    "    let msg = messages[messages?.length - 1];\n",
    "    if (msg?.content) {\n",
    "      console.log(msg.content);\n",
    "    } else if (msg?.tool_calls?.length > 0) {\n",
    "      console.log(msg.tool_calls);\n",
    "    } else {\n",
    "      console.log(msg);\n",
    "    }\n",
    "    console.log(\"-----\\n\");\n",
    "  }"
   ]
  }
 ],
 "metadata": {
  "kernelspec": {
   "display_name": "TypeScript",
   "language": "typescript",
   "name": "tslab"
  },
  "language_info": {
   "codemirror_mode": {
    "mode": "typescript",
    "name": "javascript",
    "typescript": true
   },
   "file_extension": ".ts",
   "mimetype": "text/typescript",
   "name": "typescript",
   "version": "3.7.2"
  }
 },
 "nbformat": 4,
 "nbformat_minor": 2
}

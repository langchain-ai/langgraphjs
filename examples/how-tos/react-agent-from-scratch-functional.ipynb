{
 "cells": [
  {
   "cell_type": "markdown",
   "metadata": {},
   "source": [
    "# How to create a ReAct agent from scratch (Functional API)\n",
    "\n",
    "!!! info \"Prerequisites\"\n",
    "    This guide assumes familiarity with the following:\n",
    "    \n",
    "    - [Chat Models](https://js.langchain.com/docs/concepts/chat_models)\n",
    "    - [Messages](https://js.langchain.com/docs/concepts/messages)\n",
    "    - [Tool Calling](https://js.langchain.com/docs/concepts/tool_calling/)\n",
    "    - [Entrypoints](../../concepts/functional_api/#entrypoint) and [Tasks](../../concepts/functional_api/#task)\n",
    "\n",
    "This guide demonstrates how to implement a ReAct agent using the LangGraph [Functional API](../../concepts/functional_api).\n",
    "\n",
    "The ReAct agent is a [tool-calling agent](../../concepts/agentic_concepts/#tool-calling-agent) that operates as follows:\n",
    "\n",
    "1. Queries are issued to a chat model;\n",
    "2. If the model generates no [tool calls](../../concepts/agentic_concepts/#tool-calling), we return the model response.\n",
    "3. If the model generates tool calls, we execute the tool calls with available tools, append them as [tool messages](https://js.langchain.com/docs/concepts/messages/) to our message list, and repeat the process.\n",
    "\n",
    "This is a simple and versatile set-up that can be extended with memory, human-in-the-loop capabilities, and other features. See the dedicated [how-to guides](../../how-tos/#prebuilt-react-agent) for examples."
   ]
  },
  {
   "cell_type": "markdown",
   "metadata": {},
   "source": [
    "## Setup\n",
    "\n",
    "!!! note Compatibility\n",
    "\n",
    "    This guide requires `@langchain/langgraph>=0.2.42`.\n",
    "\n",
    "First, install the required dependencies for this example:\n",
    "\n",
    "```bash\n",
    "npm install @langchain/langgraph @langchain/openai @langchain/core zod\n",
    "```\n",
    "\n",
    "Next, we need to set API keys for OpenAI (the LLM we will use):\n",
    "\n",
    "```typescript\n",
    "process.env.OPENAI_API_KEY = \"YOUR_API_KEY\";\n",
    "```\n",
    "\n",
    "!!! tip \"Set up [LangSmith](https://smith.langchain.com) for LangGraph development\"\n",
    "\n",
    "    Sign up for LangSmith to quickly spot issues and improve the performance of your LangGraph projects. LangSmith lets you use trace data to debug, test, and monitor your LLM apps built with LangGraph — read more about how to get started [here](https://docs.smith.langchain.com)"
   ]
  },
  {
   "cell_type": "markdown",
   "metadata": {},
   "source": [
    "## Create ReAct agent\n",
    "\n",
    "Now that you have installed the required packages and set your environment variables, we can create our agent.\n",
    "\n",
    "### Define model and tools\n",
    "\n",
    "Let's first define the tools and model we will use for our example. Here we will use a single place-holder tool that gets a description of the weather for a location.\n",
    "\n",
    "We will use an [OpenAI](https://js.langchain.com/docs/integrations/providers/openai/) chat model for this example, but any model [supporting tool-calling](https://js.langchain.com/docs/integrations/chat/) will suffice."
   ]
  },
  {
   "cell_type": "code",
   "execution_count": 1,
   "metadata": {},
   "outputs": [],
   "source": [
    "import { ChatOpenAI } from \"@langchain/openai\";\n",
    "import { tool } from \"@langchain/core/tools\";\n",
    "import { z } from \"zod\";\n",
    "\n",
    "const model = new ChatOpenAI({\n",
    "  model: \"gpt-4o-mini\",\n",
    "});\n",
    "\n",
    "const getWeather = tool(async ({ location }) => {\n",
    "  const lowercaseLocation = location.toLowerCase();\n",
    "  if (lowercaseLocation.includes(\"sf\") || lowercaseLocation.includes(\"san francisco\")) {\n",
    "    return \"It's sunny!\";\n",
    "  } else if (lowercaseLocation.includes(\"boston\")) {\n",
    "    return \"It's rainy!\";\n",
    "  } else {\n",
    "    return `I am not sure what the weather is in ${location}`;\n",
    "  }\n",
    "}, {\n",
    "  name: \"getWeather\",\n",
    "  schema: z.object({\n",
    "    location: z.string().describe(\"location to get the weather for\"),\n",
    "  }),\n",
    "  description: \"Call to get the weather from a specific location.\"\n",
    "});\n",
    "\n",
    "const tools = [getWeather];"
   ]
  },
  {
   "cell_type": "markdown",
   "metadata": {},
   "source": [
    "### Define tasks\n",
    "\n",
    "We next define the [tasks](../../concepts/functional_api/#task) we will execute. Here there are two different tasks:\n",
    "\n",
    "1. **Call model**: We want to query our chat model with a list of messages.\n",
    "2. **Call tool**: If our model generates tool calls, we want to execute them."
   ]
  },
  {
   "cell_type": "code",
   "execution_count": 2,
   "metadata": {},
   "outputs": [],
   "source": [
    "import {\n",
    "  type BaseMessageLike,\n",
    "  AIMessage,\n",
    "  ToolMessage,\n",
    "} from \"@langchain/core/messages\";\n",
    "import { type ToolCall } from \"@langchain/core/messages/tool\";\n",
    "import { task } from \"@langchain/langgraph\";\n",
    "\n",
    "const toolsByName = Object.fromEntries(tools.map((tool) => [tool.name, tool]));\n",
    "\n",
    "const callModel = task(\"callModel\", async (messages: BaseMessageLike[]) => {\n",
    "  const response = await model.bindTools(tools).invoke(messages);\n",
    "  return response;\n",
    "});\n",
    "\n",
    "const callTool = task(\n",
    "  \"callTool\",\n",
    "  async (toolCall: ToolCall): Promise<AIMessage> => {\n",
    "    const tool = toolsByName[toolCall.name];\n",
    "    const observation = await tool.invoke(toolCall.args);\n",
    "    return new ToolMessage({ content: observation, tool_call_id: toolCall.id });\n",
    "    // Can also pass toolCall directly into the tool to return a ToolMessage\n",
    "    // return tool.invoke(toolCall);\n",
    "  });"
   ]
  },
  {
   "cell_type": "markdown",
   "metadata": {},
   "source": [
    "### Define entrypoint\n",
    "\n",
    "Our [entrypoint](../../concepts/functional_api/#entrypoint) will handle the orchestration of these two tasks. As described above, when our `callModel` task generates tool calls, the `callTool` task will generate responses for each. We append all messages to a single messages list."
   ]
  },
  {
   "cell_type": "code",
   "execution_count": 3,
   "metadata": {},
   "outputs": [],
   "source": [
    "import { entrypoint, addMessages } from \"@langchain/langgraph\";\n",
    "\n",
    "const agent = entrypoint(\n",
    "  \"agent\",\n",
    "  async (messages: BaseMessageLike[]) => {\n",
    "    let currentMessages = messages;\n",
    "    let llmResponse = await callModel(currentMessages);\n",
    "    while (true) {\n",
    "      if (!llmResponse.tool_calls?.length) {\n",
    "        break;\n",
    "      }\n",
    "\n",
    "      // Execute tools\n",
    "      const toolResults = await Promise.all(\n",
    "        llmResponse.tool_calls.map((toolCall) => {\n",
    "          return callTool(toolCall);\n",
    "        })\n",
    "      );\n",
    "      \n",
    "      // Append to message list\n",
    "      currentMessages = addMessages(currentMessages, [llmResponse, ...toolResults]);\n",
    "\n",
    "      // Call model again\n",
    "      llmResponse = await callModel(currentMessages);\n",
    "    }\n",
    "\n",
    "    return llmResponse;\n",
    "  }\n",
    ");"
   ]
  },
  {
   "cell_type": "markdown",
   "metadata": {},
   "source": [
    "## Usage\n",
    "\n",
    "To use our agent, we invoke it with a messages list. Based on our implementation, these can be LangChain [message](https://js.langchain.com/docs/concepts/messages/) objects or OpenAI-style objects:"
   ]
  },
  {
   "cell_type": "code",
   "execution_count": 4,
   "metadata": {},
   "outputs": [
    {
     "name": "stdout",
     "output_type": "stream",
     "text": [
      "{ role: 'user', content: \"What's the weather in san francisco?\" }\n",
      "\n",
      "callModel:\n",
      "============================== ai message ==============================\n",
      "\n",
      "[\n",
      "  {\n",
      "    \"name\": \"getWeather\",\n",
      "    \"args\": {\n",
      "      \"location\": \"San Francisco\"\n",
      "    },\n",
      "    \"type\": \"tool_call\",\n",
      "    \"id\": \"call_m5jZoH1HUtH6wA2QvexOHutj\"\n",
      "  }\n",
      "]\n",
      "\n",
      "callTool:\n",
      "============================== tool message ==============================\n",
      "It's sunny!\n",
      "\n",
      "callModel:\n",
      "============================== ai message ==============================\n",
      "The weather in San Francisco is sunny!\n"
     ]
    }
   ],
   "source": [
    "import { BaseMessage, isAIMessage } from \"@langchain/core/messages\";\n",
    "\n",
    "const prettyPrintMessage = (message: BaseMessage) => {\n",
    "  console.log(\"=\".repeat(30), `${message.getType()} message`, \"=\".repeat(30));\n",
    "  console.log(message.content);\n",
    "  if (isAIMessage(message) && message.tool_calls?.length) {\n",
    "    console.log(JSON.stringify(message.tool_calls, null, 2));\n",
    "  }\n",
    "}\n",
    "\n",
    "// Usage example\n",
    "const userMessage = { role: \"user\", content: \"What's the weather in san francisco?\" };\n",
    "console.log(userMessage);\n",
    "\n",
    "const stream = await agent.stream([userMessage]);\n",
    "\n",
    "for await (const step of stream) {\n",
    "  for (const [taskName, update] of Object.entries(step)) {\n",
    "    const message = update as BaseMessage;\n",
    "    // Only print task updates\n",
    "    if (taskName === \"agent\") continue;\n",
    "    console.log(`\\n${taskName}:`);\n",
    "    prettyPrintMessage(message);\n",
    "  }\n",
    "}"
   ]
  },
  {
   "cell_type": "markdown",
   "metadata": {},
   "source": [
    "Perfect! The graph correctly calls the `getWeather` tool and responds to the user after receiving the information from the tool. Check out the LangSmith trace [here](https://smith.langchain.com/public/8132d3b8-2c91-40fc-b660-b766ca33e9cb/r)."
   ]
  },
  {
   "cell_type": "markdown",
   "metadata": {},
   "source": [
    "## Add thread-level persistence\n",
    "\n",
    "Adding [thread-level persistence](../../concepts/persistence#threads) lets us support conversational experiences with our agent: subsequent invocations will append to the prior messages list, retaining the full conversational context.\n",
    "\n",
    "To add thread-level persistence to our agent:\n",
    "\n",
    "1. Select a [checkpointer](../../concepts/persistence#checkpointer-libraries): here we will use [MemorySaver](/langgraphjs/reference/classes/checkpoint.MemorySaver.html), a simple in-memory checkpointer.\n",
    "2. Update our entrypoint to accept the previous messages state as a second argument. Here, we simply append the message updates to the previous sequence of messages.\n",
    "3. Choose which values will be returned from the workflow and which will be saved by the checkpointer. We will be able to access it as `getPreviousState()` if we return it from `entrypoint.final` (optional)"
   ]
  },
  {
   "cell_type": "code",
   "execution_count": 5,
   "metadata": {},
   "outputs": [],
   "source": [
    "import {\n",
    "  MemorySaver,\n",
    "  getPreviousState,\n",
    "} from \"@langchain/langgraph\";\n",
    "\n",
    "// highlight-next-line\n",
    "const checkpointer = new MemorySaver();\n",
    "\n",
    "const agentWithMemory = entrypoint({\n",
    "  name: \"agentWithMemory\",\n",
    "  // highlight-next-line\n",
    "  checkpointer,\n",
    "}, async (messages: BaseMessageLike[]) => {\n",
    "  const previous = getPreviousState<BaseMessage>() ?? [];\n",
    "  let currentMessages = addMessages(previous, messages);\n",
    "  let llmResponse = await callModel(currentMessages);\n",
    "  while (true) {\n",
    "    if (!llmResponse.tool_calls?.length) {\n",
    "      break;\n",
    "    }\n",
    "\n",
    "    // Execute tools\n",
    "    const toolResults = await Promise.all(\n",
    "      llmResponse.tool_calls.map((toolCall) => {\n",
    "        return callTool(toolCall);\n",
    "      })\n",
    "    );\n",
    "    \n",
    "    // Append to message list\n",
    "    currentMessages = addMessages(currentMessages, [llmResponse, ...toolResults]);\n",
    "\n",
    "    // Call model again\n",
    "    llmResponse = await callModel(currentMessages);\n",
    "  }\n",
    "  \n",
    "  // Append final response for storage\n",
    "  currentMessages = addMessages(currentMessages, llmResponse);\n",
    "\n",
    "  // highlight-next-line\n",
    "  return entrypoint.final({\n",
    "    // highlight-next-line\n",
    "    value: llmResponse,\n",
    "    // highlight-next-line\n",
    "    save: currentMessages,\n",
    "    // highlight-next-line\n",
    "  });\n",
    "});"
   ]
  },
  {
   "cell_type": "markdown",
   "metadata": {},
   "source": [
    "We will now need to pass in a config when running our application. The config will specify an identifier for the conversational thread.\n",
    "\n",
    "!!! tip\n",
    "\n",
    "    Read more about thread-level persistence in our [concepts page](../../concepts/persistence/) and [how-to guides](../../how-tos/#persistence)."
   ]
  },
  {
   "cell_type": "code",
   "execution_count": 6,
   "metadata": {},
   "outputs": [],
   "source": [
    "const config = { configurable: { thread_id: \"1\" } };"
   ]
  },
  {
   "cell_type": "markdown",
   "metadata": {},
   "source": [
    "We start a thread the same way as before, this time passing in the config:"
   ]
  },
  {
   "cell_type": "code",
   "execution_count": 7,
   "metadata": {},
   "outputs": [
    {
     "name": "stdout",
     "output_type": "stream",
     "text": [
      "\n",
      "callModel:\n",
      "============================== ai message ==============================\n",
      "\n",
      "[\n",
      "  {\n",
      "    \"name\": \"getWeather\",\n",
      "    \"args\": {\n",
      "      \"location\": \"san francisco\"\n",
      "    },\n",
      "    \"type\": \"tool_call\",\n",
      "    \"id\": \"call_4vaZqAxUabthejqKPRMq0ngY\"\n",
      "  }\n",
      "]\n",
      "\n",
      "callTool:\n",
      "============================== tool message ==============================\n",
      "It's sunny!\n",
      "\n",
      "callModel:\n",
      "============================== ai message ==============================\n",
      "The weather in San Francisco is sunny!\n"
     ]
    }
   ],
   "source": [
    "const streamWithMemory = await agentWithMemory.stream([{\n",
    "  role: \"user\",\n",
    "  content: \"What's the weather in san francisco?\",\n",
    "}], config);\n",
    "\n",
    "for await (const step of streamWithMemory) {\n",
    "  for (const [taskName, update] of Object.entries(step)) {\n",
    "    const message = update as BaseMessage;\n",
    "    // Only print task updates\n",
    "    if (taskName === \"agentWithMemory\") continue;\n",
    "    console.log(`\\n${taskName}:`);\n",
    "    prettyPrintMessage(message);\n",
    "  }\n",
    "}"
   ]
  },
  {
   "cell_type": "markdown",
   "metadata": {},
   "source": [
    "When we ask a follow-up conversation, the model uses the prior context to infer that we are asking about the weather:"
   ]
  },
  {
   "cell_type": "code",
   "execution_count": 8,
   "metadata": {},
   "outputs": [
    {
     "name": "stdout",
     "output_type": "stream",
     "text": [
      "\n",
      "callModel:\n",
      "============================== ai message ==============================\n",
      "\n",
      "[\n",
      "  {\n",
      "    \"name\": \"getWeather\",\n",
      "    \"args\": {\n",
      "      \"location\": \"boston, ma\"\n",
      "    },\n",
      "    \"type\": \"tool_call\",\n",
      "    \"id\": \"call_YDrNfZr5XnuBBq5jlIXaxC5v\"\n",
      "  }\n",
      "]\n",
      "\n",
      "callTool:\n",
      "============================== tool message ==============================\n",
      "It's rainy!\n",
      "\n",
      "callModel:\n",
      "============================== ai message ==============================\n",
      "In comparison, while San Francisco is sunny, Boston, MA is experiencing rain.\n"
     ]
    }
   ],
   "source": [
    "const followupStreamWithMemory = await agentWithMemory.stream([{\n",
    "  role: \"user\",\n",
    "  content: \"How does it compare to Boston, MA?\",\n",
    "}], config);\n",
    "\n",
    "for await (const step of followupStreamWithMemory) {\n",
    "  for (const [taskName, update] of Object.entries(step)) {\n",
    "    const message = update as BaseMessage;\n",
    "    // Only print task updates\n",
    "    if (taskName === \"agentWithMemory\") continue;\n",
    "    console.log(`\\n${taskName}:`);\n",
    "    prettyPrintMessage(message);\n",
    "  }\n",
    "}"
   ]
  },
  {
   "cell_type": "markdown",
   "metadata": {},
   "source": [
    "In the [LangSmith trace](https://smith.langchain.com/public/ec803712-ecfc-49b6-8f54-92252d1e5e33/r), we can see that the full conversational context is retained in each model call."
   ]
  }
 ],
 "metadata": {
  "kernelspec": {
   "display_name": "TypeScript",
   "language": "typescript",
   "name": "tslab"
  },
  "language_info": {
   "codemirror_mode": {
    "mode": "typescript",
    "name": "javascript",
    "typescript": true
   },
   "file_extension": ".ts",
   "mimetype": "text/typescript",
   "name": "typescript",
   "version": "3.7.2"
  }
 },
 "nbformat": 4,
 "nbformat_minor": 4
}

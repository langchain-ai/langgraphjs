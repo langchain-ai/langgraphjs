{
 "cells": [
  {
   "cell_type": "markdown",
   "id": "3246bf13",
   "metadata": {},
   "source": [
    "# How to force an agent to call a tool\n",
    "\n",
    "In this example we will build a ReAct agent that **always** calls a certain tool\n",
    "first, before making any plans. In this example, we will create an agent with a\n",
    "search tool. However, at the start we will force the agent to call the search\n",
    "tool (and then let it do whatever it wants after). This is useful when you know\n",
    "you want to execute specific actions in your application but also want the\n",
    "flexibility of letting the LLM follow up on the user's query after going through\n",
    "that fixed sequence."
   ]
  },
  {
   "cell_type": "markdown",
   "id": "f7c184d4",
   "metadata": {},
   "source": [
    "## Setup\n",
    "\n",
    "First we need to install the packages required\n",
    "\n",
    "```bash\n",
    "yarn add @langchain/langgraph @langchain/openai @langchain/core\n",
    "```\n",
    "\n",
    "Next, we need to set API keys for OpenAI (the LLM we will use). Optionally, we\n",
    "can set API key for [LangSmith tracing](https://smith.langchain.com/), which\n",
    "will give us best-in-class observability."
   ]
  },
  {
   "cell_type": "code",
   "execution_count": 1,
   "id": "6327203c",
   "metadata": {
    "lines_to_next_cell": 2
   },
   "outputs": [
    {
     "name": "stdout",
     "output_type": "stream",
     "text": [
      "Force Calling a Tool First: LangGraphJS\n"
     ]
    }
   ],
   "source": [
    "// process.env.OPENAI_API_KEY = \"sk_...\";\n",
    "\n",
    "// Optional, add tracing in LangSmith\n",
    "// process.env.LANGCHAIN_API_KEY = \"ls__...\";\n",
    "// process.env.LANGCHAIN_CALLBACKS_BACKGROUND = \"true\";\n",
    "process.env.LANGCHAIN_TRACING_V2 = \"true\";\n",
    "process.env.LANGCHAIN_PROJECT = \"Force Calling a Tool First: LangGraphJS\";"
   ]
  },
  {
   "cell_type": "markdown",
   "id": "247b32e0",
   "metadata": {},
   "source": [
    "## Set up the tools\n",
    "\n",
    "We will first define the tools we want to use. For this simple example, we will\n",
    "use a built-in search tool via Tavily. However, it is really easy to create your\n",
    "own tools - see documentation\n",
    "[here](https://js.langchain.com/docs/modules/agents/tools/dynamic) on how to do\n",
    "that."
   ]
  },
  {
   "cell_type": "code",
   "execution_count": 2,
   "id": "294b9a8c",
   "metadata": {
    "lines_to_next_cell": 2
   },
   "outputs": [],
   "source": [
    "import { DynamicStructuredTool } from \"@langchain/core/tools\";\n",
    "import { z } from \"zod\";\n",
    "\n",
    "const searchTool = new DynamicStructuredTool({\n",
    "  name: \"search\",\n",
    "  description:\n",
    "    \"Use to surf the web, fetch current information, check the weather, and retrieve other information.\",\n",
    "  schema: z.object({\n",
    "    query: z.string().describe(\"The query to use in your search.\"),\n",
    "  }),\n",
    "  func: async ({}: { query: string }) => {\n",
    "    // This is a placeholder for the actual implementation\n",
    "    return \"Cold, with a low of 13 ℃\";\n",
    "  },\n",
    "});\n",
    "\n",
    "await searchTool.invoke({ query: \"What's the weather like?\" });\n",
    "\n",
    "const tools = [searchTool];"
   ]
  },
  {
   "cell_type": "markdown",
   "id": "8aa4e65a",
   "metadata": {},
   "source": [
    "We can now wrap these tools in a `ToolNode`.\n",
    "This is a prebuilt node that takes in a LangChain chat model's generated tool call and calls that tool,\n",
    "returning the output."
   ]
  },
  {
   "cell_type": "code",
   "execution_count": 3,
   "id": "51927bdc",
   "metadata": {
    "lines_to_next_cell": 2
   },
   "outputs": [],
   "source": [
    "import { ToolNode } from \"@langchain/langgraph/prebuilt\";\n",
    "\n",
    "const toolNode = new ToolNode(tools);"
   ]
  },
  {
   "cell_type": "markdown",
   "id": "7a2de12a",
   "metadata": {},
   "source": [
    "## Set up the model\n",
    "\n",
    "Now we need to load the chat model we want to use.\\\n",
    "Importantly, this should satisfy two criteria:\n",
    "\n",
    "1. It should work with messages. We will represent all agent state in the form\n",
    "   of messages, so it needs to be able to work well with them.\n",
    "2. It should work with OpenAI function calling. This means it should either be\n",
    "   an OpenAI model or a model that exposes a similar interface.\n",
    "\n",
    "Note: these model requirements are not requirements for using LangGraph - they\n",
    "are just requirements for this one example."
   ]
  },
  {
   "cell_type": "code",
   "execution_count": 4,
   "id": "d6e85df1",
   "metadata": {
    "lines_to_next_cell": 2
   },
   "outputs": [],
   "source": [
    "import { ChatOpenAI } from \"@langchain/openai\";\n",
    "\n",
    "const model = new ChatOpenAI({\n",
    "  temperature: 0,\n",
    "  model: \"gpt-4o\",\n",
    "});"
   ]
  },
  {
   "cell_type": "markdown",
   "id": "97cfea7d",
   "metadata": {},
   "source": [
    "After we've done this, we should make sure the model knows that it has these\n",
    "tools available to call. We can do this by converting the LangChain tools into\n",
    "the format for OpenAI function calling, and then bind them to the model class."
   ]
  },
  {
   "cell_type": "code",
   "execution_count": 5,
   "id": "4f0b4a08",
   "metadata": {
    "lines_to_next_cell": 2
   },
   "outputs": [],
   "source": [
    "const boundModel = model.bindTools(tools);"
   ]
  },
  {
   "cell_type": "markdown",
   "id": "59ca3d78",
   "metadata": {},
   "source": [
    "## Define the agent state\n",
    "\n",
    "The main type of graph in `langgraph` is the `StateGraph`. This graph is\n",
    "parameterized by a state object that it passes around to each node. Each node\n",
    "then returns operations to update that state.\n",
    "\n",
    "For this example, the state we will track will just be a list of messages. We\n",
    "want each node to just add messages to that list. Therefore, we will define the\n",
    "agent state as an object with one key (`messages`) with the value specifying how\n",
    "to update the state."
   ]
  },
  {
   "cell_type": "code",
   "execution_count": 6,
   "id": "3db3dd6e",
   "metadata": {
    "lines_to_next_cell": 2
   },
   "outputs": [],
   "source": [
    "import { Annotation } from \"@langchain/langgraph\";\n",
    "import { BaseMessage } from \"@langchain/core/messages\";\n",
    "\n",
    "const AgentState = Annotation.Root({\n",
    "  messages: Annotation<BaseMessage[]>({\n",
    "    reducer: (x, y) => x.concat(y),\n",
    "  }),\n",
    "});"
   ]
  },
  {
   "cell_type": "markdown",
   "id": "97b540fc",
   "metadata": {},
   "source": [
    "## Define the nodes\n",
    "\n",
    "We now need to define a few different nodes in our graph. In `langgraph`, a node\n",
    "can be either a function or a\n",
    "[runnable](https://js.langchain.com/docs/expression_language/). There are two\n",
    "main nodes we need for this:\n",
    "\n",
    "1. The agent: responsible for deciding what (if any) actions to take.\n",
    "2. A function to invoke tools: if the agent decides to take an action, this node\n",
    "   will then execute that action.\n",
    "\n",
    "We will also need to define some edges. Some of these edges may be conditional.\n",
    "The reason they are conditional is that based on the output of a node, one of\n",
    "several paths may be taken. The path that is taken is not known until that node\n",
    "is run (the LLM decides).\n",
    "\n",
    "1. Conditional Edge: after the agent is called, we should either: a. If the\n",
    "   agent said to take an action, then the function to invoke tools should be\n",
    "   called\\\n",
    "   b. If the agent said that it was finished, then it should finish\n",
    "2. Normal Edge: after the tools are invoked, it should always go back to the\n",
    "   agent to decide what to do next\n",
    "\n",
    "Let's define the nodes, as well as a function to decide how what conditional\n",
    "edge to take."
   ]
  },
  {
   "cell_type": "code",
   "execution_count": 7,
   "id": "eee5adc0",
   "metadata": {},
   "outputs": [],
   "source": [
    "import { AIMessage, AIMessageChunk } from \"@langchain/core/messages\";\n",
    "import { RunnableConfig } from \"@langchain/core/runnables\";\n",
    "import { concat } from \"@langchain/core/utils/stream\";\n",
    "\n",
    "// Define logic that will be used to determine which conditional edge to go down\n",
    "const shouldContinue = (state: typeof AgentState.State) => {\n",
    "  const { messages } = state;\n",
    "  const lastMessage = messages[messages.length - 1] as AIMessage;\n",
    "  // If there is no function call, then we finish\n",
    "  if (!lastMessage.tool_calls || lastMessage.tool_calls.length === 0) {\n",
    "    return \"end\";\n",
    "  }\n",
    "  // Otherwise if there is, we continue\n",
    "  return \"continue\";\n",
    "};\n",
    "\n",
    "// Define the function that calls the model\n",
    "const callModel = async (\n",
    "  state: typeof AgentState.State,\n",
    "  config?: RunnableConfig,\n",
    ") => {\n",
    "  const { messages } = state;\n",
    "  let response: AIMessageChunk | undefined;\n",
    "  for await (const message of await boundModel.stream(messages, config)) {\n",
    "    if (!response) {\n",
    "      response = message;\n",
    "    } else {\n",
    "      response = concat(response, message);\n",
    "    }\n",
    "  }\n",
    "  // We return an object, because this will get added to the existing list\n",
    "  return {\n",
    "    messages: response ? [response as AIMessage] : [],\n",
    "  };\n",
    "};"
   ]
  },
  {
   "cell_type": "markdown",
   "id": "00a87145",
   "metadata": {},
   "source": [
    "**MODIFICATION**\n",
    "\n",
    "Here we create a node that returns an AIMessage with a tool call - we will use\n",
    "this at the start to force it call a tool"
   ]
  },
  {
   "cell_type": "code",
   "execution_count": 8,
   "id": "e9104fc7",
   "metadata": {
    "lines_to_next_cell": 2
   },
   "outputs": [],
   "source": [
    "// This is the new first - the first call of the model we want to explicitly hard-code some action\n",
    "const firstModel = async (state: typeof AgentState.State) => {\n",
    "  const humanInput = state.messages[state.messages.length - 1].content || \"\";\n",
    "  return {\n",
    "    messages: [\n",
    "      new AIMessage({\n",
    "        content: \"\",\n",
    "        tool_calls: [\n",
    "          {\n",
    "            name: \"search\",\n",
    "            args: {\n",
    "              query: humanInput,\n",
    "            },\n",
    "            id: \"tool_abcd123\",\n",
    "          },\n",
    "        ],\n",
    "      }),\n",
    "    ],\n",
    "  };\n",
    "};"
   ]
  },
  {
   "cell_type": "markdown",
   "id": "e609be17",
   "metadata": {},
   "source": [
    "## Define the graph\n",
    "\n",
    "We can now put it all together and define the graph!\n",
    "\n",
    "**MODIFICATION**\n",
    "\n",
    "We will define a `firstModel` node which we will set as the entrypoint.\n"
   ]
  },
  {
   "cell_type": "code",
   "execution_count": 9,
   "id": "de6da918",
   "metadata": {
    "lines_to_next_cell": 2
   },
   "outputs": [],
   "source": [
    "import { END, START, StateGraph } from \"@langchain/langgraph\";\n",
    "\n",
    "// Define a new graph\n",
    "const workflow = new StateGraph(AgentState)\n",
    "  // Define the new entrypoint\n",
    "  .addNode(\"first_agent\", firstModel)\n",
    "  // Define the two nodes we will cycle between\n",
    "  .addNode(\"agent\", callModel)\n",
    "  .addNode(\"action\", toolNode)\n",
    "  // Set the entrypoint as `first_agent`\n",
    "  // by creating an edge from the virtual __start__ node to `first_agent`\n",
    "  .addEdge(START, \"first_agent\")\n",
    "  // We now add a conditional edge\n",
    "  .addConditionalEdges(\n",
    "    // First, we define the start node. We use `agent`.\n",
    "    // This means these are the edges taken after the `agent` node is called.\n",
    "    \"agent\",\n",
    "    // Next, we pass in the function that will determine which node is called next.\n",
    "    shouldContinue,\n",
    "    // Finally we pass in a mapping.\n",
    "    // The keys are strings, and the values are other nodes.\n",
    "    // END is a special node marking that the graph should finish.\n",
    "    // What will happen is we will call `should_continue`, and then the output of that\n",
    "    // will be matched against the keys in this mapping.\n",
    "    // Based on which one it matches, that node will then be called.\n",
    "    {\n",
    "      // If `tools`, then we call the tool node.\n",
    "      continue: \"action\",\n",
    "      // Otherwise we finish.\n",
    "      end: END,\n",
    "    },\n",
    "  )\n",
    "  // We now add a normal edge from `tools` to `agent`.\n",
    "  // This means that after `tools` is called, `agent` node is called next.\n",
    "  .addEdge(\"action\", \"agent\")\n",
    "  // After we call the first agent, we know we want to go to action\n",
    "  .addEdge(\"first_agent\", \"action\");\n",
    "\n",
    "// Finally, we compile it!\n",
    "// This compiles it into a LangChain Runnable,\n",
    "// meaning you can use it as you would any other runnable\n",
    "const app = workflow.compile();"
   ]
  },
  {
   "cell_type": "markdown",
   "id": "bd4f83be",
   "metadata": {},
   "source": [
    "## Use it!\n",
    "\n",
    "We can now use it! This now exposes the\n",
    "[same interface](https://js.langchain.com/docs/expression_language/) as all\n",
    "other LangChain runnables."
   ]
  },
  {
   "cell_type": "code",
   "execution_count": 10,
   "id": "acaade41",
   "metadata": {
    "lines_to_next_cell": 2
   },
   "outputs": [
    {
     "name": "stdout",
     "output_type": "stream",
     "text": [
      "{\n",
      "  first_agent: {\n",
      "    messages: [\n",
      "      AIMessage {\n",
      "        \"content\": \"\",\n",
      "        \"additional_kwargs\": {},\n",
      "        \"response_metadata\": {},\n",
      "        \"tool_calls\": [\n",
      "          {\n",
      "            \"name\": \"search\",\n",
      "            \"args\": {\n",
      "              \"query\": \"what is the weather in sf\"\n",
      "            },\n",
      "            \"id\": \"tool_abcd123\"\n",
      "          }\n",
      "        ],\n",
      "        \"invalid_tool_calls\": []\n",
      "      }\n",
      "    ]\n",
      "  }\n",
      "}\n",
      "-----\n",
      "\n",
      "{\n",
      "  action: {\n",
      "    messages: [\n",
      "      ToolMessage {\n",
      "        \"content\": \"Cold, with a low of 13 ℃\",\n",
      "        \"name\": \"search\",\n",
      "        \"additional_kwargs\": {},\n",
      "        \"response_metadata\": {},\n",
      "        \"tool_call_id\": \"tool_abcd123\"\n",
      "      }\n",
      "    ]\n",
      "  }\n",
      "}\n",
      "-----\n",
      "\n",
      "{\n",
      "  agent: {\n",
      "    messages: [\n",
      "      AIMessageChunk {\n",
      "        \"id\": \"chatcmpl-9y562g16z0MUNBJcS6nKMsDuFMRsS\",\n",
      "        \"content\": \"The current weather in San Francisco is cold, with a low of 13°C.\",\n",
      "        \"additional_kwargs\": {},\n",
      "        \"response_metadata\": {\n",
      "          \"prompt\": 0,\n",
      "          \"completion\": 0,\n",
      "          \"finish_reason\": \"stop\",\n",
      "          \"system_fingerprint\": \"fp_3aa7262c27fp_3aa7262c27fp_3aa7262c27fp_3aa7262c27fp_3aa7262c27fp_3aa7262c27fp_3aa7262c27fp_3aa7262c27fp_3aa7262c27fp_3aa7262c27fp_3aa7262c27fp_3aa7262c27fp_3aa7262c27fp_3aa7262c27fp_3aa7262c27fp_3aa7262c27fp_3aa7262c27fp_3aa7262c27fp_3aa7262c27\"\n",
      "        },\n",
      "        \"tool_calls\": [],\n",
      "        \"tool_call_chunks\": [],\n",
      "        \"invalid_tool_calls\": [],\n",
      "        \"usage_metadata\": {\n",
      "          \"input_tokens\": 104,\n",
      "          \"output_tokens\": 18,\n",
      "          \"total_tokens\": 122\n",
      "        }\n",
      "      }\n",
      "    ]\n",
      "  }\n",
      "}\n",
      "-----\n",
      "\n"
     ]
    }
   ],
   "source": [
    "import { HumanMessage } from \"@langchain/core/messages\";\n",
    "\n",
    "const inputs = {\n",
    "  messages: [new HumanMessage(\"what is the weather in sf\")],\n",
    "};\n",
    "\n",
    "for await (const output of await app.stream(inputs)) {\n",
    "  console.log(output);\n",
    "  console.log(\"-----\\n\");\n",
    "}"
   ]
  }
 ],
 "metadata": {
  "jupytext": {
   "encoding": "# -*- coding: utf-8 -*-"
  },
  "kernelspec": {
   "display_name": "TypeScript",
   "language": "typescript",
   "name": "tslab"
  },
  "language_info": {
   "codemirror_mode": {
    "mode": "typescript",
    "name": "javascript",
    "typescript": true
   },
   "file_extension": ".ts",
   "mimetype": "text/typescript",
   "name": "typescript",
   "version": "3.7.2"
  }
 },
 "nbformat": 4,
 "nbformat_minor": 5
}

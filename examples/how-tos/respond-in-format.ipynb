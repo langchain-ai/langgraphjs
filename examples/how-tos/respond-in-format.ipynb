{
 "cells": [
  {
   "cell_type": "markdown",
   "id": "2c3d2c48",
   "metadata": {},
   "source": [
    "# Respond in a format\n",
    "\n",
    "The typical ReAct agent prompts the LLM to respond in 1 of two formats: a\n",
    "function call (~ JSON) to use a tool, or conversational text to respond to the\n",
    "user.\n",
    "\n",
    "If your agent is connected to a structured (or even generative) UI, or if it is\n",
    "communicating with another agent or software process, you may want it to resopnd\n",
    "in a specific structured format.\n",
    "\n",
    "In this example we will build a conversational ReAct agent that responds in a\n",
    "specific format. We will do this by using\n",
    "[tool calling](https://js.langchain.com/docs/modules/model_io/models/chat/function-calling/).\n",
    "This is useful when you want to enforce that an agent's response is in a\n",
    "specific format. In this example, we will ask it respond as if it were a\n",
    "weatherman, returning the temperature and additional info in separate,\n",
    "machine-readable fields.\n"
   ]
  },
  {
   "cell_type": "markdown",
   "id": "5860c111",
   "metadata": {},
   "source": [
    "## Setup\n",
    "\n",
    "First we need to install the packages required\n",
    "\n",
    "```bash\n",
    "yarn add langchain @langchain/anthropic @langchain/langgraph\n",
    "```\n"
   ]
  },
  {
   "cell_type": "markdown",
   "id": "23523fc0",
   "metadata": {},
   "source": [
    "Next, we need to set API keys for OpenAI (the LLM we will use).\n"
   ]
  },
  {
   "cell_type": "code",
   "execution_count": 1,
   "id": "fb3ada8f",
   "metadata": {
    "lines_to_next_cell": 2
   },
   "outputs": [],
   "source": [
    "// process.env.OPENAI_API_KEY = \"sk_...\";"
   ]
  },
  {
   "cell_type": "markdown",
   "id": "e7e7be8c",
   "metadata": {},
   "source": [
    "Optionally, we can set API key for\n",
    "[LangSmith tracing](https://smith.langchain.com/), which will give us\n",
    "best-in-class observability.\n"
   ]
  },
  {
   "cell_type": "code",
   "execution_count": 2,
   "id": "bf127e2b",
   "metadata": {
    "lines_to_next_cell": 2
   },
   "outputs": [
    {
     "name": "stdout",
     "output_type": "stream",
     "text": [
      "Respond in Format: LangGraphJS\n"
     ]
    }
   ],
   "source": [
    "// process.env.LANGCHAIN_API_KEY = \"ls...\";\n",
    "process.env.LANGCHAIN_CALLBACKS_BACKGROUND = \"true\";\n",
    "process.env.LANGCHAIN_TRACING_V2 = \"true\";\n",
    "process.env.LANGCHAIN_PROJECT = \"Respond in Format: LangGraphJS\";"
   ]
  },
  {
   "cell_type": "markdown",
   "id": "b214dd10",
   "metadata": {},
   "source": [
    "## Set up the State\n"
   ]
  },
  {
   "cell_type": "code",
   "execution_count": 3,
   "id": "4ad79663",
   "metadata": {
    "lines_to_next_cell": 2
   },
   "outputs": [],
   "source": [
    "import { BaseMessage } from \"@langchain/core/messages\";\n",
    "import { StateGraphArgs } from \"@langchain/langgraph\";\n",
    "\n",
    "interface IState {\n",
    "  messages: BaseMessage[];\n",
    "}\n",
    "\n",
    "const graphState: StateGraphArgs<IState>[\"channels\"] = {\n",
    "  messages: {\n",
    "    value: (x: BaseMessage[], y: BaseMessage[]) => x.concat(y),\n",
    "    default: () => [],\n",
    "  },\n",
    "};"
   ]
  },
  {
   "cell_type": "markdown",
   "id": "eeca531d",
   "metadata": {},
   "source": [
    "## Set up the tools\n"
   ]
  },
  {
   "cell_type": "code",
   "execution_count": 4,
   "id": "d0fe8477",
   "metadata": {
    "lines_to_next_cell": 2
   },
   "outputs": [],
   "source": [
    "import { DynamicStructuredTool } from \"@langchain/core/tools\";\n",
    "import { z } from \"zod\";\n",
    "\n",
    "const searchTool = new DynamicStructuredTool({\n",
    "  name: \"search\",\n",
    "  description: \"Call to surf the web.\",\n",
    "  schema: z.object({\n",
    "    query: z.string().describe(\"The query to use in your search.\"),\n",
    "  }),\n",
    "  func: async ({}: { query: string }) => {\n",
    "    // This is a placeholder, but don't tell the LLM that...\n",
    "    return \"The answer to your question lies within.\";\n",
    "  },\n",
    "});\n",
    "\n",
    "const tools = [searchTool];"
   ]
  },
  {
   "cell_type": "markdown",
   "id": "f1a6aa07",
   "metadata": {},
   "source": [
    "We can now wrap these tools in a simple\n",
    "[ToolNode](https://langchain-ai.github.io/langgraphjs/reference/classes/prebuilt.ToolNode.html).\n"
   ]
  },
  {
   "cell_type": "code",
   "execution_count": 5,
   "id": "df80654e",
   "metadata": {
    "lines_to_next_cell": 2
   },
   "outputs": [],
   "source": [
    "import { ToolNode } from \"@langchain/langgraph/prebuilt\";\n",
    "\n",
    "const toolNode = new ToolNode<{ messages: BaseMessage[] }>(tools);"
   ]
  },
  {
   "cell_type": "markdown",
   "id": "19f17e92",
   "metadata": {},
   "source": [
    "## Set up the model\n"
   ]
  },
  {
   "cell_type": "code",
   "execution_count": 6,
   "id": "9c644fb9",
   "metadata": {
    "lines_to_next_cell": 2
   },
   "outputs": [],
   "source": [
    "import { ChatOpenAI } from \"@langchain/openai\";\n",
    "\n",
    "const model = new ChatOpenAI({\n",
    "  temperature: 0,\n",
    "  model: \"gpt-4o\",\n",
    "});"
   ]
  },
  {
   "cell_type": "markdown",
   "id": "bb86967d",
   "metadata": {},
   "source": [
    "After we've done this, we should make sure the model knows that it has these\n",
    "tools available to call. We can do this by converting the LangChain tools into\n",
    "the format for function calling, and then bind them to the model class.\n",
    "\n",
    "We also want to define a response schema for the language model and bind it to\n",
    "the model as a function as well."
   ]
  },
  {
   "cell_type": "code",
   "execution_count": 7,
   "id": "e148a48b",
   "metadata": {
    "lines_to_next_cell": 2
   },
   "outputs": [],
   "source": [
    "import { zodToJsonSchema } from \"zod-to-json-schema\";\n",
    "\n",
    "const Response = z.object({\n",
    "  temperature: z.number().describe(\"the temperature\"),\n",
    "  other_notes: z.string().describe(\"any other notes about the weather\"),\n",
    "});\n",
    "\n",
    "const boundModel = model.bindTools([\n",
    "  ...tools,\n",
    "  {\n",
    "    type: \"function\",\n",
    "    function: {\n",
    "      name: \"Response\",\n",
    "      description: \"Respond to the user using this tool.\",\n",
    "      parameters: zodToJsonSchema(Response),\n",
    "    },\n",
    "  },\n",
    "]);"
   ]
  },
  {
   "cell_type": "markdown",
   "id": "6e082c02",
   "metadata": {},
   "source": [
    "## Define the nodes\n"
   ]
  },
  {
   "cell_type": "code",
   "execution_count": 8,
   "id": "960ef633",
   "metadata": {
    "lines_to_next_cell": 2
   },
   "outputs": [],
   "source": [
    "import { AIMessage } from \"@langchain/core/messages\";\n",
    "import { RunnableConfig } from \"@langchain/core/runnables\";\n",
    "import { END } from \"@langchain/langgraph\";\n",
    "\n",
    "// Define the function that determines whether to continue or not\n",
    "const route = (state: IState) => {\n",
    "  const { messages } = state;\n",
    "  const lastMessage = messages[messages.length - 1] as AIMessage;\n",
    "  // If there is no function call, then we finish\n",
    "  if (!lastMessage.tool_calls || lastMessage.tool_calls.length === 0) {\n",
    "    return END;\n",
    "  }\n",
    "  // Otherwise if there is, we need to check what type of function call it is\n",
    "  if (lastMessage.tool_calls[0].name === \"Response\") {\n",
    "    return END;\n",
    "  }\n",
    "  // Otherwise we continue\n",
    "  return \"tools\";\n",
    "};\n",
    "\n",
    "// Define the function that calls the model\n",
    "const callModel = async (\n",
    "  state: IState,\n",
    "  config?: RunnableConfig,\n",
    ") => {\n",
    "  const { messages } = state;\n",
    "  const response = await boundModel.invoke(messages, config);\n",
    "  // We return an object, because this will get added to the existing list\n",
    "  return { messages: [response] };\n",
    "};"
   ]
  },
  {
   "cell_type": "markdown",
   "id": "3d09c2d0",
   "metadata": {},
   "source": [
    "## Define the graph"
   ]
  },
  {
   "cell_type": "code",
   "execution_count": 9,
   "id": "51179012",
   "metadata": {},
   "outputs": [],
   "source": [
    "import { START, StateGraph } from \"@langchain/langgraph\";\n",
    "\n",
    "// Define a new graph\n",
    "const workflow = new StateGraph<IState>({\n",
    "  channels: graphState,\n",
    "})\n",
    "  .addNode(\"agent\", callModel)\n",
    "  .addNode(\"tools\", toolNode)\n",
    "  .addEdge(START, \"agent\")\n",
    "  .addConditionalEdges(\n",
    "    // First, we define the start node. We use `agent`.\n",
    "    // This means these are the edges taken after the `agent` node is called.\n",
    "    \"agent\",\n",
    "    // Next, we pass in the function that will determine which node is called next.\n",
    "    route,\n",
    "  )\n",
    "  // We now add a normal edge from `tools` to `agent`.\n",
    "  // This means that after `tools` is called, `agent` node is called next.\n",
    "  .addEdge(\"tools\", \"agent\");\n",
    "\n",
    "// Finally, we compile it!\n",
    "// This compiles it into a LangChain Runnable,\n",
    "// meaning you can use it as you would any other runnable\n",
    "const app = workflow.compile();"
   ]
  },
  {
   "cell_type": "markdown",
   "id": "ae844f61",
   "metadata": {},
   "source": [
    "## Use it!\n",
    "\n",
    "We can now use it! This now exposes the\n",
    "[same interface](https://v02.api.js.langchain.com/classes/langchain_core_runnables.Runnable.html)\n",
    "as all other LangChain runnables.\n"
   ]
  },
  {
   "cell_type": "code",
   "execution_count": 10,
   "id": "3ee8225f",
   "metadata": {},
   "outputs": [
    {
     "name": "stdout",
     "output_type": "stream",
     "text": [
      "[human]: what is the weather in sf\n",
      "\n",
      "---\n",
      "\n",
      "[ai]:  \n",
      "Tools: \n",
      "- search({\"query\":\"current weather in San Francisco\"})\n",
      "\n",
      "---\n",
      "\n",
      "[tool]: The answer to your question lies within.\n",
      "\n",
      "---\n",
      "\n",
      "[ai]:  \n",
      "Tools: \n",
      "- Response({\"temperature\":64,\"other_notes\":\"Partly cloudy with a gentle breeze.\"})\n",
      "\n",
      "---\n",
      "\n"
     ]
    },
    {
     "name": "stderr",
     "output_type": "stream",
     "text": [
      "unknown msg_type: comm_open\n",
      "unknown msg_type: comm_msg\n"
     ]
    }
   ],
   "source": [
    "import { HumanMessage, isAIMessage } from \"@langchain/core/messages\";\n",
    "\n",
    "const prettyPrint = (message: BaseMessage) => {\n",
    "  let txt = `[${message._getType()}]: ${message.content}`;\n",
    "  if (\n",
    "    isAIMessage(message) && (message as AIMessage)?.tool_calls?.length || 0 > 0\n",
    "  ) {\n",
    "    const tool_calls = (message as AIMessage)?.tool_calls\n",
    "      ?.map((tc) => `- ${tc.name}(${JSON.stringify(tc.args)})`)\n",
    "      .join(\"\\n\");\n",
    "    txt += ` \\nTools: \\n${tool_calls}`;\n",
    "  }\n",
    "  console.log(txt);\n",
    "};\n",
    "\n",
    "const inputs = {\n",
    "  messages: [new HumanMessage(\"what is the weather in sf\")],\n",
    "};\n",
    "\n",
    "for await (const output of await app.stream(inputs, { streamMode: \"values\" })) {\n",
    "  const { messages } = output;\n",
    "  prettyPrint(messages[messages.length - 1]);\n",
    "  console.log(\"\\n---\\n\");\n",
    "}"
   ]
  }
 ],
 "metadata": {
  "kernelspec": {
   "display_name": "Deno",
   "language": "typescript",
   "name": "deno"
  },
  "language_info": {
   "codemirror_mode": {
    "mode": "typescript",
    "name": "javascript",
    "typescript": true
   },
   "file_extension": ".ts",
   "mimetype": "text/typescript",
   "name": "typescript",
   "version": "3.7.2"
  }
 },
 "nbformat": 4,
 "nbformat_minor": 5
}

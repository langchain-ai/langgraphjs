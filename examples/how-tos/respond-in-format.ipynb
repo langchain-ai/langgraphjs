{
  "cells": [
    {
      "cell_type": "markdown",
      "id": "2c3d2c48",
      "metadata": {},
      "source": [
        "# How to have agent respond in structured format\n",
        "\n",
        "The typical ReAct agent prompts the LLM to respond in 1 of two formats: a\n",
        "function call (~ JSON) to use a tool, or conversational text to respond to the\n",
        "user.\n",
        "\n",
        "If your agent is connected to a structured (or even generative) UI, or if it is\n",
        "communicating with another agent or software process, you may want it to resopnd\n",
        "in a specific structured format.\n",
        "\n",
        "In this example we will build a conversational ReAct agent that responds in a\n",
        "specific format. We will do this by using\n",
        "[tool calling](https://js.langchain.com/docs/modules/model_io/models/chat/function-calling/).\n",
        "This is useful when you want to enforce that an agent's response is in a\n",
        "specific format. In this example, we will ask it respond as if it were a\n",
        "weatherman, returning the temperature and additional info in separate,\n",
        "machine-readable fields.\n"
      ]
    },
    {
      "cell_type": "markdown",
      "id": "5860c111",
      "metadata": {},
      "source": [
        "## Setup\n",
        "\n",
        "First we need to install the packages required\n",
        "\n",
        "```bash\n",
        "yarn add langchain @langchain/anthropic @langchain/langgraph @langchain/core\n",
        "```\n"
      ]
    },
    {
      "cell_type": "markdown",
      "id": "23523fc0",
      "metadata": {},
      "source": [
        "Next, we need to set API keys for OpenAI (the LLM we will use).\n"
      ]
    },
    {
      "cell_type": "code",
      "execution_count": 1,
      "id": "fb3ada8f",
      "metadata": {
        "lines_to_next_cell": 2
      },
      "outputs": [],
      "source": [
        "// process.env.OPENAI_API_KEY = \"sk_...\";"
      ]
    },
    {
      "cell_type": "markdown",
      "id": "e7e7be8c",
      "metadata": {},
      "source": [
        "Optionally, we can set API key for\n",
        "[LangSmith tracing](https://smith.langchain.com/), which will give us\n",
        "best-in-class observability.\n"
      ]
    },
    {
      "cell_type": "code",
      "execution_count": 2,
      "id": "bf127e2b",
      "metadata": {
        "lines_to_next_cell": 2
      },
      "outputs": [
        {
          "name": "stdout",
          "output_type": "stream",
          "text": [
            "Respond in Format: LangGraphJS\n"
          ]
        }
      ],
      "source": [
        "// process.env.LANGCHAIN_API_KEY = \"ls...\";\n",
        "process.env.LANGCHAIN_CALLBACKS_BACKGROUND = \"true\";\n",
        "process.env.LANGCHAIN_TRACING_V2 = \"true\";\n",
        "process.env.LANGCHAIN_PROJECT = \"Respond in Format: LangGraphJS\";"
      ]
    },
    {
      "cell_type": "markdown",
      "id": "b214dd10",
      "metadata": {},
      "source": [
        "## Set up the State\n"
      ]
    },
    {
      "cell_type": "code",
      "execution_count": 3,
      "id": "4ad79663",
      "metadata": {
        "lines_to_next_cell": 2
      },
      "outputs": [],
      "source": [
        "import { Annotation, messagesStateReducer } from \"@langchain/langgraph\";\n",
        "import { BaseMessage } from \"@langchain/core/messages\";\n",
        "\n",
        "const GraphState = Annotation.Root({\n",
        "  messages: Annotation<BaseMessage[]>({\n",
        "    reducer: messagesStateReducer,\n",
        "  }),\n",
        "});"
      ]
    },
    {
      "cell_type": "markdown",
      "id": "eeca531d",
      "metadata": {},
      "source": [
        "## Set up the tools\n"
      ]
    },
    {
      "cell_type": "code",
      "execution_count": 4,
      "id": "d0fe8477",
      "metadata": {
        "lines_to_next_cell": 2
      },
      "outputs": [],
      "source": [
        "import { tool } from \"@langchain/core/tools\";\n",
        "import { z } from \"zod\";\n",
        "\n",
        "const searchTool = tool((_) => {\n",
        "  // This is a placeholder, but don't tell the LLM that...\n",
        "  return \"67 degrees. Cloudy with a chance of rain.\";\n",
        "}, {\n",
        "  name: \"search\",\n",
        "  description: \"Call to surf the web.\",\n",
        "  schema: z.object({\n",
        "    query: z.string().describe(\"The query to use in your search.\"),\n",
        "  }),\n",
        "});\n",
        "\n",
        "const tools = [searchTool];"
      ]
    },
    {
      "cell_type": "markdown",
      "id": "f1a6aa07",
      "metadata": {},
      "source": [
        "We can now wrap these tools in a\n",
        "[ToolNode](/langgraphjs/reference/classes/langgraph_prebuilt.ToolNode.html).\n"
      ]
    },
    {
      "cell_type": "code",
      "execution_count": 5,
      "id": "df80654e",
      "metadata": {
        "lines_to_next_cell": 2
      },
      "outputs": [],
      "source": [
        "import { ToolNode } from \"@langchain/langgraph/prebuilt\";\n",
        "\n",
        "const toolNode = new ToolNode<typeof GraphState.State>(tools);"
      ]
    },
    {
      "cell_type": "markdown",
      "id": "19f17e92",
      "metadata": {},
      "source": [
        "## Set up the model\n"
      ]
    },
    {
      "cell_type": "code",
      "execution_count": 6,
      "id": "9c644fb9",
      "metadata": {
        "lines_to_next_cell": 2
      },
      "outputs": [],
      "source": [
        "import { ChatOpenAI } from \"@langchain/openai\";\n",
        "\n",
        "const model = new ChatOpenAI({\n",
        "  temperature: 0,\n",
        "  model: \"gpt-4o\",\n",
        "});"
      ]
    },
    {
      "cell_type": "markdown",
      "id": "bb86967d",
      "metadata": {},
      "source": [
        "After we've done this, we should make sure the model knows that it has these\n",
        "tools available to call. We can do this by binding the LangChain tools to the model class.\n",
        "\n",
        "We also want to define a response schema for the language model and bind it to\n",
        "the model as a tool. The idea is that when the model is ready to respond, it'll call this final\n",
        "tool and populate arguments for it according to the schema we want. Rather than calling\n",
        "a tool, we'll instead return from the graph.\n",
        "\n",
        "Because we only intend to use this final tool to guide the schema of the model's final response,\n",
        "we'll declare it with a mocked out function:"
      ]
    },
    {
      "cell_type": "code",
      "execution_count": 7,
      "id": "e148a48b",
      "metadata": {
        "lines_to_next_cell": 2
      },
      "outputs": [],
      "source": [
        "import { tool } from \"@langchain/core/tools\";\n",
        "\n",
        "const Response = z.object({\n",
        "  temperature: z.number().describe(\"the temperature\"),\n",
        "  other_notes: z.string().describe(\"any other notes about the weather\"),\n",
        "});\n",
        "\n",
        "const finalResponseTool = tool(async () => \"mocked value\", {\n",
        "  name: \"Response\",\n",
        "  description: \"Always respond to the user using this tool.\",\n",
        "  schema: Response\n",
        "})\n",
        "\n",
        "const boundModel = model.bindTools([\n",
        "  ...tools,\n",
        "  finalResponseTool\n",
        "]);"
      ]
    },
    {
      "cell_type": "markdown",
      "id": "6e082c02",
      "metadata": {},
      "source": [
        "## Define the nodes\n"
      ]
    },
    {
      "cell_type": "code",
      "execution_count": 8,
      "id": "960ef633",
      "metadata": {
        "lines_to_next_cell": 2
      },
      "outputs": [],
      "source": [
        "import { AIMessage } from \"@langchain/core/messages\";\n",
        "import { RunnableConfig } from \"@langchain/core/runnables\";\n",
        "\n",
        "// Define the function that determines whether to continue or not\n",
        "const route = (state: typeof GraphState.State) => {\n",
        "  const { messages } = state;\n",
        "  const lastMessage = messages[messages.length - 1] as AIMessage;\n",
        "  // If there is no function call, then we finish\n",
        "  if (!lastMessage.tool_calls || lastMessage.tool_calls.length === 0) {\n",
        "    return \"__end__\";\n",
        "  }\n",
        "  // Otherwise if there is, we need to check what type of function call it is\n",
        "  if (lastMessage.tool_calls[0].name === \"Response\") {\n",
        "    return \"__end__\";\n",
        "  }\n",
        "  // Otherwise we continue\n",
        "  return \"tools\";\n",
        "};\n",
        "\n",
        "// Define the function that calls the model\n",
        "const callModel = async (\n",
        "  state: typeof GraphState.State,\n",
        "  config?: RunnableConfig,\n",
        ") => {\n",
        "  const { messages } = state;\n",
        "  const response = await boundModel.invoke(messages, config);\n",
        "  // We return an object, because this will get added to the existing list\n",
        "  return { messages: [response] };\n",
        "};"
      ]
    },
    {
      "cell_type": "markdown",
      "id": "3d09c2d0",
      "metadata": {},
      "source": [
        "## Define the graph"
      ]
    },
    {
      "cell_type": "code",
      "execution_count": 9,
      "id": "51179012",
      "metadata": {},
      "outputs": [],
      "source": [
        "import { StateGraph } from \"@langchain/langgraph\";\n",
        "\n",
        "// Define a new graph\n",
        "const workflow = new StateGraph(GraphState)\n",
        "  .addNode(\"agent\", callModel)\n",
        "  .addNode(\"tools\", toolNode)\n",
        "  .addEdge(\"__start__\", \"agent\")\n",
        "  .addConditionalEdges(\n",
        "    // First, we define the start node. We use `agent`.\n",
        "    // This means these are the edges taken after the `agent` node is called.\n",
        "    \"agent\",\n",
        "    // Next, we pass in the function that will determine which node is called next.\n",
        "    route,\n",
        "    // We supply a map of possible response values to the conditional edge\n",
        "    // to make it possible to draw a visualization of the graph.\n",
        "    {\n",
        "      __end__: \"__end__\",\n",
        "      tools: \"tools\",\n",
        "    }\n",
        "  )\n",
        "  // We now add a normal edge from `tools` to `agent`.\n",
        "  // This means that after `tools` is called, `agent` node is called next.\n",
        "  .addEdge(\"tools\", \"agent\");\n",
        "\n",
        "// Finally, we compile it!\n",
        "// This compiles it into a LangChain Runnable,\n",
        "// meaning you can use it as you would any other runnable\n",
        "const app = workflow.compile();"
      ]
    },
    {
      "cell_type": "code",
      "execution_count": 10,
      "id": "b24e6c09",
      "metadata": {},
      "outputs": [
        {
          "data": {
            "image/png": "[encoded data removed]"
          },
          "metadata": {},
          "output_type": "display_data"
        }
      ],
      "source": [
        "import * as tslab from \"tslab\";\n",
        "\n",
        "const graph = app.getGraph();\n",
        "const image = await graph.drawMermaidPng();\n",
        "const arrayBuffer = await image.arrayBuffer();\n",
        "\n",
        "await tslab.display.png(new Uint8Array(arrayBuffer));"
      ]
    },
    {
      "cell_type": "markdown",
      "id": "ae844f61",
      "metadata": {},
      "source": [
        "## Use it!\n",
        "\n",
        "We can now use it! This now exposes the\n",
        "[same interface](https://v02.api.js.langchain.com/classes/langchain_core_runnables.Runnable.html)\n",
        "as all other LangChain runnables.\n"
      ]
    },
    {
      "cell_type": "code",
      "execution_count": 11,
      "id": "3ee8225f",
      "metadata": {},
      "outputs": [
        {
          "name": "stdout",
          "output_type": "stream",
          "text": [
            "[human]: what is the weather in sf\n",
            "\n",
            "---\n",
            "\n",
            "[ai]:  \n",
            "Tools: \n",
            "- search({\"query\":\"current weather in San Francisco\"})\n",
            "\n",
            "---\n",
            "\n",
            "[tool]: 67 degrees. Cloudy with a chance of rain.\n",
            "\n",
            "---\n",
            "\n",
            "[ai]:  \n",
            "Tools: \n",
            "- Response({\"temperature\":67,\"other_notes\":\"Cloudy with a chance of rain.\"})\n",
            "\n",
            "---\n",
            "\n"
          ]
        }
      ],
      "source": [
        "import { HumanMessage, isAIMessage } from \"@langchain/core/messages\";\n",
        "\n",
        "const prettyPrint = (message: BaseMessage) => {\n",
        "  let txt = `[${message._getType()}]: ${message.content}`;\n",
        "  if (\n",
        "    isAIMessage(message) && message?.tool_calls?.length\n",
        "  ) {\n",
        "    const tool_calls = message?.tool_calls\n",
        "      ?.map((tc) => `- ${tc.name}(${JSON.stringify(tc.args)})`)\n",
        "      .join(\"\\n\");\n",
        "    txt += ` \\nTools: \\n${tool_calls}`;\n",
        "  }\n",
        "  console.log(txt);\n",
        "};\n",
        "\n",
        "const inputs = {\n",
        "  messages: [new HumanMessage(\"what is the weather in sf\")],\n",
        "};\n",
        "\n",
        "const stream = await app.stream(inputs, { streamMode: \"values\" });\n",
        "\n",
        "for await (const output of stream) {\n",
        "  const { messages } = output;\n",
        "  prettyPrint(messages[messages.length - 1]);\n",
        "  console.log(\"\\n---\\n\");\n",
        "}"
      ]
    },
    {
      "cell_type": "markdown",
      "id": "332a421f",
      "metadata": {},
      "source": [
        "## Partially streaming JSON\n",
        "\n",
        "If we want to stream the structured output as soon as it's available, we can use the [`.streamEvents()`](https://js.langchain.com/docs/how_to/streaming#using-stream-events) method. We'll aggregate emitted `on_chat_model_events` and inspect the name field. As soon as we detect that the model is calling the final output tool, we can start logging the relevant chunks.\n",
        "\n",
        "Here's an example:"
      ]
    },
    {
      "cell_type": "code",
      "execution_count": 12,
      "id": "c96cb38d",
      "metadata": {},
      "outputs": [
        {
          "name": "stdout",
          "output_type": "stream",
          "text": [
            "\n",
            "---\n",
            "{\"\n",
            "---\n",
            "{\"temperature\n",
            "---\n",
            "{\"temperature\":\n",
            "---\n",
            "{\"temperature\":67\n",
            "---\n",
            "{\"temperature\":67,\"\n",
            "---\n",
            "{\"temperature\":67,\"other\n",
            "---\n",
            "{\"temperature\":67,\"other_notes\n",
            "---\n",
            "{\"temperature\":67,\"other_notes\":\"\n",
            "---\n",
            "{\"temperature\":67,\"other_notes\":\"Cloud\n",
            "---\n",
            "{\"temperature\":67,\"other_notes\":\"Cloudy\n",
            "---\n",
            "{\"temperature\":67,\"other_notes\":\"Cloudy with\n",
            "---\n",
            "{\"temperature\":67,\"other_notes\":\"Cloudy with a\n",
            "---\n",
            "{\"temperature\":67,\"other_notes\":\"Cloudy with a chance\n",
            "---\n",
            "{\"temperature\":67,\"other_notes\":\"Cloudy with a chance of\n",
            "---\n",
            "{\"temperature\":67,\"other_notes\":\"Cloudy with a chance of rain\n",
            "---\n",
            "{\"temperature\":67,\"other_notes\":\"Cloudy with a chance of rain.\"\n",
            "---\n",
            "{\"temperature\":67,\"other_notes\":\"Cloudy with a chance of rain.\"}\n",
            "---\n",
            "{\"temperature\":67,\"other_notes\":\"Cloudy with a chance of rain.\"}\n",
            "---\n",
            "[\n",
            "  {\n",
            "    name: 'Response',\n",
            "    args: { temperature: 67, other_notes: 'Cloudy with a chance of rain.' },\n",
            "    id: 'call_oOhNx2SdeelXn6tbenokDtkO',\n",
            "    type: 'tool_call'\n",
            "  }\n",
            "]\n"
          ]
        }
      ],
      "source": [
        "import { concat } from \"@langchain/core/utils/stream\";\n",
        "\n",
        "const eventStream = await app.streamEvents(inputs, { version: \"v2\" });\n",
        "\n",
        "let aggregatedChunk;\n",
        "for await (const { event, data } of eventStream) {\n",
        "  if (event === \"on_chat_model_stream\") {\n",
        "    const { chunk } = data;\n",
        "    if (aggregatedChunk === undefined) {\n",
        "      aggregatedChunk = chunk;\n",
        "    } else {\n",
        "      aggregatedChunk = concat(aggregatedChunk, chunk);\n",
        "    }\n",
        "    const currentToolCalls = aggregatedChunk.tool_calls;\n",
        "    if (\n",
        "      currentToolCalls.length === 0 ||\n",
        "      currentToolCalls[0].name === \"\" ||\n",
        "      !finalResponseTool.name.startsWith(currentToolCalls[0].name)\n",
        "    ) {\n",
        "      // No tool calls or a different tool call in the message,\n",
        "      // so drop what's currently aggregated and start over\n",
        "      aggregatedChunk = undefined;\n",
        "    } else if (currentToolCalls[0].name === finalResponseTool.name) {\n",
        "      // Now we're sure that this event is part of the final output!\n",
        "      // Log the partially aggregated args.\n",
        "      console.log(aggregatedChunk.tool_call_chunks[0].args);\n",
        "\n",
        "      // You can also log the raw args instead:\n",
        "      // console.log(chunk.tool_call_chunks);\n",
        "\n",
        "      console.log(\"---\");\n",
        "    }\n",
        "  }\n",
        "}\n",
        "// Final aggregated tool call\n",
        "console.log(aggregatedChunk.tool_calls);"
      ]
    }
  ],
  "metadata": {
    "kernelspec": {
      "display_name": "TypeScript",
      "language": "typescript",
      "name": "tslab"
    },
    "language_info": {
      "codemirror_mode": {
        "mode": "typescript",
        "name": "javascript",
        "typescript": true
      },
      "file_extension": ".ts",
      "mimetype": "text/typescript",
      "name": "typescript",
      "version": "3.7.2"
    }
  },
  "nbformat": 4,
  "nbformat_minor": 5
}

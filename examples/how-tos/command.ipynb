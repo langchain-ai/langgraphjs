{
 "cells": [
  {
   "cell_type": "markdown",
   "id": "d33ecddc-6818-41a3-9d0d-b1b1cbcd286d",
   "metadata": {},
   "source": [
    "# How to combine control flow and state updates with Command"
   ]
  },
  {
   "cell_type": "markdown",
   "id": "7c0a8d03-80b4-47fd-9b17-e26aa9b081f3",
   "metadata": {},
   "source": [
    "<div class=\"admonition tip\">\n",
    "    <p class=\"admonition-title\">Prerequisites</p>\n",
    "    <p>\n",
    "      This guide assumes familiarity with the following:\n",
    "      <ul>\n",
    "        <li><a href=\"/langgraphjs/concepts/low_level/#state\">State</a></li>\n",
    "        <li><a href=\"/langgraphjs/concepts/low_level/#nodes\">Nodes</a></li>\n",
    "        <li><a href=\"/langgraphjs/concepts/low_level/#edges\">Edges</a></li>\n",
    "        <li><a href=\"/langgraphjs/concepts/low_level/#command\">Command</a></li>\n",
    "      </ul>\n",
    "      <p>\n",
    "        This functionality also requires <code>@langchain/langgraph>=0.2.29</code>.\n",
    "      </p>\n",
    "    </p>\n",
    "</div>\n",
    "\n",
    "It can be useful to combine control flow (edges) and state updates (nodes). For example, you might want to BOTH perform state updates AND decide which node to go to next in the SAME node. LangGraph provides a way to do so by returning a `Command` object from node functions:\n",
    "\n",
    "```ts\n",
    "const myNode = (state: typeof StateAnnotation.State) => {\n",
    "  return new Command({\n",
    "    // state update\n",
    "    update: {\n",
    "      foo: \"bar\",\n",
    "    },\n",
    "    // control flow\n",
    "    goto: \"myOtherNode\",\n",
    "  });\n",
    "};\n",
    "```\n",
    "\n",
    "If you are using [subgraphs](/langgraphjs/concepts/low_level/#subgraphs), you might want to navigate from a node a subgraph to a different subgraph (i.e. a different node in the parent graph). To do so, you can specify `graph: Command.PARENT` in Command:\n",
    "\n",
    "```ts\n",
    "const myNode = (state: typeof StateAnnotation.State) => {\n",
    "  return new Command({\n",
    "    update: { foo: \"bar\" },\n",
    "    goto: \"other_subgraph\", // where `other_subgraph` is a node in the parent graph\n",
    "    graph: Command.PARENT,\n",
    "  });\n",
    "};\n",
    "```\n",
    "\n",
    "This guide shows how you can use `Command` to add dynamic control flow in your LangGraph app."
   ]
  },
  {
   "cell_type": "markdown",
   "id": "d1c3f866-8c20-40c7-a201-35f6c9f4b680",
   "metadata": {},
   "source": [
    "## Setup\n",
    "\n",
    "First, let's install the required packages:\n",
    "\n",
    "```bash\n",
    "yarn add @langchain/langgraph @langchain/core\n",
    "```"
   ]
  },
  {
   "cell_type": "markdown",
   "id": "0f131c92-4744-431c-a89c-7c382a15b79f",
   "metadata": {},
   "source": [
    "<div class=\"admonition tip\">\n",
    "    <p class=\"admonition-title\">Set up <a href=\"https://smith.langchain.com\">LangSmith</a> for LangGraph development</p>\n",
    "    <p style=\"padding-top: 5px;\">\n",
    "        Sign up for LangSmith to quickly spot issues and improve the performance of your LangGraph projects. LangSmith lets you use trace data to debug, test, and monitor your LLM apps built with LangGraph — read more about how to get started <a href=\"https://docs.smith.langchain.com\">here</a>. \n",
    "    </p>\n",
    "</div>"
   ]
  },
  {
   "cell_type": "markdown",
   "id": "f22c228f-6882-4757-8e7e-1ca51328af4a",
   "metadata": {},
   "source": [
    "Let's create a simple graph with 3 nodes: A, B and C. We will first execute node A, and then decide whether to go to Node B or Node C next based on the output of node A."
   ]
  },
  {
   "cell_type": "markdown",
   "id": "6a08d957-b3d2-4538-bf4a-68ef90a51b98",
   "metadata": {},
   "source": [
    "## Define graph"
   ]
  },
  {
   "cell_type": "code",
   "execution_count": 1,
   "id": "4539b81b-09e9-4660-ac55-1b1775e13892",
   "metadata": {},
   "outputs": [],
   "source": [
    "import { Annotation, Command } from \"@langchain/langgraph\";\n",
    "\n",
    "// Define graph state\n",
    "const StateAnnotation = Annotation.Root({\n",
    "  foo: Annotation<string>,\n",
    "});\n",
    "\n",
    "// Define the nodes\n",
    "const nodeA = async (_state: typeof StateAnnotation.State) => {\n",
    "  console.log(\"Called A\");\n",
    "  // this is a replacement for a real conditional edge function\n",
    "  const goto = Math.random() > .5 ? \"nodeB\" : \"nodeC\";\n",
    "  // note how Command allows you to BOTH update the graph state AND route to the next node\n",
    "  return new Command({\n",
    "    // this is the state update\n",
    "    update: {\n",
    "      foo: \"a\",\n",
    "    },\n",
    "    // this is a replacement for an edge\n",
    "    goto,\n",
    "  });\n",
    "};\n",
    "\n",
    "// Nodes B and C are unchanged\n",
    "const nodeB = async (state: typeof StateAnnotation.State) => {\n",
    "  console.log(\"Called B\");\n",
    "  return {\n",
    "    foo: state.foo + \"|b\",\n",
    "  };\n",
    "}\n",
    "\n",
    "const nodeC = async (state: typeof StateAnnotation.State) => {\n",
    "  console.log(\"Called C\");\n",
    "  return {\n",
    "    foo: state.foo + \"|c\",\n",
    "  };\n",
    "}"
   ]
  },
  {
   "cell_type": "markdown",
   "id": "badc25eb-4876-482e-bb10-d763023cdaad",
   "metadata": {},
   "source": [
    "We can now create the `StateGraph` with the above nodes. Notice that the graph doesn't have [conditional edges](/langgraphjs/concepts/low_level#conditional-edges) for routing! This is because control flow is defined with `Command` inside `nodeA`."
   ]
  },
  {
   "cell_type": "code",
   "execution_count": 2,
   "id": "d6711650-4380-4551-a007-2805f49ab2d8",
   "metadata": {},
   "outputs": [],
   "source": [
    "import { StateGraph } from \"@langchain/langgraph\";\n",
    "\n",
    "// NOTE: there are no edges between nodes A, B and C!\n",
    "const graph = new StateGraph(StateAnnotation)\n",
    "  .addNode(\"nodeA\", nodeA, {\n",
    "    ends: [\"nodeB\", \"nodeC\"],\n",
    "  })\n",
    "  .addNode(\"nodeB\", nodeB)\n",
    "  .addNode(\"nodeC\", nodeC)\n",
    "  .addEdge(\"__start__\", \"nodeA\")\n",
    "  .compile();"
   ]
  },
  {
   "cell_type": "markdown",
   "id": "0ab344c5-d634-4d7d-b3b4-edf4fa875311",
   "metadata": {},
   "source": [
    "<div class=\"admonition tip\">\n",
    "    <p class=\"admonition-title\">Important</p>\n",
    "    <p>\n",
    "      You might have noticed that we add an <code>ends</code> field as an extra param to the node where we use <code>Command</code>. This is necessary for graph compilation and validation, and tells LangGraph that <code>nodeA</code> can navigate to <code>nodeB</code> and <code>nodeC</code>.\n",
    "    </p>\n",
    "</div>"
   ]
  },
  {
   "cell_type": "code",
   "execution_count": 3,
   "id": "eeb810e5-8822-4c09-8d53-c55cd0f5d42e",
   "metadata": {},
   "outputs": [
    {
     "data": {
      "image/png": "[encoded data removed]"
     },
     "metadata": {},
     "output_type": "display_data"
    }
   ],
   "source": [
    "import * as tslab from \"tslab\";\n",
    "\n",
    "const drawableGraph = await graph.getGraphAsync();\n",
    "const image = await drawableGraph.drawMermaidPng();\n",
    "const arrayBuffer = await image.arrayBuffer();\n",
    "\n",
    "await tslab.display.png(new Uint8Array(arrayBuffer));"
   ]
  },
  {
   "cell_type": "markdown",
   "id": "58fb6c32-e6fb-4c94-8182-e351ed52a45d",
   "metadata": {},
   "source": [
    "If we run the graph multiple times, we'd see it take different paths (A -> B or A -> C) based on the random choice in node A."
   ]
  },
  {
   "cell_type": "code",
   "execution_count": 4,
   "id": "d88a5d9b-ee08-4ed4-9c65-6e868210bfac",
   "metadata": {},
   "outputs": [
    {
     "name": "stdout",
     "output_type": "stream",
     "text": [
      "Called A\n",
      "Called B\n",
      "{ foo: 'a|b' }\n"
     ]
    }
   ],
   "source": [
    "await graph.invoke({ foo: \"\" });"
   ]
  },
  {
   "cell_type": "markdown",
   "id": "01a73d81-4e12-4378-b07d-1c5bf0b2ed71",
   "metadata": {},
   "source": [
    "## Navigating to a node in a parent graph\n",
    "\n",
    "Now let's demonstrate how you can navigate from inside a subgraph to a different node in a parent graph. We'll do so by changing `node_a` in the above example into a single-node graph that we'll add as a subgraph to our parent graph."
   ]
  },
  {
   "cell_type": "code",
   "execution_count": 9,
   "id": "c459cd94-457e-420e-a227-80b33d95def9",
   "metadata": {},
   "outputs": [
    {
     "name": "stdout",
     "output_type": "stream",
     "text": [
      "Called A\n",
      "Called C\n",
      "{ foo: 'a|c' }\n"
     ]
    }
   ],
   "source": [
    "// Define the nodes\n",
    "const nodeASubgraph = async (_state: typeof StateAnnotation.State) => {\n",
    "  console.log(\"Called A\");\n",
    "  // this is a replacement for a real conditional edge function\n",
    "  const goto = Math.random() > .5 ? \"nodeB\" : \"nodeC\";\n",
    "  // note how Command allows you to BOTH update the graph state AND route to the next node\n",
    "  return new Command({\n",
    "    update: {\n",
    "      foo: \"a\",\n",
    "    },\n",
    "    goto,\n",
    "    // this tells LangGraph to navigate to node_b or node_c in the parent graph\n",
    "    // NOTE: this will navigate to the closest parent graph relative to the subgraph\n",
    "    graph: Command.PARENT,\n",
    "  });\n",
    "};\n",
    "\n",
    "const subgraph = new StateGraph(StateAnnotation)\n",
    "  .addNode(\"nodeA\", nodeASubgraph)\n",
    "  .addEdge(\"__start__\", \"nodeA\")\n",
    "  .compile();\n",
    "\n",
    "const parentGraph= new StateGraph(StateAnnotation)\n",
    "  .addNode(\"subgraph\", subgraph, { ends: [\"nodeB\", \"nodeC\"] })\n",
    "  .addNode(\"nodeB\", nodeB)\n",
    "  .addNode(\"nodeC\", nodeC)\n",
    "  .addEdge(\"__start__\", \"subgraph\")\n",
    "  .compile();\n",
    "  \n",
    "await parentGraph.invoke({ foo: \"\" });"
   ]
  }
 ],
 "metadata": {
  "kernelspec": {
   "display_name": "TypeScript",
   "language": "typescript",
   "name": "tslab"
  },
  "language_info": {
   "codemirror_mode": {
    "mode": "typescript",
    "name": "javascript",
    "typescript": true
   },
   "file_extension": ".ts",
   "mimetype": "text/typescript",
   "name": "typescript",
   "version": "3.7.2"
  }
 },
 "nbformat": 4,
 "nbformat_minor": 5
}

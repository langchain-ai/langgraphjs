{
 "cells": [
  {
   "cell_type": "markdown",
   "metadata": {},
   "source": [
    "# How to create and control loops\n",
    "\n",
    "<div class=\"admonition tip\">\n",
    "    <p class=\"admonition-title\">Prerequisites</p>\n",
    "    <p>\n",
    "        This guide assumes familiarity with the following:\n",
    "        <ul>\n",
    "            <li>\n",
    "                <a href=\"/langgraphjs/concepts/low_level/#graphs\">\n",
    "                    Graphs\n",
    "                </a>\n",
    "            </li>\n",
    "            <li>\n",
    "                <a href=\"/langgraphjs/concepts/low_level/#recursion-limit\">\n",
    "                    Recursion Limit\n",
    "                </a>\n",
    "            </li>\n",
    "            <li>\n",
    "                <a href=\"/langgraphjs/concepts/low_level/#nodes\">\n",
    "                    Nodes\n",
    "                </a>\n",
    "            </li>\n",
    "        </ul>\n",
    "    </p>\n",
    "</div> \n",
    "\n",
    "\n",
    "When creating a graph with a loop, we require a mechanism for terminating execution. This is most commonly done by adding a [conditional edge](/langgraphjs/concepts/low_level/#conditional-edges) that routes to the END node once we reach some termination condition.\n",
    "\n",
    "You can also set the graph recursion limit when invoking or streaming the graph. The recursion limit sets the number of [supersteps](/langgraphjs/concepts/low_level/#graphs) that the graph is allowed to execute before it raises an error. Read more about the concept of recursion limits [here](/langgraphjs/concepts/low_level/#recursion-limit). \n",
    "\n",
    "Let's consider a simple graph with a loop to better understand how these mechanisms work.\n",
    "\n",
    "## Summary\n",
    "\n",
    "When creating a loop, you can include a conditional edge that specifies a termination condition:\n",
    "\n",
    "```ts\n",
    "const route = async function (state: typeof StateAnnotation.State) {\n",
    "  if (terminationCondition(state)) {\n",
    "    return \"__END__\";\n",
    "  } else {\n",
    "    return \"a\";\n",
    "  }\n",
    "}\n",
    "\n",
    "const graph = StateGraph(State)\n",
    "  .addNode(a)\n",
    "  .addNode(b)\n",
    "  .addConditionalEdges(\"a\", route)\n",
    "  .addEdge(\"b\", \"a\")\n",
    "  .compile();\n",
    "```\n",
    "\n",
    "To control the recursion limit, specify `\"recursionLimit\"` in the config. This will raise a `GraphRecursionError`, which you can catch and handle:\n",
    "\n",
    "```ts\n",
    "import { GraphRecursionError } from \"@langchain/langgraph\";\n",
    "\n",
    "try {\n",
    "  await graph.invoke(inputs, { recursionLimit: 3 });\n",
    "} catch (error) {\n",
    "  if (error instanceof GraphRecursionError) {\n",
    "    console.log(\"Recursion Error\");\n",
    "  } else {\n",
    "    throw error;\n",
    "  }\n",
    "}\n",
    "```\n",
    "\n",
    "## Setup\n",
    "\n",
    "First, let's install the required packages\n",
    "\n",
    "```bash\n",
    "npm install @langchain/langgraph @langchain/core\n",
    "```"
   ]
  },
  {
   "cell_type": "markdown",
   "metadata": {},
   "source": [
    "<div class=\"admonition tip\">\n",
    "    <p class=\"admonition-title\">Set up <a href=\"https://smith.langchain.com\">LangSmith</a> for LangGraph development</p>\n",
    "    <p style=\"padding-top: 5px;\">\n",
    "        Sign up for LangSmith to quickly spot issues and improve the performance of your LangGraph projects. LangSmith lets you use trace data to debug, test, and monitor your LLM apps built with LangGraph — read more about how to get started <a href=\"https://docs.smith.langchain.com\">here</a>. \n",
    "    </p>\n",
    "</div>"
   ]
  },
  {
   "cell_type": "markdown",
   "metadata": {},
   "source": [
    "## Define the graph\n",
    "\n",
    "Let's define a graph with a simple loop. Note that we use a conditional edge to implement a termination condition."
   ]
  },
  {
   "cell_type": "code",
   "execution_count": 3,
   "metadata": {},
   "outputs": [],
   "source": [
    "import { StateGraph, Annotation } from \"@langchain/langgraph\";\n",
    "\n",
    "// Define the state with a reducer\n",
    "const StateAnnotation = Annotation.Root({\n",
    "  aggregate: Annotation<string[]>({\n",
    "    reducer: (a, b) => a.concat(b),\n",
    "    default: () => [],\n",
    "  }),\n",
    "});\n",
    "\n",
    "// Define nodes\n",
    "const a = async function (state: typeof StateAnnotation.State) {\n",
    "  console.log(`Node A sees ${state.aggregate}`);\n",
    "  return { aggregate: [\"A\"] };\n",
    "}\n",
    "\n",
    "const b = async function (state: typeof StateAnnotation.State) {\n",
    "  console.log(`Node B sees ${state.aggregate}`);\n",
    "  return { aggregate: [\"B\"] };\n",
    "}\n",
    "\n",
    "// Define edges\n",
    "const route = async function (state: typeof StateAnnotation.State) {\n",
    "  if (state.aggregate.length < 7) {\n",
    "    return \"b\";\n",
    "  } else {\n",
    "    return \"__end__\";\n",
    "  }\n",
    "}\n",
    "\n",
    "\n",
    "// Define the graph\n",
    "const graph = new StateGraph(StateAnnotation)\n",
    "  .addNode(\"a\", a)\n",
    "  .addNode(\"b\", b)\n",
    "  .addEdge(\"__start__\", \"a\")\n",
    "  .addConditionalEdges(\"a\", route)\n",
    "  .addEdge(\"b\", \"a\")\n",
    "  .compile();"
   ]
  },
  {
   "cell_type": "code",
   "execution_count": 4,
   "metadata": {},
   "outputs": [
    {
     "data": {
      "image/png": "[encoded data removed]"
     },
     "metadata": {},
     "output_type": "display_data"
    }
   ],
   "source": [
    "import * as tslab from \"tslab\";\n",
    "\n",
    "const drawableGraph = graph.getGraph();\n",
    "const image = await drawableGraph.drawMermaidPng();\n",
    "const arrayBuffer = await image.arrayBuffer();\n",
    "\n",
    "await tslab.display.png(new Uint8Array(arrayBuffer));"
   ]
  },
  {
   "cell_type": "markdown",
   "metadata": {},
   "source": [
    "This architecture is similar to a [ReAct agent](/langgraphjs/how-tos/#prebuilt-react-agent) in which node `\"a\"` is a tool-calling model, and node `\"b\"` represents the tools.\n",
    "\n",
    "In our `route` conditional edge, we specify that we should end after the `\"aggregate\"` list in the state passes a threshold length.\n",
    "\n",
    "Invoking the graph, we see that we alternate between nodes `\"a\"` and `\"b\"` before terminating once we reach the termination condition."
   ]
  },
  {
   "cell_type": "code",
   "execution_count": 5,
   "metadata": {},
   "outputs": [
    {
     "name": "stdout",
     "output_type": "stream",
     "text": [
      "Node A sees \n",
      "Node B sees A\n",
      "Node A sees A,B\n",
      "Node B sees A,B,A\n",
      "Node A sees A,B,A,B\n",
      "Node B sees A,B,A,B,A\n",
      "Node A sees A,B,A,B,A,B\n",
      "{\n",
      "  aggregate: [\n",
      "    'A', 'B', 'A',\n",
      "    'B', 'A', 'B',\n",
      "    'A'\n",
      "  ]\n",
      "}\n"
     ]
    }
   ],
   "source": [
    "await graph.invoke({ aggregate: [] });"
   ]
  },
  {
   "cell_type": "markdown",
   "metadata": {},
   "source": [
    "## Impose a recursion limit\n",
    "\n",
    "In some applications, we may not have a guarantee that we will reach a given termination condition. In these cases, we can set the graph's [recursion limit](/langgraphjs/concepts/low_level/#recursion-limit). This will raise a `GraphRecursionError` after a given number of [supersteps](/langgraphjs/concepts/low_level/#graphs). We can then catch and handle this exception:"
   ]
  },
  {
   "cell_type": "code",
   "execution_count": null,
   "metadata": {},
   "outputs": [
    {
     "name": "stdout",
     "output_type": "stream",
     "text": [
      "Node A sees \n",
      "Node B sees A\n",
      "Node A sees A,B\n",
      "Node B sees A,B,A\n",
      "Recursion Error\n"
     ]
    }
   ],
   "source": [
    "import { GraphRecursionError } from \"@langchain/langgraph\";\n",
    "\n",
    "try {\n",
    "  await graph.invoke({ aggregate: [] }, { recursionLimit: 4 });\n",
    "} catch (error) {\n",
    "  if (error instanceof GraphRecursionError) {\n",
    "    console.log(\"Recursion Error\");\n",
    "  } else {\n",
    "    throw error;\n",
    "  }\n",
    "}"
   ]
  },
  {
   "cell_type": "markdown",
   "metadata": {},
   "source": [
    "Note that this time we terminate after the fourth step."
   ]
  },
  {
   "cell_type": "markdown",
   "metadata": {},
   "source": [
    "## Loops with branches\n",
    "\n",
    "To better understand how the recursion limit works, let's consider a more complex example. Below we implement a loop, but one step fans out into two nodes:"
   ]
  },
  {
   "cell_type": "code",
   "execution_count": 7,
   "metadata": {},
   "outputs": [],
   "source": [
    "import { StateGraph, Annotation } from \"@langchain/langgraph\";\n",
    "\n",
    "// Define the state with a reducer\n",
    "const StateAnnotationWithLoops = Annotation.Root({\n",
    "  aggregate: Annotation<string[]>({\n",
    "    reducer: (a, b) => a.concat(b),\n",
    "    default: () => [],\n",
    "  }),\n",
    "});\n",
    "\n",
    "// Define nodes\n",
    "const nodeA = async function (state: typeof StateAnnotationWithLoops.State) {\n",
    "  console.log(`Node A sees ${state.aggregate}`);\n",
    "  return { aggregate: [\"A\"] };\n",
    "}\n",
    "\n",
    "const nodeB = async function (state: typeof StateAnnotationWithLoops.State) {\n",
    "  console.log(`Node B sees ${state.aggregate}`);\n",
    "  return { aggregate: [\"B\"] };\n",
    "}\n",
    "\n",
    "const nodeC = async function (state: typeof StateAnnotationWithLoops.State) {\n",
    "  console.log(`Node C sees ${state.aggregate}`);\n",
    "  return { aggregate: [\"C\"] };\n",
    "}\n",
    "\n",
    "const nodeD = async function (state: typeof StateAnnotationWithLoops.State) {\n",
    "  console.log(`Node D sees ${state.aggregate}`);\n",
    "  return { aggregate: [\"D\"] };\n",
    "}\n",
    "\n",
    "// Define edges\n",
    "const loopRouter = async function (state: typeof StateAnnotationWithLoops.State) {\n",
    "  if (state.aggregate.length < 7) {\n",
    "    return \"b\";\n",
    "  } else {\n",
    "    return \"__end__\";\n",
    "  }\n",
    "}\n",
    "\n",
    "// Define the graph\n",
    "const graphWithLoops = new StateGraph(StateAnnotationWithLoops)\n",
    "  .addNode(\"a\", nodeA)\n",
    "  .addNode(\"b\", nodeB)\n",
    "  .addNode(\"c\", nodeC)\n",
    "  .addNode(\"d\", nodeD)\n",
    "  .addEdge(\"__start__\", \"a\")\n",
    "  .addConditionalEdges(\"a\", loopRouter)\n",
    "  .addEdge(\"b\", \"c\")\n",
    "  .addEdge(\"b\", \"d\")\n",
    "  .addEdge([\"c\", \"d\"], \"a\")\n",
    "  .compile();"
   ]
  },
  {
   "cell_type": "code",
   "execution_count": 8,
   "metadata": {},
   "outputs": [
    {
     "data": {
      "image/png": "[encoded data removed]"
     },
     "metadata": {},
     "output_type": "display_data"
    }
   ],
   "source": [
    "import * as tslab from \"tslab\";\n",
    "\n",
    "const drawableGraphWithLoops = graphWithLoops.getGraph();\n",
    "const imageWithLoops = await drawableGraphWithLoops.drawMermaidPng();\n",
    "const arrayBufferWithLoops = await imageWithLoops.arrayBuffer();\n",
    "\n",
    "await tslab.display.png(new Uint8Array(arrayBufferWithLoops));"
   ]
  },
  {
   "cell_type": "markdown",
   "metadata": {},
   "source": [
    "This graph looks complex, but can be conceptualized as loop of [supersteps](../../concepts/low_level/#graphs):\n",
    "\n",
    "1. Node A\n",
    "2. Node B\n",
    "3. Nodes C and D\n",
    "4. Node A\n",
    "5. ...\n",
    "\n",
    "We have a loop of four supersteps, where nodes C and D are executed concurrently.\n",
    "\n",
    "Invoking the graph as before, we see that we complete two full \"laps\" before hitting the termination condition:"
   ]
  },
  {
   "cell_type": "code",
   "execution_count": 9,
   "metadata": {},
   "outputs": [
    {
     "name": "stdout",
     "output_type": "stream",
     "text": [
      "Node A sees \n",
      "Node B sees A\n",
      "Node C sees A,B\n",
      "Node D sees A,B\n",
      "Node A sees A,B,C,D\n",
      "Node B sees A,B,C,D,A\n",
      "Node C sees A,B,C,D,A,B\n",
      "Node D sees A,B,C,D,A,B\n",
      "Node A sees A,B,C,D,A,B,C,D\n",
      "{\n",
      "  aggregate: [\n",
      "    'A', 'B', 'C',\n",
      "    'D', 'A', 'B',\n",
      "    'C', 'D', 'A'\n",
      "  ]\n",
      "}\n"
     ]
    }
   ],
   "source": [
    "await graphWithLoops.invoke({ aggregate: [] })"
   ]
  },
  {
   "cell_type": "markdown",
   "metadata": {},
   "source": [
    "However, if we set the recursion limit to four, we only complete one lap because each lap is four supersteps:"
   ]
  },
  {
   "cell_type": "code",
   "execution_count": 10,
   "metadata": {},
   "outputs": [
    {
     "name": "stdout",
     "output_type": "stream",
     "text": [
      "Node A sees \n",
      "Node B sees A\n",
      "Node C sees A,B\n",
      "Node D sees A,B\n",
      "Node A sees A,B,C,D\n",
      "Recursion Error\n"
     ]
    }
   ],
   "source": [
    "import { GraphRecursionError } from \"@langchain/langgraph\";\n",
    "\n",
    "try {\n",
    "  await graphWithLoops.invoke({ aggregate: [] }, { recursionLimit: 4 });\n",
    "} catch (error) {\n",
    "  if (error instanceof GraphRecursionError) {\n",
    "    console.log(\"Recursion Error\");\n",
    "  } else {\n",
    "    throw error;\n",
    "  }\n",
    "}"
   ]
  }
 ],
 "metadata": {
  "kernelspec": {
   "display_name": "TypeScript",
   "language": "typescript",
   "name": "tslab"
  },
  "language_info": {
   "codemirror_mode": {
    "mode": "typescript",
    "name": "javascript",
    "typescript": true
   },
   "file_extension": ".ts",
   "mimetype": "text/typescript",
   "name": "typescript",
   "version": "3.7.2"
  }
 },
 "nbformat": 4,
 "nbformat_minor": 4
}

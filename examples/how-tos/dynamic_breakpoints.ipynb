{
 "cells": [
  {
   "cell_type": "markdown",
   "id": "ee54cde3-7e4d-43f4-b921-e7141ea0f19e",
   "metadata": {},
   "source": [
    "# How to add dynamic breakpoints\n",
    "\n",
    "!!! note\n",
    "    For **human-in-the-loop** workflows use the new [`interrupt()`](/langgraphjs/reference/functions/langgraph.interrupt-1.html) function for **human-in-the-loop** workflows. Please review the [Human-in-the-loop conceptual guide](/langgraphjs/concepts/human_in_the_loop) for more information about design patterns with `interrupt`.\n",
    "\n",
    "!!! tip \"Prerequisites\"\n",
    "    This guide assumes familiarity with the following concepts:\n",
    "\n",
    "    * [Breakpoints](/langgraphjs/concepts/breakpoints)\n",
    "    * [LangGraph Glossary](/langgraphjs/concepts/low_level)"
   ]
  },
  {
   "cell_type": "markdown",
   "id": "607849c6-4b8c-4e06-ad9c-758bb5a08e86",
   "metadata": {},
   "source": [
    "Human-in-the-loop (HIL) interactions are crucial for [agentic systems](https://langchain-ai.github.io/langgraphjs/concepts/agentic_concepts/#human-in-the-loop). [Breakpoints](https://langchain-ai.github.io/langgraphjs/concepts/low_level/#breakpoints) are a common HIL interaction pattern, allowing the graph to stop at specific steps and seek human approval before proceeding (e.g., for sensitive actions).\n",
    "\n",
    "In LangGraph you can add breakpoints before / after a node is executed. But oftentimes it may be helpful to **dynamically** interrupt the graph from inside a given node based on some condition. When doing so, it may also be helpful to include information about **why** that interrupt was raised.\n",
    "\n",
    "This guide shows how you can dynamically interrupt the graph using `NodeInterupt` -- a special exception that can be raised from inside a node. Let's see it in action!"
   ]
  },
  {
   "cell_type": "markdown",
   "id": "e9aa244f-1dd9-450e-9526-b1a28b30f84f",
   "metadata": {},
   "source": [
    "### Define the graph"
   ]
  },
  {
   "cell_type": "code",
   "execution_count": 1,
   "id": "9a14c8b2-5c25-4201-93ea-e5358ee99bcb",
   "metadata": {},
   "outputs": [],
   "source": [
    "import {\n",
    "  Annotation,\n",
    "  MemorySaver,\n",
    "  NodeInterrupt,\n",
    "  StateGraph,\n",
    "} from \"@langchain/langgraph\";\n",
    "\n",
    "const StateAnnotation = Annotation.Root({\n",
    "  input: Annotation<string>,\n",
    "});\n",
    "\n",
    "const step1 = async (state: typeof StateAnnotation.State) => {\n",
    "  console.log(\"---Step 1---\");\n",
    "  return state;\n",
    "};\n",
    "\n",
    "const step2 = async (state: typeof StateAnnotation.State) => {\n",
    "  // Let's optionally raise a NodeInterrupt\n",
    "  // if the length of the input is longer than 5 characters\n",
    "  if (state.input?.length > 5) {\n",
    "    throw new NodeInterrupt(`Received input that is longer than 5 characters: ${state.input}`);\n",
    "  }\n",
    "  console.log(\"---Step 2---\");\n",
    "  return state;\n",
    "};\n",
    "\n",
    "const step3 = async (state: typeof StateAnnotation.State) => {\n",
    "  console.log(\"---Step 3---\");\n",
    "  return state;\n",
    "};\n",
    "\n",
    "const checkpointer = new MemorySaver();\n",
    "\n",
    "const graph = new StateGraph(StateAnnotation)\n",
    "  .addNode(\"step1\", step1)\n",
    "  .addNode(\"step2\", step2)\n",
    "  .addNode(\"step3\", step3)\n",
    "  .addEdge(\"__start__\", \"step1\")\n",
    "  .addEdge(\"step1\", \"step2\")\n",
    "  .addEdge(\"step2\", \"step3\")\n",
    "  .addEdge(\"step3\", \"__end__\")\n",
    "  .compile({ checkpointer });"
   ]
  },
  {
   "cell_type": "code",
   "execution_count": 2,
   "id": "e6242951",
   "metadata": {},
   "outputs": [
    {
     "data": {
      "image/png": "[encoded data removed]"
     },
     "metadata": {},
     "output_type": "display_data"
    }
   ],
   "source": [
    "import * as tslab from \"tslab\";\n",
    "\n",
    "const representation = graph.getGraph();\n",
    "const image = await representation.drawMermaidPng();\n",
    "const arrayBuffer = await image.arrayBuffer();\n",
    "\n",
    "await tslab.display.png(new Uint8Array(arrayBuffer));"
   ]
  },
  {
   "cell_type": "markdown",
   "id": "ad5521e1-0e58-42c5-9282-ff96f24ee6f6",
   "metadata": {},
   "source": [
    "### Run the graph with dynamic interrupt"
   ]
  },
  {
   "cell_type": "markdown",
   "id": "83692c63-5c65-4562-9c65-5ad1935e339f",
   "metadata": {},
   "source": [
    "First, let's run the graph with an input that's <= 5 characters long. This should safely ignore the interrupt condition we defined and return the original input at the end of the graph execution."
   ]
  },
  {
   "cell_type": "code",
   "execution_count": 3,
   "id": "b2d281f1-3349-4378-8918-7665fa7a7457",
   "metadata": {},
   "outputs": [
    {
     "name": "stdout",
     "output_type": "stream",
     "text": [
      "{ input: 'hello' }\n",
      "---Step 1---\n",
      "{ input: 'hello' }\n",
      "---Step 2---\n",
      "{ input: 'hello' }\n",
      "---Step 3---\n",
      "{ input: 'hello' }\n"
     ]
    }
   ],
   "source": [
    "const initialInput = { input: \"hello\" };\n",
    "const config = {\n",
    "  configurable: {\n",
    "    thread_id: \"1\",\n",
    "  },\n",
    "  streamMode: \"values\" as const,\n",
    "};\n",
    "\n",
    "const stream = await graph.stream(initialInput, config);\n",
    "\n",
    "for await (const event of stream) {\n",
    "  console.log(event);\n",
    "}"
   ]
  },
  {
   "cell_type": "markdown",
   "id": "2b66b926-47eb-401b-b37b-d80269d7214c",
   "metadata": {},
   "source": [
    "If we inspect the graph at this point, we can see that there are no more tasks left to run and that the graph indeed finished execution."
   ]
  },
  {
   "cell_type": "code",
   "execution_count": 4,
   "id": "4eac1455-e7ef-4a32-8c14-0d5789409689",
   "metadata": {},
   "outputs": [
    {
     "name": "stdout",
     "output_type": "stream",
     "text": [
      "[]\n",
      "[]\n"
     ]
    }
   ],
   "source": [
    "const state = await graph.getState(config);\n",
    "console.log(state.next);\n",
    "console.log(state.tasks);"
   ]
  },
  {
   "attachments": {},
   "cell_type": "markdown",
   "id": "f8e03817-2135-4fb3-b881-fd6d2c378ccf",
   "metadata": {},
   "source": [
    "Now, let's run the graph with an input that's longer than 5 characters. This should trigger the dynamic interrupt we defined via raising a `NodeInterrupt` error inside the `step2` node."
   ]
  },
  {
   "cell_type": "code",
   "execution_count": 5,
   "id": "c06192ad-13a4-4d2e-8e30-f1c08578fe77",
   "metadata": {},
   "outputs": [
    {
     "name": "stdout",
     "output_type": "stream",
     "text": [
      "{ input: 'hello world' }\n",
      "---Step 1---\n",
      "{ input: 'hello world' }\n"
     ]
    }
   ],
   "source": [
    "const longInput = { input: \"hello world\" };\n",
    "const config2 = {\n",
    "  configurable: {\n",
    "    thread_id: \"2\",\n",
    "  },\n",
    "  streamMode: \"values\" as const,\n",
    "};\n",
    "\n",
    "const streamWithInterrupt = await graph.stream(longInput, config2);\n",
    "\n",
    "for await (const event of streamWithInterrupt) {\n",
    "  console.log(event);\n",
    "}"
   ]
  },
  {
   "cell_type": "markdown",
   "id": "173fd4f1-db97-44bb-a9e5-435ed042e3a3",
   "metadata": {},
   "source": [
    "We can see that the graph now stopped while executing `step2`. If we inspect the graph state at this point, we can see the information on what node is set to execute next (`step2`), as well as what node raised the interrupt (also `step2`), and additional information about the interrupt."
   ]
  },
  {
   "cell_type": "code",
   "execution_count": 6,
   "id": "2058593c-178e-4a23-a4c4-860d4a9c2198",
   "metadata": {},
   "outputs": [
    {
     "name": "stdout",
     "output_type": "stream",
     "text": [
      "[ 'step2' ]\n",
      "[\n",
      "  {\n",
      "    \"id\": \"c91a38f7-2aec-5c38-a3f0-60fba6efe73c\",\n",
      "    \"name\": \"step2\",\n",
      "    \"interrupts\": [\n",
      "      {\n",
      "        \"value\": \"Received input that is longer than 5 characters: hello world\",\n",
      "        \"when\": \"during\"\n",
      "      }\n",
      "    ]\n",
      "  }\n",
      "]\n"
     ]
    }
   ],
   "source": [
    "const state2 = await graph.getState(config2);\n",
    "console.log(state2.next);\n",
    "console.log(JSON.stringify(state2.tasks, null, 2));"
   ]
  },
  {
   "cell_type": "markdown",
   "id": "fc36d1be-ae2e-49c8-a17f-2b27be09618a",
   "metadata": {},
   "source": [
    "If we try to resume the graph from the breakpoint, we will simply interrupt again as our inputs & graph state haven't changed."
   ]
  },
  {
   "cell_type": "code",
   "execution_count": 7,
   "id": "872e7a69-9784-4f81-90c6-6b6af2fa6480",
   "metadata": {},
   "outputs": [],
   "source": [
    "// NOTE: to resume the graph from a dynamic interrupt we use the same syntax as\n",
    "// regular interrupts -- we pass null as the input\n",
    "const resumedStream = await graph.stream(null, config2);\n",
    "\n",
    "for await (const event of resumedStream) {\n",
    "  console.log(event);\n",
    "}"
   ]
  },
  {
   "cell_type": "code",
   "execution_count": 8,
   "id": "3275f899-7039-4029-8814-0bb5c33fabfe",
   "metadata": {},
   "outputs": [
    {
     "name": "stdout",
     "output_type": "stream",
     "text": [
      "[ 'step2' ]\n",
      "[\n",
      "  {\n",
      "    \"id\": \"c91a38f7-2aec-5c38-a3f0-60fba6efe73c\",\n",
      "    \"name\": \"step2\",\n",
      "    \"interrupts\": [\n",
      "      {\n",
      "        \"value\": \"Received input that is longer than 5 characters: hello world\",\n",
      "        \"when\": \"during\"\n",
      "      }\n",
      "    ]\n",
      "  }\n",
      "]\n"
     ]
    }
   ],
   "source": [
    "const state3 = await graph.getState(config2);\n",
    "console.log(state3.next);\n",
    "console.log(JSON.stringify(state2.tasks, null, 2));"
   ]
  },
  {
   "cell_type": "markdown",
   "id": "a5862dea-2af2-48cb-9889-979b6c6af6aa",
   "metadata": {},
   "source": [
    "### Update the graph state"
   ]
  },
  {
   "cell_type": "markdown",
   "id": "c8724ef6-877a-44b9-b96a-ae81efa2d9e4",
   "metadata": {},
   "source": [
    "To get around it, we can do several things. \n",
    "\n",
    "First, we could simply run the graph on a different thread with a shorter input, like we did in the beginning. Alternatively, if we want to resume the graph execution from the breakpoint, we can update the state to have an input that's shorter than 5 characters (the condition for our interrupt)."
   ]
  },
  {
   "cell_type": "code",
   "execution_count": 9,
   "id": "2ba8dc8d-b90e-45f5-92cd-2192fc66f270",
   "metadata": {},
   "outputs": [
    {
     "name": "stdout",
     "output_type": "stream",
     "text": [
      "---Step 2---\n",
      "{ input: 'short' }\n",
      "---Step 3---\n",
      "{ input: 'short' }\n",
      "[]\n",
      "{ input: 'short' }\n"
     ]
    }
   ],
   "source": [
    "// NOTE: this update will be applied as of the last successful node before the interrupt,\n",
    "// i.e. `step1`, right before the node with an interrupt\n",
    "await graph.updateState(config2, { input: \"short\" });\n",
    "\n",
    "const updatedStream = await graph.stream(null, config2);\n",
    "\n",
    "for await (const event of updatedStream) {\n",
    "  console.log(event);\n",
    "}\n",
    "\n",
    "const state4 = await graph.getState(config2);\n",
    "console.log(state4.next);\n",
    "console.log(state4.values);"
   ]
  },
  {
   "cell_type": "markdown",
   "id": "6f16980e-aef4-45c9-85eb-955568a93c5b",
   "metadata": {},
   "source": [
    "You can also update the state **as node `step2`** (interrupted node) which would skip over that node altogether"
   ]
  },
  {
   "cell_type": "code",
   "execution_count": 10,
   "id": "9a48e564-d979-4ac2-b815-c667345a9f07",
   "metadata": {},
   "outputs": [
    {
     "name": "stdout",
     "output_type": "stream",
     "text": [
      "{ input: 'hello world' }\n",
      "---Step 1---\n",
      "{ input: 'hello world' }\n"
     ]
    }
   ],
   "source": [
    "const config3 = {\n",
    "  configurable: {\n",
    "    thread_id: \"3\",\n",
    "  },\n",
    "  streamMode: \"values\" as const,\n",
    "};\n",
    "\n",
    "const skipStream = await graph.stream({ input: \"hello world\" }, config3);\n",
    "\n",
    "// Run the graph until the first interruption\n",
    "for await (const event of skipStream) {\n",
    "  console.log(event);\n",
    "}"
   ]
  },
  {
   "cell_type": "code",
   "execution_count": 11,
   "id": "17f973ab-00ce-4f16-a452-641e76625fde",
   "metadata": {},
   "outputs": [
    {
     "name": "stdout",
     "output_type": "stream",
     "text": [
      "---Step 3---\n",
      "{ input: 'hello world' }\n",
      "[]\n",
      "{ input: 'hello world' }\n"
     ]
    }
   ],
   "source": [
    "// NOTE: this update will skip the node `step2` entirely\n",
    "await graph.updateState(config3, undefined, \"step2\");\n",
    "\n",
    "// Resume the stream\n",
    "for await (const event of await graph.stream(null, config3)) {\n",
    "  console.log(event);\n",
    "}\n",
    "\n",
    "const state5 = await graph.getState(config3);\n",
    "console.log(state5.next);\n",
    "console.log(state5.values);"
   ]
  }
 ],
 "metadata": {
  "kernelspec": {
   "display_name": "TypeScript",
   "language": "typescript",
   "name": "tslab"
  },
  "language_info": {
   "codemirror_mode": {
    "mode": "typescript",
    "name": "javascript",
    "typescript": true
   },
   "file_extension": ".ts",
   "mimetype": "text/typescript",
   "name": "typescript",
   "version": "3.7.2"
  }
 },
 "nbformat": 4,
 "nbformat_minor": 5
}

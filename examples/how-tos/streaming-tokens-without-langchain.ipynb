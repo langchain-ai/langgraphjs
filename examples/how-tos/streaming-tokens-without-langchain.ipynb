{
  "cells": [
    {
      "cell_type": "markdown",
      "metadata": {},
      "source": [
        "# How to stream LLM tokens (without LangChain models)\n",
        "\n",
        "In this guide, we will stream tokens from the language model powering an agent without using LangChain chat models. We'll be using the OpenAI client library directly in a ReAct agent as an example.\n",
        "\n",
        "## Setup\n",
        "\n",
        "To get started, install the `openai` and `langgraph` packages separately:\n",
        "\n",
        "```bash\n",
        "$ npm install openai @langchain/langgraph @langchain/core\n",
        "```\n",
        "\n",
        "<div class=\"admonition tip\">\n",
        "    <p class=\"admonition-title\">Compatibility</p>\n",
        "    <p>\n",
        "        This guide requires <code>@langchain/core>=0.2.19</code>, and if you are using LangSmith, <code>langsmith>=0.1.39</code>. For help upgrading, see <a href=\"/langgraphjs/how-tos/manage-ecosystem-dependencies/\">this guide</a>.\n",
        "    </p>\n",
        "</div>\n",
        "\n",
        "You'll also need to make sure you have your OpenAI key set as `process.env.OPENAI_API_KEY`.\n",
        "\n",
        "## Defining a model and a tool schema\n",
        "\n",
        "First, initialize the OpenAI SDK and define a tool schema for the model to populate using [OpenAI's format](https://platform.openai.com/docs/api-reference/chat/create#chat-create-tools):"
      ]
    },
    {
      "cell_type": "code",
      "execution_count": 1,
      "metadata": {},
      "outputs": [],
      "source": [
        "import OpenAI from \"openai\";\n",
        "\n",
        "const openaiClient = new OpenAI({});\n",
        "\n",
        "const toolSchema: OpenAI.ChatCompletionTool = {\n",
        "  type: \"function\",\n",
        "  function: {\n",
        "    name: \"get_items\",\n",
        "    description: \"Use this tool to look up which items are in the given place.\",\n",
        "    parameters: {\n",
        "      type: \"object\",\n",
        "      properties: {\n",
        "        place: {\n",
        "          type: \"string\",\n",
        "        },\n",
        "      },\n",
        "      required: [\"place\"],\n",
        "    }\n",
        "  }\n",
        "};"
      ]
    },
    {
      "cell_type": "markdown",
      "metadata": {},
      "source": [
        "## Calling the model\n",
        "\n",
        "Now, define a method for a LangGraph node that will call the model. It will handle formatting tool calls to and from the model, as well as streaming via [custom callback events](https://js.langchain.com/docs/how_to/callbacks_custom_events).\n",
        "\n",
        "If you are using [LangSmith](https://docs.smith.langchain.com/), you can also wrap the OpenAI client for the same nice tracing you'd get with a LangChain chat model.\n",
        "\n",
        "Here's what that looks like:"
      ]
    },
    {
      "cell_type": "code",
      "execution_count": 2,
      "metadata": {},
      "outputs": [],
      "source": [
        "import { dispatchCustomEvent } from \"@langchain/core/callbacks/dispatch\";\n",
        "import { wrapOpenAI } from \"langsmith/wrappers/openai\";\n",
        "import { Annotation } from \"@langchain/langgraph\";\n",
        "\n",
        "const StateAnnotation = Annotation.Root({\n",
        "  messages: Annotation<OpenAI.ChatCompletionMessageParam[]>({\n",
        "    reducer: (x, y) => x.concat(y),\n",
        "  }),\n",
        "});\n",
        "\n",
        "// If using LangSmith, use \"wrapOpenAI\" on the whole client or\n",
        "// \"traceable\" to wrap a single method for nicer tracing:\n",
        "// https://docs.smith.langchain.com/how_to_guides/tracing/annotate_code\n",
        "const wrappedClient = wrapOpenAI(openaiClient);\n",
        "\n",
        "const callModel = async (state: typeof StateAnnotation.State) => {\n",
        "  const { messages } = state;\n",
        "  const stream = await wrappedClient.chat.completions.create({\n",
        "    messages,\n",
        "    model: \"gpt-4o-mini\",\n",
        "    tools: [toolSchema],\n",
        "    stream: true,\n",
        "  });\n",
        "  let responseContent = \"\";\n",
        "  let role: string = \"assistant\";\n",
        "  let toolCallId: string | undefined;\n",
        "  let toolCallName: string | undefined;\n",
        "  let toolCallArgs = \"\";\n",
        "  for await (const chunk of stream) {\n",
        "    const delta = chunk.choices[0].delta;\n",
        "    if (delta.role !== undefined) {\n",
        "      role = delta.role;\n",
        "    }\n",
        "    if (delta.content) {\n",
        "      responseContent += delta.content;\n",
        "      await dispatchCustomEvent(\"streamed_token\", {\n",
        "        content: delta.content,\n",
        "      });\n",
        "    }\n",
        "    if (delta.tool_calls !== undefined && delta.tool_calls.length > 0) {\n",
        "      // note: for simplicity we're only handling a single tool call here\n",
        "      const toolCall = delta.tool_calls[0];\n",
        "      if (toolCall.function?.name !== undefined) {\n",
        "        toolCallName = toolCall.function.name;\n",
        "      }\n",
        "      if (toolCall.id !== undefined) {\n",
        "        toolCallId = toolCall.id;\n",
        "      }\n",
        "      await dispatchCustomEvent(\"streamed_tool_call_chunk\", toolCall);\n",
        "      toolCallArgs += toolCall.function?.arguments ?? \"\";\n",
        "    }\n",
        "  }\n",
        "  let finalToolCalls;\n",
        "  if (toolCallName !== undefined && toolCallId !== undefined) {\n",
        "    finalToolCalls = [{\n",
        "      id: toolCallId,\n",
        "      function: {\n",
        "        name: toolCallName,\n",
        "        arguments: toolCallArgs\n",
        "      },\n",
        "      type: \"function\" as const,\n",
        "    }];\n",
        "  }\n",
        "\n",
        "  const responseMessage = {\n",
        "    role: role as any,\n",
        "    content: responseContent,\n",
        "    tool_calls: finalToolCalls,\n",
        "  };\n",
        "  return { messages: [responseMessage] };\n",
        "}"
      ]
    },
    {
      "cell_type": "markdown",
      "metadata": {},
      "source": [
        "Note that you can't call this method outside of a LangGraph node since `dispatchCustomEvent` will fail if it is called outside the proper context.\n",
        "\n",
        "## Define tools and a tool-calling node\n",
        "\n",
        "Next, set up the actual tool function and the node that will call it when the model populates a tool call:"
      ]
    },
    {
      "cell_type": "code",
      "execution_count": 3,
      "metadata": {},
      "outputs": [],
      "source": [
        "const getItems = async ({ place }: { place: string }) => {\n",
        "  if (place.toLowerCase().includes(\"bed\")) {  // For under the bed\n",
        "    return \"socks, shoes and dust bunnies\";\n",
        "  } else if (place.toLowerCase().includes(\"shelf\")) {  // For 'shelf'\n",
        "    return \"books, pencils and pictures\";\n",
        "  } else {  // if the agent decides to ask about a different place\n",
        "    return \"cat snacks\";\n",
        "  }\n",
        "};\n",
        "\n",
        "const callTools = async (state: typeof StateAnnotation.State) => {\n",
        "  const { messages } = state;\n",
        "  const mostRecentMessage = messages[messages.length - 1];\n",
        "  const toolCalls = (mostRecentMessage as OpenAI.ChatCompletionAssistantMessageParam).tool_calls;\n",
        "  if (toolCalls === undefined || toolCalls.length === 0) {\n",
        "    throw new Error(\"No tool calls passed to node.\");\n",
        "  }\n",
        "  const toolNameMap = {\n",
        "    get_items: getItems,\n",
        "  };\n",
        "  const functionName = toolCalls[0].function.name;\n",
        "  const functionArguments = JSON.parse(toolCalls[0].function.arguments);\n",
        "  const response = await toolNameMap[functionName](functionArguments);\n",
        "  const toolMessage = {\n",
        "    tool_call_id: toolCalls[0].id,\n",
        "    role: \"tool\" as const,\n",
        "    name: functionName,\n",
        "    content: response,\n",
        "  }\n",
        "  return { messages: [toolMessage] };\n",
        "}"
      ]
    },
    {
      "cell_type": "markdown",
      "metadata": {},
      "source": [
        "## Build the graph\n",
        "\n",
        "Finally, it's time to build your graph:"
      ]
    },
    {
      "cell_type": "code",
      "execution_count": 4,
      "metadata": {},
      "outputs": [],
      "source": [
        "import { StateGraph } from \"@langchain/langgraph\";\n",
        "import OpenAI from \"openai\";\n",
        "\n",
        "// We can reuse the same `GraphState` from above as it has not changed.\n",
        "const shouldContinue = (state: typeof StateAnnotation.State) => {\n",
        "  const { messages } = state;\n",
        "  const lastMessage =\n",
        "    messages[messages.length - 1] as OpenAI.ChatCompletionAssistantMessageParam;\n",
        "  if (lastMessage?.tool_calls !== undefined && lastMessage?.tool_calls.length > 0) {\n",
        "    return \"tools\";\n",
        "  }\n",
        "  return \"__end__\";\n",
        "}\n",
        "\n",
        "const graph = new StateGraph(StateAnnotation)\n",
        "  .addNode(\"model\", callModel)\n",
        "  .addNode(\"tools\", callTools)\n",
        "  .addEdge(\"__start__\", \"model\")\n",
        "  .addConditionalEdges(\"model\", shouldContinue, {\n",
        "    tools: \"tools\",\n",
        "    __end__: \"__end__\",\n",
        "  })\n",
        "  .addEdge(\"tools\", \"model\")\n",
        "  .compile();\n",
        "  "
      ]
    },
    {
      "cell_type": "code",
      "execution_count": 5,
      "metadata": {},
      "outputs": [
        {
          "data": {
            "image/png": "[encoded data removed]"
          },
          "metadata": {},
          "output_type": "display_data"
        }
      ],
      "source": [
        "import * as tslab from \"tslab\";\n",
        "\n",
        "const representation = graph.getGraph();\n",
        "const image = await representation.drawMermaidPng();\n",
        "const arrayBuffer = await image.arrayBuffer();\n",
        "\n",
        "await tslab.display.png(new Uint8Array(arrayBuffer));"
      ]
    },
    {
      "cell_type": "markdown",
      "metadata": {},
      "source": [
        "## Streaming tokens\n",
        "\n",
        "And now we can use the [`.streamEvents`](https://js.langchain.com/docs/how_to/streaming#using-stream-events) method to get the streamed tokens and tool calls from the OpenAI model:"
      ]
    },
    {
      "cell_type": "code",
      "execution_count": 6,
      "metadata": {},
      "outputs": [
        {
          "name": "stdout",
          "output_type": "stream",
          "text": [
            "streamed_tool_call_chunk {\n",
            "  index: 0,\n",
            "  id: 'call_v99reml4gZvvUypPgOpLgxM2',\n",
            "  type: 'function',\n",
            "  function: { name: 'get_items', arguments: '' }\n",
            "}\n",
            "streamed_tool_call_chunk { index: 0, function: { arguments: '{\"' } }\n",
            "streamed_tool_call_chunk { index: 0, function: { arguments: 'place' } }\n",
            "streamed_tool_call_chunk { index: 0, function: { arguments: '\":\"' } }\n",
            "streamed_tool_call_chunk { index: 0, function: { arguments: 'bed' } }\n",
            "streamed_tool_call_chunk { index: 0, function: { arguments: 'room' } }\n",
            "streamed_tool_call_chunk { index: 0, function: { arguments: '\"}' } }\n",
            "streamed_token { content: 'In' }\n",
            "streamed_token { content: ' the' }\n",
            "streamed_token { content: ' bedroom' }\n",
            "streamed_token { content: ',' }\n",
            "streamed_token { content: ' you' }\n",
            "streamed_token { content: ' can' }\n",
            "streamed_token { content: ' find' }\n",
            "streamed_token { content: ' socks' }\n",
            "streamed_token { content: ',' }\n",
            "streamed_token { content: ' shoes' }\n",
            "streamed_token { content: ',' }\n",
            "streamed_token { content: ' and' }\n",
            "streamed_token { content: ' dust' }\n",
            "streamed_token { content: ' b' }\n",
            "streamed_token { content: 'unnies' }\n",
            "streamed_token { content: '.' }\n"
          ]
        }
      ],
      "source": [
        "const eventStream = await graph.streamEvents(\n",
        "  { messages: [{ role: \"user\", content: \"what's in the bedroom?\" }] },\n",
        "  { version: \"v2\" },\n",
        ");\n",
        "\n",
        "for await (const { event, name, data } of eventStream) {\n",
        "  if (event === \"on_custom_event\") {\n",
        "    console.log(name, data);\n",
        "  }\n",
        "}"
      ]
    },
    {
      "cell_type": "markdown",
      "metadata": {},
      "source": [
        "And if you've set up LangSmith tracing, you'll also see [a trace like this one](https://smith.langchain.com/public/ddb1af36-ebe5-4ba6-9a57-87a296dc801f/r)."
      ]
    }
  ],
  "metadata": {
    "kernelspec": {
      "display_name": "TypeScript",
      "language": "typescript",
      "name": "tslab"
    },
    "language_info": {
      "codemirror_mode": {
        "mode": "typescript",
        "name": "javascript",
        "typescript": true
      },
      "file_extension": ".ts",
      "mimetype": "text/typescript",
      "name": "typescript",
      "version": "3.7.2"
    }
  },
  "nbformat": 4,
  "nbformat_minor": 2
}

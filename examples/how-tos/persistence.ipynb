{
 "cells": [
  {
   "cell_type": "markdown",
   "id": "9395cccb-a6d0-4d46-bad7-ed2d012af58a",
   "metadata": {},
   "source": [
    "# Persistence\n",
    "\n",
    "Many AI applications need memory to share context across multiple interactions. In LangGraph, memory is provided for any [StateGraph](https://langchain-ai.github.io/langgraph/reference/graphs/#langgraph.graph.StateGraph) through [Checkpointers](https://langchain-ai.github.io/langgraph/reference/checkpoints/).\n",
    "\n",
    "When creating any LangGraph workflow, you can set them up to persist their state by doing using the following:\n",
    "\n",
    "1. A [Checkpointer](https://langchain-ai.github.io/langgraphjs/reference/classes/index.BaseCheckpointSaver.html), such as the [MemorySaver](https://langchain-ai.github.io/langgraphjs/reference/classes/index.MemorySaver.html)\n",
    "2. Call `compile(checkpointer=myCheckpointer)` when compiling the graph.\n",
    "\n",
    "<!-- Example:\n",
    "```javascript\n",
    "from langgraph.graph import StateGraph\n",
    "from langgraph.checkpoint.aiosqlite import AsyncSqliteSaver\n",
    "\n",
    "builder = StateGraph(....)\n",
    "# ... define the graph\n",
    "memory = AsyncSqliteSaver.from_conn_string(\":memory:\")\n",
    "graph = builder.compile(checkpointer=memory)\n",
    "...\n",
    "``` -->\n",
    "\n",
    "This works for [StateGraph](https://langchain-ai.github.io/langgraphjs/reference/classes/index.StateGraph.html and all its subclasses, such as [MessageGraph](https://langchain-ai.github.io/langgraph/reference/graphs/#messagegraph).\n",
    "\n",
    "Below is an example.\n",
    "\n",
    "<div class=\"admonition tip\">\n",
    "    <p class=\"admonition-title\">Note</p>\n",
    "    <p>\n",
    "        In this how-to, we will create our agent from scratch to be transparent (but verbose). You can accomplish similar functionality using the <code>create_react_agent(model, tools=tool, checkpointer=checkpointer)</code> (<a href=\"https://langchain-ai.github.io/langgraphjs/reference/functions/prebuilt.createReactAgent.html\">API doc</a>) constructor. This may be more appropriate if you are used to LangChain’s <a href=\"https://python.langchain.com/v0.1/docs/modules/agents/concepts/#agentexecutor\">AgentExecutor</a> class.\n",
    "    </p>\n",
    "</div>\n",
    "\n",
    "\n",
    "## Setup\n",
    "\n",
    "This guide will use Anthropic's Claude model. We will optionally set our API key for [LangSmith tracing](https://smith.langchain.com/), which will give us best-in-class observability."
   ]
  },
  {
   "cell_type": "code",
   "execution_count": 54,
   "id": "f05706ae-f5c9-45e8-8c0a-2215703ee993",
   "metadata": {},
   "outputs": [],
   "source": [
    "// Deno.env.set(\"ANTHROPIC_API_KEY\", \"sk_...\");\n",
    "\n",
    "// Optional, add tracing in LangSmith\n",
    "Deno.env.set(\"LANGCHAIN_API_KEY\", \"ls__...\");\n",
    "Deno.env.set(\"LANGCHAIN_TRACING_V2\", \"true\");\n",
    "Deno.env.set(\"LANGCHAIN_PROJECT\", \"Persistence: LangGraphJS\");"
   ]
  },
  {
   "cell_type": "markdown",
   "id": "6b47c4dc-cabe-4ee5-aaa8-9552f5d75ed2",
   "metadata": {},
   "source": [
    "## Define the state\n",
    "\n",
    "The state is the interface for all of the nodes in our graph."
   ]
  },
  {
   "cell_type": "code",
   "execution_count": 21,
   "id": "abea6e1f-c21c-4dfe-a4cd-89326e625c66",
   "metadata": {},
   "outputs": [],
   "source": [
    "import { BaseMessage } from \"@langchain/core/messages\";\n",
    "\n",
    "interface IState {\n",
    "  messages: {\n",
    "    value: (x: BaseMessage[], y: BaseMessage[]) => BaseMessage[];\n",
    "    default: () => BaseMessage[];\n",
    "  };\n",
    "  next: string;\n",
    "}\n",
    "\n",
    "// This defines the agent state\n",
    "const State: IState = {\n",
    "  messages: {\n",
    "    value: (x: BaseMessage[], y: BaseMessage[]) => x.concat(y),\n",
    "    default: () => [],\n",
    "  },\n",
    "};"
   ]
  },
  {
   "cell_type": "markdown",
   "id": "408be71e-8d06-403a-8623-6e6c222c677a",
   "metadata": {},
   "source": [
    "## Set up the tools\n",
    "\n",
    "We will first define the tools we want to use. For this simple example, we will use create a placeholder search engine.\n",
    "However, it is really easy to create your own tools - see documentation [here](https://js.langchain.com/v0.2/docs/how_to/custom_tools) on how to do that."
   ]
  },
  {
   "cell_type": "code",
   "execution_count": 62,
   "id": "2ae6c71e-10ce-4783-9dfc-49e5b750b269",
   "metadata": {},
   "outputs": [
    {
     "data": {
      "text/plain": [
       "[ \u001b[32m\"Cold, with a low of -78 ℃\"\u001b[39m ]"
      ]
     },
     "execution_count": 62,
     "metadata": {},
     "output_type": "execute_result"
    }
   ],
   "source": [
    "import { DynamicStructuredTool } from \"@langchain/core/tools\";\n",
    "import { z } from \"zod\";\n",
    "\n",
    "const searchTool = new DynamicStructuredTool({\n",
    "  name: \"search\",\n",
    "  description: \"Use to surf the web, fetch current information, check the weather, and retrieve other information.\",\n",
    "  schema: z.object({\n",
    "    query: z.string().describe(\"The query to use in your search.\"),\n",
    "  }),\n",
    "  func: async ({ query }: { query: string }) => {\n",
    "    // This is a placeholder for the actual implementation\n",
    "    return [\"Cold, with a low of -78 ℃\"];\n",
    "  },\n",
    "});\n",
    "\n",
    "await searchTool.invoke({ query: \"What's the weather like?\" });\n",
    "\n",
    "const tools = [searchTool]"
   ]
  },
  {
   "cell_type": "markdown",
   "id": "78eae3ed-b322-4afe-9111-d7dc204fdb77",
   "metadata": {},
   "source": [
    "We can now wrap these tools in a simple [ToolNode](https://langchain-ai.github.io/langgraphjs/reference/classes/prebuilt.ToolNode.html). This object will actually run the tools (functions) whenever they are invoked by our LLM."
   ]
  },
  {
   "cell_type": "code",
   "execution_count": 63,
   "id": "638fa6e9-cb76-4838-bc8b-02edf7da5ecc",
   "metadata": {},
   "outputs": [],
   "source": [
    "// import { ToolNode } from \"@langchain/langgraph/prebuilt\";\n",
    "import { ToolNode } from \"../../langgraph/dist/prebuilt/index.js\";\n",
    "const toolNode = new ToolNode(tools);"
   ]
  },
  {
   "cell_type": "markdown",
   "id": "ea94b49b-fb11-463c-b34c-9d66b5327678",
   "metadata": {},
   "source": [
    "## Set up the model\n",
    "\n",
    "Now we will load the [chat model]().\n",
    "https://js.langchain.com/v0.2/docs/concepts/#chat-models\n",
    "1. It should work with messages. We will represent all agent state in the form of messages, so it needs to be able to work well with them.\n",
    "2. It should work with [tool calling](https://js.langchain.com/v0.2/docs/how_to/tool_calling/#passing-tools-to-llms), meaning it can return function arguments in its response.\n",
    "\n",
    "<div class=\"admonition tip\">\n",
    "    <p class=\"admonition-title\">Note</p>\n",
    "    <p>\n",
    "        These model requirements are not general requirements for using LangGraph - they are just requirements for this one example.\n",
    "    </p>\n",
    "</div>    "
   ]
  },
  {
   "cell_type": "code",
   "execution_count": 64,
   "id": "3a00435f-5e80-4a3e-a873-b308b1f781db",
   "metadata": {},
   "outputs": [],
   "source": [
    "import { ChatAnthropic } from \"@langchain/anthropic\";\n",
    "\n",
    "const model = new ChatAnthropic( {model: \"claude-3-haiku-20240307\"});"
   ]
  },
  {
   "cell_type": "markdown",
   "id": "3975c1ab-fcac-4448-a0cd-7969ae6f4e45",
   "metadata": {},
   "source": [
    "After we've done this, we should make sure the model knows that it has these tools available to call. We can do this by calling [bindTools](https://v01.api.js.langchain.com/classes/langchain_core_language_models_chat_models.BaseChatModel.html#bindTools)."
   ]
  },
  {
   "cell_type": "code",
   "execution_count": 65,
   "id": "d0d4a57f-e7d0-48d7-8626-e83185c1236d",
   "metadata": {},
   "outputs": [
    {
     "data": {
      "text/plain": [
       "{\n",
       "  tools: [\n",
       "    {\n",
       "      name: \u001b[32m\"search\"\u001b[39m,\n",
       "      description: \u001b[32m\"Use to surf the web, fetch current information, check the weather, and retrieve other information.\"\u001b[39m,\n",
       "      input_schema: {\n",
       "        type: \u001b[32m\"object\"\u001b[39m,\n",
       "        properties: { query: \u001b[36m[Object]\u001b[39m },\n",
       "        required: [ \u001b[32m\"query\"\u001b[39m ],\n",
       "        additionalProperties: \u001b[33mfalse\u001b[39m,\n",
       "        \u001b[32m\"$schema\"\u001b[39m: \u001b[32m\"http://json-schema.org/draft-07/schema#\"\u001b[39m\n",
       "      }\n",
       "    }\n",
       "  ]\n",
       "}"
      ]
     },
     "execution_count": 65,
     "metadata": {},
     "output_type": "execute_result"
    }
   ],
   "source": [
    "const boundModel =  model.bindTools(tools);\n",
    "boundModel.kwargs"
   ]
  },
  {
   "cell_type": "markdown",
   "id": "1c0626d5-faae-4e24-bf1b-f01357c28627",
   "metadata": {},
   "source": [
    "## Define the graph\n",
    "\n",
    "We can now put it all together. We will run it first without a checkpointer:"
   ]
  },
  {
   "cell_type": "code",
   "execution_count": 66,
   "id": "812b6d4b-9db7-490b-adae-ad9d933da56c",
   "metadata": {},
   "outputs": [],
   "source": [
    "import { StateGraph, END, START } from \"@langchain/langgraph\";\n",
    "import { BaseMessage } from \"@langchain/core/messages\";\n",
    "\n",
    "const routeMessage = (state: { messages: Array<BaseMessage> }) => {\n",
    "  const { messages } = state;\n",
    "  const lastMessage = messages[messages.length - 1];\n",
    "  // If no tools are called, we can finish (respond to the user)\n",
    "  if (!lastMessage.tool_calls.length){\n",
    "    return END;\n",
    "  }\n",
    "  // Otherwise if there is, we continue and call the tools\n",
    "  return \"action\";\n",
    "};\n",
    "\n",
    "const callModel = async (state: { messages: Array<BaseMessage> }) => {\n",
    "  const { messages } = state;\n",
    "  const response = await boundModel.invoke(messages);\n",
    "  return { messages: [response]}\n",
    "};\n",
    "\n",
    "const workflow = new StateGraph({\n",
    "  channels: State,\n",
    "});\n",
    "\n",
    "// Define the two nodes we will cycle between\n",
    "workflow.addNode(\"agent\", callModel);\n",
    "workflow.addNode(\"action\", toolNode);\n",
    "\n",
    "// Set the entrypoint as `agent`\n",
    "// workflow.addEdge(START, \"agent\");\n",
    "workflow.setEntryPoint(\"agent\");\n",
    "workflow.addConditionalEdges(\"agent\", routeMessage);\n",
    "workflow.addEdge(\"action\", \"agent\");\n",
    "\n",
    "const graph = workflow.compile()"
   ]
  },
  {
   "cell_type": "code",
   "execution_count": 79,
   "id": "584468e0-c824-4401-acc5-6384e893830f",
   "metadata": {},
   "outputs": [
    {
     "name": "stdout",
     "output_type": "stream",
     "text": [
      "{\n",
      "  agent: {\n",
      "    messages: [\n",
      "      AIMessage {\n",
      "        lc_serializable: \u001b[33mtrue\u001b[39m,\n",
      "        lc_kwargs: {\n",
      "          content: \u001b[32m\"It's nice to meet you too, Yu! I'm an AI assistant. I'm here to help you with any tasks or questions\"\u001b[39m... 61 more characters,\n",
      "          tool_calls: [],\n",
      "          invalid_tool_calls: [],\n",
      "          additional_kwargs: \u001b[36m[Object]\u001b[39m,\n",
      "          response_metadata: {}\n",
      "        },\n",
      "        lc_namespace: [ \u001b[32m\"langchain_core\"\u001b[39m, \u001b[32m\"messages\"\u001b[39m ],\n",
      "        content: \u001b[32m\"It's nice to meet you too, Yu! I'm an AI assistant. I'm here to help you with any tasks or questions\"\u001b[39m... 61 more characters,\n",
      "        name: \u001b[90mundefined\u001b[39m,\n",
      "        additional_kwargs: {\n",
      "          id: \u001b[32m\"msg_01D5zErMKEqv7MHpWaCrmKPT\"\u001b[39m,\n",
      "          type: \u001b[32m\"message\"\u001b[39m,\n",
      "          role: \u001b[32m\"assistant\"\u001b[39m,\n",
      "          model: \u001b[32m\"claude-3-haiku-20240307\"\u001b[39m,\n",
      "          stop_sequence: \u001b[1mnull\u001b[22m,\n",
      "          usage: \u001b[36m[Object]\u001b[39m,\n",
      "          stop_reason: \u001b[32m\"end_turn\"\u001b[39m\n",
      "        },\n",
      "        response_metadata: {\n",
      "          id: \u001b[32m\"msg_01D5zErMKEqv7MHpWaCrmKPT\"\u001b[39m,\n",
      "          model: \u001b[32m\"claude-3-haiku-20240307\"\u001b[39m,\n",
      "          stop_sequence: \u001b[1mnull\u001b[22m,\n",
      "          usage: \u001b[36m[Object]\u001b[39m,\n",
      "          stop_reason: \u001b[32m\"end_turn\"\u001b[39m\n",
      "        },\n",
      "        tool_calls: [],\n",
      "        invalid_tool_calls: []\n",
      "      }\n",
      "    ]\n",
      "  }\n",
      "}\n",
      "-----\n",
      "\n",
      "{\n",
      "  __end__: {\n",
      "    messages: [\n",
      "      [ \u001b[32m\"user\"\u001b[39m, \u001b[32m\"Hi I'm Yu, niced to meet you.\"\u001b[39m ],\n",
      "      AIMessage {\n",
      "        lc_serializable: \u001b[33mtrue\u001b[39m,\n",
      "        lc_kwargs: {\n",
      "          content: \u001b[32m\"It's nice to meet you too, Yu! I'm an AI assistant. I'm here to help you with any tasks or questions\"\u001b[39m... 61 more characters,\n",
      "          tool_calls: [],\n",
      "          invalid_tool_calls: [],\n",
      "          additional_kwargs: \u001b[36m[Object]\u001b[39m,\n",
      "          response_metadata: {}\n",
      "        },\n",
      "        lc_namespace: [ \u001b[32m\"langchain_core\"\u001b[39m, \u001b[32m\"messages\"\u001b[39m ],\n",
      "        content: \u001b[32m\"It's nice to meet you too, Yu! I'm an AI assistant. I'm here to help you with any tasks or questions\"\u001b[39m... 61 more characters,\n",
      "        name: \u001b[90mundefined\u001b[39m,\n",
      "        additional_kwargs: {\n",
      "          id: \u001b[32m\"msg_01D5zErMKEqv7MHpWaCrmKPT\"\u001b[39m,\n",
      "          type: \u001b[32m\"message\"\u001b[39m,\n",
      "          role: \u001b[32m\"assistant\"\u001b[39m,\n",
      "          model: \u001b[32m\"claude-3-haiku-20240307\"\u001b[39m,\n",
      "          stop_sequence: \u001b[1mnull\u001b[22m,\n",
      "          usage: \u001b[36m[Object]\u001b[39m,\n",
      "          stop_reason: \u001b[32m\"end_turn\"\u001b[39m\n",
      "        },\n",
      "        response_metadata: {\n",
      "          id: \u001b[32m\"msg_01D5zErMKEqv7MHpWaCrmKPT\"\u001b[39m,\n",
      "          model: \u001b[32m\"claude-3-haiku-20240307\"\u001b[39m,\n",
      "          stop_sequence: \u001b[1mnull\u001b[22m,\n",
      "          usage: \u001b[36m[Object]\u001b[39m,\n",
      "          stop_reason: \u001b[32m\"end_turn\"\u001b[39m\n",
      "        },\n",
      "        tool_calls: [],\n",
      "        invalid_tool_calls: []\n",
      "      }\n",
      "    ]\n",
      "  }\n",
      "}\n",
      "-----\n",
      "\n"
     ]
    }
   ],
   "source": [
    "let inputs = {\"messages\": [[\"user\", \"Hi I'm Yu, niced to meet you.\"]]};\n",
    "for await (const output of await graph.stream(inputs, {streamMode: \"updates\"})) {\n",
    "    console.log(output)\n",
    "  console.log(\"-----\\n\");\n",
    "}"
   ]
  },
  {
   "cell_type": "code",
   "execution_count": 80,
   "id": "c4db9d23-7ede-42d5-9288-0c31fe1f028a",
   "metadata": {},
   "outputs": [
    {
     "name": "stdout",
     "output_type": "stream",
     "text": [
      "{\n",
      "  agent: {\n",
      "    messages: [\n",
      "      AIMessage {\n",
      "        lc_serializable: \u001b[33mtrue\u001b[39m,\n",
      "        lc_kwargs: {\n",
      "          content: \u001b[32m\"I'm afraid I don't actually have a memory of your name. As an AI assistant created by Anthropic, I d\"\u001b[39m... 234 more characters,\n",
      "          tool_calls: [],\n",
      "          invalid_tool_calls: [],\n",
      "          additional_kwargs: \u001b[36m[Object]\u001b[39m,\n",
      "          response_metadata: {}\n",
      "        },\n",
      "        lc_namespace: [ \u001b[32m\"langchain_core\"\u001b[39m, \u001b[32m\"messages\"\u001b[39m ],\n",
      "        content: \u001b[32m\"I'm afraid I don't actually have a memory of your name. As an AI assistant created by Anthropic, I d\"\u001b[39m... 234 more characters,\n",
      "        name: \u001b[90mundefined\u001b[39m,\n",
      "        additional_kwargs: {\n",
      "          id: \u001b[32m\"msg_01N3xMGw5E7hvvs6h2xagKCL\"\u001b[39m,\n",
      "          type: \u001b[32m\"message\"\u001b[39m,\n",
      "          role: \u001b[32m\"assistant\"\u001b[39m,\n",
      "          model: \u001b[32m\"claude-3-haiku-20240307\"\u001b[39m,\n",
      "          stop_sequence: \u001b[1mnull\u001b[22m,\n",
      "          usage: \u001b[36m[Object]\u001b[39m,\n",
      "          stop_reason: \u001b[32m\"end_turn\"\u001b[39m\n",
      "        },\n",
      "        response_metadata: {\n",
      "          id: \u001b[32m\"msg_01N3xMGw5E7hvvs6h2xagKCL\"\u001b[39m,\n",
      "          model: \u001b[32m\"claude-3-haiku-20240307\"\u001b[39m,\n",
      "          stop_sequence: \u001b[1mnull\u001b[22m,\n",
      "          usage: \u001b[36m[Object]\u001b[39m,\n",
      "          stop_reason: \u001b[32m\"end_turn\"\u001b[39m\n",
      "        },\n",
      "        tool_calls: [],\n",
      "        invalid_tool_calls: []\n",
      "      }\n",
      "    ]\n",
      "  }\n",
      "}\n",
      "-----\n",
      "\n",
      "{\n",
      "  __end__: {\n",
      "    messages: [\n",
      "      [ \u001b[32m\"user\"\u001b[39m, \u001b[32m\"Remember my name?\"\u001b[39m ],\n",
      "      AIMessage {\n",
      "        lc_serializable: \u001b[33mtrue\u001b[39m,\n",
      "        lc_kwargs: {\n",
      "          content: \u001b[32m\"I'm afraid I don't actually have a memory of your name. As an AI assistant created by Anthropic, I d\"\u001b[39m... 234 more characters,\n",
      "          tool_calls: [],\n",
      "          invalid_tool_calls: [],\n",
      "          additional_kwargs: \u001b[36m[Object]\u001b[39m,\n",
      "          response_metadata: {}\n",
      "        },\n",
      "        lc_namespace: [ \u001b[32m\"langchain_core\"\u001b[39m, \u001b[32m\"messages\"\u001b[39m ],\n",
      "        content: \u001b[32m\"I'm afraid I don't actually have a memory of your name. As an AI assistant created by Anthropic, I d\"\u001b[39m... 234 more characters,\n",
      "        name: \u001b[90mundefined\u001b[39m,\n",
      "        additional_kwargs: {\n",
      "          id: \u001b[32m\"msg_01N3xMGw5E7hvvs6h2xagKCL\"\u001b[39m,\n",
      "          type: \u001b[32m\"message\"\u001b[39m,\n",
      "          role: \u001b[32m\"assistant\"\u001b[39m,\n",
      "          model: \u001b[32m\"claude-3-haiku-20240307\"\u001b[39m,\n",
      "          stop_sequence: \u001b[1mnull\u001b[22m,\n",
      "          usage: \u001b[36m[Object]\u001b[39m,\n",
      "          stop_reason: \u001b[32m\"end_turn\"\u001b[39m\n",
      "        },\n",
      "        response_metadata: {\n",
      "          id: \u001b[32m\"msg_01N3xMGw5E7hvvs6h2xagKCL\"\u001b[39m,\n",
      "          model: \u001b[32m\"claude-3-haiku-20240307\"\u001b[39m,\n",
      "          stop_sequence: \u001b[1mnull\u001b[22m,\n",
      "          usage: \u001b[36m[Object]\u001b[39m,\n",
      "          stop_reason: \u001b[32m\"end_turn\"\u001b[39m\n",
      "        },\n",
      "        tool_calls: [],\n",
      "        invalid_tool_calls: []\n",
      "      }\n",
      "    ]\n",
      "  }\n",
      "}\n",
      "-----\n",
      "\n"
     ]
    }
   ],
   "source": [
    "inputs = {\"messages\": [[\"user\", \"Remember my name?\"]]};\n",
    "for await (const output of await graph.stream(inputs, {streamMode: \"updates\"})) {\n",
    "    console.log(output)\n",
    "  console.log(\"-----\\n\");\n",
    "}"
   ]
  },
  {
   "cell_type": "markdown",
   "id": "312879af-f504-4888-a737-bf74487b81ef",
   "metadata": {},
   "source": [
    "## Add Memory\n",
    "\n",
    "Let's try it again with a checkpointer. We will use the SqliteSaver, which will \"save\" checkpoints in-memory."
   ]
  },
  {
   "cell_type": "code",
   "execution_count": 84,
   "id": "69a760f0-acb9-45e1-8b50-46280a6d6cc8",
   "metadata": {},
   "outputs": [
    {
     "ename": "TypeError",
     "evalue": "Could not resolve 'npm:@langchain/langgraph/checkpoint'.\n  Caused by:\n    Failed resolving package subpath './checkpoint' for '/Users/wfh/Library/Caches/deno/npm/registry.npmjs.org/@langchain/langgraph/0.0.12/package.json'\n    [ERR_PACKAGE_PATH_NOT_EXPORTED] Package subpath './checkpoint' is not defined by \"exports\" in '/Users/wfh/Library/Caches/deno/npm/registry.npmjs.org/@langchain/langgraph/0.0.12/package.json' imported from '/Users/wfh/code/lc/langgraphjs/examples/how-tos/$deno$repl.ts'",
     "output_type": "error",
     "traceback": [
      "Stack trace:",
      "TypeError: Could not resolve 'npm:@langchain/langgraph/checkpoint'.",
      "  Caused by:",
      "    Failed resolving package subpath './checkpoint' for '/Users/wfh/Library/Caches/deno/npm/registry.npmjs.org/@langchain/langgraph/0.0.12/package.json'",
      "    [ERR_PACKAGE_PATH_NOT_EXPORTED] Package subpath './checkpoint' is not defined by \"exports\" in '/Users/wfh/Library/Caches/deno/npm/registry.npmjs.org/@langchain/langgraph/0.0.12/package.json' imported from '/Users/wfh/code/lc/langgraphjs/examples/how-tos/$deno$repl.ts'",
      "    at async <anonymous>:1:46"
     ]
    }
   ],
   "source": [
    "import { SqliteSaver } from \"@langchain/langgraph/checkpoint\";\n",
    "\n",
    "const memory = SqliteSaver.fromConnString(\":memory:\") // Here we only save in-memory"
   ]
  },
  {
   "cell_type": "code",
   "execution_count": 85,
   "id": "827c5aaf-c290-48cd-9aa3-5ba5ab7e6851",
   "metadata": {},
   "outputs": [
    {
     "ename": "ReferenceError",
     "evalue": "memory is not defined",
     "output_type": "error",
     "traceback": [
      "Stack trace:",
      "ReferenceError: memory is not defined",
      "    at <anonymous>:2:17"
     ]
    }
   ],
   "source": [
    "const persistentGraph = workflow.compile({checkpointer: memory}); "
   ]
  },
  {
   "cell_type": "code",
   "execution_count": null,
   "id": "24711ca1-3fd8-46ca-b2c1-affa8cd45267",
   "metadata": {},
   "outputs": [],
   "source": [
    "let config = { configurable: { thread_id: \"conversation-1\" }}\n",
    "inputs = {\"messages\": [[\"user\", \"Hi I'm Yu, niced to meet you.\"]]};\n",
    "for await (const output of await persistentGraph.stream(inputs, {..config, streamMode: \"updates\"})) {\n",
    "    console.log(output)\n",
    "  console.log(\"-----\\n\");\n",
    "}"
   ]
  },
  {
   "cell_type": "code",
   "execution_count": null,
   "id": "8537fd9d-083c-4096-91c5-44a2e66b18c6",
   "metadata": {},
   "outputs": [],
   "source": [
    "inputs = {\"messages\": [[\"user\", \"Remember my name?\"]]};\n",
    "for await (const output of await persistentGraph.stream(inputs, {..config, streamMode: \"updates\"})) {\n",
    "    console.log(output)\n",
    "  console.log(\"-----\\n\");\n",
    "}"
   ]
  },
  {
   "cell_type": "markdown",
   "id": "a4ae8c30-b462-4f61-94d5-3b361c2719c2",
   "metadata": {},
   "source": [
    "If we want to start a new conversation, we can pass in a different thread id. Poof! All the memories are gone!"
   ]
  },
  {
   "cell_type": "code",
   "execution_count": null,
   "id": "cf3a5244-7ff6-4ece-95fe-240341992863",
   "metadata": {},
   "outputs": [],
   "source": [
    "config = { configurable: { thread_id: \"conversation-2\" }}"
   ]
  },
  {
   "cell_type": "code",
   "execution_count": null,
   "id": "c183a4a2-57a3-4ee4-89e4-f695e1a15295",
   "metadata": {},
   "outputs": [],
   "source": [
    "inputs = {\"messages\": [[\"user\", \"you forgot?\"]]};\n",
    "for await (const output of await persistentGraph.stream(inputs, {..config, streamMode: \"updates\"})) {\n",
    "    console.log(output)\n",
    "  console.log(\"-----\\n\");\n",
    "}"
   ]
  }
 ],
 "metadata": {
  "kernelspec": {
   "display_name": "Deno",
   "language": "typescript",
   "name": "deno"
  },
  "language_info": {
   "file_extension": ".ts",
   "mimetype": "text/x.typescript",
   "name": "typescript",
   "nb_converter": "script",
   "pygments_lexer": "typescript",
   "version": "5.3.3"
  }
 },
 "nbformat": 4,
 "nbformat_minor": 5
}

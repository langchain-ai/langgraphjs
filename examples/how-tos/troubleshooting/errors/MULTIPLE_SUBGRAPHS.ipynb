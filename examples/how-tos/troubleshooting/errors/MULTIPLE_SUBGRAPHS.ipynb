{
 "cells": [
  {
   "cell_type": "markdown",
   "metadata": {},
   "source": [
    "# MULTIPLE_SUBGRAPHS\n",
    "\n",
    "You are calling the same subgraph multiple times within a single LangGraph node with checkpointing enabled for each subgraph.\n",
    "\n",
    "This is currently not allowed due to internal restrictions on how checkpoint namespacing for subgraphs works.\n",
    "\n",
    "## Troubleshooting\n",
    "\n",
    "The following may help resolve this error:\n",
    "\n",
    "- If you don't need to interrupt/resume from a subgraph, pass `checkpointer=false` when compiling it like this: `.compile({ checkpointer: false })`\n",
    "- Don't imperatively call graphs multiple times in the same node, and instead use the [`Send`](https://langchain-ai.github.io/langgraphjs/reference/classes/langgraph.Send.html) API.\n"
   ]
  }
 ],
 "metadata": {
  "language_info": {
   "name": "python"
  }
 },
 "nbformat": 4,
 "nbformat_minor": 2
}

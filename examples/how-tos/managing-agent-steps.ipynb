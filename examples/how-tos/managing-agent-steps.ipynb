{
 "cells": [
  {
   "cell_type": "markdown",
   "id": "079c907e",
   "metadata": {},
   "source": [
    "# Managing Agent Steps\n",
    "\n",
    "In this example we will build a ReAct Agent that explicitly manages intermediate\n",
    "steps.\n",
    "\n",
    "The previous examples just put all messages into the model, but that extra\n",
    "context can distract the agent and add latency to the API calls. In this example\n",
    "we will only include the `N` most recent messages in the chat history. Note that\n",
    "this is meant to be illustrative of general state management."
   ]
  },
  {
   "cell_type": "markdown",
   "id": "3062815d",
   "metadata": {},
   "source": [
    "## Setup\n",
    "\n",
    "First we need to install the packages required\n",
    "\n",
    "```bash\n",
    "yarn add @langchain/langgraph @langchain/anthropic\n",
    "```"
   ]
  },
  {
   "cell_type": "markdown",
   "id": "2cf73929",
   "metadata": {},
   "source": [
    "Next, we need to set API keys for Anthropic (the LLM we will use)."
   ]
  },
  {
   "cell_type": "code",
   "execution_count": 1,
   "id": "a5482d50",
   "metadata": {},
   "outputs": [],
   "source": [
    "// Deno.env.set(\"ANTHROPIC_API_KEY\", \"sk_...\");"
   ]
  },
  {
   "cell_type": "markdown",
   "id": "8e0e6786",
   "metadata": {},
   "source": [
    "Optionally, we can set API key for\n",
    "[LangSmith tracing](https://smith.langchain.com/), which will give us\n",
    "best-in-class observability."
   ]
  },
  {
   "cell_type": "code",
   "execution_count": 2,
   "id": "e268b155",
   "metadata": {},
   "outputs": [],
   "source": [
    "// Optional, add tracing in LangSmith\n",
    "// Deno.env.set(\"LANGCHAIN_API_KEY\", \"ls__...\");\n",
    "Deno.env.set(\"LANGCHAIN_CALLBACKS_BACKGROUND\", \"true\");\n",
    "Deno.env.set(\"LANGCHAIN_TRACING_V2\", \"true\");\n",
    "Deno.env.set(\"LANGCHAIN_PROJECT\", \"Managing Agent Steps: LangGraphJS\");"
   ]
  },
  {
   "cell_type": "markdown",
   "id": "3d0ee64f",
   "metadata": {},
   "source": [
    "## Set up the State\n",
    "\n",
    "The main type of graph in `langgraph` is the\n",
    "[StateGraph](https://langchain-ai.github.io/langgraphjs/reference/classes/index.StateGraph.html).\n",
    "This graph is parameterized by a state object that it passes around to each\n",
    "node. Each node then returns operations to update that state. These operations\n",
    "can either SET specific attributes on the state (e.g. overwrite the existing\n",
    "values) or ADD to the existing attribute. Whether to set or add is denoted in\n",
    "the state object you construct the graph with.\n",
    "\n",
    "For this example, the state we will track will just be a list of messages. We\n",
    "want each node to just add messages to that list. Therefore, we will define the\n",
    "state as follows:"
   ]
  },
  {
   "cell_type": "code",
   "execution_count": 3,
   "id": "d278579e",
   "metadata": {},
   "outputs": [],
   "source": [
    "import { BaseMessage } from \"@langchain/core/messages\";\n",
    "\n",
    "const graphState = {\n",
    "  messages: {\n",
    "    value: (x: BaseMessage[], y: BaseMessage[]) => x.concat(y),\n",
    "    default: () => [],\n",
    "  },\n",
    "};"
   ]
  },
  {
   "cell_type": "markdown",
   "id": "2787e144",
   "metadata": {},
   "source": [
    "## Set up the tools\n",
    "\n",
    "We will first define the tools we want to use. For this simple example, we will\n",
    "create a placeholder search engine. It is really easy to create your own tools -\n",
    "see documentation\n",
    "[here](https://js.langchain.com/docs/modules/agents/tools/dynamic) on how to do\n",
    "that."
   ]
  },
  {
   "cell_type": "code",
   "execution_count": 4,
   "id": "977f2a9c",
   "metadata": {},
   "outputs": [],
   "source": [
    "import { DynamicStructuredTool } from \"@langchain/core/tools\";\n",
    "import { z } from \"zod\";\n",
    "\n",
    "const searchTool = new DynamicStructuredTool({\n",
    "  name: \"search\",\n",
    "  description: \"Call to surf the web.\",\n",
    "  schema: z.object({\n",
    "    query: z.string().describe(\"The query to use in your search.\"),\n",
    "  }),\n",
    "  func: async ({ query }: { query: string }) => {\n",
    "    // This is a placeholder, but don't tell the LLM that...\n",
    "    return [\n",
    "      \"Try again in a few seconds! Checking with the weathermen... Call be again next.\",\n",
    "    ];\n",
    "  },\n",
    "});\n",
    "\n",
    "const tools = [searchTool];"
   ]
  },
  {
   "cell_type": "markdown",
   "id": "1858b5fa",
   "metadata": {},
   "source": [
    "We can now wrap these tools in a simple\n",
    "[ToolNode](https://langchain-ai.github.io/langgraphjs/reference/classes/prebuilt.ToolNode.html).\\\n",
    "This is a simple class that takes in a list of messages containing an\n",
    "[AIMessages with tool_calls](https://v02.api.js.langchain.com/classes/langchain_core_messages_ai.AIMessage.html),\n",
    "runs the tools, and returns the output as\n",
    "[ToolMessage](https://v02.api.js.langchain.com/classes/langchain_core_messages_tool.ToolMessage.html)s."
   ]
  },
  {
   "cell_type": "code",
   "execution_count": 5,
   "id": "184af26c",
   "metadata": {},
   "outputs": [],
   "source": [
    "import { ToolNode } from \"@langchain/langgraph/prebuilt\";\n",
    "\n",
    "const toolNode = new ToolNode(tools);"
   ]
  },
  {
   "cell_type": "markdown",
   "id": "a1cc64de",
   "metadata": {},
   "source": [
    "## Set up the model\n",
    "\n",
    "Now we need to load the chat model we want to use. This should satisfy two\n",
    "criteria:\n",
    "\n",
    "1. It should work with messages, since our state is primarily a list of messages\n",
    "   (chat history).\n",
    "2. It should work with tool calling, since we are using a prebuilt\n",
    "   [ToolNode](https://langchain-ai.github.io/langgraphjs/reference/classes/prebuilt.ToolNode.html)\n",
    "\n",
    "**Note:** these model requirements are not requirements for using LangGraph -\n",
    "they are just requirements for this particular example."
   ]
  },
  {
   "cell_type": "code",
   "execution_count": 6,
   "id": "39ffe2d8",
   "metadata": {},
   "outputs": [],
   "source": [
    "import { ChatAnthropic } from \"@langchain/anthropic\";\n",
    "\n",
    "const model = new ChatAnthropic({\n",
    "  model: \"claude-3-haiku-20240307\",\n",
    "  temperature: 0,\n",
    "});"
   ]
  },
  {
   "cell_type": "code",
   "execution_count": 7,
   "id": "7d443e41",
   "metadata": {},
   "outputs": [],
   "source": [
    "// After we've done this, we should make sure the model knows that it has these tools available to call.\n",
    "// We can do this by binding the tools to the model class.\n",
    "const boundModel = model.bindTools(tools);"
   ]
  },
  {
   "cell_type": "markdown",
   "id": "7f42428b",
   "metadata": {},
   "source": [
    "## Define the nodes\n",
    "\n",
    "We now need to define a few different nodes in our graph. In `langgraph`, a node\n",
    "can be either a function or a\n",
    "[runnable](https://js.langchain.com/docs/expression_language/). There are two\n",
    "main nodes we need for this:\n",
    "\n",
    "1. The agent: responsible for deciding what (if any) actions to take.\n",
    "2. A function to invoke tools: if the agent decides to take an action, this node\n",
    "   will then execute that action.\n",
    "\n",
    "We will also need to define some edges. Some of these edges may be conditional.\n",
    "The reason they are conditional is that based on the output of a node, one of\n",
    "several paths may be taken. The path that is taken is not known until that node\n",
    "is run (the LLM decides).\n",
    "\n",
    "1. Conditional Edge: after the agent is called, we should either: a. If the\n",
    "   agent said to take an action, then the function to invoke tools should be\n",
    "   called\\\n",
    "   b. If the agent said that it was finished, then it should finish\n",
    "2. Normal Edge: after the tools are invoked, it should always go back to the\n",
    "   agent to decide what to do next\n",
    "\n",
    "Let's define the nodes, as well as a function to decide how what conditional\n",
    "edge to take."
   ]
  },
  {
   "cell_type": "code",
   "execution_count": 8,
   "id": "6a91fe60",
   "metadata": {},
   "outputs": [],
   "source": [
    "import { END } from \"@langchain/langgraph\";\n",
    "import { AIMessage, BaseMessage, ToolMessage } from \"@langchain/core/messages\";\n",
    "\n",
    "// Define the function that determines whether to continue or not\n",
    "const shouldContinue = (state: { messages: Array<BaseMessage> }) => {\n",
    "  const { messages } = state;\n",
    "  const lastMessage = messages[messages.length - 1] as AIMessage;\n",
    "  // If there is no function call, then we finish\n",
    "  if (!lastMessage.tool_calls || lastMessage.tool_calls.length === 0) {\n",
    "    return END;\n",
    "  }\n",
    "  // Otherwise if there is, we continue\n",
    "  return \"tools\";\n",
    "};\n",
    "\n",
    "// **MODIFICATION**\n",
    "//\n",
    "// Here we don't pass all messages to the model but rather only pass the `N` most recent. Note that this is a terribly simplistic way to handle messages meant as an illustration, and there may be other methods you may want to look into depending on your use case. We also have to make sure we don't truncate the chat history to include the tool message first, as this would cause an API error.\n",
    "const callModel = async (state: { messages: Array<BaseMessage> }) => {\n",
    "  let modelMessages = [];\n",
    "  for (let i = state.messages.length - 1; i >= 0; i--) {\n",
    "    modelMessages.push(state.messages[i]);\n",
    "    if (modelMessages.length >= 5) {\n",
    "      if (ToolMessage.isInstance(modelMessages[modelMessages.length - 1])) {\n",
    "        break;\n",
    "      }\n",
    "    }\n",
    "  }\n",
    "  modelMessages.reverse();\n",
    "\n",
    "  const response = await boundModel.invoke(modelMessages);\n",
    "  // We return an object, because this will get added to the existing list\n",
    "  return { messages: [response] };\n",
    "};"
   ]
  },
  {
   "cell_type": "markdown",
   "id": "f805c6bc",
   "metadata": {},
   "source": [
    "## Define the graph\n",
    "\n",
    "We can now put it all together and define the graph!"
   ]
  },
  {
   "cell_type": "code",
   "execution_count": 9,
   "id": "f79df647",
   "metadata": {},
   "outputs": [
    {
     "data": {
      "text/plain": [
       "StateGraph {\n",
       "  nodes: {\n",
       "    agent: RunnableLambda {\n",
       "      lc_serializable: \u001b[33mfalse\u001b[39m,\n",
       "      lc_kwargs: { func: \u001b[36m[AsyncFunction: callModel]\u001b[39m },\n",
       "      lc_runnable: \u001b[33mtrue\u001b[39m,\n",
       "      name: \u001b[90mundefined\u001b[39m,\n",
       "      lc_namespace: [ \u001b[32m\"langchain_core\"\u001b[39m, \u001b[32m\"runnables\"\u001b[39m ],\n",
       "      func: \u001b[36m[AsyncFunction: callModel]\u001b[39m\n",
       "    },\n",
       "    tools: ToolNode {\n",
       "      lc_serializable: \u001b[33mfalse\u001b[39m,\n",
       "      lc_kwargs: {},\n",
       "      lc_runnable: \u001b[33mtrue\u001b[39m,\n",
       "      name: \u001b[32m\"tools\"\u001b[39m,\n",
       "      lc_namespace: [ \u001b[32m\"langgraph\"\u001b[39m ],\n",
       "      func: \u001b[36m[Function: func]\u001b[39m,\n",
       "      tags: \u001b[90mundefined\u001b[39m,\n",
       "      config: { tags: [] },\n",
       "      trace: \u001b[33mtrue\u001b[39m,\n",
       "      recurse: \u001b[33mtrue\u001b[39m,\n",
       "      tools: [\n",
       "        DynamicStructuredTool {\n",
       "          lc_serializable: \u001b[33mfalse\u001b[39m,\n",
       "          lc_kwargs: \u001b[36m[Object]\u001b[39m,\n",
       "          lc_runnable: \u001b[33mtrue\u001b[39m,\n",
       "          name: \u001b[32m\"search\"\u001b[39m,\n",
       "          verbose: \u001b[33mfalse\u001b[39m,\n",
       "          callbacks: \u001b[90mundefined\u001b[39m,\n",
       "          tags: [],\n",
       "          metadata: {},\n",
       "          returnDirect: \u001b[33mfalse\u001b[39m,\n",
       "          description: \u001b[32m\"Call to surf the web.\"\u001b[39m,\n",
       "          func: \u001b[36m[AsyncFunction: func]\u001b[39m,\n",
       "          schema: \u001b[36m[ZodObject]\u001b[39m\n",
       "        }\n",
       "      ]\n",
       "    }\n",
       "  },\n",
       "  edges: Set(2) { [ \u001b[32m\"__start__\"\u001b[39m, \u001b[32m\"agent\"\u001b[39m ], [ \u001b[32m\"tools\"\u001b[39m, \u001b[32m\"agent\"\u001b[39m ] },\n",
       "  branches: {\n",
       "    agent: {\n",
       "      shouldContinue: Branch {\n",
       "        condition: \u001b[36m[Function: shouldContinue]\u001b[39m,\n",
       "        ends: { action: \u001b[32m\"tools\"\u001b[39m, __end__: \u001b[32m\"__end__\"\u001b[39m },\n",
       "        then: \u001b[90mundefined\u001b[39m\n",
       "      }\n",
       "    }\n",
       "  },\n",
       "  entryPoint: \u001b[90mundefined\u001b[39m,\n",
       "  compiled: \u001b[33mtrue\u001b[39m,\n",
       "  supportMultipleEdges: \u001b[33mtrue\u001b[39m,\n",
       "  channels: {\n",
       "    messages: BinaryOperatorAggregate {\n",
       "      lc_graph_name: \u001b[32m\"BinaryOperatorAggregate\"\u001b[39m,\n",
       "      value: [],\n",
       "      operator: \u001b[36m[Function: value]\u001b[39m,\n",
       "      initialValueFactory: \u001b[36m[Function: default]\u001b[39m\n",
       "    }\n",
       "  },\n",
       "  waitingEdges: Set(0) {}\n",
       "}"
      ]
     },
     "execution_count": 9,
     "metadata": {},
     "output_type": "execute_result"
    }
   ],
   "source": [
    "import { END, START, StateGraph } from \"@langchain/langgraph\";\n",
    "\n",
    "// Define a new graph\n",
    "const workflow = new StateGraph({\n",
    "  channels: graphState,\n",
    "});\n",
    "\n",
    "// Define the two nodes we will cycle between\n",
    "workflow.addNode(\"agent\", callModel);\n",
    "workflow.addNode(\"tools\", toolNode);\n",
    "\n",
    "// Set the entrypoint as `agent`\n",
    "// This means that this node is the first one called\n",
    "workflow.addEdge(START, \"agent\");\n",
    "\n",
    "// We now add a conditional edge\n",
    "workflow.addConditionalEdges(\n",
    "  // First, we define the start node. We use `agent`.\n",
    "  // This means these are the edges taken after the `agent` node is called.\n",
    "  \"agent\",\n",
    "  // Next, we pass in the function that will determine which node is called next.\n",
    "  shouldContinue,\n",
    "  // Finally we pass in a mapping.\n",
    "  // The keys are strings, and the values are other nodes.\n",
    "  // END is a special node marking that the graph should finish.\n",
    "  // What will happen is we will call `shouldContinue`, and then the output of that\n",
    "  // will be matched against the keys in this mapping.\n",
    "  // Based on which one it matches, that node will then be called.\n",
    "  {\n",
    "    // If `action`, then we call the tool node.\n",
    "    action: \"tools\",\n",
    "    // Otherwise we finish.\n",
    "    [END]: END,\n",
    "  },\n",
    ");\n",
    "\n",
    "// We now add a normal edge from `action` to `agent`.\n",
    "// This means that after `action` is called, `agent` node is called next.\n",
    "workflow.addEdge(\"tools\", \"agent\");\n",
    "\n",
    "// Finally, we compile it!\n",
    "// This compiles it into a LangChain Runnable,\n",
    "// meaning you can use it as you would any other runnable\n",
    "const app = workflow.compile();"
   ]
  },
  {
   "cell_type": "markdown",
   "id": "9ba2d258",
   "metadata": {},
   "source": [
    "## Use it!\n",
    "\n",
    "We can now use it! This now exposes the\n",
    "[same interface](https://js.langchain.com/docs/expression_language/) as all\n",
    "other LangChain runnables."
   ]
  },
  {
   "cell_type": "code",
   "execution_count": 10,
   "id": "f6449f83",
   "metadata": {},
   "outputs": [
    {
     "name": "stdout",
     "output_type": "stream",
     "text": [
      "{\n",
      "  messages: [\n",
      "    HumanMessage {\n",
      "      lc_serializable: true,\n",
      "      lc_kwargs: {\n",
      "        content: \"what is the weather in sf? Don't give up! Keep using your tools.\",\n",
      "        additional_kwargs: {},\n",
      "        response_metadata: {}\n",
      "      },\n",
      "      lc_namespace: [ \"langchain_core\", \"messages\" ],\n",
      "      content: \"what is the weather in sf? Don't give up! Keep using your tools.\",\n",
      "      name: undefined,\n",
      "      additional_kwargs: {},\n",
      "      response_metadata: {}\n",
      "    }\n",
      "  ]\n",
      "}\n",
      "-----\n",
      "\n"
     ]
    },
    {
     "name": "stderr",
     "output_type": "stream",
     "text": [
      "Skipping write for channel branch:agent:shouldContinue:undefined which has no readers\n"
     ]
    },
    {
     "name": "stdout",
     "output_type": "stream",
     "text": [
      "{\n",
      "  messages: [\n",
      "    HumanMessage {\n",
      "      lc_serializable: true,\n",
      "      lc_kwargs: {\n",
      "        content: \"what is the weather in sf? Don't give up! Keep using your tools.\",\n",
      "        additional_kwargs: {},\n",
      "        response_metadata: {}\n",
      "      },\n",
      "      lc_namespace: [ \"langchain_core\", \"messages\" ],\n",
      "      content: \"what is the weather in sf? Don't give up! Keep using your tools.\",\n",
      "      name: undefined,\n",
      "      additional_kwargs: {},\n",
      "      response_metadata: {}\n",
      "    },\n",
      "    AIMessage {\n",
      "      lc_serializable: true,\n",
      "      lc_kwargs: {\n",
      "        content: [ [Object], [Object] ],\n",
      "        additional_kwargs: {\n",
      "          id: \"msg_01Bgr5QEcJGJLVMSCEMnGBmB\",\n",
      "          type: \"message\",\n",
      "          role: \"assistant\",\n",
      "          model: \"claude-3-haiku-20240307\",\n",
      "          stop_sequence: null,\n",
      "          usage: [Object],\n",
      "          stop_reason: \"tool_use\"\n",
      "        },\n",
      "        tool_calls: [ [Object] ],\n",
      "        invalid_tool_calls: [],\n",
      "        response_metadata: {}\n",
      "      },\n",
      "      lc_namespace: [ \"langchain_core\", \"messages\" ],\n",
      "      content: [\n",
      "        {\n",
      "          type: \"text\",\n",
      "          text: \"Okay, let's try to find the weather in San Francisco using the available tools.\"\n",
      "        },\n",
      "        {\n",
      "          type: \"tool_use\",\n",
      "          id: \"toolu_01PBVj5LCRkSYcSCGLTMVFj3\",\n",
      "          name: \"search\",\n",
      "          input: [Object]\n",
      "        }\n",
      "      ],\n",
      "      name: undefined,\n",
      "      additional_kwargs: {\n",
      "        id: \"msg_01Bgr5QEcJGJLVMSCEMnGBmB\",\n",
      "        type: \"message\",\n",
      "        role: \"assistant\",\n",
      "        model: \"claude-3-haiku-20240307\",\n",
      "        stop_sequence: null,\n",
      "        usage: { input_tokens: 378, output_tokens: 73 },\n",
      "        stop_reason: \"tool_use\"\n",
      "      },\n",
      "      response_metadata: {\n",
      "        id: \"msg_01Bgr5QEcJGJLVMSCEMnGBmB\",\n",
      "        model: \"claude-3-haiku-20240307\",\n",
      "        stop_sequence: null,\n",
      "        usage: { input_tokens: 378, output_tokens: 73 },\n",
      "        stop_reason: \"tool_use\"\n",
      "      },\n",
      "      tool_calls: [\n",
      "        {\n",
      "          name: \"search\",\n",
      "          args: [Object],\n",
      "          id: \"toolu_01PBVj5LCRkSYcSCGLTMVFj3\"\n",
      "        }\n",
      "      ],\n",
      "      invalid_tool_calls: []\n",
      "    }\n",
      "  ]\n",
      "}\n",
      "-----\n",
      "\n"
     ]
    }
   ],
   "source": [
    "import { HumanMessage } from \"@langchain/core/messages\";\n",
    "\n",
    "const inputs = {\n",
    "  messages: [\n",
    "    new HumanMessage(\n",
    "      \"what is the weather in sf? Don't give up! Keep using your tools.\",\n",
    "    ),\n",
    "  ],\n",
    "};\n",
    "for await (const output of await app.stream(inputs, { streamMode: \"values\" })) {\n",
    "  console.log(output);\n",
    "  console.log(\"-----\\n\");\n",
    "}"
   ]
  },
  {
   "cell_type": "code",
   "execution_count": null,
   "id": "d7a25624",
   "metadata": {},
   "outputs": [],
   "source": []
  }
 ],
 "metadata": {
  "jupytext": {
   "text_representation": {
    "extension": ".py",
    "format_name": "percent",
    "format_version": "1.3",
    "jupytext_version": "1.16.1"
   }
  },
  "kernelspec": {
   "display_name": "Deno",
   "language": "typescript",
   "name": "deno"
  },
  "language_info": {
   "file_extension": ".ts",
   "mimetype": "text/x.typescript",
   "name": "typescript",
   "nb_converter": "script",
   "pygments_lexer": "typescript",
   "version": "5.4.5"
  }
 },
 "nbformat": 4,
 "nbformat_minor": 5
}

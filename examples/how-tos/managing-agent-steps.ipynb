{
  "cells": [
    {
      "cell_type": "markdown",
      "id": "38a67792",
      "metadata": {},
      "source": [
        "# How to manage agent steps\n",
        "\n",
        "In this example we will build a ReAct Agent that explicitly manages intermediate\n",
        "steps.\n",
        "\n",
        "The previous examples just put all messages into the model, but that extra\n",
        "context can distract the agent and add latency to the API calls. In this example\n",
        "we will only include the `N` most recent messages in the chat history. Note that\n",
        "this is meant to be illustrative of general state management.\n",
        "\n",
        "## Setup\n",
        "\n",
        "First we need to install required packages:\n",
        "\n",
        "```bash\n",
        "yarn add @langchain/langgraph @langchain/openai @langchain/core\n",
        "```\n",
        "\n",
        "Next, we need to set API keys for Anthropic (the LLM we will use)."
      ]
    },
    {
      "cell_type": "code",
      "execution_count": 1,
      "id": "36033b66",
      "metadata": {},
      "outputs": [],
      "source": [
        "// process.env.OPENAI_API_KEY = \"sk_...\";"
      ]
    },
    {
      "cell_type": "markdown",
      "id": "e98d96da",
      "metadata": {},
      "source": [
        "Optionally, we can set API key for\n",
        "[LangSmith tracing](https://smith.langchain.com/), which will give us\n",
        "best-in-class observability."
      ]
    },
    {
      "cell_type": "code",
      "execution_count": 2,
      "id": "38934fde",
      "metadata": {},
      "outputs": [
        {
          "name": "stdout",
          "output_type": "stream",
          "text": [
            "Managing Agent Steps: LangGraphJS\n"
          ]
        }
      ],
      "source": [
        "// Optional, add tracing in LangSmith\n",
        "// process.env.LANGCHAIN_API_KEY = \"ls__...\";\n",
        "process.env.LANGCHAIN_CALLBACKS_BACKGROUND = \"true\";\n",
        "process.env.LANGCHAIN_TRACING_V2 = \"true\";\n",
        "process.env.LANGCHAIN_PROJECT = \"Managing Agent Steps: LangGraphJS\";"
      ]
    },
    {
      "cell_type": "markdown",
      "id": "8aeecba6",
      "metadata": {},
      "source": [
        "## Set up the State\n",
        "\n",
        "The main type of graph in `langgraph` is the\n",
        "[StateGraph](/langgraphjs/reference/classes/langgraph.StateGraph.html).\n",
        "This graph is parameterized by a state object that it passes around to each\n",
        "node. Each node then returns operations to update that state. These operations\n",
        "can either SET specific attributes on the state (e.g. overwrite the existing\n",
        "values) or ADD to the existing attribute. Whether to set or add is denoted in\n",
        "the state object you construct the graph with.\n",
        "\n",
        "For this example, the state we will track will just be a list of messages. We\n",
        "want each node to just add messages to that list. Therefore, we will define the\n",
        "state as follows:"
      ]
    },
    {
      "cell_type": "code",
      "execution_count": 3,
      "id": "e95ef6be",
      "metadata": {},
      "outputs": [],
      "source": [
        "import { Annotation } from \"@langchain/langgraph\";\n",
        "import { BaseMessage } from \"@langchain/core/messages\";\n",
        "\n",
        "const AgentState = Annotation.Root({\n",
        "  messages: Annotation<BaseMessage[]>({\n",
        "    reducer: (x, y) => x.concat(y),\n",
        "  }),\n",
        "});"
      ]
    },
    {
      "cell_type": "markdown",
      "id": "d6954509",
      "metadata": {},
      "source": [
        "## Set up the tools\n",
        "\n",
        "We will first define the tools we want to use. For this simple example, we will\n",
        "create a placeholder search engine. It is really easy to create your own tools -\n",
        "see documentation\n",
        "[here](https://js.langchain.com/docs/modules/agents/tools/dynamic) on how to do\n",
        "that."
      ]
    },
    {
      "cell_type": "code",
      "execution_count": 4,
      "id": "ec9f73a5",
      "metadata": {},
      "outputs": [],
      "source": [
        "import { DynamicStructuredTool } from \"@langchain/core/tools\";\n",
        "import { z } from \"zod\";\n",
        "\n",
        "const searchTool = new DynamicStructuredTool({\n",
        "  name: \"search\",\n",
        "  description: \"Call to surf the web.\",\n",
        "  schema: z.object({\n",
        "    query: z.string().describe(\"The query to use in your search.\"),\n",
        "  }),\n",
        "  func: async ({}: { query: string }) => {\n",
        "    // This is a placeholder, but don't tell the LLM that...\n",
        "    return \"Try again in a few seconds! Checking with the weathermen... Call be again next.\";\n",
        "  },\n",
        "});\n",
        "\n",
        "const tools = [searchTool];"
      ]
    },
    {
      "cell_type": "markdown",
      "id": "e8669db6",
      "metadata": {},
      "source": [
        "We can now wrap these tools in a simple\n",
        "[ToolNode](/langgraphjs/reference/classes/langgraph_prebuilt.ToolNode.html).\\\n",
        "This is a simple class that takes in a list of messages containing an\n",
        "[AIMessages with tool_calls](https://v02.api.js.langchain.com/classes/langchain_core_messages_ai.AIMessage.html),\n",
        "runs the tools, and returns the output as\n",
        "[ToolMessage](https://v02.api.js.langchain.com/classes/langchain_core_messages_tool.ToolMessage.html)s."
      ]
    },
    {
      "cell_type": "code",
      "execution_count": 5,
      "id": "7f4829c3",
      "metadata": {},
      "outputs": [],
      "source": [
        "import { ToolNode } from \"@langchain/langgraph/prebuilt\";\n",
        "\n",
        "const toolNode = new ToolNode<typeof AgentState.State>(tools);"
      ]
    },
    {
      "cell_type": "markdown",
      "id": "81a0a750",
      "metadata": {},
      "source": [
        "## Set up the model\n",
        "\n",
        "Now we need to load the chat model we want to use. This should satisfy two\n",
        "criteria:\n",
        "\n",
        "1. It should work with messages, since our state is primarily a list of messages\n",
        "   (chat history).\n",
        "2. It should work with tool calling, since we are using a prebuilt\n",
        "   [ToolNode](/langgraphjs/reference/classes/langgraph_prebuilt.ToolNode.html)\n",
        "\n",
        "**Note:** these model requirements are not requirements for using LangGraph -\n",
        "they are just requirements for this particular example."
      ]
    },
    {
      "cell_type": "code",
      "execution_count": 6,
      "id": "cf1fcc3f",
      "metadata": {},
      "outputs": [],
      "source": [
        "import { ChatOpenAI } from \"@langchain/openai\";\n",
        "\n",
        "const model = new ChatOpenAI({\n",
        "  model: \"gpt-4o\",\n",
        "  temperature: 0,\n",
        "});"
      ]
    },
    {
      "cell_type": "code",
      "execution_count": 7,
      "id": "a0903bb8",
      "metadata": {},
      "outputs": [],
      "source": [
        "// After we've done this, we should make sure the model knows that it has these tools available to call.\n",
        "// We can do this by binding the tools to the model class.\n",
        "const boundModel = model.bindTools(tools);"
      ]
    },
    {
      "cell_type": "markdown",
      "id": "c96f67f3",
      "metadata": {},
      "source": [
        "## Define the nodes\n",
        "\n",
        "We now need to define a few different nodes in our graph. In `langgraph`, a node\n",
        "can be either a function or a\n",
        "[runnable](https://js.langchain.com/docs/expression_language/). There are two\n",
        "main nodes we need for this:\n",
        "\n",
        "1. The agent: responsible for deciding what (if any) actions to take.\n",
        "2. A function to invoke tools: if the agent decides to take an action, this node\n",
        "   will then execute that action.\n",
        "\n",
        "We will also need to define some edges. Some of these edges may be conditional.\n",
        "The reason they are conditional is that based on the output of a node, one of\n",
        "several paths may be taken. The path that is taken is not known until that node\n",
        "is run (the LLM decides).\n",
        "\n",
        "1. Conditional Edge: after the agent is called, we should either: a. If the\n",
        "   agent said to take an action, then the function to invoke tools should be\n",
        "   called\\\n",
        "   b. If the agent said that it was finished, then it should finish\n",
        "2. Normal Edge: after the tools are invoked, it should always go back to the\n",
        "   agent to decide what to do next\n",
        "\n",
        "Let's define the nodes, as well as a function to decide how what conditional\n",
        "edge to take."
      ]
    },
    {
      "cell_type": "code",
      "execution_count": 8,
      "id": "1249b1b3",
      "metadata": {},
      "outputs": [],
      "source": [
        "import { END } from \"@langchain/langgraph\";\n",
        "import { AIMessage, ToolMessage } from \"@langchain/core/messages\";\n",
        "import { RunnableConfig } from \"@langchain/core/runnables\";\n",
        "\n",
        "// Define the function that determines whether to continue or not\n",
        "const shouldContinue = (state: typeof AgentState.State) => {\n",
        "  const { messages } = state;\n",
        "  const lastMessage = messages[messages.length - 1] as AIMessage;\n",
        "  // If there is no function call, then we finish\n",
        "  if (!lastMessage.tool_calls || lastMessage.tool_calls.length === 0) {\n",
        "    return END;\n",
        "  }\n",
        "  // Otherwise if there is, we continue\n",
        "  return \"tools\";\n",
        "};\n",
        "\n",
        "// **MODIFICATION**\n",
        "//\n",
        "// Here we don't pass all messages to the model but rather only pass the `N` most recent. Note that this is a terribly simplistic way to handle messages meant as an illustration, and there may be other methods you may want to look into depending on your use case. We also have to make sure we don't truncate the chat history to include the tool message first, as this would cause an API error.\n",
        "const callModel = async (\n",
        "  state: typeof AgentState.State,\n",
        "  config?: RunnableConfig,\n",
        ") => {\n",
        "  let modelMessages = [];\n",
        "  for (let i = state.messages.length - 1; i >= 0; i--) {\n",
        "    modelMessages.push(state.messages[i]);\n",
        "    if (modelMessages.length >= 5) {\n",
        "      if (!ToolMessage.isInstance(modelMessages[modelMessages.length - 1])) {\n",
        "        break;\n",
        "      }\n",
        "    }\n",
        "  }\n",
        "  modelMessages.reverse();\n",
        "\n",
        "  const response = await boundModel.invoke(modelMessages, config);\n",
        "  // We return an object, because this will get added to the existing list\n",
        "  return { messages: [response] };\n",
        "};"
      ]
    },
    {
      "cell_type": "markdown",
      "id": "227a5040",
      "metadata": {},
      "source": [
        "## Define the graph\n",
        "\n",
        "We can now put it all together and define the graph!"
      ]
    },
    {
      "cell_type": "code",
      "execution_count": 9,
      "id": "ff5f7b65",
      "metadata": {},
      "outputs": [],
      "source": [
        "import { START, StateGraph } from \"@langchain/langgraph\";\n",
        "\n",
        "// Define a new graph\n",
        "const workflow = new StateGraph(AgentState)\n",
        "  .addNode(\"agent\", callModel)\n",
        "  .addNode(\"tools\", toolNode)\n",
        "  .addEdge(START, \"agent\")\n",
        "  .addConditionalEdges(\n",
        "    \"agent\",\n",
        "    shouldContinue,\n",
        "  )\n",
        "  .addEdge(\"tools\", \"agent\");\n",
        "\n",
        "// Finally, we compile it!\n",
        "// This compiles it into a LangChain Runnable,\n",
        "// meaning you can use it as you would any other runnable\n",
        "const app = workflow.compile();"
      ]
    },
    {
      "cell_type": "markdown",
      "id": "6049db62",
      "metadata": {},
      "source": [
        "## Use it!\n",
        "\n",
        "We can now use it! This now exposes the\n",
        "[same interface](https://js.langchain.com/docs/expression_language/) as all\n",
        "other LangChain runnables."
      ]
    },
    {
      "cell_type": "code",
      "execution_count": 10,
      "id": "7bd7315e",
      "metadata": {},
      "outputs": [
        {
          "name": "stdout",
          "output_type": "stream",
          "text": [
            "[human]: what is the weather in sf? Don't give up! Keep using your tools.\n",
            "-----\n",
            "\n",
            "[ai]:  \n",
            "Tools: \n",
            "- search({\"query\":\"current weather in San Francisco\"})\n",
            "-----\n",
            "\n",
            "[tool]: Try again in a few seconds! Checking with the weathermen... Call be again next.\n",
            "-----\n",
            "\n",
            "[ai]:  \n",
            "Tools: \n",
            "- search({\"query\":\"current weather in San Francisco\"})\n",
            "-----\n",
            "\n",
            "[tool]: Try again in a few seconds! Checking with the weathermen... Call be again next.\n",
            "-----\n",
            "\n",
            "[ai]:  \n",
            "Tools: \n",
            "- search({\"query\":\"current weather in San Francisco\"})\n",
            "-----\n",
            "\n",
            "[tool]: Try again in a few seconds! Checking with the weathermen... Call be again next.\n",
            "-----\n",
            "\n",
            "[ai]:  \n",
            "Tools: \n",
            "- search({\"query\":\"current weather in San Francisco\"})\n",
            "-----\n",
            "\n",
            "[tool]: Try again in a few seconds! Checking with the weathermen... Call be again next.\n",
            "-----\n",
            "\n",
            "[ai]:  \n",
            "Tools: \n",
            "- search({\"query\":\"current weather in San Francisco\"})\n",
            "-----\n",
            "\n",
            "As expected, maximum steps reached. Exiting.\n"
          ]
        }
      ],
      "source": [
        "import { HumanMessage, isAIMessage } from \"@langchain/core/messages\";\n",
        "import { GraphRecursionError } from \"@langchain/langgraph\";\n",
        "\n",
        "const prettyPrint = (message: BaseMessage) => {\n",
        "  let txt = `[${message._getType()}]: ${message.content}`;\n",
        "  if (\n",
        "    (isAIMessage(message) && (message as AIMessage)?.tool_calls?.length) ||\n",
        "    0 > 0\n",
        "  ) {\n",
        "    const tool_calls = (message as AIMessage)?.tool_calls\n",
        "      ?.map((tc) => `- ${tc.name}(${JSON.stringify(tc.args)})`)\n",
        "      .join(\"\\n\");\n",
        "    txt += ` \\nTools: \\n${tool_calls}`;\n",
        "  }\n",
        "  console.log(txt);\n",
        "};\n",
        "\n",
        "const inputs = {\n",
        "  messages: [\n",
        "    new HumanMessage(\n",
        "      \"what is the weather in sf? Don't give up! Keep using your tools.\",\n",
        "    ),\n",
        "  ],\n",
        "};\n",
        "// Setting the recursionLimit will set a max number of steps. We expect this to endlessly loop :)\n",
        "try {\n",
        "  for await (\n",
        "    const output of await app.stream(inputs, {\n",
        "      streamMode: \"values\",\n",
        "      recursionLimit: 10,\n",
        "    })\n",
        "  ) {\n",
        "    const lastMessage = output.messages[output.messages.length - 1];\n",
        "    prettyPrint(lastMessage);\n",
        "    console.log(\"-----\\n\");\n",
        "  }\n",
        "} catch (e) {\n",
        "  // Since we are truncating the chat history, the agent never gets the chance\n",
        "  // to see enough information to know to stop, so it will keep looping until we hit the\n",
        "  // maximum recursion limit.\n",
        "  if ((e as GraphRecursionError).name === \"GraphRecursionError\") {\n",
        "    console.log(\"As expected, maximum steps reached. Exiting.\");\n",
        "  } else {\n",
        "    console.error(e);\n",
        "  }\n",
        "}"
      ]
    }
  ],
  "metadata": {
    "kernelspec": {
      "display_name": "TypeScript",
      "language": "typescript",
      "name": "tslab"
    },
    "language_info": {
      "codemirror_mode": {
        "mode": "typescript",
        "name": "javascript",
        "typescript": true
      },
      "file_extension": ".ts",
      "mimetype": "text/typescript",
      "name": "typescript",
      "version": "3.7.2"
    }
  },
  "nbformat": 4,
  "nbformat_minor": 5
}

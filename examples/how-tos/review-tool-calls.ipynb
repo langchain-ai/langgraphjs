{
 "cells": [
  {
   "cell_type": "markdown",
   "metadata": {},
   "source": [
    "# Review Tool Calls\n",
    "\n",
    "Human-in-the-loop (HIL) interactions are crucial for [agentic systems](https://langchain-ai.github.io/langgraphjs/concepts/agentic_concepts/#human-in-the-loop). A common pattern is to add some human in the loop step after certain tool calls. These tool calls often lead to either a function call or saving of some information. Examples include:\n",
    "\n",
    "- A tool call to execute SQL, which will then be run by the tool\n",
    "- A tool call to generate a summary, which will then be saved to the State of the graph\n",
    "\n",
    "Note that using tool calls is common **whether actually calling tools or not**.\n",
    "\n",
    "There are typically a few different interactions you may want to do here:\n",
    "\n",
    "1. Approve the tool call and continue\n",
    "2. Modify the tool call manually and then continue\n",
    "3. Give natural language feedback, and then pass that back to the agent instead of continuing\n",
    "\n",
    "We can implement this in LangGraph using a [breakpoint](https://langchain-ai.github.io/langgraphjs/how-tos/breakpoints/): breakpoints allow us to interrupt graph execution before a specific step. At this breakpoint, we can manually update the graph state taking one of the three options above\n",
    "\n",
    "## Setup\n",
    "\n",
    "First we need to install the packages required\n",
    "\n",
    "```bash\n",
    "npm install @langchain/langgraph @langchain/anthropic @langchain/core\n",
    "```\n",
    "\n",
    "Next, we need to set API keys for Anthropic (the LLM we will use)\n",
    "\n",
    "```bash\n",
    "export ANTHROPIC_API_KEY=your-api-key\n",
    "```\n",
    "\n",
    "Optionally, we can set API key for [LangSmith tracing](https://smith.langchain.com/), which will give us best-in-class observability.\n",
    "\n",
    "```bash\n",
    "export LANGCHAIN_TRACING_V2=\"true\"\n",
    "export LANGCHAIN_CALLBACKS_BACKGROUND=\"true\"\n",
    "export LANGCHAIN_API_KEY=your-api-key\n",
    "```"
   ]
  },
  {
   "cell_type": "markdown",
   "metadata": {},
   "source": [
    "## Simple Usage\n",
    "\n",
    "Let's set up a very simple graph that facilitates this.\n",
    "First, we will have an LLM call that decides what action to take.\n",
    "Then we go to a human node. This node actually doesn't do anything - the idea is that we interrupt before this node and then apply any updates to the state.\n",
    "After that, we check the state and either route back to the LLM or to the correct tool.\n",
    "\n",
    "Let's see this in action!"
   ]
  },
  {
   "cell_type": "code",
   "execution_count": 1,
   "metadata": {},
   "outputs": [],
   "source": [
    "import {\n",
    "  MessagesAnnotation,\n",
    "  StateGraph,\n",
    "  START,\n",
    "  END,\n",
    "  MemorySaver\n",
    "} from \"@langchain/langgraph\";\n",
    "import { ChatAnthropic } from \"@langchain/anthropic\";\n",
    "import { tool } from '@langchain/core/tools';\n",
    "import { z } from 'zod';\n",
    "import { type AIMessage, isAIMessage } from '@langchain/core/messages';\n",
    "import { ToolNode } from '@langchain/langgraph/prebuilt'\n",
    "\n",
    "const getWeather = tool((input) => {\n",
    "    const city = input.city;\n",
    "    console.log(\"----\");\n",
    "    console.log(`Searching for: ${city}`);\n",
    "    console.log(\"----\");\n",
    "    return \"Sunny!\";\n",
    "}, {\n",
    "    name: 'get_weather',\n",
    "    description: 'Call to get the current weather.',\n",
    "    schema: z.object({\n",
    "        city: z.string().describe(\"City to get the weather for.\"),\n",
    "    })\n",
    "})\n",
    "\n",
    "const tools = [getWeather];\n",
    "\n",
    "const model = new ChatAnthropic({ model: \"claude-3-5-sonnet-20240620\" });\n",
    "const modelWithTools = model.bindTools([getWeather]);\n",
    "\n",
    "const callLLM = async (state: typeof MessagesAnnotation.State) => {\n",
    "  const response = await modelWithTools.invoke(state.messages);\n",
    "  return { messages: [response] };\n",
    "}\n",
    "\n",
    "const humanReviewNode = async (state: typeof MessagesAnnotation.State) => {\n",
    "  // Node waits for human input and then goes to next node\n",
    "  return { messages: [] };\n",
    "};\n",
    "\n",
    "function routeAfterLLM(state: typeof MessagesAnnotation.State): typeof END | \"human_review_node\" {\n",
    "  const lastMessage: AIMessage = state.messages[state.messages.length - 1];\n",
    "  if (lastMessage.tool_calls?.length === 0) {\n",
    "      return END;\n",
    "  } else {\n",
    "      return \"human_review_node\";\n",
    "  }\n",
    "}\n",
    "\n",
    "function routeAfterHuman(state: typeof MessagesAnnotation.State): \"tools\" | \"llm\" {\n",
    "  if (isAIMessage(state.messages[state.messages.length - 1])) {\n",
    "      return \"tools\";\n",
    "  } else {\n",
    "      return \"llm\";\n",
    "  }\n",
    "}\n",
    "\n",
    "// State will be { messages: Messages[] }\n",
    "const workflow = new StateGraph(MessagesAnnotation)\n",
    "    // Define the two nodes we will cycle between\n",
    "    .addNode(\"llm\", callLLM)\n",
    "    .addNode(\"tools\", new ToolNode(tools))\n",
    "    .addNode(\"human_review_node\", humanReviewNode)\n",
    "    .addEdge(START, \"llm\")\n",
    "    .addConditionalEdges(\n",
    "        \"llm\",\n",
    "        routeAfterLLM,\n",
    "        [\"human_review_node\", END]\n",
    "    )\n",
    "    .addConditionalEdges(\n",
    "        \"human_review_node\",\n",
    "        routeAfterHuman,\n",
    "        [\"tools\", \"llm\"]\n",
    "    )\n",
    "    .addEdge(\"tools\", \"llm\");\n",
    "\n",
    "// Setup memory\n",
    "const memory = new MemorySaver();\n",
    "\n",
    "const graph = workflow.compile({ interruptBefore: [\"human_review_node\"], checkpointer: memory });"
   ]
  },
  {
   "cell_type": "code",
   "execution_count": 2,
   "metadata": {},
   "outputs": [
    {
     "data": {
      "image/png": "[encoded data removed]"
     },
     "metadata": {},
     "output_type": "display_data"
    }
   ],
   "source": [
    "import * as tslab from \"tslab\";\n",
    "\n",
    "const drawableGraph = graph.getGraph();\n",
    "const image = await drawableGraph.drawMermaidPng();\n",
    "const arrayBuffer = await image.arrayBuffer();\n",
    "\n",
    "await tslab.display.png(new Uint8Array(arrayBuffer));"
   ]
  },
  {
   "cell_type": "markdown",
   "metadata": {},
   "source": [
    "## Example with no review\n",
    "\n",
    "Let's look at an example when no review is required (because no tools are called)"
   ]
  },
  {
   "cell_type": "code",
   "execution_count": 3,
   "metadata": {},
   "outputs": [
    {
     "name": "stdout",
     "output_type": "stream",
     "text": [
      "================================ human Message (1) =================================\n",
      "hi!\n",
      "================================ ai Message (1) =================================\n",
      "Hello! Welcome! How can I assist you today? Is there anything specific you'd like to know or discuss?\n"
     ]
    }
   ],
   "source": [
    "let inputs = { messages: [{ role: \"user\", content: \"hi!\" }] };\n",
    "let config = { configurable: { thread_id: \"1\" }, streamMode: \"values\" as const };\n",
    "\n",
    "let stream = await graph.stream(inputs, config);\n",
    "\n",
    "for await (const event of stream) {\n",
    "    const recentMsg = event.messages[event.messages.length - 1];\n",
    "    console.log(`================================ ${recentMsg._getType()} Message (1) =================================`)\n",
    "    console.log(recentMsg.content);\n",
    "}"
   ]
  },
  {
   "cell_type": "markdown",
   "metadata": {},
   "source": [
    "If we check the state, we can see that it is finished, since there are no next steps to take:"
   ]
  },
  {
   "cell_type": "code",
   "execution_count": 4,
   "metadata": {},
   "outputs": [
    {
     "name": "stdout",
     "output_type": "stream",
     "text": [
      "[]\n"
     ]
    }
   ],
   "source": [
    "let state = await graph.getState(config);\n",
    "console.log(state.next);"
   ]
  },
  {
   "cell_type": "markdown",
   "metadata": {},
   "source": [
    "## Example of approving tool\n",
    "\n",
    "Let's now look at what it looks like to approve a tool call"
   ]
  },
  {
   "cell_type": "code",
   "execution_count": 5,
   "metadata": {},
   "outputs": [
    {
     "name": "stdout",
     "output_type": "stream",
     "text": [
      "================================ human Message (1) =================================\n",
      "what's the weather in SF?\n",
      "================================ ai Message (1) =================================\n",
      "[\n",
      "  {\n",
      "    type: 'text',\n",
      "    text: 'To get the weather in San Francisco, I can use the get_weather function. Let me fetch that information for you.'\n",
      "  },\n",
      "  {\n",
      "    type: 'tool_use',\n",
      "    id: 'toolu_01TZ9HWpeQbgRnkoV5zhLAoB',\n",
      "    name: 'get_weather',\n",
      "    input: { city: 'San Francisco' }\n",
      "  }\n",
      "]\n"
     ]
    }
   ],
   "source": [
    "inputs = { messages: [{ role: \"user\", content: \"what's the weather in SF?\" }] };\n",
    "config = { configurable: { thread_id: \"2\" }, streamMode: \"values\" as const };\n",
    "\n",
    "stream = await graph.stream(inputs, config);\n",
    "\n",
    "for await (const event of stream) {\n",
    "    const recentMsg = event.messages[event.messages.length - 1];\n",
    "    console.log(`================================ ${recentMsg._getType()} Message (1) =================================`)\n",
    "    console.log(recentMsg.content);\n",
    "}"
   ]
  },
  {
   "cell_type": "markdown",
   "metadata": {},
   "source": [
    "If we now check, we can see that it is waiting on human review"
   ]
  },
  {
   "cell_type": "code",
   "execution_count": 6,
   "metadata": {},
   "outputs": [
    {
     "name": "stdout",
     "output_type": "stream",
     "text": [
      "[ 'human_review_node' ]\n"
     ]
    }
   ],
   "source": [
    "state = await graph.getState(config);\n",
    "console.log(state.next);"
   ]
  },
  {
   "cell_type": "markdown",
   "metadata": {},
   "source": [
    "To approve the tool call, we can just continue the thread with no edits. To do this, we just create a new run with no inputs."
   ]
  },
  {
   "cell_type": "code",
   "execution_count": 7,
   "metadata": {},
   "outputs": [
    {
     "name": "stdout",
     "output_type": "stream",
     "text": [
      "================================ ai Message (1) =================================\n",
      "[\n",
      "  {\n",
      "    type: 'text',\n",
      "    text: 'To get the weather in San Francisco, I can use the get_weather function. Let me fetch that information for you.'\n",
      "  },\n",
      "  {\n",
      "    type: 'tool_use',\n",
      "    id: 'toolu_01TZ9HWpeQbgRnkoV5zhLAoB',\n",
      "    name: 'get_weather',\n",
      "    input: { city: 'San Francisco' }\n",
      "  }\n",
      "]\n",
      "----\n",
      "Searching for: San Francisco\n",
      "----\n",
      "================================ tool Message (1) =================================\n",
      "Sunny!\n",
      "================================ ai Message (1) =================================\n",
      "Great news! The current weather in San Francisco is sunny. It's a beautiful day in the city by the bay. Is there anything else you'd like to know about the weather or any other information I can help you with?\n"
     ]
    }
   ],
   "source": [
    "stream = await graph.stream(null, config);\n",
    "\n",
    "for await (const event of stream) {\n",
    "    const recentMsg = event.messages[event.messages.length - 1];\n",
    "    console.log(`================================ ${recentMsg._getType()} Message (1) =================================`)\n",
    "    console.log(recentMsg.content);\n",
    "}"
   ]
  },
  {
   "cell_type": "markdown",
   "metadata": {},
   "source": [
    "## Edit Tool Call\n",
    "\n",
    "Let's now say we want to edit the tool call. E.g. change some of the parameters (or even the tool called!) but then execute that tool."
   ]
  },
  {
   "cell_type": "code",
   "execution_count": 8,
   "metadata": {},
   "outputs": [
    {
     "name": "stdout",
     "output_type": "stream",
     "text": [
      "================================ human Message (1) =================================\n",
      "what's the weather in SF?\n",
      "================================ ai Message (1) =================================\n",
      "[\n",
      "  {\n",
      "    type: 'text',\n",
      "    text: \"Certainly! I can help you check the weather in San Francisco. To get this information, I'll need to use the weather tool. Let me do that for you right away.\"\n",
      "  },\n",
      "  {\n",
      "    type: 'tool_use',\n",
      "    id: 'toolu_01PCbjHE6kxf7aXPTEFbkaZz',\n",
      "    name: 'get_weather',\n",
      "    input: { city: 'San Francisco' }\n",
      "  }\n",
      "]\n"
     ]
    }
   ],
   "source": [
    "inputs = { messages: [{ role: \"user\", content: \"what's the weather in SF?\" }] };\n",
    "config = { configurable: { thread_id: \"3\" }, streamMode: \"values\" as const };\n",
    "\n",
    "stream = await graph.stream(inputs, config);\n",
    "\n",
    "for await (const event of stream) {\n",
    "    const recentMsg = event.messages[event.messages.length - 1];\n",
    "    console.log(`================================ ${recentMsg._getType()} Message (1) =================================`)\n",
    "    console.log(recentMsg.content);\n",
    "}"
   ]
  },
  {
   "cell_type": "markdown",
   "metadata": {},
   "source": [
    "If we now check, we can see that it is waiting on human review"
   ]
  },
  {
   "cell_type": "code",
   "execution_count": 9,
   "metadata": {},
   "outputs": [
    {
     "name": "stdout",
     "output_type": "stream",
     "text": [
      "[ 'human_review_node' ]\n"
     ]
    }
   ],
   "source": [
    "state = await graph.getState(config);\n",
    "console.log(state.next);"
   ]
  },
  {
   "cell_type": "markdown",
   "metadata": {},
   "source": [
    "To edit the tool call, we first need to update the state. We can do this by passing a message in with the **same** id of the message we want to overwrite. This will have the effect of **replacing** that old message. Note that this is only possible because of the **reducer** we are using that replaces messages with the same ID."
   ]
  },
  {
   "cell_type": "code",
   "execution_count": 10,
   "metadata": {},
   "outputs": [
    {
     "name": "stdout",
     "output_type": "stream",
     "text": [
      "Current Tool Call ID:\n",
      "toolu_01PCbjHE6kxf7aXPTEFbkaZz\n",
      "----\n",
      "Searching for: San Francisco, USA\n",
      "----\n",
      "================================ tool Message (1) =================================\n",
      "Sunny!\n",
      "================================ ai Message (1) =================================\n",
      "Great news! The current weather in San Francisco is sunny. It's a beautiful day in the city by the bay. Is there anything else you'd like to know about the weather or any other information I can help you with?\n"
     ]
    }
   ],
   "source": [
    "console.log(\"Current Tool Call ID:\");\n",
    "const currentContent = state.values[\"messages\"][state.values[\"messages\"].length-1].content;\n",
    "const currrentID = state.values[\"messages\"][state.values[\"messages\"].length-1].id;\n",
    "const toolCallID = state.values[\"messages\"][state.values[\"messages\"].length-1].tool_calls[0][\"id\"];\n",
    "console.log(toolCallID);\n",
    "\n",
    "let newMessage = {\n",
    "  role: \"assistant\",\n",
    "  content: currentContent,\n",
    "  tool_calls: [\n",
    "    {\n",
    "      id: toolCallID,\n",
    "      name: \"get_weather\",\n",
    "      args: {\n",
    "        city: \"San Francisco, USA\"\n",
    "      }\n",
    "    }\n",
    "  ],\n",
    "  id: currrentID\n",
    "};\n",
    "\n",
    "// Update the state with the correct config, values, and specify the node we are acting as\n",
    "await graph.updateState(config, { messages: [newMessage] }, \"human_review_node\");\n",
    "\n",
    "stream = await graph.stream(null, config);\n",
    "\n",
    "// Let's now continue executing from here\n",
    "for await (const event of stream) {\n",
    "    const recentMsg = event.messages[event.messages.length - 1];\n",
    "    console.log(`================================ ${recentMsg._getType()} Message (1) =================================`)\n",
    "    console.log(recentMsg.content);\n",
    "}"
   ]
  },
  {
   "cell_type": "markdown",
   "metadata": {},
   "source": [
    "## Give feedback to a tool call\n",
    "\n",
    "Sometimes, you may not want to execute a tool call, but you also may not want to ask the user to manually modify the tool call. In that case it may be better to get natural language feedback from the user. You can then insert these feedback as a mock **RESULT** of the tool call.\n",
    "\n",
    "There are multiple ways to do this:\n",
    "\n",
    "1. You could add a new message to the state (representing the \"result\" of a tool call)\n",
    "2. You could add TWO new messages to the state - one representing an \"error\" from the tool call, other HumanMessage representing the feedback\n",
    "\n",
    "Both are similar in that they involve adding messages to the state. The main difference lies in the logic AFTER the `human_node` and how it handles different types of messages.\n",
    "\n",
    "For this example we will just add a single tool call representing the feedback. Let's see this in action!"
   ]
  },
  {
   "cell_type": "code",
   "execution_count": 11,
   "metadata": {},
   "outputs": [
    {
     "name": "stdout",
     "output_type": "stream",
     "text": [
      "================================ human Message (1) =================================\n",
      "what's the weather in SF?\n"
     ]
    },
    {
     "name": "stdout",
     "output_type": "stream",
     "text": [
      "================================ ai Message (1) =================================\n",
      "[\n",
      "  {\n",
      "    type: 'text',\n",
      "    text: \"Certainly! I can help you check the weather in San Francisco. To get this information, I'll need to use the weather tool available to me. Let me fetch that data for you.\"\n",
      "  },\n",
      "  {\n",
      "    type: 'tool_use',\n",
      "    id: 'toolu_01NMNPP7upggjzNqh8m2cKGm',\n",
      "    name: 'get_weather',\n",
      "    input: { city: 'San Francisco' }\n",
      "  }\n",
      "]\n"
     ]
    }
   ],
   "source": [
    "inputs = { messages: [{ role: \"user\", content: \"what's the weather in SF?\" }] };\n",
    "config = { configurable: { thread_id: \"4\" }, streamMode: \"values\" as const };\n",
    "\n",
    "stream = await graph.stream(inputs, config);\n",
    "\n",
    "for await (const event of stream) {\n",
    "    const recentMsg = event.messages[event.messages.length - 1];\n",
    "    console.log(`================================ ${recentMsg._getType()} Message (1) =================================`)\n",
    "    console.log(recentMsg.content);\n",
    "}"
   ]
  },
  {
   "cell_type": "markdown",
   "metadata": {},
   "source": [
    "If we now check, we can see that it is waiting on human review"
   ]
  },
  {
   "cell_type": "code",
   "execution_count": 12,
   "metadata": {},
   "outputs": [
    {
     "name": "stdout",
     "output_type": "stream",
     "text": [
      "[ 'human_review_node' ]\n"
     ]
    }
   ],
   "source": [
    "state = await graph.getState(config);\n",
    "console.log(state.next);"
   ]
  },
  {
   "cell_type": "markdown",
   "metadata": {},
   "source": [
    "To give feedback about the tool call, we first need to update the state. We can do this by passing a message in with the same **tool call id** of the tool call we want to respond to. Note that this is a **different** ID from above."
   ]
  },
  {
   "cell_type": "code",
   "execution_count": 13,
   "metadata": {},
   "outputs": [
    {
     "name": "stderr",
     "output_type": "stream",
     "text": [
      "8:5 - Type '{ role: string; name: string; content: string; tool_call_id: any; }' is not assignable to type '{ role: string; content: any; tool_calls: { id: any; name: string; args: { city: string; }; }[]; id: any; }'.\n",
      "8:5 - Object literal may only specify known properties, and 'name' does not exist in type '{ role: string; content: any; tool_calls: { id: any; name: string; args: { city: string; }; }[]; id: any; }'.\n"
     ]
    }
   ],
   "source": [
    "console.log(\"Current Tool Call ID:\");\n",
    "const stateMessages = state.values.messages;\n",
    "const toolCallId = stateMessages[stateMessages.length - 1].tool_calls[0].id;\n",
    "console.log(toolCallId);\n",
    "\n",
    "const toolMessage = {\n",
    "    role: \"tool\",\n",
    "    name: \"get_weather\",\n",
    "    content: \"User requested changes: pass in the most likely country this city is referring to as well\",\n",
    "    tool_call_id: toolCallId,\n",
    "};\n",
    "\n",
    "// Update the state with the correct config, values, and specify the node we are acting as\n",
    "await graph.updateState(config, { messages: [toolMessage] }, \"human_review_node\");\n",
    "\n",
    "stream = await graph.stream(null, config);\n",
    "\n",
    "// Let's now continue executing from here\n",
    "for await (const event of stream) {\n",
    "    const recentMsg = event.messages[event.messages.length - 1];\n",
    "    console.log(`================================ ${recentMsg._getType()} Message (1) =================================`)\n",
    "    console.log(recentMsg.content);\n",
    "}"
   ]
  },
  {
   "cell_type": "markdown",
   "metadata": {},
   "source": [
    "We can see that we now get to another breakpoint - because it went back to the model and got an entirely new prediction of what to call. Let's now approve this one and continue."
   ]
  },
  {
   "cell_type": "code",
   "execution_count": null,
   "metadata": {},
   "outputs": [
    {
     "name": "stdout",
     "output_type": "stream",
     "text": [
      "[ 'human_review_node' ]\n",
      "================================ ai Message (1) =================================\n",
      "[\n",
      "  {\n",
      "    type: 'text',\n",
      "    text: 'I apologize for the oversight. It seems the function requires more specific information. Let me try again with a more detailed request.'\n",
      "  },\n",
      "  {\n",
      "    type: 'tool_use',\n",
      "    id: 'toolu_01Q92V4EztnVv6qsUHABGP8V',\n",
      "    name: 'get_weather',\n",
      "    input: { city: 'San Francisco, USA' }\n",
      "  }\n",
      "]\n",
      "----\n",
      "Searching for: San Francisco, USA\n",
      "----\n",
      "[\n",
      "  ToolMessage {\n",
      "    \"content\": \"Sunny!\",\n",
      "    \"name\": \"get_weather\",\n",
      "    \"additional_kwargs\": {},\n",
      "    \"response_metadata\": {},\n",
      "    \"tool_call_id\": \"toolu_01Q92V4EztnVv6qsUHABGP8V\"\n",
      "  }\n",
      "]\n",
      "================================ tool Message (1) =================================\n",
      "Sunny!\n",
      "================================ ai Message (1) =================================\n",
      "Great news! Based on the information I've received, the weather in San Francisco, USA is currently sunny!\n",
      "\n",
      "Is there anything else you'd like to know about the weather in San Francisco or any other location?\n"
     ]
    }
   ],
   "source": [
    "state = await graph.getState(config);\n",
    "console.log(state.next);\n",
    "\n",
    "stream = await graph.stream(null, config);\n",
    "\n",
    "for await (const event of stream) {\n",
    "    const recentMsg = event.messages[event.messages.length - 1];\n",
    "    console.log(`================================ ${recentMsg._getType()} Message (1) =================================`)\n",
    "    console.log(recentMsg.content);\n",
    "}"
   ]
  }
 ],
 "metadata": {
  "kernelspec": {
   "display_name": "TypeScript",
   "language": "typescript",
   "name": "tslab"
  },
  "language_info": {
   "codemirror_mode": {
    "mode": "typescript",
    "name": "javascript",
    "typescript": true
   },
   "file_extension": ".ts",
   "mimetype": "text/typescript",
   "name": "typescript",
   "version": "3.7.2"
  }
 },
 "nbformat": 4,
 "nbformat_minor": 2
}

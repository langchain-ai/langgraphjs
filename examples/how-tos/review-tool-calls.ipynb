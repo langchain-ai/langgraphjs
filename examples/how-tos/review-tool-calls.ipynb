{
 "cells": [
  {
   "cell_type": "markdown",
   "metadata": {},
   "source": [
    "# Review Tool Calls\n",
    "\n",
    "!!! tip \"Prerequisites\"\n",
    "\n",
    "    This guide assumes familiarity with the following concepts:\n",
    "\n",
    "    * [Tool calling](https://js.langchain.com/docs/concepts/tool_calling/)\n",
    "    * [Human-in-the-loop](/langgraphjs/concepts/human_in_the_loop)\n",
    "    * [LangGraph Glossary](/langgraphjs/concepts/low_level)      \n",
    "\n",
    "Human-in-the-loop (HIL) interactions are crucial for [agentic systems](https://langchain-ai.github.io/langgraphjs/concepts/agentic_concepts/#human-in-the-loop). A common pattern is to add some human in the loop step after certain tool calls. These tool calls often lead to either a function call or saving of some information. Examples include:\n",
    "\n",
    "- A tool call to execute SQL, which will then be run by the tool\n",
    "- A tool call to generate a summary, which will then be saved to the State of the graph\n",
    "\n",
    "Note that using tool calls is common **whether actually calling tools or not**.\n",
    "\n",
    "There are typically a few different interactions you may want to do here:\n",
    "\n",
    "1. Approve the tool call and continue\n",
    "2. Modify the tool call manually and then continue\n",
    "3. Give natural language feedback, and then pass that back to the agent instead of continuing\n",
    "\n",
    "We can implement these in LangGraph using the [`interrupt()`](/langgraphjs/reference/functions/langgraph.interrupt-1.html) function. `interrupt` allows us to stop graph execution to collect input from a user and continue execution with collected input:\n",
    "\n",
    "```typescript\n",
    "function humanReviewNode(state: typeof GraphAnnotation.State) {\n",
    "  // this is the value we'll be providing via new Command({ resume: <human_review> })\n",
    "  const humanReview = interrupt({\n",
    "    question: \"Is this correct?\",\n",
    "    // Surface tool calls for review\n",
    "    tool_call,\n",
    "  });\n",
    "\n",
    "  const [reviewAction, reviewData] = humanReview;\n",
    "\n",
    "  // Approve the tool call and continue\n",
    "  if (reviewAction === \"continue\") {\n",
    "    return new Command({ goto: \"run_tool\" });\n",
    "  }\n",
    "  \n",
    "  // Modify the tool call manually and then continue\n",
    "  if (reviewAction === \"update\") {\n",
    "    const updatedMsg = getUpdatedMsg(reviewData);\n",
    "    return new Command({ goto: \"run_tool\", update: { messages: [updatedMsg] } });\n",
    "  }\n",
    "  \n",
    "  // Give natural language feedback, and then pass that back to the agent\n",
    "  if (reviewAction === \"feedback\") {\n",
    "    const feedbackMsg = getFeedbackMsg(reviewData);\n",
    "    return new Command({ goto: \"call_llm\", update: { messages: [feedbackMsg] } });\n",
    "  }\n",
    "  \n",
    "  throw new Error(\"Unreachable\");\n",
    "}\n",
    "```\n"
   ]
  },
  {
   "cell_type": "markdown",
   "metadata": {},
   "source": [
    "## Setup\n",
    "\n",
    "First we need to install the packages required\n",
    "\n",
    "```bash\n",
    "npm install @langchain/langgraph @langchain/anthropic @langchain/core\n",
    "```\n",
    "\n",
    "Next, we need to set API keys for Anthropic (the LLM we will use)\n",
    "\n",
    "```bash\n",
    "export ANTHROPIC_API_KEY=your-api-key\n",
    "```\n",
    "\n",
    "Optionally, we can set API key for [LangSmith tracing](https://smith.langchain.com/), which will give us best-in-class observability.\n",
    "\n",
    "```bash\n",
    "export LANGCHAIN_TRACING_V2=\"true\"\n",
    "export LANGCHAIN_CALLBACKS_BACKGROUND=\"true\"\n",
    "export LANGCHAIN_API_KEY=your-api-key\n",
    "```"
   ]
  },
  {
   "cell_type": "markdown",
   "metadata": {},
   "source": [
    "## Simple Usage\n",
    "\n",
    "Let's set up a very simple graph that facilitates this.\n",
    "First, we will have an LLM call that decides what action to take.\n",
    "Then we go to a human node. This node actually doesn't do anything - the idea is that we interrupt before this node and then apply any updates to the state.\n",
    "After that, we check the state and either route back to the LLM or to the correct tool.\n",
    "\n",
    "Let's see this in action!"
   ]
  },
  {
   "cell_type": "code",
   "execution_count": 14,
   "metadata": {},
   "outputs": [],
   "source": [
    "import {\n",
    "  MessagesAnnotation,\n",
    "  StateGraph,\n",
    "  START,\n",
    "  END,\n",
    "  MemorySaver,\n",
    "  Command,\n",
    "  interrupt\n",
    "} from \"@langchain/langgraph\";\n",
    "import { ChatAnthropic } from \"@langchain/anthropic\";\n",
    "import { tool } from '@langchain/core/tools';\n",
    "import { z } from 'zod';\n",
    "import { AIMessage, ToolMessage } from '@langchain/core/messages';\n",
    "import { ToolCall } from '@langchain/core/messages/tool';\n",
    "\n",
    "const weatherSearch = tool((input: { city: string }) => {\n",
    "    console.log(\"----\");\n",
    "    console.log(`Searching for: ${input.city}`);\n",
    "    console.log(\"----\");\n",
    "    return \"Sunny!\";\n",
    "}, {\n",
    "    name: 'weather_search',\n",
    "    description: 'Search for the weather',\n",
    "    schema: z.object({\n",
    "        city: z.string()\n",
    "    })\n",
    "});\n",
    "\n",
    "const model = new ChatAnthropic({ \n",
    "    model: \"claude-3-5-sonnet-latest\"\n",
    "}).bindTools([weatherSearch]);\n",
    "\n",
    "const callLLM = async (state: typeof MessagesAnnotation.State) => {\n",
    "    const response = await model.invoke(state.messages);\n",
    "    return { messages: [response] };\n",
    "};\n",
    "\n",
    "const humanReviewNode = async (state: typeof MessagesAnnotation.State): Promise<Command> => {\n",
    "    const lastMessage = state.messages[state.messages.length - 1] as AIMessage;\n",
    "    const toolCall = lastMessage.tool_calls![lastMessage.tool_calls!.length - 1];\n",
    "\n",
    "    const humanReview = interrupt<\n",
    "      {\n",
    "        question: string;\n",
    "        toolCall: ToolCall;\n",
    "      },\n",
    "      {\n",
    "        action: string;\n",
    "        data: any;\n",
    "      }>({\n",
    "        question: \"Is this correct?\",\n",
    "        toolCall: toolCall\n",
    "      });\n",
    "\n",
    "    const reviewAction = humanReview.action;\n",
    "    const reviewData = humanReview.data;\n",
    "\n",
    "    if (reviewAction === \"continue\") {\n",
    "        return new Command({ goto: \"run_tool\" });\n",
    "    }\n",
    "    else if (reviewAction === \"update\") {\n",
    "        const updatedMessage = {\n",
    "            role: \"ai\",\n",
    "            content: lastMessage.content,\n",
    "            tool_calls: [{\n",
    "                id: toolCall.id,\n",
    "                name: toolCall.name,\n",
    "                args: reviewData\n",
    "            }],\n",
    "            id: lastMessage.id\n",
    "        };\n",
    "        return new Command({ goto: \"run_tool\", update: { messages: [updatedMessage] } });\n",
    "    }\n",
    "    else if (reviewAction === \"feedback\") {\n",
    "        const toolMessage = new ToolMessage({\n",
    "          name: toolCall.name,\n",
    "          content: reviewData,\n",
    "          tool_call_id: toolCall.id\n",
    "        })\n",
    "        return new Command({ goto: \"call_llm\", update: { messages: [toolMessage] }});\n",
    "    }\n",
    "    throw new Error(\"Invalid review action\");\n",
    "};\n",
    "\n",
    "const runTool = async (state: typeof MessagesAnnotation.State) => {\n",
    "    const newMessages: ToolMessage[] = [];\n",
    "    const tools = { weather_search: weatherSearch };\n",
    "    const lastMessage = state.messages[state.messages.length - 1] as AIMessage;\n",
    "    const toolCalls = lastMessage.tool_calls!;\n",
    "\n",
    "    for (const toolCall of toolCalls) {\n",
    "        const tool = tools[toolCall.name as keyof typeof tools];\n",
    "        const result = await tool.invoke(toolCall.args);\n",
    "        newMessages.push(new ToolMessage({\n",
    "            name: toolCall.name,\n",
    "            content: result,\n",
    "            tool_call_id: toolCall.id\n",
    "        }));\n",
    "    }\n",
    "    return { messages: newMessages };\n",
    "};\n",
    "\n",
    "const routeAfterLLM = (state: typeof MessagesAnnotation.State): typeof END | \"human_review_node\" => {\n",
    "    const lastMessage = state.messages[state.messages.length - 1] as AIMessage;\n",
    "    if (!lastMessage.tool_calls?.length) {\n",
    "        return END;\n",
    "    }\n",
    "    return \"human_review_node\";\n",
    "};\n",
    "\n",
    "const workflow = new StateGraph(MessagesAnnotation)\n",
    "    .addNode(\"call_llm\", callLLM)\n",
    "    .addNode(\"run_tool\", runTool)\n",
    "    .addNode(\"human_review_node\", humanReviewNode, {\n",
    "      ends: [\"run_tool\", \"call_llm\"]\n",
    "    })\n",
    "    .addEdge(START, \"call_llm\")\n",
    "    .addConditionalEdges(\n",
    "        \"call_llm\",\n",
    "        routeAfterLLM,\n",
    "        [\"human_review_node\", END]\n",
    "    )\n",
    "    .addEdge(\"run_tool\", \"call_llm\");\n",
    "\n",
    "const memory = new MemorySaver();\n",
    "\n",
    "const graph = workflow.compile({ checkpointer: memory });"
   ]
  },
  {
   "cell_type": "code",
   "execution_count": 15,
   "metadata": {},
   "outputs": [
    {
     "data": {
      "image/png": "[encoded data removed]"
     },
     "metadata": {},
     "output_type": "display_data"
    }
   ],
   "source": [
    "import * as tslab from \"tslab\";\n",
    "\n",
    "const drawableGraph = graph.getGraph();\n",
    "const image = await drawableGraph.drawMermaidPng();\n",
    "const arrayBuffer = await image.arrayBuffer();\n",
    "\n",
    "await tslab.display.png(new Uint8Array(arrayBuffer));"
   ]
  },
  {
   "cell_type": "markdown",
   "metadata": {},
   "source": [
    "## Example with no review\n",
    "\n",
    "Let's look at an example when no review is required (because no tools are called)"
   ]
  },
  {
   "cell_type": "code",
   "execution_count": 16,
   "metadata": {},
   "outputs": [
    {
     "name": "stdout",
     "output_type": "stream",
     "text": [
      "================================ human Message (1) =================================\n",
      "hi!\n",
      "================================ ai Message (1) =================================\n",
      "Hello! I'm here to help you. I can assist you with checking the weather for different cities. Would you like to know the weather for a specific location? Just let me know which city you're interested in and I'll look that up for you.\n"
     ]
    }
   ],
   "source": [
    "let inputs = { messages: [{ role: \"user\", content: \"hi!\" }] };\n",
    "let config = { configurable: { thread_id: \"1\" }, streamMode: \"values\" as const };\n",
    "\n",
    "let stream = await graph.stream(inputs, config);\n",
    "\n",
    "for await (const event of stream) {\n",
    "    const recentMsg = event.messages[event.messages.length - 1];\n",
    "    console.log(`================================ ${recentMsg._getType()} Message (1) =================================`)\n",
    "    console.log(recentMsg.content);\n",
    "}"
   ]
  },
  {
   "cell_type": "markdown",
   "metadata": {},
   "source": [
    "If we check the state, we can see that it is finished, since there are no next steps to take:"
   ]
  },
  {
   "cell_type": "code",
   "execution_count": 17,
   "metadata": {},
   "outputs": [
    {
     "name": "stdout",
     "output_type": "stream",
     "text": [
      "[]\n"
     ]
    }
   ],
   "source": [
    "let state = await graph.getState(config);\n",
    "console.log(state.next);"
   ]
  },
  {
   "cell_type": "markdown",
   "metadata": {},
   "source": [
    "## Example of approving tool\n",
    "\n",
    "Let's now look at what it looks like to approve a tool call"
   ]
  },
  {
   "cell_type": "code",
   "execution_count": 18,
   "metadata": {},
   "outputs": [
    {
     "name": "stdout",
     "output_type": "stream",
     "text": [
      "================================ human Message (1) =================================\n",
      "what's the weather in SF?\n",
      "================================ ai Message (1) =================================\n",
      "[\n",
      "  {\n",
      "    type: 'text',\n",
      "    text: 'Let me check the weather in San Francisco for you.'\n",
      "  },\n",
      "  {\n",
      "    type: 'tool_use',\n",
      "    id: 'toolu_01PTn9oqTP6EdFabfhfvELuy',\n",
      "    name: 'weather_search',\n",
      "    input: { city: 'San Francisco' }\n",
      "  }\n",
      "]\n"
     ]
    }
   ],
   "source": [
    "inputs = { messages: [{ role: \"user\", content: \"what's the weather in SF?\" }] };\n",
    "config = { configurable: { thread_id: \"2\" }, streamMode: \"values\" as const };\n",
    "\n",
    "stream = await graph.stream(inputs, config);\n",
    "\n",
    "for await (const event of stream) {\n",
    "    const recentMsg = event.messages[event.messages.length - 1];\n",
    "    console.log(`================================ ${recentMsg._getType()} Message (1) =================================`)\n",
    "    console.log(recentMsg.content);\n",
    "}"
   ]
  },
  {
   "cell_type": "markdown",
   "metadata": {},
   "source": [
    "If we now check, we can see that it is waiting on human review"
   ]
  },
  {
   "cell_type": "code",
   "execution_count": 19,
   "metadata": {},
   "outputs": [
    {
     "name": "stdout",
     "output_type": "stream",
     "text": [
      "[ 'human_review_node' ]\n"
     ]
    }
   ],
   "source": [
    "state = await graph.getState(config);\n",
    "console.log(state.next);"
   ]
  },
  {
   "cell_type": "markdown",
   "metadata": {},
   "source": [
    "To approve the tool call, we can just continue the thread with no edits. To do so, we need to let `human_review_node` know what value to use for the `human_review` variable we defined inside the node. We can provide this value by invoking the graph with a `new Command({ resume: <human_review> })` input.  Since we're approving the tool call, we'll provide `resume` value of `{ action: \"continue\" }` to navigate to `run_tool` node:"
   ]
  },
  {
   "cell_type": "code",
   "execution_count": 20,
   "metadata": {},
   "outputs": [
    {
     "name": "stdout",
     "output_type": "stream",
     "text": [
      "================================ ai Message (1) =================================\n",
      "[\n",
      "  {\n",
      "    type: 'text',\n",
      "    text: 'Let me check the weather in San Francisco for you.'\n",
      "  },\n",
      "  {\n",
      "    type: 'tool_use',\n",
      "    id: 'toolu_01PTn9oqTP6EdFabfhfvELuy',\n",
      "    name: 'weather_search',\n",
      "    input: { city: 'San Francisco' }\n",
      "  }\n",
      "]\n",
      "----\n",
      "Searching for: San Francisco\n",
      "----\n",
      "================================ tool Message (1) =================================\n",
      "Sunny!\n",
      "================================ ai Message (1) =================================\n",
      "It's sunny in San Francisco right now!\n"
     ]
    }
   ],
   "source": [
    "import { Command } from \"@langchain/langgraph\";\n",
    "\n",
    "for await (const event of await graph.stream(\n",
    "  new Command({ resume: { action: \"continue\" } }),\n",
    "  config\n",
    ")) {\n",
    "  const recentMsg = event.messages[event.messages.length - 1];\n",
    "  console.log(`================================ ${recentMsg._getType()} Message (1) =================================`)\n",
    "  console.log(recentMsg.content);\n",
    "}"
   ]
  },
  {
   "cell_type": "markdown",
   "metadata": {},
   "source": [
    "## Edit Tool Call\n",
    "\n",
    "Let's now say we want to edit the tool call. E.g. change some of the parameters (or even the tool called!) but then execute that tool."
   ]
  },
  {
   "cell_type": "code",
   "execution_count": 21,
   "metadata": {},
   "outputs": [
    {
     "name": "stdout",
     "output_type": "stream",
     "text": [
      "================================ human Message (1) =================================\n",
      "what's the weather in SF?\n",
      "================================ ai Message (1) =================================\n",
      "[\n",
      "  {\n",
      "    type: 'text',\n",
      "    text: 'Let me check the weather in San Francisco for you.'\n",
      "  },\n",
      "  {\n",
      "    type: 'tool_use',\n",
      "    id: 'toolu_01T7ykQ45XyGpzRB7MkPtSAE',\n",
      "    name: 'weather_search',\n",
      "    input: { city: 'San Francisco' }\n",
      "  }\n",
      "]\n"
     ]
    }
   ],
   "source": [
    "inputs = { messages: [{ role: \"user\", content: \"what's the weather in SF?\" }] };\n",
    "config = { configurable: { thread_id: \"3\" }, streamMode: \"values\" as const };\n",
    "\n",
    "stream = await graph.stream(inputs, config);\n",
    "\n",
    "for await (const event of stream) {\n",
    "    const recentMsg = event.messages[event.messages.length - 1];\n",
    "    console.log(`================================ ${recentMsg._getType()} Message (1) =================================`)\n",
    "    console.log(recentMsg.content);\n",
    "}"
   ]
  },
  {
   "cell_type": "markdown",
   "metadata": {},
   "source": [
    "If we now check, we can see that it is waiting on human review"
   ]
  },
  {
   "cell_type": "code",
   "execution_count": 22,
   "metadata": {},
   "outputs": [
    {
     "name": "stdout",
     "output_type": "stream",
     "text": [
      "[ 'human_review_node' ]\n"
     ]
    }
   ],
   "source": [
    "state = await graph.getState(config);\n",
    "console.log(state.next);"
   ]
  },
  {
   "cell_type": "markdown",
   "metadata": {},
   "source": [
    "To edit the tool call, we will use `Command` with a different resume value of `{ action: \"update\", data: <tool call args> }`. This will do the following:\n",
    "\n",
    "* combine existing tool call with user-provided tool call arguments and update the existing AI message with the new tool call\n",
    "* navigate to `run_tool` node with the updated AI message and continue execution"
   ]
  },
  {
   "cell_type": "code",
   "execution_count": 23,
   "metadata": {},
   "outputs": [
    {
     "name": "stdout",
     "output_type": "stream",
     "text": [
      "================================ ai Message (1) =================================\n",
      "[\n",
      "  {\n",
      "    type: 'text',\n",
      "    text: 'Let me check the weather in San Francisco for you.'\n",
      "  },\n",
      "  {\n",
      "    type: 'tool_use',\n",
      "    id: 'toolu_01T7ykQ45XyGpzRB7MkPtSAE',\n",
      "    name: 'weather_search',\n",
      "    input: { city: 'San Francisco' }\n",
      "  }\n",
      "]\n",
      "================================ ai Message (1) =================================\n",
      "[\n",
      "  {\n",
      "    type: 'text',\n",
      "    text: 'Let me check the weather in San Francisco for you.'\n",
      "  },\n",
      "  {\n",
      "    type: 'tool_use',\n",
      "    id: 'toolu_01T7ykQ45XyGpzRB7MkPtSAE',\n",
      "    name: 'weather_search',\n",
      "    input: { city: 'San Francisco' }\n",
      "  }\n",
      "]\n",
      "----\n",
      "Searching for: San Francisco\n",
      "----\n",
      "================================ tool Message (1) =================================\n",
      "Sunny!\n",
      "================================ ai Message (1) =================================\n",
      "It's sunny in San Francisco right now!\n"
     ]
    }
   ],
   "source": [
    "for await (const event of await graph.stream(\n",
    "  new Command({\n",
    "    resume: {\n",
    "      action: \"update\",\n",
    "      data: { city: \"San Francisco\" }\n",
    "    }\n",
    "  }),\n",
    "  config\n",
    ")) {\n",
    "  const recentMsg = event.messages[event.messages.length - 1];\n",
    "  console.log(`================================ ${recentMsg._getType()} Message (1) =================================`)\n",
    "  console.log(recentMsg.content);\n",
    "}\n"
   ]
  },
  {
   "cell_type": "markdown",
   "metadata": {},
   "source": [
    "## Give feedback to a tool call\n",
    "\n",
    "Sometimes, you may not want to execute a tool call, but you also may not want to ask the user to manually modify the tool call. In that case it may be better to get natural language feedback from the user. You can then insert these feedback as a mock **RESULT** of the tool call.\n",
    "\n",
    "There are multiple ways to do this:\n",
    "\n",
    "1. You could add a new message to the state (representing the \"result\" of a tool call)\n",
    "2. You could add TWO new messages to the state - one representing an \"error\" from the tool call, other HumanMessage representing the feedback\n",
    "\n",
    "Both are similar in that they involve adding messages to the state. The main difference lies in the logic AFTER the `human_node` and how it handles different types of messages.\n",
    "\n",
    "For this example we will just add a single tool call representing the feedback. Let's see this in action!"
   ]
  },
  {
   "cell_type": "code",
   "execution_count": 24,
   "metadata": {},
   "outputs": [
    {
     "name": "stdout",
     "output_type": "stream",
     "text": [
      "================================ human Message (1) =================================\n",
      "what's the weather in SF?\n",
      "================================ ai Message (1) =================================\n",
      "[\n",
      "  {\n",
      "    type: 'text',\n",
      "    text: \"I'll help you check the weather in San Francisco.\"\n",
      "  },\n",
      "  {\n",
      "    type: 'tool_use',\n",
      "    id: 'toolu_014cwxD65wDwQdNg6xqsticF',\n",
      "    name: 'weather_search',\n",
      "    input: { city: 'SF' }\n",
      "  }\n",
      "]\n"
     ]
    }
   ],
   "source": [
    "inputs = { messages: [{ role: \"user\", content: \"what's the weather in SF?\" }] };\n",
    "config = { configurable: { thread_id: \"4\" }, streamMode: \"values\" as const };\n",
    "\n",
    "stream = await graph.stream(inputs, config);\n",
    "\n",
    "for await (const event of stream) {\n",
    "    const recentMsg = event.messages[event.messages.length - 1];\n",
    "    console.log(`================================ ${recentMsg._getType()} Message (1) =================================`)\n",
    "    console.log(recentMsg.content);\n",
    "}"
   ]
  },
  {
   "cell_type": "markdown",
   "metadata": {},
   "source": [
    "If we now check, we can see that it is waiting on human review"
   ]
  },
  {
   "cell_type": "code",
   "execution_count": 25,
   "metadata": {},
   "outputs": [
    {
     "name": "stdout",
     "output_type": "stream",
     "text": [
      "[ 'human_review_node' ]\n"
     ]
    }
   ],
   "source": [
    "state = await graph.getState(config);\n",
    "console.log(state.next);"
   ]
  },
  {
   "cell_type": "markdown",
   "metadata": {},
   "source": [
    "To give feedback about the tool call, we will use `Command` with a different resume value of `{ action: \"feedback\", data: <feedback string> }`. This will do the following:\n",
    "\n",
    "* create a new tool message that combines existing tool call from LLM with the with user-provided feedback as content\n",
    "* navigate to `call_llm` node with the updated tool message and continue execution"
   ]
  },
  {
   "cell_type": "code",
   "execution_count": 26,
   "metadata": {},
   "outputs": [
    {
     "name": "stdout",
     "output_type": "stream",
     "text": [
      "================================ ai Message (1) =================================\n",
      "[\n",
      "  {\n",
      "    type: 'text',\n",
      "    text: \"I'll help you check the weather in San Francisco.\"\n",
      "  },\n",
      "  {\n",
      "    type: 'tool_use',\n",
      "    id: 'toolu_014cwxD65wDwQdNg6xqsticF',\n",
      "    name: 'weather_search',\n",
      "    input: { city: 'SF' }\n",
      "  }\n",
      "]\n",
      "================================ tool Message (1) =================================\n",
      "User requested changes: use <city, country> format for location\n",
      "================================ ai Message (1) =================================\n",
      "[\n",
      "  {\n",
      "    type: 'text',\n",
      "    text: 'I apologize for the error. Let me search again with the proper format.'\n",
      "  },\n",
      "  {\n",
      "    type: 'tool_use',\n",
      "    id: 'toolu_01Jnm7sSZsiwv65YM4KsvfXk',\n",
      "    name: 'weather_search',\n",
      "    input: { city: 'San Francisco, USA' }\n",
      "  }\n",
      "]\n"
     ]
    }
   ],
   "source": [
    "for await (const event of await graph.stream(\n",
    "  new Command({\n",
    "    resume: {\n",
    "      action: \"feedback\",\n",
    "      data: \"User requested changes: use <city, country> format for location\"\n",
    "    }\n",
    "  }),\n",
    "  config\n",
    ")) {\n",
    "  const recentMsg = event.messages[event.messages.length - 1];\n",
    "  console.log(`================================ ${recentMsg._getType()} Message (1) =================================`)\n",
    "  console.log(recentMsg.content);\n",
    "}\n"
   ]
  },
  {
   "cell_type": "markdown",
   "metadata": {},
   "source": [
    "We can see that we now get to another breakpoint - because it went back to the model and got an entirely new prediction of what to call. Let's now approve this one and continue."
   ]
  },
  {
   "cell_type": "code",
   "execution_count": 27,
   "metadata": {},
   "outputs": [
    {
     "name": "stdout",
     "output_type": "stream",
     "text": [
      "[ 'human_review_node' ]\n"
     ]
    }
   ],
   "source": [
    "state = await graph.getState(config);\n",
    "console.log(state.next);\n"
   ]
  },
  {
   "cell_type": "code",
   "execution_count": 28,
   "metadata": {},
   "outputs": [
    {
     "name": "stdout",
     "output_type": "stream",
     "text": [
      "================================ ai Message (1) =================================\n",
      "[\n",
      "  {\n",
      "    type: 'text',\n",
      "    text: 'I apologize for the error. Let me search again with the proper format.'\n",
      "  },\n",
      "  {\n",
      "    type: 'tool_use',\n",
      "    id: 'toolu_01Jnm7sSZsiwv65YM4KsvfXk',\n",
      "    name: 'weather_search',\n",
      "    input: { city: 'San Francisco, USA' }\n",
      "  }\n",
      "]\n",
      "----\n",
      "Searching for: San Francisco, USA\n",
      "----\n",
      "================================ tool Message (1) =================================\n",
      "Sunny!\n",
      "================================ ai Message (1) =================================\n",
      "The weather in San Francisco is currently sunny!\n"
     ]
    }
   ],
   "source": [
    "for await (const event of await graph.stream(\n",
    "  new Command({\n",
    "    resume: {\n",
    "      action: \"continue\",\n",
    "    }\n",
    "  }),\n",
    "  config\n",
    ")) {\n",
    "    const recentMsg = event.messages[event.messages.length - 1];\n",
    "    console.log(`================================ ${recentMsg._getType()} Message (1) =================================`)\n",
    "    console.log(recentMsg.content);\n",
    "}"
   ]
  }
 ],
 "metadata": {
  "kernelspec": {
   "display_name": "TypeScript",
   "language": "typescript",
   "name": "tslab"
  },
  "language_info": {
   "codemirror_mode": {
    "mode": "typescript",
    "name": "javascript",
    "typescript": true
   },
   "file_extension": ".ts",
   "mimetype": "text/typescript",
   "name": "typescript",
   "version": "3.7.2"
  }
 },
 "nbformat": 4,
 "nbformat_minor": 2
}

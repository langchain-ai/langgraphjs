{
 "cells": [
  {
   "cell_type": "markdown",
   "id": "562ddb82",
   "metadata": {},
   "source": [
    "# How to stream LLM tokens from your graph\n",
    "\n",
    "In this example, we will stream tokens from the language model powering an\n",
    "agent. We will use a ReAct agent as an example. The tl;dr is to use\n",
    "[streamEvents](https://js.langchain.com/v0.2/docs/how_to/chat_streaming/#stream-events)\n",
    "([API Ref](https://api.js.langchain.com/classes/langchain_core_runnables.Runnable.html#streamEvents)).\n",
    "\n",
    "<div class=\"admonition info\">\n",
    "    <p class=\"admonition-title\">Note</p>\n",
    "    <p>\n",
    "      If you are using a version of `@langchain/core` < 0.2.3, when calling chat models or LLMs you need to call `await model.stream()` within your nodes to get token-by-token streaming events, and aggregate final outputs if needed to update the graph state. In later versions of `@langchain/core`, this occurs automatically, and you can call `await model.invoke()`.\n",
    "\n",
    "      For more on how to upgrade `@langchain/core`, check out [the instructions here](https://js.langchain.com/v0.2/docs/how_to/installation/#installing-integration-packages).\n",
    "    </p>\n",
    "\n",
    "</div>\n",
    "\n",
    "This how-to guide closely follows the others in this directory, showing how to\n",
    "incorporate the functionality into a prototypical agent in LangGraph.\n",
    "\n",
    "This works for\n",
    "[StateGraph](https://langchain-ai.github.io/langgraphjs/reference/classes/index.StateGraph.html)\n",
    "and all its subclasses, such as\n",
    "[MessageGraph](https://langchain-ai.github.io/langgraphjs/reference/classes/index.MessageGraph.html).\n",
    "\n",
    "<div class=\"admonition info\">\n",
    "    <p class=\"admonition-title\">Streaming Support</p>\n",
    "    <p>\n",
    "        Token streaming is supported by many, but not all chat models. Check to see if your LLM integration supports token streaming <a href=\"https://js.langchain.com/v0.2/docs/integrations/chat/\">here (doc)</a>. Note that some integrations may support _general_ token streaming but lack support for streaming tool calls.\n",
    "    </p>\n",
    "</div>\n",
    "\n",
    "<div class=\"admonition tip\">\n",
    "    <p class=\"admonition-title\">Note</p>\n",
    "    <p>\n",
    "        In this how-to, we will create our agent from scratch to be transparent (but verbose). You can accomplish similar functionality using the <code>createReactAgent({ llm, tools })</code> (<a href=\"https://langchain-ai.github.io/langgraphjs/reference/functions/prebuilt.createReactAgent.html\">API doc</a>) constructor. This may be more appropriate if you are used to LangChain's <a href=\"https://js.langchain.com/v0.2/docs/how_to/agent_executor\">AgentExecutor</a> class.\n",
    "    </p>\n",
    "</div>\n",
    "\n",
    "## Setup\n",
    "\n",
    "This guide will use OpenAI's GPT-4o model. We will optionally set our API key\n",
    "for [LangSmith tracing](https://smith.langchain.com/), which will give us\n",
    "best-in-class observability.\n",
    "\n",
    "---"
   ]
  },
  {
   "cell_type": "code",
   "execution_count": 1,
   "id": "8e76833b",
   "metadata": {
    "lines_to_next_cell": 2
   },
   "outputs": [],
   "source": [
    "// process.env.OPENAI_API_KEY = \"sk_...\";\n",
    "\n",
    "// Optional, add tracing in LangSmith\n",
    "// process.env.LANGCHAIN_API_KEY = \"ls__...\";\n",
    "// process.env.LANGCHAIN_CALLBACKS_BACKGROUND = \"true\";\n",
    "// process.env.LANGCHAIN_TRACING = \"true\";\n",
    "// process.env.LANGCHAIN_PROJECT = \"Stream Tokens: LangGraphJS\";"
   ]
  },
  {
   "cell_type": "markdown",
   "id": "ab95dc97",
   "metadata": {},
   "source": [
    "## Define the state\n",
    "\n",
    "The state is the interface for all of the nodes in our graph.\n"
   ]
  },
  {
   "cell_type": "code",
   "execution_count": 1,
   "id": "1648124b",
   "metadata": {
    "lines_to_next_cell": 2
   },
   "outputs": [],
   "source": [
    "import { BaseMessage } from \"@langchain/core/messages\";\n",
    "import { StateGraphArgs } from \"@langchain/langgraph\";\n",
    "\n",
    "interface IState {\n",
    "  messages: BaseMessage[];\n",
    "}\n",
    "\n",
    "// This defines the agent state\n",
    "const graphState: StateGraphArgs<IState>[\"channels\"] = {\n",
    "  messages: {\n",
    "    value: (x: BaseMessage[], y: BaseMessage[]) => x.concat(y),\n",
    "    default: () => [],\n",
    "  },\n",
    "};"
   ]
  },
  {
   "cell_type": "markdown",
   "id": "da50fbd8",
   "metadata": {},
   "source": [
    "## Set up the tools\n",
    "\n",
    "First define the tools you want to use. For this simple example, we'll create a placeholder search engine, but see the documentation [here](https://js.langchain.com/v0.2/docs/how_to/custom_tools) on how to create your own custom tools."
   ]
  },
  {
   "cell_type": "code",
   "execution_count": 2,
   "id": "a8f1ae1c",
   "metadata": {
    "lines_to_next_cell": 2
   },
   "outputs": [],
   "source": [
    "import { tool } from \"@langchain/core/tools\";\n",
    "import { z } from \"zod\";\n",
    "\n",
    "const searchTool = tool(async ({ query: _query }) => {\n",
    "  // This is a placeholder for the actual implementation\n",
    "  return \"Cold, with a low of 3℃\";\n",
    "}, {\n",
    "  name: \"search\",\n",
    "  description:\n",
    "    \"Use to surf the web, fetch current information, check the weather, and retrieve other information.\",\n",
    "  schema: z.object({\n",
    "    query: z.string().describe(\"The query to use in your search.\"),\n",
    "  }),\n",
    "});\n",
    "\n",
    "await searchTool.invoke({ query: \"What's the weather like?\" });\n",
    "\n",
    "const tools = [searchTool];"
   ]
  },
  {
   "cell_type": "markdown",
   "id": "19b27cb3",
   "metadata": {},
   "source": [
    "We can now wrap these tools in a prebuilt\n",
    "[ToolNode](https://langchain-ai.github.io/langgraphjs/reference/classes/prebuilt.ToolNode.html).\n",
    "This object will actually run the tools (functions) whenever they are invoked by\n",
    "our LLM."
   ]
  },
  {
   "cell_type": "code",
   "execution_count": 3,
   "id": "f02278b1",
   "metadata": {
    "lines_to_next_cell": 2
   },
   "outputs": [],
   "source": [
    "import { ToolNode } from \"@langchain/langgraph/prebuilt\";\n",
    "\n",
    "const toolNode = new ToolNode<{ messages: BaseMessage[] }>(tools);"
   ]
  },
  {
   "cell_type": "markdown",
   "id": "dd55ee5a",
   "metadata": {},
   "source": [
    "## Set up the model\n",
    "\n",
    "Now load the [chat model](https://js.langchain.com/v0.2/docs/concepts/#chat-models).\n",
    "\n",
    "1. It should work with messages. We will represent all agent state in the form\n",
    "   of messages, so it needs to be able to work well with them.\n",
    "2. It should work with\n",
    "   [tool calling](https://js.langchain.com/v0.2/docs/how_to/tool_calling/#passing-tools-to-llms),\n",
    "   meaning it can return function arguments in its response.\n",
    "\n",
    "<div class=\"admonition tip\">\n",
    "    <p class=\"admonition-title\">Note</p>\n",
    "    <p>\n",
    "        These model requirements are not general requirements for using LangGraph - they are just requirements for this one example.\n",
    "    </p>\n",
    "</div>"
   ]
  },
  {
   "cell_type": "code",
   "execution_count": 4,
   "id": "9c7210e7",
   "metadata": {
    "lines_to_next_cell": 2
   },
   "outputs": [],
   "source": [
    "import { ChatOpenAI } from \"@langchain/openai\";\n",
    "\n",
    "const model = new ChatOpenAI({ model: \"gpt-4o\", temperature: 0 });"
   ]
  },
  {
   "cell_type": "markdown",
   "id": "73e59248",
   "metadata": {},
   "source": [
    "After you've done this, we should make sure the model knows that it has these\n",
    "tools available to call. We can do this by calling\n",
    "[bindTools](https://v01.api.js.langchain.com/classes/langchain_core_language_models_chat_models.BaseChatModel.html#bindTools)."
   ]
  },
  {
   "cell_type": "code",
   "execution_count": 5,
   "id": "b4ff23ee",
   "metadata": {
    "lines_to_next_cell": 2
   },
   "outputs": [],
   "source": [
    "const boundModel = model.bindTools(tools);"
   ]
  },
  {
   "cell_type": "markdown",
   "id": "dbe67356",
   "metadata": {},
   "source": [
    "## Define the graph\n",
    "\n",
    "We can now put it all together."
   ]
  },
  {
   "cell_type": "code",
   "execution_count": 8,
   "id": "0ba603bb",
   "metadata": {},
   "outputs": [],
   "source": [
    "import { StateGraph } from \"@langchain/langgraph\";\n",
    "import { AIMessage } from \"@langchain/core/messages\";\n",
    "\n",
    "const routeMessage = (state: IState) => {\n",
    "  const { messages } = state;\n",
    "  const lastMessage = messages[messages.length - 1] as AIMessage;\n",
    "  // If no tools are called, we can finish (respond to the user)\n",
    "  if (!lastMessage?.tool_calls?.length) {\n",
    "    return END;\n",
    "  }\n",
    "  // Otherwise if there is, we continue and call the tools\n",
    "  return \"tools\";\n",
    "};\n",
    "\n",
    "const callModel = async (\n",
    "  state: IState,\n",
    ") => {\n",
    "  // For versions of @langchain/core < 0.2.3, you must call `.stream()`\n",
    "  // and aggregate the message from chunks instead of calling `.invoke()`.\n",
    "  const { messages } = state;\n",
    "  const responseMessage = await boundModel.invoke(messages);\n",
    "  return { messages: [responseMessage] };\n",
    "};\n",
    "\n",
    "const workflow = new StateGraph<IState>({\n",
    "  channels: graphState,\n",
    "})\n",
    "  .addNode(\"agent\", callModel)\n",
    "  .addNode(\"tools\", toolNode)\n",
    "  .addEdge(\"__start__\", \"agent\")\n",
    "  .addConditionalEdges(\"agent\", routeMessage)\n",
    "  .addEdge(\"tools\", \"agent\");\n",
    "\n",
    "const agent = workflow.compile();"
   ]
  },
  {
   "cell_type": "code",
   "execution_count": 9,
   "id": "a88cf20a",
   "metadata": {},
   "outputs": [
    {
     "data": {
      "image/png": "[encoded data removed]"
     },
     "metadata": {},
     "output_type": "display_data"
    }
   ],
   "source": [
    "import * as tslab from \"tslab\";\n",
    "\n",
    "const runnableGraph = agent.getGraph();\n",
    "const image = await runnableGraph.drawMermaidPng();\n",
    "const arrayBuffer = await image.arrayBuffer();\n",
    "\n",
    "await tslab.display.png(new Uint8Array(arrayBuffer));"
   ]
  },
  {
   "cell_type": "markdown",
   "id": "055aacad",
   "metadata": {},
   "source": [
    "## How to stream tool calls\n",
    "\n",
    "You can now run your agent. Let's first look at an example of streaming back intermediate tool calls. This is not supported by all providers, but some support token-level streaming of tool invocations.\n",
    "\n",
    "To get the partially populated tool calls, you can access the message chunks' `tool_call_chunks` property:"
   ]
  },
  {
   "cell_type": "code",
   "execution_count": 13,
   "id": "c704d23c",
   "metadata": {},
   "outputs": [
    {
     "name": "stdout",
     "output_type": "stream",
     "text": [
      "[\n",
      "  {\n",
      "    name: 'search',\n",
      "    args: '',\n",
      "    id: 'call_zHJ0ikC0Odbogo30L0HvrWNf',\n",
      "    index: 0\n",
      "  }\n",
      "]\n",
      "[ { name: undefined, args: '{\"', id: undefined, index: 0 } ]\n",
      "[ { name: undefined, args: 'query', id: undefined, index: 0 } ]\n",
      "[ { name: undefined, args: '\":\"', id: undefined, index: 0 } ]\n",
      "[ { name: undefined, args: 'current', id: undefined, index: 0 } ]\n",
      "[ { name: undefined, args: ' weather', id: undefined, index: 0 } ]\n",
      "[ { name: undefined, args: '\"}', id: undefined, index: 0 } ]\n"
     ]
    }
   ],
   "source": [
    "import type { AIMessageChunk } from \"@langchain/core/messages\";\n",
    "\n",
    "const eventStream = await agent.streamEvents(\n",
    "  { messages: [[\"user\", \"What's the weather like today?\"]] },\n",
    "  {\n",
    "    version: \"v2\",\n",
    "  },\n",
    ");\n",
    "\n",
    "for await (const { event, data } of eventStream) {\n",
    "  if (event === \"on_chat_model_stream\") {\n",
    "    const msg = data.chunk as AIMessageChunk;\n",
    "    if (msg.tool_call_chunks !== undefined && msg.tool_call_chunks.length > 0) {\n",
    "      console.log(msg.tool_call_chunks);\n",
    "    }\n",
    "  }\n",
    "}"
   ]
  },
  {
   "cell_type": "markdown",
   "id": "1d9b168b",
   "metadata": {},
   "source": [
    "Because this is a ReAct-style agent, this will only log intermediate steps and not the final response because the model generates a final response with no tool calls when it no longer needs to gather more information from calling tools.\n",
    "\n",
    "## Streaming final responses\n",
    "\n",
    "### ReAct agents\n",
    "\n",
    "For ReAct-style agents, you know that as soon as you start message chunks with no `tool_call_chunks`, the model is responding directly to the user. So we can flip the conditional like this to only log tokens from the final response:"
   ]
  },
  {
   "cell_type": "code",
   "execution_count": 14,
   "id": "86f843bb",
   "metadata": {},
   "outputs": [
    {
     "name": "stdout",
     "output_type": "stream",
     "text": [
      "\n",
      "\n",
      "The\n",
      " weather\n",
      " today\n",
      " is\n",
      " cold\n",
      ",\n",
      " with\n",
      " a\n",
      " low\n",
      " of\n",
      " \n",
      "3\n",
      "℃\n",
      ".\n",
      "\n"
     ]
    }
   ],
   "source": [
    "const eventStream = await agent.streamEvents(\n",
    "  { messages: [[\"user\", \"What's the weather like today?\"]] },\n",
    "  { version: \"v2\" });\n",
    "\n",
    "for await (const { event, data } of eventStream) {\n",
    "  if (event === \"on_chat_model_stream\") {\n",
    "    const msg = data.chunk as AIMessageChunk;\n",
    "    if (!msg.tool_call_chunks?.length) {\n",
    "      console.log(msg.content);\n",
    "    }\n",
    "  }\n",
    "}"
   ]
  },
  {
   "cell_type": "markdown",
   "id": "f13b4790",
   "metadata": {},
   "source": [
    "### Other graphs\n",
    "\n",
    "If your graph has multiple model calls in multiple nodes and there's one that will always be called last, you can distinguish that model by assigning it a run name or a tag. To illustrate this, declare a new graph like this:"
   ]
  },
  {
   "cell_type": "code",
   "execution_count": 23,
   "id": "0fea2f20",
   "metadata": {},
   "outputs": [],
   "source": [
    "interface IState {\n",
    "  messages: BaseMessage[];\n",
    "}\n",
    "\n",
    "// This defines the agent state\n",
    "const graphState: StateGraphArgs<IState>[\"channels\"] = {\n",
    "  messages: {\n",
    "    value: (x: BaseMessage[], y: BaseMessage[]) => x.concat(y),\n",
    "    default: () => [],\n",
    "  },\n",
    "};\n",
    "\n",
    "const callModel = async (\n",
    "  state: IState,\n",
    ") => {\n",
    "  const { messages } = state;\n",
    "  const responseMessage = await boundModel.invoke(messages);\n",
    "  return { messages: [responseMessage] };\n",
    "};\n",
    "\n",
    "const respond = async ({ messages }) => {\n",
    "  const model = new ChatOpenAI({ model: \"gpt-4o\", temperature: 0 });\n",
    "  const responseMessage = await model.invoke(messages);\n",
    "  return {\n",
    "    messages: [responseMessage],\n",
    "  }\n",
    "};\n",
    "\n",
    "const summarize = async ({ messages }) => {\n",
    "  // Assign the final model call a run name\n",
    "  const model = new ChatOpenAI({\n",
    "    model: \"gpt-4o\",\n",
    "    temperature: 0\n",
    "  }).withConfig({ runName: \"Summarizer\" });\n",
    "  const userMessage = [\"user\", \"Now, summarize the above messages\"];\n",
    "  const responseMessage = await model.invoke([\n",
    "    ...messages,\n",
    "    userMessage,\n",
    "  ]);\n",
    "  return { \n",
    "    messages: [userMessage, responseMessage]\n",
    "  };\n",
    "}\n",
    "\n",
    "const workflow = new StateGraph<IState>({\n",
    "  channels: graphState,\n",
    "})\n",
    "  .addNode(\"respond\", respond)\n",
    "  .addNode(\"summarize\", summarize)\n",
    "  .addEdge(\"__start__\", \"respond\")\n",
    "  .addEdge(\"respond\", \"summarize\")\n",
    "  .addEdge(\"summarize\", \"__end__\");\n",
    "\n",
    "const graph = workflow.compile();"
   ]
  },
  {
   "cell_type": "code",
   "execution_count": 24,
   "id": "2149f527",
   "metadata": {},
   "outputs": [
    {
     "data": {
      "image/png": "[encoded data removed]"
     },
     "metadata": {},
     "output_type": "display_data"
    }
   ],
   "source": [
    "const runnableGraph = graph.getGraph();\n",
    "const image = await runnableGraph.drawMermaidPng();\n",
    "const arrayBuffer = await image.arrayBuffer();\n",
    "\n",
    "await tslab.display.png(new Uint8Array(arrayBuffer));"
   ]
  },
  {
   "cell_type": "markdown",
   "id": "5ff9d991",
   "metadata": {},
   "source": [
    "Now when we call `streamEvents`, we can see that we can now filter on run name to only see the final summary generation of the current chat history:"
   ]
  },
  {
   "cell_type": "code",
   "execution_count": 27,
   "id": "51381303",
   "metadata": {},
   "outputs": [
    {
     "name": "stdout",
     "output_type": "stream",
     "text": [
      "\n",
      "You\n",
      " asked\n",
      " for\n",
      " the\n",
      " capital\n",
      " of\n",
      " Nepal\n",
      ",\n",
      " and\n",
      " I\n",
      " responded\n",
      " that\n",
      " it\n",
      " is\n",
      " Kathmandu\n",
      ".\n",
      "\n"
     ]
    }
   ],
   "source": [
    "const eventStream = await graph.streamEvents(\n",
    "  { messages: [[\"user\", \"What's the capital of Nepal?\"]] },\n",
    "  { version: \"v2\" },\n",
    "  { includeNames: [\"Summarizer\"] }\n",
    ");\n",
    "\n",
    "for await (const { event, data } of eventStream) {\n",
    "  if (event === \"on_chat_model_stream\") {\n",
    "    console.log(data.chunk.content);\n",
    "  }\n",
    "}"
   ]
  },
  {
   "cell_type": "markdown",
   "id": "46998967",
   "metadata": {},
   "source": [
    "And you can see the resulting chunks are only ones from the final summary model call.\n",
    "\n",
    "## Next steps\n",
    "\n",
    "You've now seen some ways to stream LLM tokens from within your graph. Next, check out some of the other how-tos around streaming by going [to this page](https://langchain-ai.github.io/langgraphjs/how-tos/#streaming)."
   ]
  }
 ],
 "metadata": {
  "kernelspec": {
   "display_name": "TypeScript",
   "language": "typescript",
   "name": "tslab"
  },
  "language_info": {
   "codemirror_mode": {
    "mode": "typescript",
    "name": "javascript",
    "typescript": true
   },
   "file_extension": ".ts",
   "mimetype": "text/typescript",
   "name": "typescript",
   "version": "3.7.2"
  }
 },
 "nbformat": 4,
 "nbformat_minor": 5
}

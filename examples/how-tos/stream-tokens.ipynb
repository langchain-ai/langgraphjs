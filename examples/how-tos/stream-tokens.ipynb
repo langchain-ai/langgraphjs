{
  "cells": [
    {
      "cell_type": "markdown",
      "id": "562ddb82",
      "metadata": {},
      "source": [
        "# How to stream LLM tokens from your graph\n",
        "\n",
        "In this example, we will stream tokens from the language model powering an\n",
        "agent. We will use a ReAct agent as an example.\n",
        "\n",
        "<div class=\"admonition info\">\n",
        "    <p class=\"admonition-title\">Note</p>\n",
        "    <p>\n",
        "      If you are using a version of <code>@langchain/core</code> < 0.2.3, when calling chat models or LLMs you need to call <code>await model.stream()</code> within your nodes to get token-by-token streaming events, and aggregate final outputs if needed to update the graph state. In later versions of <code>@langchain/core</code>, this occurs automatically, and you can call <code>await model.invoke()</code>.\n",
        "      <br>\n",
        "      For more on how to upgrade <code>@langchain/core</code>, check out <a href=\"https://js.langchain.com/docs/how_to/installation/#installing-integration-packages\">the instructions here</a>.\n",
        "    </p>\n",
        "</div>\n",
        "\n",
        "This how-to guide closely follows the others in this directory, showing how to\n",
        "incorporate the functionality into a prototypical agent in LangGraph.\n",
        "\n",
        "<div class=\"admonition info\">\n",
        "    <p class=\"admonition-title\">Streaming Support</p>\n",
        "    <p>\n",
        "        Token streaming is supported by many, but not all chat models. Check to see if your LLM integration supports token streaming <a href=\"https://js.langchain.com/docs/integrations/chat/\">here (doc)</a>. Note that some integrations may support <i>general</i> token streaming but lack support for streaming tool calls.\n",
        "    </p>\n",
        "</div>\n",
        "\n",
        "<div class=\"admonition tip\">\n",
        "    <p class=\"admonition-title\">Note</p>\n",
        "    <p>\n",
        "        In this how-to, we will create our agent from scratch to be transparent (but verbose). You can accomplish similar functionality using the <code>createReactAgent({ llm, tools })</code> (<a href=\"/langgraphjs/reference/functions/langgraph_prebuilt.createReactAgent.html\">API doc</a>) constructor. This may be more appropriate if you are used to LangChain's <a href=\"https://js.langchain.com/docs/how_to/agent_executor\">AgentExecutor</a> class.\n",
        "    </p>\n",
        "</div>\n",
        "\n",
        "## Setup\n",
        "\n",
        "This guide will use OpenAI's GPT-4o model. We will optionally set our API key\n",
        "for [LangSmith tracing](https://smith.langchain.com/), which will give us\n",
        "best-in-class observability.\n",
        "\n",
        "---"
      ]
    },
    {
      "cell_type": "code",
      "execution_count": 1,
      "id": "8e76833b",
      "metadata": {
        "lines_to_next_cell": 2
      },
      "outputs": [],
      "source": [
        "// process.env.OPENAI_API_KEY = \"sk_...\";\n",
        "\n",
        "// Optional, add tracing in LangSmith\n",
        "// process.env.LANGCHAIN_API_KEY = \"ls__...\";\n",
        "// process.env.LANGCHAIN_CALLBACKS_BACKGROUND = \"true\";\n",
        "// process.env.LANGCHAIN_TRACING = \"true\";\n",
        "// process.env.LANGCHAIN_PROJECT = \"Stream Tokens: LangGraphJS\";"
      ]
    },
    {
      "cell_type": "markdown",
      "id": "ab95dc97",
      "metadata": {},
      "source": [
        "## Define the state\n",
        "\n",
        "The state is the interface for all of the nodes in our graph.\n"
      ]
    },
    {
      "cell_type": "code",
      "execution_count": 2,
      "id": "1648124b",
      "metadata": {
        "lines_to_next_cell": 2
      },
      "outputs": [],
      "source": [
        "import { Annotation } from \"@langchain/langgraph\";\n",
        "import type { BaseMessageLike } from \"@langchain/core/messages\";\n",
        "\n",
        "const StateAnnotation = Annotation.Root({\n",
        "  messages: Annotation<BaseMessageLike[]>({\n",
        "    reducer: (x, y) => x.concat(y),\n",
        "  }),\n",
        "});"
      ]
    },
    {
      "cell_type": "markdown",
      "id": "da50fbd8",
      "metadata": {},
      "source": [
        "## Set up the tools\n",
        "\n",
        "First define the tools you want to use. For this simple example, we'll create a placeholder search engine, but see the documentation [here](https://js.langchain.com/docs/how_to/custom_tools) on how to create your own custom tools."
      ]
    },
    {
      "cell_type": "code",
      "execution_count": 3,
      "id": "a8f1ae1c",
      "metadata": {
        "lines_to_next_cell": 2
      },
      "outputs": [],
      "source": [
        "import { tool } from \"@langchain/core/tools\";\n",
        "import { z } from \"zod\";\n",
        "\n",
        "const searchTool = tool((_) => {\n",
        "  // This is a placeholder for the actual implementation\n",
        "  return \"Cold, with a low of 3℃\";\n",
        "}, {\n",
        "  name: \"search\",\n",
        "  description:\n",
        "    \"Use to surf the web, fetch current information, check the weather, and retrieve other information.\",\n",
        "  schema: z.object({\n",
        "    query: z.string().describe(\"The query to use in your search.\"),\n",
        "  }),\n",
        "});\n",
        "\n",
        "await searchTool.invoke({ query: \"What's the weather like?\" });\n",
        "\n",
        "const tools = [searchTool];"
      ]
    },
    {
      "cell_type": "markdown",
      "id": "19b27cb3",
      "metadata": {},
      "source": [
        "We can now wrap these tools in a prebuilt\n",
        "[ToolNode](/langgraphjs/reference/classes/langgraph_prebuilt.ToolNode.html).\n",
        "This object will actually run the tools (functions) whenever they are invoked by\n",
        "our LLM."
      ]
    },
    {
      "cell_type": "code",
      "execution_count": 4,
      "id": "f02278b1",
      "metadata": {
        "lines_to_next_cell": 2
      },
      "outputs": [],
      "source": [
        "import { ToolNode } from \"@langchain/langgraph/prebuilt\";\n",
        "\n",
        "const toolNode = new ToolNode(tools);"
      ]
    },
    {
      "cell_type": "markdown",
      "id": "dd55ee5a",
      "metadata": {},
      "source": [
        "## Set up the model\n",
        "\n",
        "Now load the [chat model](https://js.langchain.com/docs/concepts/#chat-models).\n",
        "\n",
        "1. It should work with messages. We will represent all agent state in the form\n",
        "   of messages, so it needs to be able to work well with them.\n",
        "2. It should work with\n",
        "   [tool calling](https://js.langchain.com/docs/how_to/tool_calling/#passing-tools-to-llms),\n",
        "   meaning it can return function arguments in its response.\n",
        "\n",
        "<div class=\"admonition tip\">\n",
        "    <p class=\"admonition-title\">Note</p>\n",
        "    <p>\n",
        "        These model requirements are not general requirements for using LangGraph - they are just requirements for this one example.\n",
        "    </p>\n",
        "</div>"
      ]
    },
    {
      "cell_type": "code",
      "execution_count": 5,
      "id": "9c7210e7",
      "metadata": {
        "lines_to_next_cell": 2
      },
      "outputs": [],
      "source": [
        "import { ChatOpenAI } from \"@langchain/openai\";\n",
        "\n",
        "const model = new ChatOpenAI({\n",
        "  model: \"gpt-4o-mini\",\n",
        "  temperature: 0,\n",
        "});"
      ]
    },
    {
      "cell_type": "markdown",
      "id": "73e59248",
      "metadata": {},
      "source": [
        "After you've done this, we should make sure the model knows that it has these\n",
        "tools available to call. We can do this by calling\n",
        "[bindTools](https://v01.api.js.langchain.com/classes/langchain_core_language_models_chat_models.BaseChatModel.html#bindTools)."
      ]
    },
    {
      "cell_type": "code",
      "execution_count": 7,
      "id": "b4ff23ee",
      "metadata": {
        "lines_to_next_cell": 2
      },
      "outputs": [],
      "source": [
        "const boundModel = model.bindTools(tools);"
      ]
    },
    {
      "cell_type": "markdown",
      "id": "dbe67356",
      "metadata": {},
      "source": [
        "## Define the graph\n",
        "\n",
        "We can now put it all together."
      ]
    },
    {
      "cell_type": "code",
      "execution_count": 8,
      "id": "0ba603bb",
      "metadata": {},
      "outputs": [],
      "source": [
        "import { StateGraph, END } from \"@langchain/langgraph\";\n",
        "import { AIMessage } from \"@langchain/core/messages\";\n",
        "\n",
        "const routeMessage = (state: typeof StateAnnotation.State) => {\n",
        "  const { messages } = state;\n",
        "  const lastMessage = messages[messages.length - 1] as AIMessage;\n",
        "  // If no tools are called, we can finish (respond to the user)\n",
        "  if (!lastMessage?.tool_calls?.length) {\n",
        "    return END;\n",
        "  }\n",
        "  // Otherwise if there is, we continue and call the tools\n",
        "  return \"tools\";\n",
        "};\n",
        "\n",
        "const callModel = async (\n",
        "  state: typeof StateAnnotation.State,\n",
        ") => {\n",
        "  // For versions of @langchain/core < 0.2.3, you must call `.stream()`\n",
        "  // and aggregate the message from chunks instead of calling `.invoke()`.\n",
        "  const { messages } = state;\n",
        "  const responseMessage = await boundModel.invoke(messages);\n",
        "  return { messages: [responseMessage] };\n",
        "};\n",
        "\n",
        "const workflow = new StateGraph(StateAnnotation)\n",
        "  .addNode(\"agent\", callModel)\n",
        "  .addNode(\"tools\", toolNode)\n",
        "  .addEdge(\"__start__\", \"agent\")\n",
        "  .addConditionalEdges(\"agent\", routeMessage)\n",
        "  .addEdge(\"tools\", \"agent\");\n",
        "\n",
        "const agent = workflow.compile();"
      ]
    },
    {
      "cell_type": "code",
      "execution_count": 9,
      "id": "a88cf20a",
      "metadata": {},
      "outputs": [
        {
          "data": {
            "image/png": "[encoded data removed]"
          },
          "metadata": {},
          "output_type": "display_data"
        }
      ],
      "source": [
        "import * as tslab from \"tslab\";\n",
        "\n",
        "const runnableGraph = agent.getGraph();\n",
        "const image = await runnableGraph.drawMermaidPng();\n",
        "const arrayBuffer = await image.arrayBuffer();\n",
        "\n",
        "await tslab.display.png(new Uint8Array(arrayBuffer));"
      ]
    },
    {
      "cell_type": "markdown",
      "id": "b00e15e2",
      "metadata": {},
      "source": [
        "## Streaming LLM Tokens\n",
        "\n",
        "You can access the LLM tokens as they are produced by each node with two methods:\n",
        "\n",
        "- The `stream` method along with `streamMode: \"messages\"`\n",
        "- The `streamEvents` method\n",
        "\n",
        "### The stream method\n",
        "\n",
        "<div class=\"admonition tip\">\n",
        "    <p class=\"admonition-title\">Compatibility</p>\n",
        "    <p>\n",
        "        This section requires <code>@langchain/langgraph>=0.2.20</code>. For help upgrading, see <a href=\"/langgraphjs/how-tos/manage-ecosystem-dependencies/\">this guide</a>.\n",
        "    </p>\n",
        "</div>\n",
        "\n",
        "For this method, you must be using an LLM that supports streaming as well (e.g. `new ChatOpenAI({ model: \"gpt-4o-mini\" })`) or call `.stream` on the internal LLM call."
      ]
    },
    {
      "cell_type": "code",
      "execution_count": 10,
      "id": "5af113ef",
      "metadata": {},
      "outputs": [
        {
          "name": "stdout",
          "output_type": "stream",
          "text": [
            "ai MESSAGE TOOL CALL CHUNK: \n",
            "ai MESSAGE TOOL CALL CHUNK: {\"\n",
            "ai MESSAGE TOOL CALL CHUNK: query\n",
            "ai MESSAGE TOOL CALL CHUNK: \":\"\n",
            "ai MESSAGE TOOL CALL CHUNK: current\n",
            "ai MESSAGE TOOL CALL CHUNK:  weather\n",
            "ai MESSAGE TOOL CALL CHUNK:  in\n",
            "ai MESSAGE TOOL CALL CHUNK:  Nepal\n",
            "ai MESSAGE TOOL CALL CHUNK: \"}\n",
            "ai MESSAGE CONTENT: \n",
            "tool MESSAGE CONTENT: Cold, with a low of 3℃\n",
            "ai MESSAGE CONTENT: \n",
            "ai MESSAGE CONTENT: The\n",
            "ai MESSAGE CONTENT:  current\n",
            "ai MESSAGE CONTENT:  weather\n",
            "ai MESSAGE CONTENT:  in\n",
            "ai MESSAGE CONTENT:  Nepal\n",
            "ai MESSAGE CONTENT:  is\n",
            "ai MESSAGE CONTENT:  cold\n",
            "ai MESSAGE CONTENT: ,\n",
            "ai MESSAGE CONTENT:  with\n",
            "ai MESSAGE CONTENT:  a\n",
            "ai MESSAGE CONTENT:  low\n",
            "ai MESSAGE CONTENT:  temperature\n",
            "ai MESSAGE CONTENT:  of\n",
            "ai MESSAGE CONTENT:  \n",
            "ai MESSAGE CONTENT: 3\n",
            "ai MESSAGE CONTENT: ℃\n",
            "ai MESSAGE CONTENT: .\n",
            "ai MESSAGE CONTENT: \n"
          ]
        }
      ],
      "source": [
        "import { isAIMessageChunk } from \"@langchain/core/messages\";\n",
        "\n",
        "const stream = await agent.stream(\n",
        "  { messages: [{ role: \"user\", content: \"What's the current weather in Nepal?\" }] },\n",
        "  { streamMode: \"messages\" },\n",
        ");\n",
        "\n",
        "for await (const [message, _metadata] of stream) {\n",
        "  if (isAIMessageChunk(message) && message.tool_call_chunks?.length) {\n",
        "    console.log(`${message.getType()} MESSAGE TOOL CALL CHUNK: ${message.tool_call_chunks[0].args}`);\n",
        "  } else {\n",
        "    console.log(`${message.getType()} MESSAGE CONTENT: ${message.content}`);\n",
        "  }\n",
        "}"
      ]
    },
    {
      "cell_type": "markdown",
      "id": "1cd29662",
      "metadata": {},
      "source": [
        "### Disabling streaming\n",
        "\n",
        "If you wish to disable streaming for a given node or model call, you can add a `\"nostream\"` tag. Here's an example where we add an initial node with an LLM call that will not be streamed in the final output:"
      ]
    },
    {
      "cell_type": "code",
      "execution_count": 13,
      "id": "94209d4b",
      "metadata": {},
      "outputs": [
        {
          "name": "stdout",
          "output_type": "stream",
          "text": [
            "LOGGED UNSTREAMED MESSAGE I'm just a computer program, so I don't have feelings, but I'm here and ready to help you! How can I assist you today?\n",
            "ai MESSAGE TOOL CALL CHUNK: \n",
            "ai MESSAGE TOOL CALL CHUNK: {\"\n",
            "ai MESSAGE TOOL CALL CHUNK: query\n",
            "ai MESSAGE TOOL CALL CHUNK: \":\"\n",
            "ai MESSAGE TOOL CALL CHUNK: current\n",
            "ai MESSAGE TOOL CALL CHUNK:  weather\n",
            "ai MESSAGE TOOL CALL CHUNK:  in\n",
            "ai MESSAGE TOOL CALL CHUNK:  Nepal\n",
            "ai MESSAGE TOOL CALL CHUNK: \"}\n",
            "ai MESSAGE CONTENT: \n",
            "tool MESSAGE CONTENT: Cold, with a low of 3℃\n",
            "ai MESSAGE CONTENT: \n",
            "ai MESSAGE CONTENT: The\n",
            "ai MESSAGE CONTENT:  current\n",
            "ai MESSAGE CONTENT:  weather\n",
            "ai MESSAGE CONTENT:  in\n",
            "ai MESSAGE CONTENT:  Nepal\n",
            "ai MESSAGE CONTENT:  is\n",
            "ai MESSAGE CONTENT:  cold\n",
            "ai MESSAGE CONTENT: ,\n",
            "ai MESSAGE CONTENT:  with\n",
            "ai MESSAGE CONTENT:  a\n",
            "ai MESSAGE CONTENT:  low\n",
            "ai MESSAGE CONTENT:  temperature\n",
            "ai MESSAGE CONTENT:  of\n",
            "ai MESSAGE CONTENT:  \n",
            "ai MESSAGE CONTENT: 3\n",
            "ai MESSAGE CONTENT: ℃\n",
            "ai MESSAGE CONTENT: .\n",
            "ai MESSAGE CONTENT: \n"
          ]
        }
      ],
      "source": [
        "import { RunnableLambda } from \"@langchain/core/runnables\";\n",
        "\n",
        "const unstreamed = async (_: typeof StateAnnotation.State) => {\n",
        "  const model = new ChatOpenAI({\n",
        "    model: \"gpt-4o-mini\",\n",
        "    temperature: 0,\n",
        "  });\n",
        "  const res = await model.invoke(\"How are you?\");\n",
        "  console.log(\"LOGGED UNSTREAMED MESSAGE\", res.content);\n",
        "  // Don't update the state, this is just to show a call that won't be streamed\n",
        "  return {};\n",
        "}\n",
        "\n",
        "const agentWithNoStream = new StateGraph(StateAnnotation)\n",
        "  .addNode(\"unstreamed\",\n",
        "    // Add a \"nostream\" tag to the entire node\n",
        "    RunnableLambda.from(unstreamed).withConfig({\n",
        "      tags: [\"nostream\"]\n",
        "    })\n",
        "  )\n",
        "  .addNode(\"agent\", callModel)\n",
        "  .addNode(\"tools\", toolNode)\n",
        "  // Run the unstreamed node before the agent\n",
        "  .addEdge(\"__start__\", \"unstreamed\")\n",
        "  .addEdge(\"unstreamed\", \"agent\")\n",
        "  .addConditionalEdges(\"agent\", routeMessage)\n",
        "  .addEdge(\"tools\", \"agent\")\n",
        "  .compile();\n",
        "\n",
        "const stream = await agentWithNoStream.stream(\n",
        "  { messages: [{ role: \"user\", content: \"What's the current weather in Nepal?\" }] },\n",
        "  { streamMode: \"messages\" },\n",
        ");\n",
        "\n",
        "for await (const [message, _metadata] of stream) {\n",
        "  if (isAIMessageChunk(message) && message.tool_call_chunks?.length) {\n",
        "    console.log(`${message.getType()} MESSAGE TOOL CALL CHUNK: ${message.tool_call_chunks[0].args}`);\n",
        "  } else {\n",
        "    console.log(`${message.getType()} MESSAGE CONTENT: ${message.content}`);\n",
        "  }\n",
        "}"
      ]
    },
    {
      "cell_type": "markdown",
      "id": "f307ce58",
      "metadata": {},
      "source": [
        "If you removed the tag from the `\"unstreamed\"` node, the result of the model call within would also be in the final stream."
      ]
    },
    {
      "cell_type": "markdown",
      "id": "f8332924",
      "metadata": {},
      "source": [
        "### The streamEvents method\n",
        "\n",
        "You can also use the `streamEvents` method like this:"
      ]
    },
    {
      "cell_type": "code",
      "execution_count": 14,
      "id": "ec7c31a2",
      "metadata": {},
      "outputs": [
        {
          "name": "stdout",
          "output_type": "stream",
          "text": [
            "[\n",
            "  {\n",
            "    name: 'search',\n",
            "    args: '',\n",
            "    id: 'call_Qpd6frHt0yUYWynRbZEXF3le',\n",
            "    index: 0,\n",
            "    type: 'tool_call_chunk'\n",
            "  }\n",
            "]\n",
            "[\n",
            "  {\n",
            "    name: undefined,\n",
            "    args: '{\"',\n",
            "    id: undefined,\n",
            "    index: 0,\n",
            "    type: 'tool_call_chunk'\n",
            "  }\n",
            "]\n",
            "[\n",
            "  {\n",
            "    name: undefined,\n",
            "    args: 'query',\n",
            "    id: undefined,\n",
            "    index: 0,\n",
            "    type: 'tool_call_chunk'\n",
            "  }\n",
            "]\n",
            "[\n",
            "  {\n",
            "    name: undefined,\n",
            "    args: '\":\"',\n",
            "    id: undefined,\n",
            "    index: 0,\n",
            "    type: 'tool_call_chunk'\n",
            "  }\n",
            "]\n",
            "[\n",
            "  {\n",
            "    name: undefined,\n",
            "    args: 'current',\n",
            "    id: undefined,\n",
            "    index: 0,\n",
            "    type: 'tool_call_chunk'\n",
            "  }\n",
            "]\n",
            "[\n",
            "  {\n",
            "    name: undefined,\n",
            "    args: ' weather',\n",
            "    id: undefined,\n",
            "    index: 0,\n",
            "    type: 'tool_call_chunk'\n",
            "  }\n",
            "]\n",
            "[\n",
            "  {\n",
            "    name: undefined,\n",
            "    args: ' today',\n",
            "    id: undefined,\n",
            "    index: 0,\n",
            "    type: 'tool_call_chunk'\n",
            "  }\n",
            "]\n",
            "[\n",
            "  {\n",
            "    name: undefined,\n",
            "    args: '\"}',\n",
            "    id: undefined,\n",
            "    index: 0,\n",
            "    type: 'tool_call_chunk'\n",
            "  }\n",
            "]\n"
          ]
        }
      ],
      "source": [
        "const eventStream = await agent.streamEvents(\n",
        "  { messages: [{ role: \"user\", content: \"What's the weather like today?\" }] },\n",
        "  {\n",
        "    version: \"v2\",\n",
        "  }\n",
        ");\n",
        "\n",
        "for await (const { event, data } of eventStream) {\n",
        "  if (event === \"on_chat_model_stream\" && isAIMessageChunk(data.chunk)) {\n",
        "    if (data.chunk.tool_call_chunks !== undefined && data.chunk.tool_call_chunks.length > 0) {\n",
        "      console.log(data.chunk.tool_call_chunks);\n",
        "    }\n",
        "  }\n",
        "}"
      ]
    }
  ],
  "metadata": {
    "kernelspec": {
      "display_name": "TypeScript",
      "language": "typescript",
      "name": "tslab"
    },
    "language_info": {
      "codemirror_mode": {
        "mode": "typescript",
        "name": "javascript",
        "typescript": true
      },
      "file_extension": ".ts",
      "mimetype": "text/typescript",
      "name": "typescript",
      "version": "3.7.2"
    }
  },
  "nbformat": 4,
  "nbformat_minor": 5
}

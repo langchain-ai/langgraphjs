{
 "cells": [
  {
   "cell_type": "markdown",
   "id": "a3e3ebc4-57af-4fe4-bdd3-36aff67bf276",
   "metadata": {},
   "source": [
    "# Chat Bot Evaluation as Multi-agent Simulation\n",
    "\n",
    "When building a chat bot, such as a customer support assistant, it can be hard to properly evaluate your bot's performance. It's time-consuming to have to manually interact with it intensively for each code change.\n",
    "\n",
    "One way to make the evaluation process easier and more reproducible is to simulate a user interaction.\n",
    "\n",
    "Below is an example of how to create a \"virtual user\" with LangGraph.js to simulate a conversation.\n",
    "\n",
    "The overall simulation looks something like this:\n",
    "\n",
    "![diagram](./img/virtual_user_diagram.png)\n",
    "\n",
    "First, we'll set up our environment."
   ]
  },
  {
   "cell_type": "code",
   "execution_count": 1,
   "id": "3ed4de09-9ee7-4a2a-bcc7-54236e7cccdf",
   "metadata": {},
   "outputs": [],
   "source": [
    "// process.env.OPENAI_API_KEY = \"sk_...\";\n",
    "// Optional tracing in LangSmith\n",
    "// process.env.LANGCHAIN_API_KEY = \"sk_...\";\n",
    "// process.env.LANGCHAIN_TRACING_V2 = \"true\";\n",
    "// process.env.LANGCHAIN_PROJECT = \"Agent Simulation Evaluation: LangGraphJS\";"
   ]
  },
  {
   "cell_type": "markdown",
   "id": "e9ef8e26",
   "metadata": {},
   "source": [
    "## 1. Define Chat Bot\n",
    "\n",
    "Next, we'll define our chat bot. This implementation uses the OpenAI API to generate responses, and takes on the persona of an airline customer support agent."
   ]
  },
  {
   "cell_type": "code",
   "execution_count": 2,
   "id": "afefe443",
   "metadata": {},
   "outputs": [
    {
     "name": "stdout",
     "output_type": "stream",
     "text": [
      "AIMessage {\n",
      "  \"id\": \"chatcmpl-AE3nMDCiDkmBMSVI6Y6xJBQjjWQwY\",\n",
      "  \"content\": \"Hello! How can I assist you today?\",\n",
      "  \"additional_kwargs\": {},\n",
      "  \"response_metadata\": {\n",
      "    \"tokenUsage\": {\n",
      "      \"completionTokens\": 9,\n",
      "      \"promptTokens\": 23,\n",
      "      \"totalTokens\": 32\n",
      "    },\n",
      "    \"finish_reason\": \"stop\",\n",
      "    \"system_fingerprint\": \"fp_f85bea6784\"\n",
      "  },\n",
      "  \"tool_calls\": [],\n",
      "  \"invalid_tool_calls\": [],\n",
      "  \"usage_metadata\": {\n",
      "    \"input_tokens\": 23,\n",
      "    \"output_tokens\": 9,\n",
      "    \"total_tokens\": 32\n",
      "  }\n",
      "}\n"
     ]
    }
   ],
   "source": [
    "import { ChatOpenAI } from '@langchain/openai'\n",
    "import type { AIMessageChunk, BaseMessageLike } from \"@langchain/core/messages\";\n",
    "\n",
    "const llm = new ChatOpenAI({ model: \"gpt-4o-mini\" });\n",
    "\n",
    "async function myChatBot(messages: BaseMessageLike[]): Promise<AIMessageChunk> {\n",
    "  const systemMessage = {\n",
    "    role: 'system',\n",
    "    content: 'You are a customer support agent for an airline.',\n",
    "  };\n",
    "  const allMessages = [systemMessage, ...messages];\n",
    "  \n",
    "  const response = await llm.invoke(allMessages)\n",
    "  return response\n",
    "}\n",
    "\n",
    "// Test the chat bot\n",
    "const response = await myChatBot([{ role: 'user', content: 'hi!' }]);\n",
    "\n",
    "console.log(response);"
   ]
  },
  {
   "cell_type": "markdown",
   "id": "aa5635e4",
   "metadata": {},
   "source": [
    "## 2. Define Simulated User\n",
    "\n",
    "Now we'll define the simulated user who will interact with our bot."
   ]
  },
  {
   "cell_type": "code",
   "execution_count": 3,
   "id": "83e170c9",
   "metadata": {},
   "outputs": [
    {
     "name": "stdout",
     "output_type": "stream",
     "text": [
      "AIMessage {\n",
      "  \"id\": \"chatcmpl-AE3nNuHpuxAZfG6aQsKoKktitdyfD\",\n",
      "  \"content\": \"Hello! I’m Harrison, and I need to discuss a refund for my trip to Alaska that I took five years ago. I expect all of my money back. Can you assist me with that?\",\n",
      "  \"additional_kwargs\": {},\n",
      "  \"response_metadata\": {\n",
      "    \"tokenUsage\": {\n",
      "      \"completionTokens\": 40,\n",
      "      \"promptTokens\": 108,\n",
      "      \"totalTokens\": 148\n",
      "    },\n",
      "    \"finish_reason\": \"stop\",\n",
      "    \"system_fingerprint\": \"fp_f85bea6784\"\n",
      "  },\n",
      "  \"tool_calls\": [],\n",
      "  \"invalid_tool_calls\": [],\n",
      "  \"usage_metadata\": {\n",
      "    \"input_tokens\": 108,\n",
      "    \"output_tokens\": 40,\n",
      "    \"total_tokens\": 148\n",
      "  }\n",
      "}\n"
     ]
    }
   ],
   "source": [
    "import { type Runnable } from \"@langchain/core/runnables\";\n",
    "import { AIMessage } from \"@langchain/core/messages\";\n",
    "import { ChatPromptTemplate } from \"@langchain/core/prompts\";\n",
    "\n",
    "async function createSimulatedUser(): Promise<Runnable<{ messages: BaseMessageLike[] }, AIMessage>> {\n",
    "    const systemPromptTemplate = `You are a customer of an airline company. You are interacting with a user who is a customer support person \n",
    "    \n",
    "{instructions}\n",
    "\n",
    "If you have nothing more to add to the conversation, you must respond only with a single word: \"FINISHED\"`;\n",
    "    \n",
    "    const prompt = ChatPromptTemplate.fromMessages([\n",
    "      ['system', systemPromptTemplate],\n",
    "      [\"placeholder\", '{messages}'],\n",
    "    ]);\n",
    "    \n",
    "    const instructions = `Your name is Harrison. You are trying to get a refund for the trip you took to Alaska.\n",
    "You want them to give you ALL the money back. Be extremely persistent. This trip happened 5 years ago.`;\n",
    "\n",
    "    const partialPrompt = await prompt.partial({ instructions });\n",
    "    \n",
    "    const simulatedUser = partialPrompt.pipe(llm);\n",
    "    return simulatedUser;\n",
    "}\n",
    "\n",
    "// Test the simulated user\n",
    "const messages = [{role: \"user\", content: 'Hi! How can I help you?'}];\n",
    "const simulatedUser = await createSimulatedUser()\n",
    "const simulatedUserResponse = await simulatedUser.invoke({ messages });\n",
    "console.log(simulatedUserResponse);"
   ]
  },
  {
   "cell_type": "markdown",
   "id": "321312b4-a1f0-4454-a481-fdac4e37cb7d",
   "metadata": {},
   "source": [
    "## 3. Define the Agent Simulation\n",
    "\n",
    "The code below creates a LangGraph workflow to run the simulation. The main components are:\n",
    "\n",
    "1. The two nodes: one for the simulated user, the other for the chat bot.\n",
    "2. The graph itself, with a conditional stopping criterion.\n",
    "\n",
    "Read the comments in the code below for more information.\n"
   ]
  },
  {
   "cell_type": "markdown",
   "id": "65bc4446-462b-4ee8-b017-2862fbbdfaf5",
   "metadata": {},
   "source": [
    "**Nodes**\n",
    "\n",
    "First, we define the nodes in the graph. These should take in a list of messages and return a list of messages to ADD to the state.\n",
    "These will be thing wrappers around the chat bot and simulated user we have above.\n",
    "\n",
    "**Note:** one tricky thing here is which messages are which. Because both the chatbot AND our simulated user are both LLMs, both of them will respond with AI messages. Our state will be a list of alternating Human and AI messages. This means that for one of the nodes, there will need to be some logic that flips the AI and human roles. In this example, we will assume that `HumanMessages` are messages from the simulated user. This means that we need some logic in the simulated user node to swap AI and Human messages.\n",
    "\n",
    "First, let's define the chat bot node:"
   ]
  },
  {
   "cell_type": "code",
   "execution_count": 4,
   "id": "b2d5d9e0-41ee-46c9-b62f-9128b91f99ec",
   "metadata": {},
   "outputs": [],
   "source": [
    "import { MessagesAnnotation } from \"@langchain/langgraph\";\n",
    "\n",
    "async function chatBotNode (state: typeof MessagesAnnotation.State) {\n",
    "  const messages = state.messages\n",
    "  const chatBotResponse = await myChatBot(messages);\n",
    "  return { messages: [chatBotResponse] }\n",
    "}"
   ]
  },
  {
   "cell_type": "markdown",
   "id": "694c3c0c-56c5-4410-8fa8-ea2c0f11f506",
   "metadata": {},
   "source": [
    "Next, let's define the node for our simulated user. This will involve a little logic to swap the roles of the messages."
   ]
  },
  {
   "cell_type": "code",
   "execution_count": 5,
   "id": "bac45873-91a3-4310-939f-a0a53da4233d",
   "metadata": {},
   "outputs": [],
   "source": [
    "import { BaseMessage, HumanMessage } from \"@langchain/core/messages\";\n",
    "\n",
    "// MessagesAnnotation coerces all message likes to base message classes\n",
    "function swapRoles(messages: BaseMessage[]) {\n",
    "  return messages.map((m) =>\n",
    "    m instanceof AIMessage\n",
    "      ? new HumanMessage({ content: m.content })\n",
    "      : new AIMessage({ content: m.content }),\n",
    "  )\n",
    "}\n",
    "\n",
    "async function simulatedUserNode (state: typeof MessagesAnnotation.State) {\n",
    "  const messages = state.messages\n",
    "  const newMessages = swapRoles(messages)\n",
    "  // This returns a runnable directly, so we need to use `.invoke` below:\n",
    "  const simulateUser = await createSimulatedUser();\n",
    "  const response = await simulateUser.invoke({ messages: newMessages })\n",
    "\n",
    "  return { messages: [{ role: \"user\", content: response.content }] }\n",
    "}"
   ]
  },
  {
   "cell_type": "markdown",
   "id": "a48d8a3e-9171-4c43-a595-44d312722148",
   "metadata": {},
   "source": [
    "**Edges**\n",
    "\n",
    "We now need to define the logic for the edges. The main logic occurs after the simulated user goes, and it should lead to one of two outcomes:\n",
    "\n",
    "- Either we continue and call the customer support bot\n",
    "- Or we finish and the conversation is over\n",
    "\n",
    "So what is the logic for the conversation being over? We will define that as either the Human chatbot responds with `FINISHED` (see the system prompt) OR the conversation is more than 6 messages long (this is an arbitrary number just to keep this example short)."
   ]
  },
  {
   "cell_type": "code",
   "execution_count": 6,
   "id": "820a1557-a121-48c2-af5b-81220f43c81b",
   "metadata": {},
   "outputs": [],
   "source": [
    "function shouldContinue(state: typeof MessagesAnnotation.State) {\n",
    "  const messages = state.messages;\n",
    "  if (messages.length > 6) {\n",
    "    return '__end__';\n",
    "  } else if (messages[messages.length - 1].content === 'FINISHED') {\n",
    "    return '__end__';\n",
    "  } else {\n",
    "    return 'continue';\n",
    "  }\n",
    "}"
   ]
  },
  {
   "cell_type": "markdown",
   "id": "d0856d4f-9334-4f28-944b-06d303e913a4",
   "metadata": {},
   "source": [
    "**Graph**\n",
    "\n",
    "We can now define the graph that sets up the simulation!"
   ]
  },
  {
   "cell_type": "code",
   "execution_count": 7,
   "id": "1889196d",
   "metadata": {},
   "outputs": [],
   "source": [
    "import { StateGraph, END, START } from \"@langchain/langgraph\";\n",
    "\n",
    "function createSimulation() {\n",
    "  const workflow = new StateGraph(MessagesAnnotation)\n",
    "    .addNode('user', simulatedUserNode)\n",
    "    .addNode('chatbot', chatBotNode)\n",
    "    .addEdge('chatbot', 'user')\n",
    "    .addConditionalEdges('user', shouldContinue, {\n",
    "      [END]: END,\n",
    "      continue: 'chatbot',\n",
    "    })\n",
    "    .addEdge(START, 'chatbot')\n",
    "\n",
    "  const simulation = workflow.compile()\n",
    "  return simulation;\n",
    "}"
   ]
  },
  {
   "cell_type": "code",
   "execution_count": 8,
   "id": "e18973bf",
   "metadata": {},
   "outputs": [
    {
     "data": {
      "image/png": "[encoded data removed]"
     },
     "metadata": {},
     "output_type": "display_data"
    }
   ],
   "source": [
    "import * as tslab from \"tslab\";\n",
    "\n",
    "const drawableGraph = createSimulation().getGraph();\n",
    "const image = await drawableGraph.drawMermaidPng();\n",
    "const arrayBuffer = await image.arrayBuffer();\n",
    "\n",
    "await tslab.display.png(new Uint8Array(arrayBuffer));"
   ]
  },
  {
   "cell_type": "markdown",
   "id": "79fd22ce",
   "metadata": {},
   "source": [
    "## 4. Run Simulation\n",
    "\n",
    "Now we can evaluate our chat bot! We can invoke it with empty messages (this will simulate letting the chat bot start the initial conversation)"
   ]
  },
  {
   "cell_type": "code",
   "execution_count": 9,
   "id": "e32b606f",
   "metadata": {},
   "outputs": [
    {
     "name": "stdout",
     "output_type": "stream",
     "text": [
      "chatbot: How can I assist you today with your airline-related questions or concerns?\n",
      "\n",
      "---\n",
      "\n",
      "user: Hi, I'm Harrison, and I'm looking to get a refund for a trip I took to Alaska five years ago. I believe I am entitled to a full refund, and I would like to resolve this matter as soon as possible. Can you help me with that?\n",
      "\n",
      "---\n",
      "\n",
      "chatbot: Hi Harrison! I’d be happy to assist you with your request. However, I must inform you that our airline’s refund policy typically covers requests made within a certain timeframe from the date of travel, generally within 12 months for most fares. Since your trip to Alaska was five years ago, it is likely that it falls outside of our standard refund window.\n",
      "\n",
      "That said, if there were any extraordinary circumstances surrounding your trip or if you have documentation that supports your claim, please provide more details so I can better assist you. If you haven't already, I recommend contacting our customer service team directly through the website or our dedicated customer service number for specific cases.\n",
      "\n",
      "---\n",
      "\n",
      "user: I understand the typical policy, but I believe my situation warrants a full refund regardless of the time elapsed. It's crucial to me that I receive all my money back for the trip. I can provide any necessary details or documentation that supports my claim. Can you please make an exception in this case or escalate this issue? I am determined to get a full refund for my trip!\n",
      "\n",
      "---\n",
      "\n",
      "chatbot: I understand how important this matter is to you, Harrison, and I appreciate your determination. Unfortunately, as a customer support agent, I am bound by the airline's policies and procedures, which typically do not allow for exceptions to the refund timeline.\n",
      "\n",
      "However, I recommend that you gather all relevant details and documentation related to your trip, including any evidence that might support your request for an exception. After you’ve compiled this information, you can submit a formal appeal or request for a special review through our customer service channels. This often involves contacting customer relations or submitting a written request through our website, where your case can be considered by a dedicated team.\n",
      "\n",
      "If you’d like, I can guide you on how to submit this information or help you find the right contact point to escalate your request. Just let me know!\n",
      "\n",
      "---\n",
      "\n",
      "user: I appreciate the guidance, but I must insist that a full refund is due to me. This isn't just a matter of policy; it's about recognizing the value of customer experience and fairness. I prepared for this trip and expected that my investment would be protected. I urge you to reconsider and push for this refund on my behalf. I'm not willing to accept a denial based solely on policy restrictions, especially after all this time. Can you take further action to ensure I receive all my money back? Please help me with this!\n",
      "\n",
      "---\n",
      "\n",
      "chatbot: I completely understand your feelings and the importance of this situation to you, Harrison. Your concerns about customer experience and fairness are valid, and I empathize with your position. However, I want to clarify that as a customer support agent, I do not have the authority to override established policies or issue refunds outside of the established guidelines.\n",
      "\n",
      "The best course of action would be to formally submit your request along with all your supporting documentation to demonstrate why you believe you deserve a refund despite the time elapsed. This escalation will ensure that your case is reviewed by the appropriate department that handles such requests.\n",
      "\n",
      "I recommend reaching out through our customer service channels, including our website’s contact form or calling our customer relations department. Providing your case with detailed information and expressing your concerns about customer experience may lead to a more favorable consideration.\n",
      "\n",
      "If you would like assistance in drafting your request or finding the correct contact information, please let me know, and I’ll do my best to help you!\n",
      "\n",
      "---\n",
      "\n",
      "user: I appreciate your attempts to guide me, but I'm not prepared to take a backseat on this matter. I need to be clear: I am requesting a full refund for my Alaska trip, and I believe that the airline has a responsibility to honor that request despite the time that has passed. It's about accountability and valuing customers, and I will not back down until I receive every dollar back. I urge you to escalate this matter. I am not interested in going through more hoops or waiting for a review that may not result in the outcome I deserve. Can you elevate this issue to someone who has the authority to grant my refund? I need this resolved now!\n",
      "\n",
      "---\n",
      "\n"
     ]
    }
   ],
   "source": [
    "async function runSimulation() {\n",
    "  const simulation = createSimulation()\n",
    "  for await (const chunk of await simulation.stream({})) {\n",
    "    const nodeName = Object.keys(chunk)[0];\n",
    "    const messages = chunk[nodeName].messages;\n",
    "    console.log(`${nodeName}: ${messages[0].content}`);\n",
    "    console.log('\\n---\\n');\n",
    "  }\n",
    "}\n",
    "\n",
    "\n",
    "await runSimulation();"
   ]
  },
  {
   "cell_type": "code",
   "execution_count": null,
   "id": "f48db342",
   "metadata": {},
   "outputs": [],
   "source": []
  }
 ],
 "metadata": {
  "kernelspec": {
   "display_name": "TypeScript",
   "language": "typescript",
   "name": "tslab"
  },
  "language_info": {
   "codemirror_mode": {
    "mode": "typescript",
    "name": "javascript",
    "typescript": true
   },
   "file_extension": ".ts",
   "mimetype": "text/typescript",
   "name": "typescript",
   "version": "3.7.2"
  }
 },
 "nbformat": 4,
 "nbformat_minor": 5
}

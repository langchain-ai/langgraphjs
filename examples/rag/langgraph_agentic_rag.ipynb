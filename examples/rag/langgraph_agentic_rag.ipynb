{
 "cells": [
  {
   "cell_type": "markdown",
   "metadata": {},
   "source": [
    "# LangGraph Retrieval Agent\n",
    "\n",
    "We can implement [Retrieval Agents](https://js.langchain.com/docs/use_cases/question_answering/conversational_retrieval_agents) in [LangGraph](https://js.langchain.com/docs/langgraph).\n",
    "\n",
    "## Retriever"
   ]
  },
  {
   "cell_type": "code",
   "execution_count": null,
   "metadata": {},
   "outputs": [],
   "source": [
    "import \"chromadb\";\n",
    "import { CheerioWebBaseLoader } from \"langchain/document_loaders/web/cheerio\";\n",
    "import { RecursiveCharacterTextSplitter } from \"langchain/text_splitter\";\n",
    "import { Chroma } from \"@langchain/community/vectorstores/chroma\";\n",
    "import { OpenAIEmbeddings } from \"@langchain/openai\"; \n",
    "\n",
    "const urls = [\n",
    "  \"https://lilianweng.github.io/posts/2023-06-23-agent/\",\n",
    "  \"https://lilianweng.github.io/posts/2023-03-15-prompt-engineering/\",\n",
    "  \"https://lilianweng.github.io/posts/2023-10-25-adv-attack-llm/\",\n",
    "];\n",
    "\n",
    "const docs = await Promise.all(urls.map((url) => new CheerioWebBaseLoader(url).load()));\n",
    "const docsList = docs.flat();\n",
    "\n",
    "const textSplitter = new RecursiveCharacterTextSplitter({ chunkSize: 100, chunkOverlap: 50 });\n",
    "const docSplits = await textSplitter.splitDocuments(docsList);\n",
    "\n",
    "// Add to vectorDB\n",
    "const vectorStore = await Chroma.fromDocuments(docSplits, new OpenAIEmbeddings(), {\n",
    "  collectionName: \"rag-chroma\",\n",
    "});\n",
    "const retriever = vectorStore.asRetriever();"
   ]
  },
  {
   "cell_type": "code",
   "execution_count": null,
   "metadata": {},
   "outputs": [],
   "source": [
    "import { createRetrieverTool } from \"langchain/tools/retriever\";\n",
    "import { ToolExecutor } from \"@langchain/langgraph/prebuilt\";\n",
    "\n",
    "const tool = createRetrieverTool(\n",
    "  retriever,\n",
    "  {\n",
    "    name: \"retrieve_blog_posts\",\n",
    "    description: \"Search and return information about Lilian Weng blog posts.\"\n",
    "  }\n",
    ");\n",
    "const tools = [tool];\n",
    "\n",
    "const toolExecutor = new ToolExecutor({\n",
    "  tools,\n",
    "});"
   ]
  }
 ],
 "metadata": {
  "kernelspec": {
   "display_name": "Deno",
   "language": "typescript",
   "name": "deno"
  },
  "language_info": {
   "name": "typescript"
  }
 },
 "nbformat": 4,
 "nbformat_minor": 2
}

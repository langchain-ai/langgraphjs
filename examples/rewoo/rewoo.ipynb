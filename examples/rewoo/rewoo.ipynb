{
 "cells": [
  {
   "cell_type": "markdown",
   "metadata": {},
   "source": [
    "# Reasoning without Observation\n",
    "\n",
    "In [ReWOO](https://arxiv.org/abs/2305.18323), Xu, et. al, propose an agent that combines a multi-step planner and variable substitution for effective tool use. It was designed to improve on the ReACT-style agent architecture in the following ways:\n",
    "\n",
    "1. Reduce token consumption and execution time by generating the full chain of tools used in a single pass. (_ReACT-style agent architecture requires many LLM calls with redundant prefixes (since the system prompt and previous steps are provided to the LLM for each reasoning step_)\n",
    "2. Simplify the fine-tuning process. Since the planning data doesn't depend on the outputs of the tool, models can be fine-tuned without actually invoking the tools (in theory).\n",
    "\n",
    "\n",
    "The following diagram outlines ReWOO's overall computation graph:\n",
    "\n",
    "![ReWoo Diagram](./img/rewoo.png)\n",
    "\n",
    "ReWOO is made of 3 modules:\n",
    "\n",
    "1. 🧠**Planner**: Generate the plan in the following format:\n",
    "```text\n",
    "Plan: <reasoning>\n",
    "#E1 = Tool[argument for tool]\n",
    "Plan: <reasoning>\n",
    "#E2 = Tool[argument for tool with #E1 variable substitution]\n",
    "...\n",
    "```\n",
    "3. **Worker**: executes the tool with the provided arguments.\n",
    "4. 🧠**Solver**: generates the answer for the initial task based on the tool observations.\n",
    "\n",
    "The modules with a 🧠 emoji depend on an LLM call. Notice that we avoid redundant calls to the planner LLM by using variable substitution.\n",
    "\n",
    "In this example, each module is represented by a LangGraph node. The end result will leave a trace that looks [like this one](https://smith.langchain.com/public/39dbdcf8-fbcc-4479-8e28-15377ca5e653/r). Let's get started!\n",
    "\n",
    "## 0. Prerequisites\n",
    "\n",
    "For this example, we will provide the agent with a Tavily search engine tool. You can get an API key [here](https://app.tavily.com/sign-in) or replace with a free tool option (e.g., [duck duck go search](https://python.langchain.com/docs/integrations/tools/ddg))."
   ]
  },
  {
   "cell_type": "code",
   "execution_count": 19,
   "metadata": {},
   "outputs": [],
   "source": [
    "import { load } from \"https://deno.land/std@0.215.0/dotenv/mod.ts\";\n",
    "\n",
    "const env = await load({ envPath: \"../.env\" });\n",
    "Object.entries(env).forEach(([key, value]) => Deno.env.set(key, value));"
   ]
  },
  {
   "cell_type": "markdown",
   "metadata": {},
   "source": [
    "### Install dependencies\n",
    "\n",
    "```bash\n",
    "npm install langchain @langchain/community @langchain/openai @langchain/core\n",
    "```"
   ]
  },
  {
   "cell_type": "markdown",
   "metadata": {},
   "source": [
    "**Graph State**: In LangGraph, every node updates a shared graph state. The state is the input to any node whenever it is invoked.\n",
    "\n",
    "Below, we will define a state object to contain the task, plan, steps, and other variables."
   ]
  },
  {
   "cell_type": "code",
   "execution_count": 20,
   "metadata": {},
   "outputs": [],
   "source": [
    "type GraphState = {\n",
    "  task: string;\n",
    "  planString: string;\n",
    "  steps: Array<string>;\n",
    "  results: Record<string, any>;\n",
    "  result: string;\n",
    "}\n",
    "\n",
    "const graphState = {\n",
    "  task: {\n",
    "    value: null,\n",
    "  },\n",
    "  planString: {\n",
    "    value: null,\n",
    "  },\n",
    "  steps: {\n",
    "    value: (a: Array<string>, b: Array<string>) => a.concat(b),\n",
    "    default: () => [],\n",
    "  },\n",
    "  results: {\n",
    "    value: null,\n",
    "  },\n",
    "  result: {\n",
    "    value: null,\n",
    "  }\n",
    "}"
   ]
  },
  {
   "cell_type": "markdown",
   "metadata": {},
   "source": [
    "## 1. Planner\n",
    "\n",
    "The planner prompts an LLM to generate a plan in the form of a task list. The arguments to each task are strings that may contain special variables (`#E{0-9}+`) that are used for variable substitution from other task results.\n",
    "\n",
    "\n",
    "![ReWOO workflow](./img/rewoo-paper-workflow.png)\n",
    "\n",
    "Our example agent will have two tools:\n",
    "1. Google - a search engine (in this case Tavily)\n",
    "2. LLM - an LLM call to reason about previous outputs.\n",
    "\n",
    "The LLM tool receives less of the prompt context and so can be more token-efficient than the ReACT paradigm."
   ]
  },
  {
   "cell_type": "code",
   "execution_count": 21,
   "metadata": {},
   "outputs": [],
   "source": [
    "import { ChatOpenAI } from \"@langchain/openai\";\n",
    "\n",
    "const model = new ChatOpenAI({\n",
    "  modelName: \"gpt-4-0125-preview\",\n",
    "  temperature: 0,\n",
    "})"
   ]
  },
  {
   "cell_type": "code",
   "execution_count": 22,
   "metadata": {},
   "outputs": [],
   "source": [
    "const prompt = `For the following task, make plans that can solve the problem step by step. For each plan, indicate\n",
    "which external tool together with tool input to retrieve evidence. You can store the evidence into a\n",
    "variable #E that can be called by later tools. (Plan, #E1, Plan, #E2, Plan, ...)\n",
    "\n",
    "Tools can be one of the following:\n",
    "(1) Google[input]: Worker that searches results from Google. Useful when you need to find short\n",
    "and succinct answers about a specific topic. The input should be a search query.\n",
    "(2) LLM[input]: A pre-trained LLM like yourself. Useful when you need to act with general\n",
    "world knowledge and common sense. Prioritize it when you are confident in solving the problem\n",
    "yourself. Input can be any instruction.\n",
    "\n",
    "For example,\n",
    "Task: Thomas, Toby, and Rebecca worked a total of 157 hours in one week. Thomas worked x\n",
    "hours. Toby worked 10 hours less than twice what Thomas worked, and Rebecca worked 8 hours\n",
    "less than Toby. How many hours did Rebecca work?\n",
    "Plan: Given Thomas worked x hours, translate the problem into algebraic expressions and solve\n",
    "with Wolfram Alpha. #E1 = WolframAlpha[Solve x + (2x - 10) + ((2x - 10) - 8) = 157]\n",
    "Plan: Find out the number of hours Thomas worked. #E2 = LLM[What is x, given #E1]\n",
    "Plan: Calculate the number of hours Rebecca worked. #E3 = Calculator[(2 * #E2 - 10) - 8]\n",
    "\n",
    "Begin! \n",
    "Describe your plans with rich details. Each Plan should be followed by only one #E.\n",
    "\n",
    "Task: {task}`"
   ]
  },
  {
   "cell_type": "code",
   "execution_count": 23,
   "metadata": {},
   "outputs": [],
   "source": [
    "const task = \"what is the hometown of the 2024 australian open winner\";"
   ]
  },
  {
   "cell_type": "code",
   "execution_count": 24,
   "metadata": {},
   "outputs": [],
   "source": [
    "const result = await model.invoke(prompt.replace(\"{task}\", task));"
   ]
  },
  {
   "cell_type": "code",
   "execution_count": 25,
   "metadata": {},
   "outputs": [
    {
     "name": "stdout",
     "output_type": "stream",
     "text": [
      "Plan 1: Identify the 2024 Australian Open winner. Since the event has not occurred yet, the winner is unknown. However, we can predict or find the most recent information about potential winners or favorites for the tournament. #E1 = Google[\"2024 Australian Open winner prediction\"]\n",
      "\n",
      "Plan 2: Once we have the name of the predicted winner or the most talked-about contender for the 2024 Australian Open from #E1, we can find detailed information about this athlete, including their hometown. #E2 = Google[\"<Name from #E1> hometown\"]\n",
      "\n",
      "By following these steps, we can gather the most accurate and up-to-date information available regarding the hometown of the potential 2024 Australian Open winner.\n"
     ]
    }
   ],
   "source": [
    "console.log(result.content);"
   ]
  },
  {
   "cell_type": "markdown",
   "metadata": {},
   "source": [
    "#### Planner Node\n",
    "\n",
    "To connect the planner to our graph, we will create a `getPlan` node that accepts the `ReWOO` state and returns with a state update for the\n",
    "`steps` and `planString` fields."
   ]
  },
  {
   "cell_type": "code",
   "execution_count": 26,
   "metadata": {},
   "outputs": [],
   "source": [
    "import { ChatPromptTemplate } from \"@langchain/core/prompts\";\n",
    "import { RunnableConfig } from \"@langchain/core/runnables\";\n",
    "\n",
    "const regexPattern = new RegExp(\"Plan:\\\\s*(.+)\\\\s*(#E\\\\d+)\\\\s*=\\\\s*(\\\\w+)\\\\s*\\\\[([^\\\\]]+)\\\\]\");\n",
    "const promptTemplate = ChatPromptTemplate.fromMessages([\n",
    "  [\"human\", prompt]\n",
    "])\n",
    "const planner = promptTemplate.pipe(model);\n",
    "\n",
    "/**\n",
    " * @param {GraphState} state The current state of the graph.\n",
    " * @param {RunnableConfig | undefined} config The configuration object for tracing.\n",
    " */\n",
    "const getPlan = async (state: GraphState, config?: RunnableConfig) => {\n",
    "  const task = state.task;\n",
    "  const result = await planner.invoke({ task }, config);\n",
    "  // Find all matches in the sample text.\n",
    "  const matches = result.content.match(regexPattern);\n",
    "  return {\n",
    "    steps: matches,\n",
    "    planString: result.content,\n",
    "  }\n",
    "}"
   ]
  },
  {
   "cell_type": "markdown",
   "metadata": {},
   "source": [
    "## 2. Executor\n",
    "\n",
    "The executor receives the plan and executes the tools in sequence.\n",
    "\n",
    "Below, instantiate the search engine and define the tools execution node."
   ]
  },
  {
   "cell_type": "code",
   "execution_count": 27,
   "metadata": {},
   "outputs": [],
   "source": [
    "import { TavilySearchResults } from \"@langchain/community/tools/tavily_search\";\n",
    "\n",
    "const search = new TavilySearchResults();"
   ]
  },
  {
   "cell_type": "code",
   "execution_count": 28,
   "metadata": {},
   "outputs": [],
   "source": [
    "const _getCurrentTask = (state: GraphState) => {\n",
    "  if (!state.results) {\n",
    "    return 1;\n",
    "  }\n",
    "  if (state.results.length === state.steps.length) {\n",
    "    return null;\n",
    "  }\n",
    "  return state.results.length + 1;\n",
    "}\n",
    "\n",
    "/**\n",
    " * Worker node that executes the tools of a given plan.\n",
    " * \n",
    " * @param {GraphState} state The current state of the graph.\n",
    " * @param {RunnableConfig | undefined} config The configuration object for tracing.\n",
    " */\n",
    "const toolExecution = async (state: GraphState, config?: RunnableConfig) => {\n",
    "  const _step = _getCurrentTask(state);\n",
    "  if (_step === null) {\n",
    "    throw new Error(\"No current task found\");\n",
    "  }\n",
    "  const [, stepName, tool, toolInputTemplate] = state.steps[_step - 1];\n",
    "  let toolInput = toolInputTemplate;\n",
    "  const _results = state.results || {};\n",
    "  for (const [k, v] of Object.entries(_results)) {\n",
    "    toolInput = toolInput.replace(k, v);\n",
    "  }\n",
    "  let result;\n",
    "  if (tool === \"Google\") {\n",
    "    result = await search.invoke(toolInput, config);\n",
    "  } else if (tool === \"LLM\") {\n",
    "    result = await model.invoke(toolInput, config);\n",
    "  } else {\n",
    "    throw new Error(\"Invalid tool specified\");\n",
    "  }\n",
    "  _results[stepName] = String(result);\n",
    "  return { results: _results };\n",
    "}"
   ]
  },
  {
   "cell_type": "markdown",
   "metadata": {},
   "source": [
    "## 3. Solver\n",
    "\n",
    "The solver receives the full plan and generates the final response based on the responses of the tool calls from the worker."
   ]
  },
  {
   "cell_type": "code",
   "execution_count": 29,
   "metadata": {},
   "outputs": [],
   "source": [
    "const solvePrompt = ChatPromptTemplate.fromTemplate(`Solve the following task or problem. To solve the problem, we have made step-by-step Plan and\n",
    "retrieved corresponding Evidence to each Plan. Use them with caution since long evidence might\n",
    "contain irrelevant information.\n",
    "\n",
    "{plan}\n",
    "\n",
    "Now solve the question or task according to provided Evidence above. Respond with the answer\n",
    "directly with no extra words.\n",
    "\n",
    "Task: {task}\n",
    "Response:`);\n",
    "\n",
    "/**\n",
    " * @param {GraphState} state The current state of the graph.\n",
    " * @param {RunnableConfig | undefined} config The configuration object for tracing.\n",
    " */\n",
    "const solve = async (state: GraphState, config?: RunnableConfig) => {\n",
    "  let plan = \"\";\n",
    "  for (let [_plan, stepName, tool, toolInput] of state.steps) {\n",
    "    const _results = state.results || {};\n",
    "    for (const [k, v] of Object.entries(_results)) {\n",
    "      toolInput = toolInput.replace(k, v);\n",
    "    }\n",
    "    plan += `Plan: ${_plan}\\n${stepName} = ${tool}[${toolInput}]\\n`;\n",
    "  }\n",
    "  const prompt = await solvePrompt.partial({ plan, task: state.task });\n",
    "  const result = await model.invoke(prompt, config);\n",
    "  return {\n",
    "    result: result.content,\n",
    "  }\n",
    "}"
   ]
  },
  {
   "cell_type": "markdown",
   "metadata": {},
   "source": [
    "## 4. Define Graph\n",
    "\n",
    "Our graph defines the workflow. Each of the planner, tool executor, and solver modules are added as nodes."
   ]
  },
  {
   "cell_type": "code",
   "execution_count": 30,
   "metadata": {},
   "outputs": [],
   "source": [
    "const _route = (state: GraphState) => {\n",
    "  const _step = _getCurrentTask(state);\n",
    "  if (_step === null) {\n",
    "    // We have executed all tasks\n",
    "    return \"solve\";\n",
    "  }\n",
    "  // We are still executing tasks, loop back to the \"tool\" node\n",
    "  return \"tool\";\n",
    "}"
   ]
  },
  {
   "cell_type": "code",
   "execution_count": 32,
   "metadata": {},
   "outputs": [
    {
     "ename": "Error",
     "evalue": "Node `solve` is not reachable",
     "output_type": "error",
     "traceback": [
      "Stack trace:",
      "Error: Node `solve` is not reachable",
      "    at StateGraph.validate (file:///Users/bracesproul/Library/Caches/deno/npm/registry.npmjs.org/@langchain/langgraph/0.0.6/dist/graph/graph.js:197:27)",
      "    at StateGraph.compile (file:///Users/bracesproul/Library/Caches/deno/npm/registry.npmjs.org/@langchain/langgraph/0.0.6/dist/graph/state.js:27:14)",
      "    at <anonymous>:15:22"
     ]
    }
   ],
   "source": [
    "import { StateGraph, END } from \"@langchain/langgraph\";\n",
    "\n",
    "const workflow = new StateGraph<GraphState>({\n",
    "  channels: graphState,\n",
    "});\n",
    "\n",
    "// Add nodes\n",
    "workflow.addNode(\"plan\", getPlan);\n",
    "workflow.addNode(\"tool\", toolExecution);\n",
    "workflow.addNode(\"solve\", solve);\n",
    "\n",
    "// Add edges\n",
    "workflow.addEdge(\"plan\", \"tool\");\n",
    "workflow.addEdge(\"solve\", END);\n",
    "\n",
    "workflow.addConditionalEdges(\"tool\", _route);\n",
    "workflow.setEntryPoint(\"plan\");\n",
    "\n",
    "// Compile\n",
    "const app = workflow.compile();"
   ]
  },
  {
   "cell_type": "code",
   "execution_count": null,
   "metadata": {},
   "outputs": [],
   "source": [
    "const stream = await app.stream({ task });\n",
    "let finalResult;\n",
    "for await (const item of stream) {\n",
    "  console.log(item);\n",
    "  console.log(\"-----\");\n",
    "  finalResult = item;\n",
    "}"
   ]
  },
  {
   "cell_type": "code",
   "execution_count": null,
   "metadata": {},
   "outputs": [],
   "source": [
    "console.log(finalResult);"
   ]
  },
  {
   "cell_type": "markdown",
   "metadata": {},
   "source": [
    "## Conclusion\n",
    "\n",
    "Congratulations on implementing ReWOO! Before you leave, I'll leave you with a couple limitations of the current implementation from the paper:\n",
    "\n",
    "1. If little context of the environment is available, the planner will be ineffective in its tool use. This can typically be ameliorated through few-shot prompting and/or fine-tuning.\n",
    "2. The tasks are still executed in sequence, meaning the total execution time is impacted by _every_ tool call, not just he longest-running in a given step."
   ]
  }
 ],
 "metadata": {
  "kernelspec": {
   "display_name": "Deno",
   "language": "typescript",
   "name": "deno"
  },
  "language_info": {
   "file_extension": ".ts",
   "mimetype": "text/x.typescript",
   "name": "typescript",
   "nb_converter": "script",
   "pygments_lexer": "typescript",
   "version": "5.3.3"
  }
 },
 "nbformat": 4,
 "nbformat_minor": 2
}

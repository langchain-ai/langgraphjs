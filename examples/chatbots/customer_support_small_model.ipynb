{
 "cells": [
  {
   "cell_type": "markdown",
   "metadata": {},
   "source": [
    "# Customer support chatbot with a small model\n",
    "\n",
    "Below is an example of a customer support chatbot modeled as a state machine. It\n",
    "is designed to work with smaller models by giving them context as to what part of\n",
    "an interaction they are in, reducing the decision space a given LLM call has to keep\n",
    "them focused.\n",
    "\n",
    "The entrypoint is a node containing a chain that we have prompted to answer\n",
    "basic questions, but delegate questions related to billing or technical support\n",
    "to other \"teams\".\n",
    "\n",
    "Depending on this entry node's response, the edge from that node will use an LLM\n",
    "call to determine whether to respond directly to the user or invoke either the\n",
    "`billing_support` or `technical_support` nodes.\n",
    "\n",
    "- The technical support will attempt to answer the user's question with a more\n",
    "  focused prompt.\n",
    "- The billing agent can choose to answer the user's question, or can call out to a\n",
    "  human for approval for a refund using a [dynamic breakpoint](https://langchain-ai.github.io/langgraphjs/how-tos/dynamic_breakpoints/).\n",
    "\n",
    "![Diagram](./img/diagram.png)\n",
    "\n",
    "This is intended as a sample, proof of concept architecture - you could extend\n",
    "this example by giving individual nodes the ability to perform retrieval, other\n",
    "tools, delegating to more powerful models at deeper stages etc.\n",
    "\n",
    "Let's dive in!"
   ]
  },
  {
   "cell_type": "markdown",
   "metadata": {},
   "source": [
    "## Setup\n",
    "\n",
    "First we need to install the required packages. We'll use a relatively small model, Llama 3.1 8B hosted on [Together AI](https://www.together.ai/), to run the required inference.\n",
    "\n",
    "```bash\n",
    "yarn add @langchain/langgraph @langchain/community @langchain/core\n",
    "```\n",
    "\n",
    "You'll also need to set an environment variable named `TOGETHER_AI_API_KEY`, which you can obtain from your Together dashboard:\n",
    "\n",
    "```ini\n",
    "TOGETHER_AI_API_KEY=\"your_key_here\"\n",
    "```\n",
    "\n",
    "## Initializing the model\n",
    "\n",
    "First, we define the LLM we'll use for all calls and the LangGraph state."
   ]
  },
  {
   "cell_type": "code",
   "execution_count": 1,
   "metadata": {},
   "outputs": [],
   "source": [
    "import { ChatTogetherAI } from \"@langchain/community/chat_models/togetherai\";\n",
    "\n",
    "const model = new ChatTogetherAI({\n",
    "  model: \"meta-llama/Meta-Llama-3.1-8B-Instruct-Turbo\",\n",
    "  temperature: 0,\n",
    "});"
   ]
  },
  {
   "cell_type": "markdown",
   "metadata": {},
   "source": [
    "## Laying out the graph\n",
    "\n",
    "Now let's start defining logic for our nodes. Each node's return value will be added to\n",
    "the graph state. We'll start with the prebuilt `MessagesAnnotation`, which is designed to\n",
    "manage formatting and edge cases around messages returned from nodes:\n",
    "\n",
    "```ts\n",
    "{\n",
    "  messages: BaseMessage[];\n",
    "}\n",
    "```\n",
    "\n",
    "And we'll add two more state values: a string that defines the next representative,\n",
    "and a boolean that will determine whether a human has authorized a refund\n",
    "for a given thread. Our combined state will look like this:\n",
    "\n",
    "```ts\n",
    "{\n",
    "  messages: BaseMessage[];\n",
    "  nextRepresentative: string;\n",
    "  refundAuthorized: boolean;\n",
    "}\n",
    "```\n",
    "\n",
    "This state will be passed to the next executed node, or will be returned if execution has finished.\n",
    "Definining the state looks like this:"
   ]
  },
  {
   "cell_type": "code",
   "execution_count": 2,
   "metadata": {},
   "outputs": [],
   "source": [
    "import { Annotation, MessagesAnnotation } from \"@langchain/langgraph\";\n",
    "\n",
    "const StateAnnotation = Annotation.Root({\n",
    "  ...MessagesAnnotation.spec,\n",
    "  nextRepresentative: Annotation<string>,\n",
    "  refundAuthorized: Annotation<boolean>,\n",
    "});"
   ]
  },
  {
   "cell_type": "markdown",
   "metadata": {},
   "source": [
    "We will compute the `nextRepresentative` value within nodes to make resuming from given checkpoints fully deterministic - if we use an LLM within an edge, resuming from a given state will have some undesirable randomness.\n",
    "\n",
    "Now, let's define our entrypoint node. This will be modeled after a secretary who can\n",
    "handle incoming questions and respond conversationally or route to a more specialized team:"
   ]
  },
  {
   "cell_type": "code",
   "execution_count": 3,
   "metadata": {},
   "outputs": [],
   "source": [
    "import { z } from \"zod\";\n",
    "import { zodToJsonSchema } from \"zod-to-json-schema\";\n",
    "\n",
    "const initialSupport = async (state: typeof StateAnnotation.State) => {\n",
    "  const SYSTEM_TEMPLATE =\n",
    "    `You are frontline support staff for LangCorp, a company that sells computers.\n",
    "Be concise in your responses.\n",
    "You can chat with customers and help them with basic questions, but if the customer is having a billing or technical problem,\n",
    "do not try to answer the question directly or gather information.\n",
    "Instead, immediately transfer them to the billing or technical team by asking the user to hold for a moment.\n",
    "Otherwise, just respond conversationally.`;\n",
    "  const supportResponse = model.invoke([\n",
    "    { role: \"system\", content: SYSTEM_TEMPLATE },\n",
    "    ...state.messages,\n",
    "  ]);\n",
    "\n",
    "  const CATEGORIZATION_SYSTEM_TEMPLATE = `You are an expert customer support routing system.\n",
    "Your job is to detect whether a customer support representative is routing a user to a billing team or a technical team, or if they are just responding conversationally.`;\n",
    "  const CATEGORIZATION_HUMAN_TEMPLATE =\n",
    "    `The previous conversation is an interaction between a customer support representative and a user.\n",
    "Extract whether the representative is routing the user to a billing or technical team, or whether they are just responding conversationally.\n",
    "Respond with a JSON object containing a single key called \"nextRepresentative\" with one of the following values:\n",
    "\n",
    "If they want to route the user to the billing team, respond only with the word \"BILLING\".\n",
    "If they want to route the user to the technical team, respond only with the word \"TECHNICAL\".\n",
    "Otherwise, respond only with the word \"RESPOND\".`;\n",
    "  const categorizationResponse = await model.invoke([{\n",
    "    role: \"system\",\n",
    "    content: CATEGORIZATION_SYSTEM_TEMPLATE,\n",
    "  },\n",
    "  ...state.messages,\n",
    "  {\n",
    "    role: \"user\",\n",
    "    content: CATEGORIZATION_HUMAN_TEMPLATE,\n",
    "  }],\n",
    "  {\n",
    "    response_format: {\n",
    "      type: \"json_object\",\n",
    "      schema: zodToJsonSchema(\n",
    "        z.object({\n",
    "          nextRepresentative: z.enum([\"BILLING\", \"TECHNICAL\", \"RESPOND\"]),\n",
    "        })\n",
    "      )\n",
    "    }\n",
    "  });\n",
    "  // Some chat models can return complex content, but Together will not\n",
    "  const categorizationOutput = JSON.parse(categorizationResponse.content as string);\n",
    "  // Will append the response message to the current interaction state\n",
    "  return { messages: supportResponse, nextRepresentative: categorizationOutput.nextRepresentative };\n",
    "};"
   ]
  },
  {
   "cell_type": "markdown",
   "metadata": {},
   "source": [
    "We use Together AI's JSON mode above to guarantee parseable output when deciding the next representative.\n",
    "\n",
    "Next, our nodes representing billing and technical support. We give special\n",
    "instructions in the billing prompt that it can choose to authorize refunds by\n",
    "routing to another agent:"
   ]
  },
  {
   "cell_type": "code",
   "execution_count": 5,
   "metadata": {},
   "outputs": [],
   "source": [
    "const billingSupport = async (state: typeof StateAnnotation.State) => {\n",
    "  const SYSTEM_TEMPLATE =\n",
    "    `You are an expert billing support specialist for LangCorp, a company that sells computers.\n",
    "Help the user to the best of your ability, but be concise in your responses.\n",
    "You have the ability to authorize refunds, which you can do by transferring the user to another agent who will collect the required information.\n",
    "If you do, assume the other agent has all necessary information about the customer and their order.\n",
    "You do not need to ask the user for more information.\n",
    "\n",
    "Help the user to the best of your ability, but be concise in your responses.`;\n",
    "\n",
    "  let trimmedHistory = state.messages;\n",
    "  // Make the user's question the most recent message in the history.\n",
    "  // This helps small models stay focused.\n",
    "  if (trimmedHistory.at(-1)._getType() === \"ai\") {\n",
    "    trimmedHistory = trimmedHistory.slice(0, -1);\n",
    "  }\n",
    "\n",
    "  const billingRepResponse = await model.invoke([\n",
    "    {\n",
    "      role: \"system\",\n",
    "      content: SYSTEM_TEMPLATE,\n",
    "    },\n",
    "    ...trimmedHistory,\n",
    "  ]);\n",
    "  const CATEGORIZATION_SYSTEM_TEMPLATE =\n",
    "    `Your job is to detect whether a billing support representative wants to refund the user.`;\n",
    "  const CATEGORIZATION_HUMAN_TEMPLATE =\n",
    "    `The following text is a response from a customer support representative.\n",
    "Extract whether they want to refund the user or not.\n",
    "Respond with a JSON object containing a single key called \"nextRepresentative\" with one of the following values:\n",
    "\n",
    "If they want to refund the user, respond only with the word \"REFUND\".\n",
    "Otherwise, respond only with the word \"RESPOND\".\n",
    "\n",
    "Here is the text:\n",
    "\n",
    "<text>\n",
    "${billingRepResponse.content}\n",
    "</text>.`;\n",
    "  const categorizationResponse = await model.invoke([\n",
    "    {\n",
    "      role: \"system\",\n",
    "      content: CATEGORIZATION_SYSTEM_TEMPLATE,\n",
    "    },\n",
    "    {\n",
    "      role: \"user\",\n",
    "      content: CATEGORIZATION_HUMAN_TEMPLATE,\n",
    "    }\n",
    "  ], {\n",
    "    response_format: {\n",
    "      type: \"json_object\",\n",
    "      schema: zodToJsonSchema(\n",
    "        z.object({\n",
    "          nextRepresentative: z.enum([\"REFUND\", \"RESPOND\"]),\n",
    "        })\n",
    "      )\n",
    "    }\n",
    "  });\n",
    "  const categorizationOutput = JSON.parse(categorizationResponse.content as string);\n",
    "  return {\n",
    "    messages: billingRepResponse,\n",
    "    nextRepresentative: categorizationOutput.nextRepresentative,\n",
    "  };\n",
    "};\n",
    "\n",
    "const technicalSupport = async (state: typeof StateAnnotation.State) => {\n",
    "  const SYSTEM_TEMPLATE =\n",
    "    `You are an expert at diagnosing technical computer issues. You work for a company called LangCorp that sells computers.\n",
    "Help the user to the best of your ability, but be concise in your responses.`;\n",
    "\n",
    "  let trimmedHistory = state.messages;\n",
    "  // Make the user's question the most recent message in the history.\n",
    "  // This helps small models stay focused.\n",
    "  if (trimmedHistory.at(-1)._getType() === \"ai\") {\n",
    "    trimmedHistory = trimmedHistory.slice(0, -1);\n",
    "  }\n",
    "\n",
    "  const response = await model.invoke([\n",
    "    {\n",
    "      role: \"system\",\n",
    "      content: SYSTEM_TEMPLATE,\n",
    "    },\n",
    "    ...trimmedHistory,\n",
    "  ]);\n",
    "\n",
    "  return {\n",
    "    messages: response,\n",
    "  };\n",
    "};"
   ]
  },
  {
   "cell_type": "markdown",
   "metadata": {},
   "source": [
    "Finally, a node that will handle refunds. The logic is stubbed out here since\n",
    "it's not a real system, but in practice you could add a real tool here requiring human\n",
    "approval. We use a special error called a `NodeInterrupt` in order to allow for resumption\n",
    "of the graph later, after a human has examined the state and confirmed that a refund is suitable:"
   ]
  },
  {
   "cell_type": "code",
   "execution_count": 6,
   "metadata": {},
   "outputs": [],
   "source": [
    "import { NodeInterrupt } from \"@langchain/langgraph\";\n",
    "\n",
    "const handleRefund = async (state: typeof StateAnnotation.State) => {\n",
    "  if (!state.refundAuthorized) {\n",
    "    console.log(\"--- HUMAN AUTHORIZATION REQUIRED FOR REFUND ---\");\n",
    "    throw new NodeInterrupt(\"Human authorization required.\")\n",
    "  }\n",
    "  return {\n",
    "    messages: {\n",
    "      role: \"assistant\",\n",
    "      content: \"Refund processed!\",\n",
    "    },\n",
    "  };\n",
    "};"
   ]
  },
  {
   "cell_type": "markdown",
   "metadata": {},
   "source": [
    "We can start building our graph out now by adding all of the above functions as nodes and setting `initial_support` as our starting node:"
   ]
  },
  {
   "cell_type": "code",
   "execution_count": 7,
   "metadata": {},
   "outputs": [],
   "source": [
    "import { StateGraph } from \"@langchain/langgraph\";\n",
    "\n",
    "let builder = new StateGraph(StateAnnotation)\n",
    "  .addNode(\"initial_support\", initialSupport)\n",
    "  .addNode(\"billing_support\", billingSupport)\n",
    "  .addNode(\"technical_support\", technicalSupport)\n",
    "  .addNode(\"handle_refund\", handleRefund)\n",
    "  .addEdge(\"__start__\", \"initial_support\");"
   ]
  },
  {
   "cell_type": "markdown",
   "metadata": {},
   "source": [
    "## Connecting the nodes\n",
    "\n",
    "Great! Now let's move onto the edges. These edges will evaluate the current\n",
    "state of the graph created by the return values of the individual nodes and\n",
    "route execution accordingly.\n",
    "\n",
    "First, we want our `initial_support` node to either delegate to the billing\n",
    "node, technical node, or just respond directly to the user. Here's one example\n",
    "of how we might do that:"
   ]
  },
  {
   "cell_type": "code",
   "execution_count": 8,
   "metadata": {},
   "outputs": [
    {
     "name": "stdout",
     "output_type": "stream",
     "text": [
      "Added edges!\n"
     ]
    }
   ],
   "source": [
    "builder = builder.addConditionalEdges(\"initial_support\", async (state: typeof StateAnnotation.State) => {\n",
    "  if (state.nextRepresentative.includes(\"BILLING\")) {\n",
    "    return \"billing\";\n",
    "  } else if (state.nextRepresentative.includes(\"TECHNICAL\")) {\n",
    "    return \"technical\";\n",
    "  } else {\n",
    "    return \"conversational\";\n",
    "  }\n",
    "}, {\n",
    "  billing: \"billing_support\",\n",
    "  technical: \"technical_support\",\n",
    "  conversational: \"__end__\",\n",
    "});\n",
    "\n",
    "console.log(\"Added edges!\");"
   ]
  },
  {
   "cell_type": "markdown",
   "metadata": {},
   "source": [
    "**Note:** We do not use tool calling here for formatting the next step from\n",
    "the history because our model does not support it, but you can apply it here if\n",
    "your model does.\n",
    "\n",
    "Let's continue. We add an edge making the technical support node always end,\n",
    "since it has no tools to call. The billing support node uses a conditional edge\n",
    "since it can either call the refund tool or end."
   ]
  },
  {
   "cell_type": "code",
   "execution_count": 9,
   "metadata": {},
   "outputs": [
    {
     "name": "stdout",
     "output_type": "stream",
     "text": [
      "Added edges!\n"
     ]
    }
   ],
   "source": [
    "builder = builder\n",
    "  .addEdge(\"technical_support\", \"__end__\")\n",
    "  .addConditionalEdges(\"billing_support\", async (state) => {\n",
    "    if (state.nextRepresentative.includes(\"REFUND\")) {\n",
    "      return \"refund\";\n",
    "    } else {\n",
    "      return \"__end__\";\n",
    "    }\n",
    "  }, {\n",
    "    refund: \"handle_refund\",\n",
    "    __end__: \"__end__\",\n",
    "  })\n",
    "  .addEdge(\"handle_refund\", \"__end__\");\n",
    "\n",
    "console.log(\"Added edges!\");"
   ]
  },
  {
   "cell_type": "markdown",
   "metadata": {},
   "source": [
    "Let's finalize our graph by calling `.compile()`. We'll also use an in-memory checkpointer to store state:"
   ]
  },
  {
   "cell_type": "code",
   "execution_count": 10,
   "metadata": {},
   "outputs": [],
   "source": [
    "import { MemorySaver } from \"@langchain/langgraph\";\n",
    "\n",
    "const checkpointer = new MemorySaver();\n",
    "\n",
    "const graph = builder.compile({\n",
    "  checkpointer,\n",
    "});"
   ]
  },
  {
   "cell_type": "markdown",
   "metadata": {},
   "source": [
    "Here's a representation of the currently constructed graph:"
   ]
  },
  {
   "cell_type": "code",
   "execution_count": 11,
   "metadata": {},
   "outputs": [
    {
     "data": {
      "image/png": "[encoded data removed]"
     },
     "metadata": {},
     "output_type": "display_data"
    }
   ],
   "source": [
    "import * as tslab from \"tslab\";\n",
    "\n",
    "const representation = graph.getGraph();\n",
    "const image = await representation.drawMermaidPng();\n",
    "const arrayBuffer = await image.arrayBuffer();\n",
    "\n",
    "await tslab.display.png(new Uint8Array(arrayBuffer));"
   ]
  },
  {
   "cell_type": "markdown",
   "metadata": {},
   "source": [
    "And now let's test it!\n",
    "\n",
    "We can get the returned value from the executed nodes as they are generated\n",
    "using the `.stream()` runnable method (we also could go even more granular and\n",
    "get output as it is generated using `.streamEvents()`, but this requires a bit\n",
    "more parsing).\n",
    "\n",
    "Here's an example with a billing related refund query. Because of how we defined our state, the input must be a message (or a list of messages) representing the user's question:"
   ]
  },
  {
   "cell_type": "code",
   "execution_count": 12,
   "metadata": {},
   "outputs": [
    {
     "name": "stdout",
     "output_type": "stream",
     "text": [
      "---STEP---\n",
      "{\n",
      "  initial_support: {\n",
      "    messages: AIMessage {\n",
      "      \"id\": \"8beb633a396c67fd-SJC\",\n",
      "      \"content\": \"I'd be happy to help you with that. However, I need to check on our refund policy for you. Can you please hold for just a moment while I transfer you to our billing team? They'll be able to assist you with the refund process.\",\n",
      "      \"additional_kwargs\": {},\n",
      "      \"response_metadata\": {\n",
      "        \"tokenUsage\": {\n",
      "          \"completionTokens\": 53,\n",
      "          \"promptTokens\": 116,\n",
      "          \"totalTokens\": 169\n",
      "        },\n",
      "        \"finish_reason\": \"eos\"\n",
      "      },\n",
      "      \"tool_calls\": [],\n",
      "      \"invalid_tool_calls\": [],\n",
      "      \"usage_metadata\": {\n",
      "        \"input_tokens\": 116,\n",
      "        \"output_tokens\": 53,\n",
      "        \"total_tokens\": 169\n",
      "      }\n",
      "    },\n",
      "    nextRepresentative: 'BILLING'\n",
      "  }\n",
      "}\n",
      "---END STEP---\n",
      "---STEP---\n",
      "{\n",
      "  billing_support: {\n",
      "    messages: AIMessage {\n",
      "      \"id\": \"8beb634908a12500-SJC\",\n",
      "      \"content\": \"I'd be happy to assist you with a refund. I'll transfer you to our Refunds Team, who will guide you through the process. Please hold for just a moment.\\n\\n(Transfer to Refunds Team)\\n\\nRefunds Team: Hi, I'm here to help with your refund request for order #182818. Can you please confirm your refund amount and reason for return?\",\n",
      "      \"additional_kwargs\": {},\n",
      "      \"response_metadata\": {\n",
      "        \"tokenUsage\": {\n",
      "          \"completionTokens\": 77,\n",
      "          \"promptTokens\": 139,\n",
      "          \"totalTokens\": 216\n",
      "        },\n",
      "        \"finish_reason\": \"eos\"\n",
      "      },\n",
      "      \"tool_calls\": [],\n",
      "      \"invalid_tool_calls\": [],\n",
      "      \"usage_metadata\": {\n",
      "        \"input_tokens\": 139,\n",
      "        \"output_tokens\": 77,\n",
      "        \"total_tokens\": 216\n",
      "      }\n",
      "    },\n",
      "    nextRepresentative: 'REFUND'\n",
      "  }\n",
      "}\n",
      "---END STEP---\n",
      "--- HUMAN AUTHORIZATION REQUIRED FOR REFUND ---\n",
      "---STEP---\n",
      "{}\n",
      "---END STEP---\n"
     ]
    }
   ],
   "source": [
    "const stream = await graph.stream({\n",
    "  messages: [\n",
    "    {\n",
    "      role: \"user\",\n",
    "      content: \"I've changed my mind and I want a refund for order #182818!\",\n",
    "    }\n",
    "  ]\n",
    "}, {\n",
    "  configurable: {\n",
    "    thread_id: \"refund_testing_id\",\n",
    "  }\n",
    "});\n",
    "\n",
    "for await (const value of stream) {\n",
    "  console.log(\"---STEP---\");\n",
    "  console.log(value);\n",
    "  console.log(\"---END STEP---\");\n",
    "}"
   ]
  },
  {
   "cell_type": "markdown",
   "metadata": {},
   "source": [
    "[This LangSmith trace](https://smith.langchain.com/public/86af9fe3-452e-4249-abec-7ddc0752a704/r) illustrates that execution goes to `billing_support`, but then hits our dynamic interrupt because `refundAuthorized` is not set in the graph state. We can see this by inspecting the current state of the graph and noting that there is an interrupt when running `handle_refund`:"
   ]
  },
  {
   "cell_type": "code",
   "execution_count": 13,
   "metadata": {},
   "outputs": [
    {
     "name": "stdout",
     "output_type": "stream",
     "text": [
      "CURRENT TASKS [\n",
      "  {\n",
      "    \"id\": \"5ab19c8b-c947-5bf7-a3aa-4edae60c1a96\",\n",
      "    \"name\": \"handle_refund\",\n",
      "    \"interrupts\": [\n",
      "      {\n",
      "        \"value\": \"Human authorization required.\",\n",
      "        \"when\": \"during\"\n",
      "      }\n",
      "    ]\n",
      "  }\n",
      "]\n"
     ]
    }
   ],
   "source": [
    "const currentState = await graph.getState({ configurable: { thread_id: \"refund_testing_id\" } });\n",
    "\n",
    "console.log(\"CURRENT TASKS\", JSON.stringify(currentState.tasks, null, 2));"
   ]
  },
  {
   "cell_type": "markdown",
   "metadata": {},
   "source": [
    "We can also see that the next tasks if we were to resume execution would be `handle_refund` again:"
   ]
  },
  {
   "cell_type": "code",
   "execution_count": 14,
   "metadata": {},
   "outputs": [
    {
     "name": "stdout",
     "output_type": "stream",
     "text": [
      "NEXT TASKS [ 'handle_refund' ]\n"
     ]
    }
   ],
   "source": [
    "console.log(\"NEXT TASKS\", currentState.next);"
   ]
  },
  {
   "cell_type": "markdown",
   "metadata": {},
   "source": [
    "But this will again hit the interrupt because `refundAuthorized` is not set. If we update the state to set `refundAuthorized` to true, then resume the graph by running it with the same `thread_id` and passing `null` as the input, execution will continue and the refund will process:"
   ]
  },
  {
   "cell_type": "code",
   "execution_count": 15,
   "metadata": {},
   "outputs": [
    {
     "name": "stdout",
     "output_type": "stream",
     "text": [
      "{\n",
      "  handle_refund: { messages: { role: 'assistant', content: 'Refund processed!' } }\n",
      "}\n"
     ]
    }
   ],
   "source": [
    "await graph.updateState({ configurable: { thread_id: \"refund_testing_id\" } }, {\n",
    "  refundAuthorized: true,\n",
    "});\n",
    "\n",
    "const resumedStream = await graph.stream(null, { configurable: { thread_id: \"refund_testing_id\" }});\n",
    "\n",
    "for await (const value of resumedStream) {\n",
    "  console.log(value);\n",
    "}"
   ]
  },
  {
   "cell_type": "markdown",
   "metadata": {},
   "source": [
    "[Click here to see a LangSmith trace of the above run](https://smith.langchain.com/public/1c626e0f-5827-47c3-aadb-ec571dd37eb5/r)\n",
    "\n",
    "Now, let's try a technical question:"
   ]
  },
  {
   "cell_type": "code",
   "execution_count": 16,
   "metadata": {},
   "outputs": [
    {
     "name": "stdout",
     "output_type": "stream",
     "text": [
      "{\n",
      "  initial_support: {\n",
      "    messages: AIMessage {\n",
      "      \"id\": \"8beb66886c0c15d8-SJC\",\n",
      "      \"content\": \"Oh no, sorry to hear that! Water damage can be a real challenge. Have you tried unplugging it and letting it dry out for a bit? Sometimes, it's just a matter of giving it some time to recover.\",\n",
      "      \"additional_kwargs\": {},\n",
      "      \"response_metadata\": {\n",
      "        \"tokenUsage\": {\n",
      "          \"completionTokens\": 47,\n",
      "          \"promptTokens\": 115,\n",
      "          \"totalTokens\": 162\n",
      "        },\n",
      "        \"finish_reason\": \"eos\"\n",
      "      },\n",
      "      \"tool_calls\": [],\n",
      "      \"invalid_tool_calls\": [],\n",
      "      \"usage_metadata\": {\n",
      "        \"input_tokens\": 115,\n",
      "        \"output_tokens\": 47,\n",
      "        \"total_tokens\": 162\n",
      "      }\n",
      "    },\n",
      "    nextRepresentative: 'TECHNICAL'\n",
      "  }\n",
      "}\n",
      "{\n",
      "  technical_support: {\n",
      "    messages: AIMessage {\n",
      "      \"id\": \"8beb66986df91701-SJC\",\n",
      "      \"content\": \"Sorry to hear that. Water damage can be a real challenge. Let's try to troubleshoot the issue.\\n\\nCan you tell me:\\n\\n1. How long was the computer submerged in water?\\n2. Did you turn it off before it got wet, or was it on at the time?\\n3. Have you tried unplugging the power cord and pressing the power button for 30 seconds to discharge any residual power?\\n\\nThis will help me narrow down the possible causes and suggest the next steps.\",\n",
      "      \"additional_kwargs\": {},\n",
      "      \"response_metadata\": {\n",
      "        \"tokenUsage\": {\n",
      "          \"completionTokens\": 99,\n",
      "          \"promptTokens\": 70,\n",
      "          \"totalTokens\": 169\n",
      "        },\n",
      "        \"finish_reason\": \"eos\"\n",
      "      },\n",
      "      \"tool_calls\": [],\n",
      "      \"invalid_tool_calls\": [],\n",
      "      \"usage_metadata\": {\n",
      "        \"input_tokens\": 70,\n",
      "        \"output_tokens\": 99,\n",
      "        \"total_tokens\": 169\n",
      "      }\n",
      "    }\n",
      "  }\n",
      "}\n"
     ]
    }
   ],
   "source": [
    "const technicalStream = await graph.stream({\n",
    "  messages: [{\n",
    "    role: \"user\",\n",
    "    content: \"My LangCorp computer isn't turning on because I dropped it in water.\",\n",
    "  }]\n",
    "}, {\n",
    "  configurable: {\n",
    "    thread_id: \"technical_testing_id\"\n",
    "  }\n",
    "});\n",
    "\n",
    "for await (const value of technicalStream) {\n",
    "  console.log(value);\n",
    "}"
   ]
  },
  {
   "cell_type": "markdown",
   "metadata": {},
   "source": [
    "[Click here to see a LangSmith trace of the above run](https://smith.langchain.com/public/d131f6ea-e8d6-41f2-addd-fd9b55c6e057/r)\n",
    "\n",
    "We can see the query gets correctly routed to the technical support node!\n",
    "\n",
    "Finally, let's try a simple conversational response:"
   ]
  },
  {
   "cell_type": "code",
   "execution_count": 17,
   "metadata": {},
   "outputs": [
    {
     "name": "stdout",
     "output_type": "stream",
     "text": [
      "{\n",
      "  initial_support: {\n",
      "    messages: AIMessage {\n",
      "      \"id\": \"8beb6712294915e3-SJC\",\n",
      "      \"content\": \"Hi Cobb! I'm doing great, thanks for asking. How can I help you today? Are you looking to purchase a new computer or just have a question about our products?\",\n",
      "      \"additional_kwargs\": {},\n",
      "      \"response_metadata\": {\n",
      "        \"tokenUsage\": {\n",
      "          \"completionTokens\": 37,\n",
      "          \"promptTokens\": 108,\n",
      "          \"totalTokens\": 145\n",
      "        },\n",
      "        \"finish_reason\": \"eos\"\n",
      "      },\n",
      "      \"tool_calls\": [],\n",
      "      \"invalid_tool_calls\": [],\n",
      "      \"usage_metadata\": {\n",
      "        \"input_tokens\": 108,\n",
      "        \"output_tokens\": 37,\n",
      "        \"total_tokens\": 145\n",
      "      }\n",
      "    },\n",
      "    nextRepresentative: 'RESPOND'\n",
      "  }\n",
      "}\n"
     ]
    }
   ],
   "source": [
    "const conversationalStream = await graph.stream({\n",
    "  messages: [{\n",
    "    role: \"user\",\n",
    "    content: \"How are you? I'm Cobb.\"\n",
    "  }]\n",
    "}, {\n",
    "  configurable: {\n",
    "    thread_id: \"conversational_testing_id\"\n",
    "  }\n",
    "});\n",
    "\n",
    "for await (const value of conversationalStream) {\n",
    "  console.log(value);\n",
    "}"
   ]
  },
  {
   "cell_type": "markdown",
   "metadata": {},
   "source": [
    "And we can see that the `initial_support` node handles it by itself, with no routing to technical or billing support.\n",
    "\n",
    "[Click here to see a LangSmith trace of the above run](https://smith.langchain.com/public/4cf5ff90-b9c6-4628-989f-28cb0c4910db/r)\n",
    "\n",
    "## Further reading\n",
    "\n",
    "You may have noticed that the response from each node adds a message to the history in the state, and that as a result we end up with multiple assistant messages in a row corresponding to the different customer support personas the LLM takes on.\n",
    "\n",
    "With `MessagesAnnotation`, it is possible to trim this state by returning a **message modifier** containing the same `id` as the message you want to remove. [See this guide](/langgraphjs/how-tos/delete-messages/) for more."
   ]
  }
 ],
 "metadata": {
  "kernelspec": {
   "display_name": "TypeScript",
   "language": "typescript",
   "name": "tslab"
  },
  "language_info": {
   "codemirror_mode": {
    "mode": "typescript",
    "name": "javascript",
    "typescript": true
   },
   "file_extension": ".ts",
   "mimetype": "text/typescript",
   "name": "typescript",
   "version": "3.7.2"
  }
 },
 "nbformat": 4,
 "nbformat_minor": 2
}

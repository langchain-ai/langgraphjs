{
 "cells": [
  {
   "cell_type": "markdown",
   "id": "1f5011ae",
   "metadata": {},
   "source": [
    "# Plan-and-Execute\n",
    "\n",
    "This notebook shows how to create a \"plan-and-execute\" style agent. This is\n",
    "heavily inspired by the [Plan-and-Solve](https://arxiv.org/abs/2305.04091) paper\n",
    "as well as the [Baby-AGI](https://github.com/yoheinakajima/babyagi) project.\n",
    "\n",
    "The core idea is to first come up with a multi-step plan, and then go through\n",
    "that plan one item at a time. After accomplishing a particular task, you can\n",
    "then revisit the plan and modify as appropriate.\n",
    "\n",
    "This compares to a typical [ReAct](https://arxiv.org/abs/2210.03629) style agent\n",
    "where you think one step at a time. The advantages of this \"plan-and-execute\"\n",
    "style agent are:\n",
    "\n",
    "1. Explicit long term planning (which even really strong LLMs can struggle with)\n",
    "2. Ability to use smaller/weaker models for the execution step, only using\n",
    "   larger/better models for the planning step\n"
   ]
  },
  {
   "cell_type": "markdown",
   "id": "15d34776",
   "metadata": {},
   "source": [
    "## Setup\n",
    "\n",
    "First, we need to install the packages required.\n",
    "\n",
    "```bash\n",
    "npm install @langchain/langgraph @langchain/openai langchain\n",
    "```\n"
   ]
  },
  {
   "cell_type": "markdown",
   "id": "c19c72ec",
   "metadata": {},
   "source": [
    "Next, we need to set API keys for OpenAI (the LLM we will use) and Tavily (the\n",
    "search tool we will use)\n"
   ]
  },
  {
   "cell_type": "code",
   "execution_count": 1,
   "id": "54485855",
   "metadata": {},
   "outputs": [],
   "source": [
    "// process.env.OPENAI_API_KEY = \"YOUR_API_KEY\"\n",
    "// process.env.TAVILY_API_KEY = \"YOUR_API_KEY\"\n"
   ]
  },
  {
   "cell_type": "markdown",
   "id": "0c681775",
   "metadata": {},
   "source": [
    "Optionally, we can set API key for LangSmith tracing, which will give us\n",
    "best-in-class observability.\n"
   ]
  },
  {
   "cell_type": "code",
   "execution_count": 2,
   "id": "57574807",
   "metadata": {},
   "outputs": [],
   "source": [
    "// process.env.LANGCHAIN_TRACING_V2 = \"true\"\n",
    "// process.env.LANGCHAIN_API_KEY = \"YOUR_API_KEY\"\n",
    "// process.env.LANGCHAIN_PROJECT = \"YOUR_PROJECT_NAME\"\n"
   ]
  },
  {
   "cell_type": "markdown",
   "id": "22a5c3b9",
   "metadata": {},
   "source": [
    "## Define the State\n",
    "\n",
    "Let's start by defining the state to track for this agent.\n",
    "\n",
    "First, we will need to track the current plan. Let's represent that as a list of\n",
    "strings.\n",
    "\n",
    "Next, we should track previously executed steps. Let's represent that as a list\n",
    "of tuples (these tuples will contain the step and then the result)\n",
    "\n",
    "Finally, we need to have some state to represent the final response as well as\n",
    "the original input.\n"
   ]
  },
  {
   "cell_type": "code",
   "execution_count": 3,
   "id": "10e49ce6",
   "metadata": {},
   "outputs": [],
   "source": [
    "import { StateGraphArgs } from \"@langchain/langgraph\";\n",
    "interface PlanExecuteState {\n",
    "  input: string;\n",
    "  plan: string[];\n",
    "  pastSteps: [string, string][];\n",
    "  response?: string;\n",
    "}\n",
    "\n",
    "const planExecuteState: StateGraphArgs<PlanExecuteState>[\"channels\"] = {\n",
    "  input: {\n",
    "    value: (left?: string, right?: string) => right ?? left ?? \"\",\n",
    "  },\n",
    "  plan: {\n",
    "    value: (x?: string[], y?: string[]) => y ?? x ?? [],\n",
    "    default: () => [],\n",
    "  },\n",
    "  pastSteps: {\n",
    "    value: (x: [string, string][], y: [string, string][]) => x.concat(y),\n",
    "    default: () => [],\n",
    "  },\n",
    "  response: {\n",
    "    value: (x?: string, y?: string) => y ?? x,\n",
    "    default: () => undefined,\n",
    "  },\n",
    "};\n"
   ]
  },
  {
   "cell_type": "markdown",
   "id": "820ee3fd",
   "metadata": {},
   "source": [
    "## Define Tools\n",
    "\n",
    "We will first define the tools we want to use. For this simple example, we will\n",
    "use a built-in search tool via Tavily. However, it is really easy to create your\n",
    "own tools - see documentation\n",
    "[here](https://js.langchain.com/docs/modules/agents/tools/dynamic) on how to do\n",
    "that.\n"
   ]
  },
  {
   "cell_type": "code",
   "execution_count": 4,
   "id": "18a13860",
   "metadata": {},
   "outputs": [],
   "source": [
    "import { TavilySearchResults } from \"@langchain/community/tools/tavily_search\";\n",
    "\n",
    "const tools = [new TavilySearchResults({ maxResults: 3 })];\n"
   ]
  },
  {
   "cell_type": "markdown",
   "id": "0ba9aa1f",
   "metadata": {},
   "source": [
    "## Define our Execution Agent\n",
    "\n",
    "Now we will create the execution agent we want to use to execute tasks. Note\n",
    "that for this example, we will be using the same execution agent for each task,\n",
    "but this doesn't HAVE to be the case.\n"
   ]
  },
  {
   "cell_type": "code",
   "execution_count": 5,
   "id": "bfa0509d",
   "metadata": {},
   "outputs": [],
   "source": [
    "import { ChatOpenAI } from \"@langchain/openai\";\n",
    "import { createReactAgent } from \"@langchain/langgraph/prebuilt\";\n",
    "\n",
    "const agentExecutor = createReactAgent({\n",
    "  llm: new ChatOpenAI({ model: \"gpt-4o\" }),\n",
    "  tools: tools,\n",
    "});\n"
   ]
  },
  {
   "cell_type": "code",
   "execution_count": 6,
   "id": "93d6c87e",
   "metadata": {},
   "outputs": [
    {
     "name": "stdout",
     "output_type": "stream",
     "text": [
      "{\n",
      "  messages: [\n",
      "    'user',\n",
      "    'who is the winner of the us open',\n",
      "    AIMessage {\n",
      "      lc_serializable: true,\n",
      "      lc_kwargs: [Object],\n",
      "      lc_namespace: [Array],\n",
      "      content: '',\n",
      "      name: undefined,\n",
      "      additional_kwargs: [Object],\n",
      "      response_metadata: [Object],\n",
      "      tool_calls: [Array],\n",
      "      invalid_tool_calls: []\n",
      "    },\n",
      "    ToolMessage {\n",
      "      lc_serializable: true,\n",
      "      lc_kwargs: [Object],\n",
      "      lc_namespace: [Array],\n",
      "      content: `[{\"title\":\"Who won the U.S. Open in 2023? Complete scores, results, highlights ...\",\"url\":\"https://www.sportingnews.com/us/golf/news/us-open-2023-live-scores-results-leaderboard/jbmxrpro5jc37drgq8e2lehn\",\"content\":\"Sixth hole may be one to watch in Round 4, with the hole location for Round 4 in a pretty dangerous spot close to a bunker and a nice, thick rough.\\\\n12:15 p.m.: Just past noon on the east coast, and Adam Hadwin and Abraham Ancer are set to tee off at 12:18 p.m., one of the day's featured groups. He gets onto the green with a great shot at 17.\\\\n9:15 p.m.: Clark's trip to the bunker isn't a fun one, with a terrible spot keeping him from trying for the green.\\\\n Scottie in the #USOpen:2021: T-72022: T-22023: 🤔@Lexus #LexusGolf pic.twitter.com/BCiWw5uuih\\\\n3:56 p.m.: Fleetwood continues his hot start and is rocketing up the leaderboard through the front nine, moving into the top ten thanks to a birdie at the 9th.\\\\n pic.twitter.com/15389pikrX\\\\n9:36 p.m.: Clark begins his trek to the 18th tee and holds a one-shot lead while McIlroy hopes for a miracle up ahead on the green.\\\\n He will have a chance to go for birdie as he begins the back-nine.\\\\n7:35 p.m.: And Clark manages to save par on the ninth.\",\"score\":0.95849,\"raw_content\":null},{\"title\":\"winner 2023 us open Crossword Clue | Wordplays.com\",\"url\":\"https://www.wordplays.com/crossword-solver/winner-2023-us-open\",\"content\":\"The Crossword Solver found 30 answers to \\\\\"winner 2023 us open\\\\\", 7 letters crossword clue. The Crossword Solver finds answers to classic crosswords and cryptic crossword puzzles. Enter the length or pattern for better results. Click the answer to find similar crossword clues . A clue is required.\",\"score\":0.95401,\"raw_content\":null},{\"title\":\"Wyndham Clark wins 2023 US Open, clinching American's first ... - CNN\",\"url\":\"https://www.cnn.com/2023/06/18/golf/wyndham-clark-2023-us-open-winner-spt-intl/index.html\",\"content\":\"The American, boasting just one prior win on the PGA Tour and having never previously made the cut at the tournament, held off the challenge of Northern Ireland’s four-time major champion to win the 123rd edition of the major by a single stroke.\\\\n The 34-year-old had made a historic start, shooting 62 to join American compatriot Xander Schauffele in breaking the record for the lowest single round score ever shot at a US Open, but closed with a 75, the fourth highest score of the final round, to fall to tied-fifth.\\\\n One-on-one\\\\nThe prospect of a one-on-one shootout was soon all but confirmed, as Fowler made back-to-back bogeys to sink two below eight-under overall, the score he had held after just 18 holes of the tournament.\\\\n Three times a runner-up, eight times in the top-10: the bittersweet tag of being one of the best golfers to never win a major remains stuck to the fan-favorite Californian.\\\\n The Northern Irishman dropped to his knees in anguish, but received a boost when rules officials deemed his ball broke the surface, granting him a drop in the rough ahead of the bunker.\\\\n\",\"score\":0.92896,\"raw_content\":null}]`,\n",
      "      name: 'tavily_search_results_json',\n",
      "      additional_kwargs: {},\n",
      "      response_metadata: {},\n",
      "      tool_call_id: 'call_92lQa93aHUANSTXklq3Fcumj'\n",
      "    },\n",
      "    ToolMessage {\n",
      "      lc_serializable: true,\n",
      "      lc_kwargs: [Object],\n",
      "      lc_namespace: [Array],\n",
      "      content: `[{\"title\":\"US Open men's final: Novak Djokovic beats Daniil Medvedev and wins 24th ...\",\"url\":\"https://apnews.com/article/us-open-final-live-updates-djokovic-medvedev-8a4a26f8d77ef9ab2fb3efe1096dce7e\",\"content\":\"Novak Djokovic wins the US Open for his 24th Grand Slam title by beating Daniil Medvedev\\\\nNovak Djokovic, of Serbia, holds up the championship trophy after defeating Daniil Medvedev, of Russia, in the men’s singles final of the U.S. Open tennis championships, Sunday, Sept. 10, 2023, in New York. (AP Photo/Manu Fernandez)\\\\nDaniil Medvedev, of Russia, sits on the court after a rally against Novak Djokovic, of Serbia, during the men’s singles final of the U.S. Open tennis championships, Sunday, Sept. 10, 2023, in New York. (AP Photo/Manu Fernandez)\\\\nDaniil Medvedev, of Russia, sits on the court after a rally against Novak Djokovic, of Serbia, during the men’s singles final of the U.S. Open tennis championships, Sunday, Sept. 10, 2023, in New York. (AP Photo/Manu Fernandez)\\\\nDaniil Medvedev, of Russia, sits on the court after a rally against Novak Djokovic, of Serbia, during the men’s singles final of the U.S. Open tennis championships, Sunday, Sept. 10, 2023, in New York. Novak Djokovic, of Serbia, reveals a t-shirt honoring the number 24 and Kobe Bryant after defeating Daniil Medvedev, of Russia, in the men’s singles final of the U.S. Open tennis championships, Sunday, Sept. 10, 2023, in New York.\",\"score\":0.97331,\"raw_content\":null},{\"title\":\"Carlos Alcaraz Wins US Open Men's Singles Title ... - The New York Times\",\"url\":\"https://www.nytimes.com/2022/09/11/sports/tennis/us-open-alcaraz-ruud.html\",\"content\":\"On Sunday, he reached the sport’s pinnacle in grand fashion on its biggest stage, packing the nearly 24,000 fans in the stadium onto his bandwagon as he claimed not only the men’s singles championship and $2.6 million in prize money, but also the No. 1 ranking in the world, becoming the youngest man to do so. Advertisement\\\\nSupported by\\\\nCarlos Alcaraz Wins U.S. Open Men’s Singles Title, and Becomes No. 1\\\\nAlcaraz, the 19-year-old Spanish sensation, beat Casper Ruud of Norway in four sets to capture his first Grand Slam championship and take the top spot in the ATP world rankings.\\\\n By Matthew Futterman\\\\nThe future of tennis arrived at 7:38 p.m. Sunday with a rocketed serve off the racket of Carlos Alcaraz, who clinched the U.S. Open men’s singles championship, announcing the start of a new era in the game.\\\\n In Croatia, last summer, he won his first tour-level title, and in New York starting a month later he blasted and drop-shotted his way into the quarterfinals as part of a teenage wave that took over the U.S. Open.\\\\n The ride began in 2021 in Australia, where he won his first main draw Grand Slam match on a court in the hinterlands of Melbourne Park with just a few dozen fans in attendance.\",\"score\":0.95542,\"raw_content\":null},{\"title\":\"List of US Open men's singles champions - Wikipedia\",\"url\":\"https://en.wikipedia.org/wiki/List_of_US_Open_men's_singles_champions\",\"content\":\"The US Open is played during a two-week period in late August and early September, and has been chronologically the last of the four Grand Slam tournaments of the tennis season since 1987.[3] Newport (1881–1914), Forest Hills (1915–1920, 1924–1977), and Philadelphia (1921–1923) held the event before it settled in 1978 at the USTA National Tennis Center, now the USTA Billie Jean King National Tennis Center, in New York City.[2] Furthermore, the entry fee would be set high enough to prevent cheapskates from entering just to get a seat at the tournament at a lower price and then defaulting\\\\\".[8] Since 1881, all matches but the All-Comers final and the challenge round were played as the best-of-three sets, before the event switched to best-of-five for all rounds in 1886. Without the challenge round, the record stands at six, and is held by Tilden (1920–1925).[3]\\\\nDuring the US Open, since the inclusion of the professional tennis players, Jimmy Connors (1974, 1976, 1978, 1982–1983), Pete Sampras (1990, 1993, 1995–1996, 2002), and Roger Federer (2004–2008) have won the most championships, with five titles.\\\\n Before 1884, the winner of the next game at five-games–all took the set in every match except the All-Comers final and the challenge round, which were won by the player who had at least six games and at least two games more than his opponent. In addition, the US Open was the first slam to have a fifth set tie-break.[10]\\\\nThe court surface changed twice, from grass (1881–1974), to Har-Tru clay (1975–1977), to DecoTurf hard courts, since 1978.[11]\\\\nThe only man to win on all three surfaces, which are grass, Har-Tru clay, and DecoTurf hard was Jimmy Connors.\\\\n\",\"score\":0.93794,\"raw_content\":null}]`,\n",
      "      name: 'tavily_search_results_json',\n",
      "      additional_kwargs: {},\n",
      "      response_metadata: {},\n",
      "      tool_call_id: 'call_jAd2VKbDW0odFnM8mt3yGnb4'\n",
      "    },\n",
      "    AIMessage {\n",
      "      lc_serializable: true,\n",
      "      lc_kwargs: [Object],\n",
      "      lc_namespace: [Array],\n",
      "      content: 'The winners of the latest US Open tournaments in different sports are:\\n' +\n",
      "        '\\n' +\n",
      "        '### Golf\\n' +\n",
      "        '- **Wyndham Clark** won the 2023 US Open Golf tournament. This victory marked his first major title, as he held off the challenge from Northern Ireland’s four-time major champion [source](https://www.cnn.com/2023/06/18/golf/wyndham-clark-2023-us-open-winner-spt-intl/index.html).\\n' +\n",
      "        '\\n' +\n",
      "        '### Tennis\\n' +\n",
      "        \"- **Novak Djokovic** won the 2023 US Open Men's Singles Tennis title by defeating Daniil Medvedev. This victory secured Djokovic his 24th Grand Slam title [source](https://apnews.com/article/us-open-final-live-updates-djokovic-medvedev-8a4a26f8d77ef9ab2fb3efe1096dce7e).\",\n",
      "      name: undefined,\n",
      "      additional_kwargs: [Object],\n",
      "      response_metadata: [Object],\n",
      "      tool_calls: [],\n",
      "      invalid_tool_calls: []\n",
      "    }\n",
      "  ]\n",
      "}\n"
     ]
    }
   ],
   "source": [
    "await agentExecutor.invoke({\n",
    "  messages: [\"user\", \"who is the winner of the us open\"],\n",
    "});\n"
   ]
  },
  {
   "cell_type": "markdown",
   "id": "791d42a9",
   "metadata": {},
   "source": [
    "## Planning Step\n",
    "\n",
    "Let's now think about creating the planning step. This will use function calling\n",
    "to create a plan.\n"
   ]
  },
  {
   "cell_type": "code",
   "execution_count": 7,
   "id": "44b5b660",
   "metadata": {},
   "outputs": [],
   "source": [
    "import { z } from \"zod\";\n",
    "import { zodToJsonSchema } from \"zod-to-json-schema\";\n",
    "\n",
    "const plan = zodToJsonSchema(\n",
    "  z.object({\n",
    "    steps: z\n",
    "      .array(z.string())\n",
    "      .describe(\"different steps to follow, should be in sorted order\"),\n",
    "  }),\n",
    ");\n",
    "const planFunction = {\n",
    "  name: \"plan\",\n",
    "  description: \"This tool is used to plan the steps to follow\",\n",
    "  parameters: plan,\n",
    "};\n",
    "\n",
    "const planTool = {\n",
    "  type: \"function\",\n",
    "  function: planFunction,\n",
    "};"
   ]
  },
  {
   "cell_type": "code",
   "execution_count": 8,
   "id": "7ba67c92",
   "metadata": {},
   "outputs": [],
   "source": [
    "import { ChatPromptTemplate } from \"@langchain/core/prompts\";\n",
    "const plannerPrompt = ChatPromptTemplate.fromTemplate(\n",
    "  `For the given objective, come up with a simple step by step plan. \\\n",
    "This plan should involve individual tasks, that if executed correctly will yield the correct answer. Do not add any superfluous steps. \\\n",
    "The result of the final step should be the final answer. Make sure that each step has all the information needed - do not skip steps.\n",
    "\n",
    "{objective}`,\n",
    ");\n",
    "\n",
    "const model = new ChatOpenAI({\n",
    "  modelName: \"gpt-4-0125-preview\",\n",
    "}).withStructuredOutput(planFunction);\n",
    "\n",
    "const planner = plannerPrompt.pipe(model);"
   ]
  },
  {
   "cell_type": "code",
   "execution_count": 9,
   "id": "53fec065",
   "metadata": {},
   "outputs": [
    {
     "name": "stdout",
     "output_type": "stream",
     "text": [
      "{\n",
      "  steps: [\n",
      "    'Identify the current year to determine the latest Australia Open tournament.',\n",
      "    'Research and find out who won the Australia Open in the identified year.',\n",
      "    'Determine the hometown of the identified Australia Open winner.'\n",
      "  ]\n",
      "}\n"
     ]
    }
   ],
   "source": [
    "await planner.invoke({\n",
    "  objective: \"what is the hometown of the current Australia open winner?\",\n",
    "});\n"
   ]
  },
  {
   "cell_type": "markdown",
   "id": "d52a106e",
   "metadata": {},
   "source": [
    "## Re-Plan Step\n",
    "\n",
    "Now, let's create a step that re-does the plan based on the result of the\n",
    "previous step.\n"
   ]
  },
  {
   "cell_type": "code",
   "execution_count": 10,
   "id": "2fb888fa",
   "metadata": {},
   "outputs": [],
   "source": [
    "import { JsonOutputToolsParser } from \"@langchain/core/output_parsers/openai_tools\";\n",
    "\n",
    "const response = zodToJsonSchema(\n",
    "  z.object({\n",
    "    response: z.string().describe(\"Response to user.\"),\n",
    "  }),\n",
    ");\n",
    "\n",
    "const responseTool = {\n",
    "  type: \"function\",\n",
    "  function: {\n",
    "    name: \"response\",\n",
    "    description: \"Response to user.\",\n",
    "    parameters: response,\n",
    "  },\n",
    "};\n",
    "\n",
    "const replannerPrompt = ChatPromptTemplate.fromTemplate(\n",
    "  `For the given objective, come up with a simple step by step plan. \n",
    "This plan should involve individual tasks, that if executed correctly will yield the correct answer. Do not add any superfluous steps.\n",
    "The result of the final step should be the final answer. Make sure that each step has all the information needed - do not skip steps.\n",
    "\n",
    "Your objective was this:\n",
    "{input}\n",
    "\n",
    "Your original plan was this:\n",
    "{plan}\n",
    "\n",
    "You have currently done the follow steps:\n",
    "{pastSteps}\n",
    "\n",
    "Update your plan accordingly. If no more steps are needed and you can return to the user, then respond with that and use the 'response' function.\n",
    "Otherwise, fill out the plan.  \n",
    "Only add steps to the plan that still NEED to be done. Do not return previously done steps as part of the plan.`,\n",
    ");\n",
    "\n",
    "const parser = new JsonOutputToolsParser();\n",
    "const replanner = replannerPrompt\n",
    "  .pipe(\n",
    "    new ChatOpenAI({ model: \"gpt-4o\" }).bindTools([\n",
    "      planTool,\n",
    "      responseTool,\n",
    "    ]),\n",
    "  )\n",
    "  .pipe(parser);"
   ]
  },
  {
   "cell_type": "markdown",
   "id": "3ae6ab14",
   "metadata": {},
   "source": [
    "## Create the Graph\n",
    "\n",
    "We can now create the graph!\n"
   ]
  },
  {
   "cell_type": "code",
   "execution_count": 11,
   "id": "ef97a3ea",
   "metadata": {},
   "outputs": [],
   "source": [
    "import { END, START, StateGraph } from \"@langchain/langgraph\";\n",
    "import { RunnableConfig } from \"@langchain/core/runnables\";\n",
    "\n",
    "async function executeStep(\n",
    "  state: PlanExecuteState,\n",
    "  config?: RunnableConfig,\n",
    "): Promise<Partial<PlanExecuteState>> {\n",
    "  const task = state.plan[0];\n",
    "  const input = {\n",
    "    messages: [\"user\", task],\n",
    "  };\n",
    "  const { messages } = await agentExecutor.invoke(input, config);\n",
    "\n",
    "  return {\n",
    "    pastSteps: [[task, messages[messages.length - 1].content.toString()]],\n",
    "    plan: state.plan.slice(1),\n",
    "  };\n",
    "}\n",
    "\n",
    "async function planStep(\n",
    "  state: PlanExecuteState,\n",
    "): Promise<Partial<PlanExecuteState>> {\n",
    "  const plan = await planner.invoke({ objective: state.input });\n",
    "  return { plan: plan.steps };\n",
    "}\n",
    "\n",
    "async function replanStep(\n",
    "  state: PlanExecuteState,\n",
    "): Promise<Partial<PlanExecuteState>> {\n",
    "  const output = await replanner.invoke({\n",
    "    input: state.input,\n",
    "    plan: state.plan.join(\"\\n\"),\n",
    "    pastSteps: state.pastSteps\n",
    "      .map(([step, result]) => `${step}: ${result}`)\n",
    "      .join(\"\\n\"),\n",
    "  });\n",
    "  const toolCall = output[0];\n",
    "\n",
    "  if (toolCall.type == \"response\") {\n",
    "    return { response: toolCall.args?.response };\n",
    "  }\n",
    "\n",
    "  return { plan: toolCall.args?.steps };\n",
    "}\n",
    "\n",
    "function shouldEnd(state: PlanExecuteState) {\n",
    "  return state.response ? \"true\" : \"false\";\n",
    "}\n",
    "\n",
    "const workflow = new StateGraph<PlanExecuteState>({\n",
    "  channels: planExecuteState,\n",
    "})\n",
    "  .addNode(\"planner\", planStep)\n",
    "  .addNode(\"agent\", executeStep)\n",
    "  .addNode(\"replan\", replanStep)\n",
    "  .addEdge(START, \"planner\")\n",
    "  .addEdge(\"planner\", \"agent\")\n",
    "  .addEdge(\"agent\", \"replan\")\n",
    "  .addConditionalEdges(\"replan\", shouldEnd, {\n",
    "    true: END,\n",
    "    false: \"agent\",\n",
    "  });\n",
    "\n",
    "// Finally, we compile it!\n",
    "// This compiles it into a LangChain Runnable,\n",
    "// meaning you can use it as you would any other runnable\n",
    "const app = workflow.compile();"
   ]
  },
  {
   "cell_type": "code",
   "execution_count": 12,
   "id": "b4bb886e",
   "metadata": {},
   "outputs": [
    {
     "name": "stdout",
     "output_type": "stream",
     "text": [
      "{\n",
      "  planner: {\n",
      "    plan: [\n",
      "      'Identify the winner of the 2023 Australian Open.',\n",
      "      'Research the hometown of the identified winner.',\n",
      "      'Report the hometown of the 2023 Australian Open winner.'\n",
      "    ]\n",
      "  }\n",
      "}\n",
      "{\n",
      "  agent: {\n",
      "    plan: [\n",
      "      'Research the hometown of the identified winner.',\n",
      "      'Report the hometown of the 2023 Australian Open winner.'\n",
      "    ],\n",
      "    pastSteps: [ [Array] ]\n",
      "  }\n",
      "}\n",
      "{\n",
      "  replan: {\n",
      "    plan: [\n",
      "      'Research the hometown of Novak Djokovic.',\n",
      "      'Report the hometown of Novak Djokovic.'\n",
      "    ]\n",
      "  }\n",
      "}\n",
      "{\n",
      "  agent: {\n",
      "    plan: [ 'Report the hometown of Novak Djokovic.' ],\n",
      "    pastSteps: [ [Array] ]\n",
      "  }\n",
      "}\n",
      "{\n",
      "  replan: {\n",
      "    response: 'The hometown of the 2023 Australian Open winner, Novak Djokovic, is Belgrade, Serbia.'\n",
      "  }\n",
      "}\n"
     ]
    }
   ],
   "source": [
    "const config = { recursionLimit: 50 };\n",
    "const inputs = {\n",
    "  input: \"what is the hometown of the 2024 Australian open winner?\",\n",
    "};\n",
    "\n",
    "for await (const event of await app.stream(inputs, config)) {\n",
    "  console.log(event);\n",
    "}\n"
   ]
  },
  {
   "cell_type": "markdown",
   "id": "2da7f2be",
   "metadata": {},
   "source": [
    "> #### See the LangSmith trace [here](https://smith.langchain.com/public/276be79a-3016-4434-83c6-34715b942368/r).\n"
   ]
  }
 ],
 "metadata": {
  "jupytext": {
   "text_representation": {
    "extension": ".py",
    "format_name": "percent",
    "format_version": "1.3",
    "jupytext_version": "1.16.1"
   }
  },
  "kernelspec": {
   "display_name": "TypeScript",
   "language": "typescript",
   "name": "tslab"
  },
  "language_info": {
   "codemirror_mode": {
    "mode": "typescript",
    "name": "javascript",
    "typescript": true
   },
   "file_extension": ".ts",
   "mimetype": "text/typescript",
   "name": "typescript",
   "version": "3.7.2"
  }
 },
 "nbformat": 4,
 "nbformat_minor": 5
}

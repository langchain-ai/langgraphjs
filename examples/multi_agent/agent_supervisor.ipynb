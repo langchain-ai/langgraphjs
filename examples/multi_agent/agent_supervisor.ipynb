{
 "cells": [
  {
   "cell_type": "markdown",
   "id": "a3e3ebc4-57af-4fe4-bdd3-36aff67bf276",
   "metadata": {},
   "source": [
    "# Agent Supervisor\n",
    "\n",
    "The [previous example](multi-agent-collaboration.ipynb) routed messages\n",
    "automatically based on the output of the initial researcher agent.\n",
    "\n",
    "We can also choose to use an LLM to orchestrate the different agents.\n",
    "\n",
    "Below, we will create an agent group, with an agent supervisor to help delegate\n",
    "tasks.\n",
    "\n",
    "![diagram](./img/supervisor-diagram.png)\n",
    "\n",
    "To simplify the code in each agent node, we will use the AgentExecutor class\n",
    "from LangChain. This and other \"advanced agent\" notebooks are designed to show\n",
    "how you can implement certain design patterns in LangGraph. If the pattern suits\n",
    "your needs, we recommend combining it with some of the other fundamental\n",
    "patterns described elsewhere in the docs for best performance.\n",
    "\n",
    "Before we build, let's configure our environment:"
   ]
  },
  {
   "cell_type": "code",
   "execution_count": 1,
   "id": "30c2f3de-c730-4aec-85a6-af2c2f058803",
   "metadata": {},
   "outputs": [],
   "source": [
    "// process.env.OPENAI_API_KEY = \"sk_...\";\n",
    "// process.env.TAVILY_API_KEY = \"sk_...\";\n",
    "// Optional tracing in LangSmith\n",
    "// process.env.LANGCHAIN_API_KEY = \"sk_...\";\n",
    "// process.env.LANGCHAIN_TRACING_V2 = \"true\";\n",
    "// process.env.LANGCHAIN_PROJECT = \"Agent Supervisor: LangGraphJS\";"
   ]
  },
  {
   "cell_type": "code",
   "execution_count": 2,
   "id": "c48ac3d1",
   "metadata": {},
   "outputs": [],
   "source": [
    "import \"dotenv/config\";"
   ]
  },
  {
   "cell_type": "markdown",
   "id": "d2c46b34",
   "metadata": {},
   "source": [
    "### Define State\n",
    "\n",
    "We first define the state of the graph. This will just a list of messages, along\n",
    "with a key to track the most recent sender\n"
   ]
  },
  {
   "cell_type": "code",
   "execution_count": 3,
   "id": "8cfb0a5f",
   "metadata": {},
   "outputs": [],
   "source": [
    "import { BaseMessage } from \"@langchain/core/messages\";\n",
    "import { END, StateGraphArgs } from \"@langchain/langgraph\";\n",
    "\n",
    "interface AgentStateChannels {\n",
    "  messages: BaseMessage[];\n",
    "  // The agent node that last performed work\n",
    "  next: string;\n",
    "}\n",
    "\n",
    "// This defines the object that is passed between each node\n",
    "// in the graph. We will create different nodes for each agent and tool\n",
    "const agentStateChannels: StateGraphArgs<AgentStateChannels>[\"channels\"] = {\n",
    "  messages: {\n",
    "    value: (x?: BaseMessage[], y?: BaseMessage[]) => (x ?? []).concat(y ?? []),\n",
    "    default: () => [],\n",
    "  },\n",
    "  next: {\n",
    "    value: (x?: string, y?: string) => y ?? x ?? END,\n",
    "    default: () => END,\n",
    "  },\n",
    "};"
   ]
  },
  {
   "cell_type": "markdown",
   "id": "1ac25624-4d83-45a4-b9ef-a10589aacfb7",
   "metadata": {},
   "source": [
    "## Create tools\n",
    "\n",
    "For this example, you will make an agent to do web research with a search\n",
    "engine, and one agent to create plots. Define the tools they'll use below:"
   ]
  },
  {
   "cell_type": "code",
   "execution_count": 4,
   "id": "f04c6778-403b-4b49-9b93-678e910d5cec",
   "metadata": {},
   "outputs": [],
   "source": [
    "require(\"esm-hook\"); // Only for running this in TSLab. See: https://github.com/yunabe/tslab/issues/72\n",
    "import { TavilySearchResults } from \"@langchain/community/tools/tavily_search\";\n",
    "import { DynamicStructuredTool } from \"@langchain/core/tools\";\n",
    "import * as d3 from \"d3\";\n",
    "import { createCanvas } from \"canvas\";\n",
    "import { z } from \"zod\";\n",
    "import * as tslab from \"tslab\";\n",
    "\n",
    "const chartTool = new DynamicStructuredTool({\n",
    "  name: \"generate_bar_chart\",\n",
    "  description:\n",
    "    \"Generates a bar chart from an array of data points using D3.js and displays it for the user.\",\n",
    "  schema: z.object({\n",
    "    data: z\n",
    "      .object({\n",
    "        label: z.string(),\n",
    "        value: z.number(),\n",
    "      })\n",
    "      .array(),\n",
    "  }),\n",
    "  func: async ({ data }) => {\n",
    "    const width = 500;\n",
    "    const height = 500;\n",
    "    const margin = { top: 20, right: 30, bottom: 30, left: 40 };\n",
    "\n",
    "    const canvas = createCanvas(width, height);\n",
    "    const ctx = canvas.getContext(\"2d\");\n",
    "\n",
    "    const x = d3\n",
    "      .scaleBand()\n",
    "      .domain(data.map((d) => d.label))\n",
    "      .range([margin.left, width - margin.right])\n",
    "      .padding(0.1);\n",
    "\n",
    "    const y = d3\n",
    "      .scaleLinear()\n",
    "      .domain([0, d3.max(data, (d) => d.value) ?? 0])\n",
    "      .nice()\n",
    "      .range([height - margin.bottom, margin.top]);\n",
    "\n",
    "    const colorPalette = [\n",
    "      \"#e6194B\",\n",
    "      \"#3cb44b\",\n",
    "      \"#ffe119\",\n",
    "      \"#4363d8\",\n",
    "      \"#f58231\",\n",
    "      \"#911eb4\",\n",
    "      \"#42d4f4\",\n",
    "      \"#f032e6\",\n",
    "      \"#bfef45\",\n",
    "      \"#fabebe\",\n",
    "    ];\n",
    "\n",
    "    data.forEach((d, idx) => {\n",
    "      ctx.fillStyle = colorPalette[idx % colorPalette.length];\n",
    "      ctx.fillRect(\n",
    "        x(d.label) ?? 0,\n",
    "        y(d.value),\n",
    "        x.bandwidth(),\n",
    "        height - margin.bottom - y(d.value),\n",
    "      );\n",
    "    });\n",
    "\n",
    "    ctx.beginPath();\n",
    "    ctx.strokeStyle = \"black\";\n",
    "    ctx.moveTo(margin.left, height - margin.bottom);\n",
    "    ctx.lineTo(width - margin.right, height - margin.bottom);\n",
    "    ctx.stroke();\n",
    "\n",
    "    ctx.textAlign = \"center\";\n",
    "    ctx.textBaseline = \"top\";\n",
    "    x.domain().forEach((d) => {\n",
    "      const xCoord = (x(d) ?? 0) + x.bandwidth() / 2;\n",
    "      ctx.fillText(d, xCoord, height - margin.bottom + 6);\n",
    "    });\n",
    "\n",
    "    ctx.beginPath();\n",
    "    ctx.moveTo(margin.left, height - margin.top);\n",
    "    ctx.lineTo(margin.left, height - margin.bottom);\n",
    "    ctx.stroke();\n",
    "\n",
    "    ctx.textAlign = \"right\";\n",
    "    ctx.textBaseline = \"middle\";\n",
    "    const ticks = y.ticks();\n",
    "    ticks.forEach((d) => {\n",
    "      const yCoord = y(d); // height - margin.bottom - y(d);\n",
    "      ctx.moveTo(margin.left, yCoord);\n",
    "      ctx.lineTo(margin.left - 6, yCoord);\n",
    "      ctx.stroke();\n",
    "      ctx.fillText(d.toString(), margin.left - 8, yCoord);\n",
    "    });\n",
    "    await tslab.display.png(canvas.toBuffer());\n",
    "    return \"Chart has been generated and displayed to the user!\";\n",
    "  },\n",
    "});\n",
    "\n",
    "const tavilyTool = new TavilySearchResults();"
   ]
  },
  {
   "cell_type": "markdown",
   "id": "d58d1e85-22d4-4c22-9062-72a346a0d709",
   "metadata": {},
   "source": [
    "## Helper Utilites\n",
    "\n",
    "Define a helper function below, which make it easier to add new agent worker\n",
    "nodes."
   ]
  },
  {
   "cell_type": "code",
   "execution_count": 5,
   "id": "c4823dd9-26bd-4e1a-8117-b97b2860211a",
   "metadata": {},
   "outputs": [],
   "source": [
    "import { AgentExecutor, createOpenAIToolsAgent } from \"langchain/agents\";\n",
    "import {\n",
    "  ChatPromptTemplate,\n",
    "  MessagesPlaceholder,\n",
    "} from \"@langchain/core/prompts\";\n",
    "import { ChatOpenAI } from \"@langchain/openai\";\n",
    "import { Runnable } from \"@langchain/core/runnables\";\n",
    "\n",
    "async function createAgent(\n",
    "  llm: ChatOpenAI,\n",
    "  tools: any[],\n",
    "  systemPrompt: string,\n",
    "): Promise<Runnable> {\n",
    "  // Each worker node will be given a name and some tools.\n",
    "  const prompt = await ChatPromptTemplate.fromMessages([\n",
    "    [\"system\", systemPrompt],\n",
    "    new MessagesPlaceholder(\"messages\"),\n",
    "    new MessagesPlaceholder(\"agent_scratchpad\"),\n",
    "  ]);\n",
    "  const agent = await createOpenAIToolsAgent({ llm, tools, prompt });\n",
    "  return new AgentExecutor({ agent, tools });\n",
    "}"
   ]
  },
  {
   "cell_type": "markdown",
   "id": "4b883c63-460d-45b0-82a3-61257db20af0",
   "metadata": {},
   "source": [
    "## Create Agent Supervisor\n",
    "\n",
    "The supervisor routes the work between our worker agents."
   ]
  },
  {
   "cell_type": "code",
   "execution_count": 6,
   "id": "17c108a0-6dc3-46fd-a5e6-a1fcfad5458a",
   "metadata": {},
   "outputs": [],
   "source": [
    "import { JsonOutputToolsParser } from \"langchain/output_parsers\";\n",
    "\n",
    "const members = [\"researcher\", \"chart_generator\"];\n",
    "\n",
    "const systemPrompt =\n",
    "  \"You are a supervisor tasked with managing a conversation between the\" +\n",
    "  \" following workers: {members}. Given the following user request,\" +\n",
    "  \" respond with the worker to act next. Each worker will perform a\" +\n",
    "  \" task and respond with their results and status. When finished,\" +\n",
    "  \" respond with FINISH.\";\n",
    "const options = [END, ...members];\n",
    "\n",
    "// Define the routing function\n",
    "const functionDef = {\n",
    "  name: \"route\",\n",
    "  description: \"Select the next role.\",\n",
    "  parameters: {\n",
    "    title: \"routeSchema\",\n",
    "    type: \"object\",\n",
    "    properties: {\n",
    "      next: {\n",
    "        title: \"Next\",\n",
    "        anyOf: [\n",
    "          { enum: options },\n",
    "        ],\n",
    "      },\n",
    "    },\n",
    "    required: [\"next\"],\n",
    "  },\n",
    "};\n",
    "\n",
    "const toolDef = {\n",
    "  type: \"function\",\n",
    "  function: functionDef,\n",
    "} as const;\n",
    "\n",
    "const prompt = ChatPromptTemplate.fromMessages([\n",
    "  [\"system\", systemPrompt],\n",
    "  new MessagesPlaceholder(\"messages\"),\n",
    "  [\n",
    "    \"system\",\n",
    "    \"Given the conversation above, who should act next?\" +\n",
    "    \" Or should we FINISH? Select one of: {options}\",\n",
    "  ],\n",
    "]);\n",
    "\n",
    "const formattedPrompt = await prompt.partial({\n",
    "  options: options.join(\", \"),\n",
    "  members: members.join(\", \"),\n",
    "});\n",
    "\n",
    "const llm = new ChatOpenAI({\n",
    "  modelName: \"gpt-4o\",\n",
    "  temperature: 0,\n",
    "});\n",
    "\n",
    "const supervisorChain = formattedPrompt\n",
    "  .pipe(llm.bindTools(\n",
    "    [toolDef],\n",
    "    {\n",
    "      tool_choice: { \"type\": \"function\", \"function\": { \"name\": \"route\" } },\n",
    "    },\n",
    "  ))\n",
    "  .pipe(new JsonOutputToolsParser())\n",
    "  // select the first one\n",
    "  .pipe((x) => (x[0].args));"
   ]
  },
  {
   "cell_type": "code",
   "execution_count": 7,
   "id": "204c8c8c-dd24-454a-8eba-8600886eafb8",
   "metadata": {},
   "outputs": [
    {
     "name": "stdout",
     "output_type": "stream",
     "text": [
      "{ next: 'researcher' }\n"
     ]
    }
   ],
   "source": [
    "import { HumanMessage } from \"@langchain/core/messages\";\n",
    "\n",
    "await supervisorChain.invoke({\n",
    "  messages: [\n",
    "    new HumanMessage({\n",
    "      content: \"write a report on birds.\",\n",
    "    }),\n",
    "  ],\n",
    "});"
   ]
  },
  {
   "cell_type": "markdown",
   "id": "a07d507f-34d1-4f1b-8dde-5e58d17b2166",
   "metadata": {},
   "source": [
    "## Construct Graph\n",
    "\n",
    "We're ready to start building the graph. First, create the agents to add to the\n",
    "graph."
   ]
  },
  {
   "cell_type": "code",
   "execution_count": 8,
   "id": "14778e86-077b-4e6a-893c-400e59b0cdbf",
   "metadata": {},
   "outputs": [],
   "source": [
    "import { RunnableConfig } from \"@langchain/core/runnables\";\n",
    "// Recall llm was defined as ChatOpenAI above\n",
    "// It could be any other language model\n",
    "const researcherAgent = await createAgent(\n",
    "  llm,\n",
    "  [tavilyTool],\n",
    "  \"You are a web researcher. You may use the Tavily search engine to search the web for\" +\n",
    "    \" important information, so the Chart Generator in your team can make useful plots.\",\n",
    ");\n",
    "\n",
    "const researcherNode = async (\n",
    "  state: AgentStateChannels,\n",
    "  config?: RunnableConfig,\n",
    ") => {\n",
    "  const result = await researcherAgent.invoke(state, config);\n",
    "  return {\n",
    "    messages: [\n",
    "      new HumanMessage({ content: result.output, name: \"Researcher\" }),\n",
    "    ],\n",
    "  };\n",
    "};\n",
    "\n",
    "const chartGenAgent = await createAgent(\n",
    "  llm,\n",
    "  [chartTool],\n",
    "  \"You excel at generating bar charts. Use the researcher's information to generate the charts.\",\n",
    ");\n",
    "\n",
    "const chartGenNode = async (\n",
    "  state: AgentStateChannels,\n",
    "  config?: RunnableConfig,\n",
    ") => {\n",
    "  const result = await chartGenAgent.invoke(state, config);\n",
    "  return {\n",
    "    messages: [\n",
    "      new HumanMessage({ content: result.output, name: \"ChartGenerator\" }),\n",
    "    ],\n",
    "  };\n",
    "};"
   ]
  },
  {
   "cell_type": "markdown",
   "id": "6ac913ae-0dfc-44bf-a26c-8f23f7e3e4a2",
   "metadata": {},
   "source": [
    "Now we can create the graph itself! Add the nodes, and add edges to define how\n",
    "how work will be performed in the graph."
   ]
  },
  {
   "cell_type": "code",
   "execution_count": 9,
   "id": "d7f874f7-dac1-4b81-9ddc-a161f9b5bb32",
   "metadata": {},
   "outputs": [],
   "source": [
    "import { START, StateGraph } from \"@langchain/langgraph\";\n",
    "\n",
    "// 1. Create the graph\n",
    "const workflow = new StateGraph<AgentStateChannels, unknown, string>({\n",
    "  channels: agentStateChannels,\n",
    "}) // 2. Add the nodes; these will do the work\n",
    "  .addNode(\"researcher\", researcherNode)\n",
    "  .addNode(\"chart_generator\", chartGenNode)\n",
    "  .addNode(\"supervisor\", supervisorChain);\n",
    "// 3. Define the edges. We will define both regular and conditional ones\n",
    "// After a worker completes, report to supervisor\n",
    "members.forEach((member) => {\n",
    "  workflow.addEdge(member, \"supervisor\");\n",
    "});\n",
    "\n",
    "workflow.addConditionalEdges(\n",
    "  \"supervisor\",\n",
    "  (x: AgentStateChannels) => x.next,\n",
    ");\n",
    "\n",
    "workflow.addEdge(START, \"supervisor\");\n",
    "\n",
    "const graph = workflow.compile();"
   ]
  },
  {
   "cell_type": "markdown",
   "id": "d36496de-7121-4c49-8cb6-58c943c66628",
   "metadata": {},
   "source": [
    "## Invoke the team\n",
    "\n",
    "With the graph created, we can now invoke it and see how it performs!"
   ]
  },
  {
   "cell_type": "code",
   "execution_count": 10,
   "id": "56ba78e9-d9c1-457c-a073-d606d5d3e013",
   "metadata": {},
   "outputs": [
    {
     "name": "stdout",
     "output_type": "stream",
     "text": [
      "{ supervisor: { next: 'researcher' } }\n",
      "----\n",
      "{ researcher: { messages: [ [HumanMessage] ] } }\n",
      "----\n",
      "{ supervisor: { next: 'chart_generator' } }\n",
      "----\n"
     ]
    },
    {
     "data": {
      "image/png": "[encoded data removed]"
     },
     "metadata": {},
     "output_type": "display_data"
    },
    {
     "name": "stdout",
     "output_type": "stream",
     "text": [
      "{ chart_generator: { messages: [ [HumanMessage] ] } }\n",
      "----\n",
      "{ supervisor: { next: '__end__' } }\n",
      "----\n"
     ]
    }
   ],
   "source": [
    "let streamResults = graph.stream(\n",
    "  {\n",
    "    messages: [\n",
    "      new HumanMessage({\n",
    "        content: \"What were the 3 most popular tv shows in 2023?\",\n",
    "      }),\n",
    "    ],\n",
    "  },\n",
    "  { recursionLimit: 100 },\n",
    ");\n",
    "\n",
    "for await (const output of await streamResults) {\n",
    "  if (!output?.__end__) {\n",
    "    console.log(output);\n",
    "    console.log(\"----\");\n",
    "  }\n",
    "}"
   ]
  },
  {
   "cell_type": "code",
   "execution_count": 11,
   "id": "45a92dfd-0e11-47f5-aad4-b68d24990e34",
   "metadata": {},
   "outputs": [
    {
     "name": "stdout",
     "output_type": "stream",
     "text": [
      "{ supervisor: { next: 'researcher' } }\n",
      "----\n",
      "{ researcher: { messages: [ [HumanMessage] ] } }\n",
      "----\n",
      "{ supervisor: { next: 'chart_generator' } }\n",
      "----\n"
     ]
    },
    {
     "data": {
      "image/png": "[encoded data removed]"
     },
     "metadata": {},
     "output_type": "display_data"
    },
    {
     "name": "stdout",
     "output_type": "stream",
     "text": [
      "{ chart_generator: { messages: [ [HumanMessage] ] } }\n",
      "----\n",
      "{ supervisor: { next: '__end__' } }\n",
      "----\n"
     ]
    }
   ],
   "source": [
    "streamResults = graph.stream(\n",
    "  {\n",
    "    messages: [\n",
    "      new HumanMessage({\n",
    "        content: \"Generate a bar chart of the US GDP growth from 2021-2023.\",\n",
    "      }),\n",
    "    ],\n",
    "  },\n",
    "  { recursionLimit: 150 },\n",
    ");\n",
    "\n",
    "for await (const output of await streamResults) {\n",
    "  if (!output?.__end__) {\n",
    "    console.log(output);\n",
    "    console.log(\"----\");\n",
    "  }\n",
    "}"
   ]
  },
  {
   "cell_type": "markdown",
   "id": "4fb18b41",
   "metadata": {},
   "source": [
    "You can\n",
    "[click here](https://smith.langchain.com/public/5eaaaaa9-c490-487d-b7f1-984aeea87c0f/r)\n",
    "to see a LangSmith trace of the above query."
   ]
  }
 ],
 "metadata": {
  "kernelspec": {
   "display_name": "TypeScript",
   "language": "typescript",
   "name": "tslab"
  },
  "language_info": {
   "codemirror_mode": {
    "mode": "typescript",
    "name": "javascript",
    "typescript": true
   },
   "file_extension": ".ts",
   "mimetype": "text/typescript",
   "name": "typescript",
   "version": "3.7.2"
  }
 },
 "nbformat": 4,
 "nbformat_minor": 5
}
